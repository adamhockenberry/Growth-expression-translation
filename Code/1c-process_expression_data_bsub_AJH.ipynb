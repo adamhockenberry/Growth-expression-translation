{
 "cells": [
  {
   "cell_type": "code",
   "execution_count": 1,
   "metadata": {},
   "outputs": [],
   "source": [
    "%matplotlib inline"
   ]
  },
  {
   "cell_type": "code",
   "execution_count": 2,
   "metadata": {},
   "outputs": [],
   "source": [
    "import pandas as pd\n",
    "import numpy as np\n",
    "from scipy import stats\n",
    "\n",
    "import statsmodels.formula.api as smf\n",
    "\n",
    "from matplotlib import pyplot as plt"
   ]
  },
  {
   "cell_type": "markdown",
   "metadata": {},
   "source": [
    "# Import data"
   ]
  },
  {
   "cell_type": "code",
   "execution_count": 13,
   "metadata": {},
   "outputs": [
    {
     "name": "stdout",
     "output_type": "stream",
     "text": [
      "(271, 8)\n"
     ]
    },
    {
     "data": {
      "text/html": [
       "<div>\n",
       "<style scoped>\n",
       "    .dataframe tbody tr th:only-of-type {\n",
       "        vertical-align: middle;\n",
       "    }\n",
       "\n",
       "    .dataframe tbody tr th {\n",
       "        vertical-align: top;\n",
       "    }\n",
       "\n",
       "    .dataframe thead th {\n",
       "        text-align: right;\n",
       "    }\n",
       "</style>\n",
       "<table border=\"1\" class=\"dataframe\">\n",
       "  <thead>\n",
       "    <tr style=\"text-align: right;\">\n",
       "      <th></th>\n",
       "      <th>Chip n°</th>\n",
       "      <th>Chip Id</th>\n",
       "      <th>Condition key *</th>\n",
       "      <th>Condition description</th>\n",
       "      <th>Cells collected</th>\n",
       "      <th>Experiment number</th>\n",
       "      <th>Conditionn°</th>\n",
       "      <th>References</th>\n",
       "    </tr>\n",
       "  </thead>\n",
       "  <tbody>\n",
       "    <tr>\n",
       "      <th>0</th>\n",
       "      <td>1</td>\n",
       "      <td>25350202</td>\n",
       "      <td>LBexp_1</td>\n",
       "      <td>Cells were grown in Luria-Bertani medium (Sigm...</td>\n",
       "      <td>O.D.600 approx. 0.5</td>\n",
       "      <td>exp. N°1</td>\n",
       "      <td>1.0</td>\n",
       "      <td>This work (Jouy)</td>\n",
       "    </tr>\n",
       "    <tr>\n",
       "      <th>1</th>\n",
       "      <td>2</td>\n",
       "      <td>25368302</td>\n",
       "      <td>LBexp_2</td>\n",
       "      <td>NaN</td>\n",
       "      <td>O.D.600 approx. 0.5</td>\n",
       "      <td>exp. N°2</td>\n",
       "      <td>1.0</td>\n",
       "      <td>This work (Jouy)</td>\n",
       "    </tr>\n",
       "    <tr>\n",
       "      <th>2</th>\n",
       "      <td>3</td>\n",
       "      <td>25348702</td>\n",
       "      <td>LBexp_3</td>\n",
       "      <td>NaN</td>\n",
       "      <td>O.D.600 approx. 0.5</td>\n",
       "      <td>exp. N°3</td>\n",
       "      <td>1.0</td>\n",
       "      <td>This work (Jouy)</td>\n",
       "    </tr>\n",
       "    <tr>\n",
       "      <th>3</th>\n",
       "      <td>4</td>\n",
       "      <td>25350002</td>\n",
       "      <td>LBtran_1</td>\n",
       "      <td>NaN</td>\n",
       "      <td>O.D.600 approx. 1.4</td>\n",
       "      <td>exp. N°1</td>\n",
       "      <td>2.0</td>\n",
       "      <td>This work (Jouy)</td>\n",
       "    </tr>\n",
       "    <tr>\n",
       "      <th>4</th>\n",
       "      <td>5</td>\n",
       "      <td>25350302</td>\n",
       "      <td>LBtran_2</td>\n",
       "      <td>NaN</td>\n",
       "      <td>O.D.600 approx. 1.4</td>\n",
       "      <td>exp. N°2</td>\n",
       "      <td>2.0</td>\n",
       "      <td>This work (Jouy)</td>\n",
       "    </tr>\n",
       "  </tbody>\n",
       "</table>\n",
       "</div>"
      ],
      "text/plain": [
       "  Chip n°   Chip Id Condition key *  \\\n",
       "0       1  25350202         LBexp_1   \n",
       "1       2  25368302         LBexp_2   \n",
       "2       3  25348702         LBexp_3   \n",
       "3       4  25350002        LBtran_1   \n",
       "4       5  25350302        LBtran_2   \n",
       "\n",
       "                               Condition description      Cells collected  \\\n",
       "0  Cells were grown in Luria-Bertani medium (Sigm...  O.D.600 approx. 0.5   \n",
       "1                                                NaN  O.D.600 approx. 0.5   \n",
       "2                                                NaN  O.D.600 approx. 0.5   \n",
       "3                                                NaN  O.D.600 approx. 1.4   \n",
       "4                                                NaN  O.D.600 approx. 1.4   \n",
       "\n",
       "  Experiment number  Conditionn°        References  \n",
       "0          exp. N°1          1.0  This work (Jouy)  \n",
       "1          exp. N°2          1.0  This work (Jouy)  \n",
       "2          exp. N°3          1.0  This work (Jouy)  \n",
       "3          exp. N°1          2.0  This work (Jouy)  \n",
       "4          exp. N°2          2.0  This work (Jouy)  "
      ]
     },
     "execution_count": 13,
     "metadata": {},
     "output_type": "execute_result"
    }
   ],
   "source": [
    "df = pd.ExcelFile('/Users/adamhockenberry/Downloads/TableS1 (4).xlsx')\n",
    "meta_df = df.parse('Data', header=0)\n",
    "print(meta_df.shape)\n",
    "meta_df.head()"
   ]
  },
  {
   "cell_type": "code",
   "execution_count": 14,
   "metadata": {},
   "outputs": [
    {
     "name": "stdout",
     "output_type": "stream",
     "text": [
      "(26, 8)\n"
     ]
    },
    {
     "data": {
      "text/html": [
       "<div>\n",
       "<style scoped>\n",
       "    .dataframe tbody tr th:only-of-type {\n",
       "        vertical-align: middle;\n",
       "    }\n",
       "\n",
       "    .dataframe tbody tr th {\n",
       "        vertical-align: top;\n",
       "    }\n",
       "\n",
       "    .dataframe thead th {\n",
       "        text-align: right;\n",
       "    }\n",
       "</style>\n",
       "<table border=\"1\" class=\"dataframe\">\n",
       "  <thead>\n",
       "    <tr style=\"text-align: right;\">\n",
       "      <th></th>\n",
       "      <th>Chip n°</th>\n",
       "      <th>Chip Id</th>\n",
       "      <th>Condition key *</th>\n",
       "      <th>Condition description</th>\n",
       "      <th>Cells collected</th>\n",
       "      <th>Experiment number</th>\n",
       "      <th>Conditionn°</th>\n",
       "      <th>References</th>\n",
       "    </tr>\n",
       "  </thead>\n",
       "  <tbody>\n",
       "    <tr>\n",
       "      <th>0</th>\n",
       "      <td>1</td>\n",
       "      <td>25350202</td>\n",
       "      <td>LBexp_1</td>\n",
       "      <td>Cells were grown in Luria-Bertani medium (Sigm...</td>\n",
       "      <td>O.D.600 approx. 0.5</td>\n",
       "      <td>exp. N°1</td>\n",
       "      <td>1.0</td>\n",
       "      <td>This work (Jouy)</td>\n",
       "    </tr>\n",
       "    <tr>\n",
       "      <th>1</th>\n",
       "      <td>2</td>\n",
       "      <td>25368302</td>\n",
       "      <td>LBexp_2</td>\n",
       "      <td>NaN</td>\n",
       "      <td>O.D.600 approx. 0.5</td>\n",
       "      <td>exp. N°2</td>\n",
       "      <td>1.0</td>\n",
       "      <td>This work (Jouy)</td>\n",
       "    </tr>\n",
       "    <tr>\n",
       "      <th>2</th>\n",
       "      <td>3</td>\n",
       "      <td>25348702</td>\n",
       "      <td>LBexp_3</td>\n",
       "      <td>NaN</td>\n",
       "      <td>O.D.600 approx. 0.5</td>\n",
       "      <td>exp. N°3</td>\n",
       "      <td>1.0</td>\n",
       "      <td>This work (Jouy)</td>\n",
       "    </tr>\n",
       "    <tr>\n",
       "      <th>3</th>\n",
       "      <td>4</td>\n",
       "      <td>25350002</td>\n",
       "      <td>LBtran_1</td>\n",
       "      <td>NaN</td>\n",
       "      <td>O.D.600 approx. 1.4</td>\n",
       "      <td>exp. N°1</td>\n",
       "      <td>2.0</td>\n",
       "      <td>This work (Jouy)</td>\n",
       "    </tr>\n",
       "    <tr>\n",
       "      <th>4</th>\n",
       "      <td>5</td>\n",
       "      <td>25350302</td>\n",
       "      <td>LBtran_2</td>\n",
       "      <td>NaN</td>\n",
       "      <td>O.D.600 approx. 1.4</td>\n",
       "      <td>exp. N°2</td>\n",
       "      <td>2.0</td>\n",
       "      <td>This work (Jouy)</td>\n",
       "    </tr>\n",
       "  </tbody>\n",
       "</table>\n",
       "</div>"
      ],
      "text/plain": [
       "  Chip n°   Chip Id Condition key *  \\\n",
       "0       1  25350202         LBexp_1   \n",
       "1       2  25368302         LBexp_2   \n",
       "2       3  25348702         LBexp_3   \n",
       "3       4  25350002        LBtran_1   \n",
       "4       5  25350302        LBtran_2   \n",
       "\n",
       "                               Condition description      Cells collected  \\\n",
       "0  Cells were grown in Luria-Bertani medium (Sigm...  O.D.600 approx. 0.5   \n",
       "1                                                NaN  O.D.600 approx. 0.5   \n",
       "2                                                NaN  O.D.600 approx. 0.5   \n",
       "3                                                NaN  O.D.600 approx. 1.4   \n",
       "4                                                NaN  O.D.600 approx. 1.4   \n",
       "\n",
       "  Experiment number  Conditionn°        References  \n",
       "0          exp. N°1          1.0  This work (Jouy)  \n",
       "1          exp. N°2          1.0  This work (Jouy)  \n",
       "2          exp. N°3          1.0  This work (Jouy)  \n",
       "3          exp. N°1          2.0  This work (Jouy)  \n",
       "4          exp. N°2          2.0  This work (Jouy)  "
      ]
     },
     "execution_count": 14,
     "metadata": {},
     "output_type": "execute_result"
    }
   ],
   "source": [
    "meta_df = meta_df[(meta_df['Condition key *'].str.contains('exp_'))|\n",
    "                          (meta_df['Condition key *'].str.contains('tran_'))|\n",
    "                          (meta_df['Condition key *'].str.contains('stat_'))\n",
    "                          ]\n",
    "print(meta_df.shape)\n",
    "meta_df.head()"
   ]
  },
  {
   "cell_type": "code",
   "execution_count": 23,
   "metadata": {},
   "outputs": [
    {
     "name": "stdout",
     "output_type": "stream",
     "text": [
      "(5875, 281)\n"
     ]
    },
    {
     "data": {
      "text/html": [
       "<div>\n",
       "<style scoped>\n",
       "    .dataframe tbody tr th:only-of-type {\n",
       "        vertical-align: middle;\n",
       "    }\n",
       "\n",
       "    .dataframe tbody tr th {\n",
       "        vertical-align: top;\n",
       "    }\n",
       "\n",
       "    .dataframe thead th {\n",
       "        text-align: right;\n",
       "    }\n",
       "</style>\n",
       "<table border=\"1\" class=\"dataframe\">\n",
       "  <thead>\n",
       "    <tr style=\"text-align: right;\">\n",
       "      <th></th>\n",
       "      <th>Name</th>\n",
       "      <th>Locus_tag</th>\n",
       "      <th>StartV3</th>\n",
       "      <th>EndV3</th>\n",
       "      <th>StartV2</th>\n",
       "      <th>EndV2</th>\n",
       "      <th>Strand</th>\n",
       "      <th>Keeptot</th>\n",
       "      <th>Keeptrim</th>\n",
       "      <th>Id260210</th>\n",
       "      <th>...</th>\n",
       "      <th>MG-0.2_3_hyb10226602</th>\n",
       "      <th>MG+5_3_hyb20974702</th>\n",
       "      <th>MG+10_3_hyb10326302</th>\n",
       "      <th>MG+15_3_hyb24698102</th>\n",
       "      <th>MG+25_3_hyb14627102</th>\n",
       "      <th>MG+45_3_hyb14632602</th>\n",
       "      <th>MG+60_3_hyb17245002</th>\n",
       "      <th>MG+90_3_hyb14625202</th>\n",
       "      <th>MG+120_3_hyb14633902_01</th>\n",
       "      <th>MG+150_3_hyb14630502</th>\n",
       "    </tr>\n",
       "  </thead>\n",
       "  <tbody>\n",
       "    <tr>\n",
       "      <th>0</th>\n",
       "      <td>S1</td>\n",
       "      <td>new_1_148</td>\n",
       "      <td>1</td>\n",
       "      <td>148</td>\n",
       "      <td>1</td>\n",
       "      <td>148</td>\n",
       "      <td>1</td>\n",
       "      <td>True</td>\n",
       "      <td>True</td>\n",
       "      <td>Id260210_1</td>\n",
       "      <td>...</td>\n",
       "      <td>7.9277</td>\n",
       "      <td>8.0555</td>\n",
       "      <td>7.4485</td>\n",
       "      <td>7.6072</td>\n",
       "      <td>7.2433</td>\n",
       "      <td>7.6942</td>\n",
       "      <td>7.9128</td>\n",
       "      <td>7.3668</td>\n",
       "      <td>7.7207</td>\n",
       "      <td>7.8191</td>\n",
       "    </tr>\n",
       "    <tr>\n",
       "      <th>1</th>\n",
       "      <td>S2</td>\n",
       "      <td>new_24_297_c</td>\n",
       "      <td>24</td>\n",
       "      <td>297</td>\n",
       "      <td>24</td>\n",
       "      <td>297</td>\n",
       "      <td>-1</td>\n",
       "      <td>True</td>\n",
       "      <td>True</td>\n",
       "      <td>Id260210_2</td>\n",
       "      <td>...</td>\n",
       "      <td>10.2250</td>\n",
       "      <td>9.9642</td>\n",
       "      <td>8.3683</td>\n",
       "      <td>9.9056</td>\n",
       "      <td>9.8990</td>\n",
       "      <td>9.6846</td>\n",
       "      <td>8.7974</td>\n",
       "      <td>9.4355</td>\n",
       "      <td>9.2011</td>\n",
       "      <td>9.0974</td>\n",
       "    </tr>\n",
       "    <tr>\n",
       "      <th>2</th>\n",
       "      <td>S3</td>\n",
       "      <td>new_150_409</td>\n",
       "      <td>150</td>\n",
       "      <td>409</td>\n",
       "      <td>150</td>\n",
       "      <td>409</td>\n",
       "      <td>1</td>\n",
       "      <td>True</td>\n",
       "      <td>True</td>\n",
       "      <td>Id260210_3</td>\n",
       "      <td>...</td>\n",
       "      <td>14.4198</td>\n",
       "      <td>14.6038</td>\n",
       "      <td>13.2696</td>\n",
       "      <td>14.8289</td>\n",
       "      <td>15.0400</td>\n",
       "      <td>15.1935</td>\n",
       "      <td>14.1689</td>\n",
       "      <td>15.0057</td>\n",
       "      <td>14.7060</td>\n",
       "      <td>14.8054</td>\n",
       "    </tr>\n",
       "    <tr>\n",
       "      <th>3</th>\n",
       "      <td>S4</td>\n",
       "      <td>new_299_1067_c</td>\n",
       "      <td>299</td>\n",
       "      <td>1067</td>\n",
       "      <td>299</td>\n",
       "      <td>1067</td>\n",
       "      <td>-1</td>\n",
       "      <td>True</td>\n",
       "      <td>True</td>\n",
       "      <td>Id260210_4</td>\n",
       "      <td>...</td>\n",
       "      <td>7.8362</td>\n",
       "      <td>7.7451</td>\n",
       "      <td>7.3140</td>\n",
       "      <td>7.9132</td>\n",
       "      <td>7.4491</td>\n",
       "      <td>7.6853</td>\n",
       "      <td>7.3987</td>\n",
       "      <td>7.4019</td>\n",
       "      <td>7.5042</td>\n",
       "      <td>7.8119</td>\n",
       "    </tr>\n",
       "    <tr>\n",
       "      <th>4</th>\n",
       "      <td>dnaA</td>\n",
       "      <td>BSU00010</td>\n",
       "      <td>410</td>\n",
       "      <td>1750</td>\n",
       "      <td>410</td>\n",
       "      <td>1750</td>\n",
       "      <td>1</td>\n",
       "      <td>True</td>\n",
       "      <td>True</td>\n",
       "      <td>-</td>\n",
       "      <td>...</td>\n",
       "      <td>13.4707</td>\n",
       "      <td>13.3288</td>\n",
       "      <td>12.9465</td>\n",
       "      <td>13.9258</td>\n",
       "      <td>13.8584</td>\n",
       "      <td>14.2102</td>\n",
       "      <td>13.4807</td>\n",
       "      <td>13.7928</td>\n",
       "      <td>13.3771</td>\n",
       "      <td>13.2473</td>\n",
       "    </tr>\n",
       "  </tbody>\n",
       "</table>\n",
       "<p>5 rows × 281 columns</p>\n",
       "</div>"
      ],
      "text/plain": [
       "   Name       Locus_tag  StartV3  EndV3  StartV2  EndV2  Strand  Keeptot  \\\n",
       "0    S1       new_1_148        1    148        1    148       1     True   \n",
       "1    S2    new_24_297_c       24    297       24    297      -1     True   \n",
       "2    S3     new_150_409      150    409      150    409       1     True   \n",
       "3    S4  new_299_1067_c      299   1067      299   1067      -1     True   \n",
       "4  dnaA        BSU00010      410   1750      410   1750       1     True   \n",
       "\n",
       "   Keeptrim    Id260210  ... MG-0.2_3_hyb10226602 MG+5_3_hyb20974702  \\\n",
       "0      True  Id260210_1  ...               7.9277             8.0555   \n",
       "1      True  Id260210_2  ...              10.2250             9.9642   \n",
       "2      True  Id260210_3  ...              14.4198            14.6038   \n",
       "3      True  Id260210_4  ...               7.8362             7.7451   \n",
       "4      True           -  ...              13.4707            13.3288   \n",
       "\n",
       "   MG+10_3_hyb10326302  MG+15_3_hyb24698102  MG+25_3_hyb14627102  \\\n",
       "0               7.4485               7.6072               7.2433   \n",
       "1               8.3683               9.9056               9.8990   \n",
       "2              13.2696              14.8289              15.0400   \n",
       "3               7.3140               7.9132               7.4491   \n",
       "4              12.9465              13.9258              13.8584   \n",
       "\n",
       "   MG+45_3_hyb14632602  MG+60_3_hyb17245002  MG+90_3_hyb14625202  \\\n",
       "0               7.6942               7.9128               7.3668   \n",
       "1               9.6846               8.7974               9.4355   \n",
       "2              15.1935              14.1689              15.0057   \n",
       "3               7.6853               7.3987               7.4019   \n",
       "4              14.2102              13.4807              13.7928   \n",
       "\n",
       "   MG+120_3_hyb14633902_01  MG+150_3_hyb14630502  \n",
       "0                   7.7207                7.8191  \n",
       "1                   9.2011                9.0974  \n",
       "2                  14.7060               14.8054  \n",
       "3                   7.5042                7.8119  \n",
       "4                  13.3771               13.2473  \n",
       "\n",
       "[5 rows x 281 columns]"
      ]
     },
     "execution_count": 23,
     "metadata": {},
     "output_type": "execute_result"
    }
   ],
   "source": [
    "df = pd.ExcelFile('/Users/adamhockenberry/Downloads/TableS2 (2).xlsx')\n",
    "exp_df = df.parse('Data', header=0)\n",
    "print(exp_df.shape)\n",
    "exp_df.head()"
   ]
  },
  {
   "cell_type": "code",
   "execution_count": 28,
   "metadata": {},
   "outputs": [
    {
     "name": "stdout",
     "output_type": "stream",
     "text": [
      "(4292, 27)\n"
     ]
    },
    {
     "data": {
      "text/html": [
       "<div>\n",
       "<style scoped>\n",
       "    .dataframe tbody tr th:only-of-type {\n",
       "        vertical-align: middle;\n",
       "    }\n",
       "\n",
       "    .dataframe tbody tr th {\n",
       "        vertical-align: top;\n",
       "    }\n",
       "\n",
       "    .dataframe thead th {\n",
       "        text-align: right;\n",
       "    }\n",
       "</style>\n",
       "<table border=\"1\" class=\"dataframe\">\n",
       "  <thead>\n",
       "    <tr style=\"text-align: right;\">\n",
       "      <th></th>\n",
       "      <th>Locus_tag</th>\n",
       "      <th>LBexp_1</th>\n",
       "      <th>LBexp_2</th>\n",
       "      <th>LBexp_3</th>\n",
       "      <th>LBtran_1</th>\n",
       "      <th>LBtran_2</th>\n",
       "      <th>LBtran_3</th>\n",
       "      <th>LBstat_1</th>\n",
       "      <th>LBstat_2</th>\n",
       "      <th>LBstat_3</th>\n",
       "      <th>...</th>\n",
       "      <th>LBGstat_3</th>\n",
       "      <th>M9exp_1</th>\n",
       "      <th>M9exp_2</th>\n",
       "      <th>M9exp_3</th>\n",
       "      <th>M9tran_1</th>\n",
       "      <th>M9tran_2</th>\n",
       "      <th>M9tran_3</th>\n",
       "      <th>M9stat_1</th>\n",
       "      <th>M9stat_2</th>\n",
       "      <th>M9stat_3</th>\n",
       "    </tr>\n",
       "  </thead>\n",
       "  <tbody>\n",
       "    <tr>\n",
       "      <th>4</th>\n",
       "      <td>BSU00010</td>\n",
       "      <td>14.3735</td>\n",
       "      <td>13.6524</td>\n",
       "      <td>13.4978</td>\n",
       "      <td>11.9048</td>\n",
       "      <td>11.8616</td>\n",
       "      <td>11.9176</td>\n",
       "      <td>12.6096</td>\n",
       "      <td>12.1886</td>\n",
       "      <td>11.8923</td>\n",
       "      <td>...</td>\n",
       "      <td>12.9061</td>\n",
       "      <td>13.8058</td>\n",
       "      <td>13.4113</td>\n",
       "      <td>13.3547</td>\n",
       "      <td>13.0112</td>\n",
       "      <td>13.1424</td>\n",
       "      <td>13.2688</td>\n",
       "      <td>10.1624</td>\n",
       "      <td>10.3575</td>\n",
       "      <td>9.9452</td>\n",
       "    </tr>\n",
       "    <tr>\n",
       "      <th>6</th>\n",
       "      <td>BSU00020</td>\n",
       "      <td>14.2950</td>\n",
       "      <td>13.4732</td>\n",
       "      <td>13.3349</td>\n",
       "      <td>11.5579</td>\n",
       "      <td>12.1155</td>\n",
       "      <td>12.6677</td>\n",
       "      <td>12.5014</td>\n",
       "      <td>12.4072</td>\n",
       "      <td>12.0869</td>\n",
       "      <td>...</td>\n",
       "      <td>12.3250</td>\n",
       "      <td>13.3430</td>\n",
       "      <td>12.8591</td>\n",
       "      <td>12.8240</td>\n",
       "      <td>12.3821</td>\n",
       "      <td>12.6439</td>\n",
       "      <td>12.6358</td>\n",
       "      <td>9.3508</td>\n",
       "      <td>9.5003</td>\n",
       "      <td>9.0831</td>\n",
       "    </tr>\n",
       "    <tr>\n",
       "      <th>7</th>\n",
       "      <td>BSU00030</td>\n",
       "      <td>14.1569</td>\n",
       "      <td>13.3851</td>\n",
       "      <td>13.1908</td>\n",
       "      <td>11.4149</td>\n",
       "      <td>11.7905</td>\n",
       "      <td>11.1620</td>\n",
       "      <td>10.8155</td>\n",
       "      <td>10.6420</td>\n",
       "      <td>10.2208</td>\n",
       "      <td>...</td>\n",
       "      <td>11.6167</td>\n",
       "      <td>13.7531</td>\n",
       "      <td>13.2609</td>\n",
       "      <td>13.0873</td>\n",
       "      <td>12.6892</td>\n",
       "      <td>12.5732</td>\n",
       "      <td>12.8504</td>\n",
       "      <td>9.7791</td>\n",
       "      <td>9.5838</td>\n",
       "      <td>9.5451</td>\n",
       "    </tr>\n",
       "    <tr>\n",
       "      <th>8</th>\n",
       "      <td>BSU00040</td>\n",
       "      <td>14.0873</td>\n",
       "      <td>13.8232</td>\n",
       "      <td>13.7972</td>\n",
       "      <td>12.9200</td>\n",
       "      <td>12.9320</td>\n",
       "      <td>12.8925</td>\n",
       "      <td>12.7834</td>\n",
       "      <td>12.6077</td>\n",
       "      <td>12.1702</td>\n",
       "      <td>...</td>\n",
       "      <td>12.6435</td>\n",
       "      <td>13.9198</td>\n",
       "      <td>13.4994</td>\n",
       "      <td>13.3783</td>\n",
       "      <td>12.9794</td>\n",
       "      <td>13.0822</td>\n",
       "      <td>13.3262</td>\n",
       "      <td>11.3489</td>\n",
       "      <td>11.4371</td>\n",
       "      <td>11.2711</td>\n",
       "    </tr>\n",
       "    <tr>\n",
       "      <th>9</th>\n",
       "      <td>BSU00050</td>\n",
       "      <td>14.1905</td>\n",
       "      <td>13.9541</td>\n",
       "      <td>13.8688</td>\n",
       "      <td>12.8681</td>\n",
       "      <td>12.8788</td>\n",
       "      <td>13.0297</td>\n",
       "      <td>12.8040</td>\n",
       "      <td>12.6077</td>\n",
       "      <td>12.0259</td>\n",
       "      <td>...</td>\n",
       "      <td>12.6431</td>\n",
       "      <td>13.9422</td>\n",
       "      <td>13.4640</td>\n",
       "      <td>13.3763</td>\n",
       "      <td>12.8665</td>\n",
       "      <td>13.0132</td>\n",
       "      <td>13.3194</td>\n",
       "      <td>11.3141</td>\n",
       "      <td>11.3469</td>\n",
       "      <td>11.1085</td>\n",
       "    </tr>\n",
       "  </tbody>\n",
       "</table>\n",
       "<p>5 rows × 27 columns</p>\n",
       "</div>"
      ],
      "text/plain": [
       "  Locus_tag  LBexp_1  LBexp_2  LBexp_3  LBtran_1  LBtran_2  LBtran_3  \\\n",
       "4  BSU00010  14.3735  13.6524  13.4978   11.9048   11.8616   11.9176   \n",
       "6  BSU00020  14.2950  13.4732  13.3349   11.5579   12.1155   12.6677   \n",
       "7  BSU00030  14.1569  13.3851  13.1908   11.4149   11.7905   11.1620   \n",
       "8  BSU00040  14.0873  13.8232  13.7972   12.9200   12.9320   12.8925   \n",
       "9  BSU00050  14.1905  13.9541  13.8688   12.8681   12.8788   13.0297   \n",
       "\n",
       "   LBstat_1  LBstat_2  LBstat_3  ...  LBGstat_3  M9exp_1  M9exp_2  M9exp_3  \\\n",
       "4   12.6096   12.1886   11.8923  ...    12.9061  13.8058  13.4113  13.3547   \n",
       "6   12.5014   12.4072   12.0869  ...    12.3250  13.3430  12.8591  12.8240   \n",
       "7   10.8155   10.6420   10.2208  ...    11.6167  13.7531  13.2609  13.0873   \n",
       "8   12.7834   12.6077   12.1702  ...    12.6435  13.9198  13.4994  13.3783   \n",
       "9   12.8040   12.6077   12.0259  ...    12.6431  13.9422  13.4640  13.3763   \n",
       "\n",
       "   M9tran_1  M9tran_2  M9tran_3  M9stat_1  M9stat_2  M9stat_3  \n",
       "4   13.0112   13.1424   13.2688   10.1624   10.3575    9.9452  \n",
       "6   12.3821   12.6439   12.6358    9.3508    9.5003    9.0831  \n",
       "7   12.6892   12.5732   12.8504    9.7791    9.5838    9.5451  \n",
       "8   12.9794   13.0822   13.3262   11.3489   11.4371   11.2711  \n",
       "9   12.8665   13.0132   13.3194   11.3141   11.3469   11.1085  \n",
       "\n",
       "[5 rows x 27 columns]"
      ]
     },
     "execution_count": 28,
     "metadata": {},
     "output_type": "execute_result"
    }
   ],
   "source": [
    "good_cols = ['Locus_tag'] +\\\n",
    "                [col for col in exp_df if (('exp_' in col) | ('tran_' in col) | ('stat_' in col)) ]\n",
    "exp_df = exp_df[good_cols]\n",
    "new_col_names = ['Locus_tag'] + ['_'.join(col.split('_')[:2]) for col in good_cols[1:]]\n",
    "exp_df.columns = new_col_names\n",
    "exp_df = exp_df[exp_df['Locus_tag'].str[:3]=='BSU']\n",
    "print(exp_df.shape)\n",
    "exp_df.head()"
   ]
  },
  {
   "cell_type": "code",
   "execution_count": 29,
   "metadata": {},
   "outputs": [],
   "source": [
    "###(slowly) checking for duplicate columns\n",
    "for i, col1 in enumerate(exp_df.columns):\n",
    "    for col2 in exp_df.columns[i+1:]:\n",
    "        assert list(exp_df[col1])!= list(exp_df[col2])"
   ]
  },
  {
   "cell_type": "markdown",
   "metadata": {},
   "source": [
    "# Averaging between replicates to clean up the data"
   ]
  },
  {
   "cell_type": "markdown",
   "metadata": {},
   "source": [
    "## First getting gene expression averages between replicates and creating a new `dataframe`"
   ]
  },
  {
   "cell_type": "code",
   "execution_count": 44,
   "metadata": {},
   "outputs": [
    {
     "name": "stdout",
     "output_type": "stream",
     "text": [
      "['LBexp', 'LBtran', 'LBGstat', 'LBstat', 'M9tran', 'M9stat', 'LBGexp', 'LBGtran', 'M9exp']\n"
     ]
    }
   ],
   "source": [
    "unique_conds = list(set([i.split('_')[0] for i in exp_df.columns[1:]]))\n",
    "print(unique_conds)"
   ]
  },
  {
   "cell_type": "code",
   "execution_count": 52,
   "metadata": {},
   "outputs": [
    {
     "name": "stdout",
     "output_type": "stream",
     "text": [
      "LBexp ['LBexp_1', 'LBexp_2', 'LBexp_3']\n",
      "LBtran ['LBtran_1', 'LBtran_2', 'LBtran_3']\n",
      "LBGstat ['LBGstat_1', 'LBGstat_2', 'LBGstat_3']\n",
      "LBstat ['LBstat_1', 'LBstat_2', 'LBstat_3']\n",
      "M9tran ['M9tran_1', 'M9tran_2', 'M9tran_3']\n",
      "M9stat ['M9stat_1', 'M9stat_2', 'M9stat_3']\n",
      "LBGexp ['LBGexp_1', 'LBGexp_2', 'LBGexp_3']\n",
      "LBGtran ['LBGtran_2', 'LBGtran_3']\n",
      "M9exp ['M9exp_1', 'M9exp_2', 'M9exp_3']\n"
     ]
    }
   ],
   "source": [
    "replicate_groups = {}\n",
    "for sample in unique_conds:\n",
    "    try:\n",
    "        replicate_groups[sample].append(meta_df[meta_df['Condition key *'].str.contains(sample)]['Condition key *'])\n",
    "    except KeyError:\n",
    "        replicate_groups[sample] = list(meta_df[meta_df['Condition key *'].str.contains(sample)]['Condition key *'])\n",
    "\n",
    "for key, val in replicate_groups.items():\n",
    "    print(key, val)"
   ]
  },
  {
   "cell_type": "code",
   "execution_count": 53,
   "metadata": {},
   "outputs": [
    {
     "name": "stdout",
     "output_type": "stream",
     "text": [
      "(4292, 9)\n"
     ]
    },
    {
     "data": {
      "text/html": [
       "<div>\n",
       "<style scoped>\n",
       "    .dataframe tbody tr th:only-of-type {\n",
       "        vertical-align: middle;\n",
       "    }\n",
       "\n",
       "    .dataframe tbody tr th {\n",
       "        vertical-align: top;\n",
       "    }\n",
       "\n",
       "    .dataframe thead th {\n",
       "        text-align: right;\n",
       "    }\n",
       "</style>\n",
       "<table border=\"1\" class=\"dataframe\">\n",
       "  <thead>\n",
       "    <tr style=\"text-align: right;\">\n",
       "      <th></th>\n",
       "      <th>LBexp</th>\n",
       "      <th>LBtran</th>\n",
       "      <th>LBGstat</th>\n",
       "      <th>LBstat</th>\n",
       "      <th>M9tran</th>\n",
       "      <th>M9stat</th>\n",
       "      <th>LBGexp</th>\n",
       "      <th>LBGtran</th>\n",
       "      <th>M9exp</th>\n",
       "    </tr>\n",
       "  </thead>\n",
       "  <tbody>\n",
       "    <tr>\n",
       "      <th>4</th>\n",
       "      <td>13.841233</td>\n",
       "      <td>11.894667</td>\n",
       "      <td>13.364733</td>\n",
       "      <td>12.230167</td>\n",
       "      <td>13.140800</td>\n",
       "      <td>10.155033</td>\n",
       "      <td>13.965100</td>\n",
       "      <td>12.92120</td>\n",
       "      <td>13.523933</td>\n",
       "    </tr>\n",
       "    <tr>\n",
       "      <th>6</th>\n",
       "      <td>13.701033</td>\n",
       "      <td>12.113700</td>\n",
       "      <td>12.974567</td>\n",
       "      <td>12.331833</td>\n",
       "      <td>12.553933</td>\n",
       "      <td>9.311400</td>\n",
       "      <td>13.687033</td>\n",
       "      <td>12.93900</td>\n",
       "      <td>13.008700</td>\n",
       "    </tr>\n",
       "    <tr>\n",
       "      <th>7</th>\n",
       "      <td>13.577600</td>\n",
       "      <td>11.455800</td>\n",
       "      <td>11.863300</td>\n",
       "      <td>10.559433</td>\n",
       "      <td>12.704267</td>\n",
       "      <td>9.636000</td>\n",
       "      <td>13.841400</td>\n",
       "      <td>12.23035</td>\n",
       "      <td>13.367100</td>\n",
       "    </tr>\n",
       "    <tr>\n",
       "      <th>8</th>\n",
       "      <td>13.902567</td>\n",
       "      <td>12.914833</td>\n",
       "      <td>12.942933</td>\n",
       "      <td>12.520433</td>\n",
       "      <td>13.129267</td>\n",
       "      <td>11.352367</td>\n",
       "      <td>13.932167</td>\n",
       "      <td>13.41905</td>\n",
       "      <td>13.599167</td>\n",
       "    </tr>\n",
       "    <tr>\n",
       "      <th>9</th>\n",
       "      <td>14.004467</td>\n",
       "      <td>12.925533</td>\n",
       "      <td>12.902967</td>\n",
       "      <td>12.479200</td>\n",
       "      <td>13.066367</td>\n",
       "      <td>11.256500</td>\n",
       "      <td>13.973367</td>\n",
       "      <td>13.36720</td>\n",
       "      <td>13.594167</td>\n",
       "    </tr>\n",
       "  </tbody>\n",
       "</table>\n",
       "</div>"
      ],
      "text/plain": [
       "       LBexp     LBtran    LBGstat     LBstat     M9tran     M9stat  \\\n",
       "4  13.841233  11.894667  13.364733  12.230167  13.140800  10.155033   \n",
       "6  13.701033  12.113700  12.974567  12.331833  12.553933   9.311400   \n",
       "7  13.577600  11.455800  11.863300  10.559433  12.704267   9.636000   \n",
       "8  13.902567  12.914833  12.942933  12.520433  13.129267  11.352367   \n",
       "9  14.004467  12.925533  12.902967  12.479200  13.066367  11.256500   \n",
       "\n",
       "      LBGexp   LBGtran      M9exp  \n",
       "4  13.965100  12.92120  13.523933  \n",
       "6  13.687033  12.93900  13.008700  \n",
       "7  13.841400  12.23035  13.367100  \n",
       "8  13.932167  13.41905  13.599167  \n",
       "9  13.973367  13.36720  13.594167  "
      ]
     },
     "execution_count": 53,
     "metadata": {},
     "output_type": "execute_result"
    }
   ],
   "source": [
    "new_exp_df = pd.DataFrame()\n",
    "\n",
    "for key, val in replicate_groups.items():\n",
    "    new_exp_df[key] = exp_df[list(val)].mean(axis=1)\n",
    "print(new_exp_df.shape)\n",
    "new_exp_df.head()"
   ]
  },
  {
   "cell_type": "markdown",
   "metadata": {},
   "source": [
    "## Average the growth rates across these replicates in the metadata as well"
   ]
  },
  {
   "cell_type": "code",
   "execution_count": 65,
   "metadata": {},
   "outputs": [
    {
     "data": {
      "text/plain": [
       "<matplotlib.axes._subplots.AxesSubplot at 0x7fa3c0606e90>"
      ]
     },
     "execution_count": 65,
     "metadata": {},
     "output_type": "execute_result"
    },
    {
     "data": {
      "image/png": "[encoded data removed]",
      "text/plain": [
       "<Figure size 432x288 with 1 Axes>"
      ]
     },
     "metadata": {
      "needs_background": "light"
     },
     "output_type": "display_data"
    }
   ],
   "source": [
    "(new_exp_df['LBexp']-new_exp_df['LBstat']).hist(bins=20)"
   ]
  },
  {
   "cell_type": "code",
   "execution_count": 87,
   "metadata": {},
   "outputs": [],
   "source": [
    "always_positive = []\n",
    "for media in ['LB', 'LBG', 'M9']:\n",
    "    a = new_exp_df['{}exp'.format(media)]-new_exp_df['{}tran'.format(media)]\n",
    "    b = new_exp_df['{}tran'.format(media)]-new_exp_df['{}stat'.format(media)]\n",
    "    c = pd.DataFrame(zip(a,b))\n",
    "    always_positive.append(c.min(axis=1))"
   ]
  },
  {
   "cell_type": "code",
   "execution_count": 96,
   "metadata": {},
   "outputs": [
    {
     "data": {
      "text/plain": [
       "<matplotlib.axes._subplots.AxesSubplot at 0x7fa3a88cb6d0>"
      ]
     },
     "execution_count": 96,
     "metadata": {},
     "output_type": "execute_result"
    },
    {
     "data": {
      "image/png": "[encoded data removed]",
      "text/plain": [
       "<Figure size 432x288 with 1 Axes>"
      ]
     },
     "metadata": {
      "needs_background": "light"
     },
     "output_type": "display_data"
    }
   ],
   "source": [
    "ugh_df = pd.DataFrame(zip(always_positive[0], always_positive[1], always_positive[2]))\n",
    "ugh_df.max(axis=1).hist()"
   ]
  },
  {
   "cell_type": "code",
   "execution_count": 71,
   "metadata": {},
   "outputs": [
    {
     "data": {
      "text/plain": [
       "4       2.985767\n",
       "6       3.242533\n",
       "7       3.068267\n",
       "8       1.776900\n",
       "9       1.809867\n",
       "          ...   \n",
       "5864    2.260400\n",
       "5867    2.702667\n",
       "5868    2.928633\n",
       "5870    3.343567\n",
       "5872    2.562567\n",
       "Length: 4292, dtype: float64"
      ]
     },
     "execution_count": 71,
     "metadata": {},
     "output_type": "execute_result"
    }
   ],
   "source": [
    "b"
   ]
  },
  {
   "cell_type": "code",
   "execution_count": 29,
   "metadata": {},
   "outputs": [],
   "source": [
    "meta_df['Doubling_time'] = np.log(2)/meta_df['dilution rate (/h)']\n",
    "meta_df['Growth Rate (1/hr)'] = meta_df['dilution rate (/h)']\n",
    "assert list(meta_df['Simple_sample_id']) == list(new_exp_df.columns)"
   ]
  },
  {
   "cell_type": "code",
   "execution_count": null,
   "metadata": {},
   "outputs": [],
   "source": []
  },
  {
   "cell_type": "markdown",
   "metadata": {},
   "source": [
    "# Construct a third `dataframe` containing expression data summary stats"
   ]
  },
  {
   "cell_type": "code",
   "execution_count": 30,
   "metadata": {},
   "outputs": [],
   "source": [
    "exp_summary_df = new_exp_df.apply(pd.DataFrame.describe, axis=1)"
   ]
  },
  {
   "cell_type": "code",
   "execution_count": 31,
   "metadata": {},
   "outputs": [
    {
     "name": "stdout",
     "output_type": "stream",
     "text": [
      "['count', 'mean', 'std', 'min', '25_percentile', '50_percentile', '75_percentile', 'max']\n"
     ]
    }
   ],
   "source": [
    "col_listy = []\n",
    "for col in exp_summary_df.columns:\n",
    "    if '%' not in col:\n",
    "        col_listy.append(col)\n",
    "    else:\n",
    "        col_listy.append(col.replace('%', '_percentile'))\n",
    "print(col_listy)\n",
    "exp_summary_df.columns = col_listy"
   ]
  },
  {
   "cell_type": "code",
   "execution_count": 32,
   "metadata": {},
   "outputs": [],
   "source": [
    "exp_summary_df['cv'] = exp_summary_df['std']/exp_summary_df['mean']\n",
    "exp_summary_df['noise'] = exp_summary_df['std'].pow(2)/exp_summary_df['mean'].pow(2)"
   ]
  },
  {
   "cell_type": "code",
   "execution_count": 33,
   "metadata": {},
   "outputs": [],
   "source": [
    "slopes = []\n",
    "pearsons = []\n",
    "spearmans = []\n",
    "for gene in exp_summary_df.index:\n",
    "    a, b, c, d, e = stats.linregress(new_exp_df.loc[gene], meta_df['dilution rate (/h)']) \n",
    "    slopes.append(a)\n",
    "    pearsons.append(c)\n",
    "    rho, p = stats.spearmanr(new_exp_df.loc[gene], meta_df['dilution rate (/h)'], nan_policy='omit')\n",
    "    spearmans.append(rho)\n",
    "    \n",
    "exp_summary_df['lin_slope'] = slopes\n",
    "exp_summary_df['lin_r'] = pearsons\n",
    "exp_summary_df['spearmans_rho'] = spearmans"
   ]
  },
  {
   "cell_type": "markdown",
   "metadata": {},
   "source": [
    "# Save some files"
   ]
  },
  {
   "cell_type": "code",
   "execution_count": 34,
   "metadata": {},
   "outputs": [
    {
     "name": "stdout",
     "output_type": "stream",
     "text": [
      "(3127, 14)\n",
      "(14, 14)\n",
      "(3127, 13)\n"
     ]
    }
   ],
   "source": [
    "print(new_exp_df.shape)\n",
    "print(meta_df.shape)\n",
    "print(exp_summary_df.shape)\n",
    "new_exp_df.to_csv('../Data/processed_data/processed_expression_scer_{}.tsv'.format(data_to_analyze), sep='\\t')\n",
    "meta_df.to_csv('../Data/processed_data/processed_metadata_scer_{}.tsv'.format(data_to_analyze), sep='\\t')\n",
    "exp_summary_df.to_csv('../Data/processed_data/processed_expression_summary_scer_{}.tsv'.format(data_to_analyze), sep='\\t')"
   ]
  },
  {
   "cell_type": "code",
   "execution_count": null,
   "metadata": {},
   "outputs": [],
   "source": []
  },
  {
   "cell_type": "markdown",
   "metadata": {},
   "source": [
    "# Get a thinned down set as a robustness check\n",
    "\n",
    "Since conditions are correlated with one another, I'm constructing a more sparsely populated dataset where inter-condition correlations are minimized using a greedy algorithm. \n",
    "\n",
    "The algorithm works as follows:\n",
    "1. Find which two conditions are the most highly correlated across the entire all-to-all correlation matrix\n",
    "2. Randomly delete one of the two conditions in question\n",
    "3. Iterate to (1)\n",
    "4. Stop after reaching a pre-defined final dataset size"
   ]
  },
  {
   "cell_type": "code",
   "execution_count": null,
   "metadata": {},
   "outputs": [],
   "source": [
    "import random"
   ]
  },
  {
   "cell_type": "code",
   "execution_count": null,
   "metadata": {},
   "outputs": [],
   "source": [
    "cond_corr_mat = new_exp_df.corr(method='spearman')\n",
    "cond_corr_mat.head()"
   ]
  },
  {
   "cell_type": "code",
   "execution_count": null,
   "metadata": {},
   "outputs": [],
   "source": [
    "final_data_size = 30\n",
    "n_to_prune = cond_corr_mat.shape[1] - final_data_size"
   ]
  },
  {
   "cell_type": "code",
   "execution_count": null,
   "metadata": {},
   "outputs": [],
   "source": [
    "np.fill_diagonal(cond_corr_mat.values, np.nan)\n",
    "to_prune = []\n",
    "for i in range(n_to_prune):\n",
    "    tempy = cond_corr_mat.loc[[i for i in cond_corr_mat.columns if i not in to_prune]][[i for i in cond_corr_mat.columns if i not in to_prune]].max()\n",
    "    to_prune.append(random.choice([tempy.sort_values(ascending=False).index[0],\\\n",
    "                                   tempy.sort_values(ascending=False).index[1]]))\n",
    "np.fill_diagonal(cond_corr_mat.values, 1.)"
   ]
  },
  {
   "cell_type": "code",
   "execution_count": null,
   "metadata": {},
   "outputs": [],
   "source": [
    "to_keep = [i for i in cond_corr_mat.columns if i not in to_prune]\n",
    "new_exp_df = new_exp_df[to_keep]\n",
    "meta_df = meta_df[meta_df['Simple_sample_id'].isin(to_keep)]"
   ]
  },
  {
   "cell_type": "code",
   "execution_count": null,
   "metadata": {},
   "outputs": [],
   "source": [
    "exp_summary_df = new_exp_df.apply(pd.DataFrame.describe, axis=1)\n",
    "col_listy = []\n",
    "for col in exp_summary_df.columns:\n",
    "    if '%' not in col:\n",
    "        col_listy.append(col)\n",
    "    else:\n",
    "        col_listy.append(col.replace('%', '_percentile'))\n",
    "print(col_listy)\n",
    "exp_summary_df.columns = col_listy\n",
    "\n",
    "exp_summary_df['cv'] = exp_summary_df['std']/exp_summary_df['mean']\n",
    "exp_summary_df['noise'] = exp_summary_df['std'].pow(2)/exp_summary_df['mean'].pow(2)\n",
    "\n",
    "slopes = []\n",
    "pearsons = []\n",
    "spearmans = []\n",
    "for gene in exp_summary_df.index:\n",
    "    a, b, c, d, e = stats.linregress(new_exp_df.loc[gene], meta_df['Growth Rate (1/hr)'])\n",
    "    slopes.append(a)\n",
    "    pearsons.append(c)\n",
    "    rho, p = stats.spearmanr(new_exp_df.loc[gene], meta_df['Growth Rate (1/hr)'])\n",
    "    spearmans.append(rho)\n",
    "    \n",
    "exp_summary_df['lin_slope'] = slopes\n",
    "exp_summary_df['lin_r'] = pearsons\n",
    "exp_summary_df['spearmans_rho'] = spearmans"
   ]
  },
  {
   "cell_type": "code",
   "execution_count": null,
   "metadata": {},
   "outputs": [],
   "source": [
    "print(new_exp_df.shape)\n",
    "print(meta_df.shape)\n",
    "print(exp_summary_df.shape)\n",
    "new_exp_df.to_csv('../Data/processed_data/processed_expression_SPARSE.tsv', sep='\\t')\n",
    "meta_df.to_csv('../Data/processed_data/processed_metadata_SPARSE.tsv', sep='\\t')\n",
    "exp_summary_df.to_csv('../Data/processed_data/processed_expression_summary_SPARSE.tsv', sep='\\t')"
   ]
  },
  {
   "cell_type": "markdown",
   "metadata": {},
   "source": [
    "# Scratch"
   ]
  },
  {
   "cell_type": "code",
   "execution_count": null,
   "metadata": {},
   "outputs": [],
   "source": []
  },
  {
   "cell_type": "code",
   "execution_count": null,
   "metadata": {},
   "outputs": [],
   "source": []
  },
  {
   "cell_type": "code",
   "execution_count": null,
   "metadata": {},
   "outputs": [],
   "source": []
  }
 ],
 "metadata": {
  "kernelspec": {
   "display_name": "Python 3",
   "language": "python",
   "name": "python3"
  },
  "language_info": {
   "codemirror_mode": {
    "name": "ipython",
    "version": 3
   },
   "file_extension": ".py",
   "mimetype": "text/x-python",
   "name": "python",
   "nbconvert_exporter": "python",
   "pygments_lexer": "ipython3",
   "version": "3.7.7"
  },
  "toc": {
   "colors": {
    "hover_highlight": "#DAA520",
    "navigate_num": "#000000",
    "navigate_text": "#333333",
    "running_highlight": "#FF0000",
    "selected_highlight": "#FFD700",
    "sidebar_border": "#EEEEEE",
    "wrapper_background": "#FFFFFF"
   },
   "moveMenuLeft": true,
   "nav_menu": {
    "height": "192px",
    "width": "252px"
   },
   "navigate_menu": true,
   "number_sections": true,
   "sideBar": true,
   "threshold": 4,
   "toc_cell": false,
   "toc_section_display": "block",
   "toc_window_display": false,
   "widenNotebook": false
  }
 },
 "nbformat": 4,
 "nbformat_minor": 4
}
