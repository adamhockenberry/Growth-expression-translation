{
 "cells": [
  {
   "cell_type": "code",
   "execution_count": 1,
   "metadata": {},
   "outputs": [],
   "source": [
    "%matplotlib inline"
   ]
  },
  {
   "cell_type": "markdown",
   "metadata": {},
   "source": [
    "# Imports"
   ]
  },
  {
   "cell_type": "code",
   "execution_count": 14,
   "metadata": {},
   "outputs": [],
   "source": [
    "###Standard imports\n",
    "import pandas as pd\n",
    "from collections import Counter\n",
    "from scipy import stats\n",
    "import numpy as np\n",
    "\n",
    "###Slightly specialized\n",
    "from Bio import SeqIO\n",
    "from Bio.Data import CodonTable\n",
    "\n",
    "###Really specialized\n",
    "import sys\n",
    "sys.path.append('../../iCUB/')\n",
    "import iCUB"
   ]
  },
  {
   "cell_type": "markdown",
   "metadata": {},
   "source": [
    "# Define constants for genome extraction"
   ]
  },
  {
   "cell_type": "code",
   "execution_count": 3,
   "metadata": {},
   "outputs": [],
   "source": [
    "genome = list(SeqIO.parse('../Data/ecoli_info/NC_000913.3.gb', 'genbank'))\n",
    "assert len(genome) == 1\n",
    "genome = genome[0]\n",
    "\n",
    "length_of_upstream_seq = 30"
   ]
  },
  {
   "cell_type": "markdown",
   "metadata": {},
   "source": [
    "# Establish a general dataframe describing various coding sequence fesatures from the genome"
   ]
  },
  {
   "cell_type": "code",
   "execution_count": 4,
   "metadata": {},
   "outputs": [],
   "source": [
    "loci = []\n",
    "gene_ids = []\n",
    "cds_seqs = []\n",
    "us_seqs = []\n",
    "starts = []\n",
    "stops = []\n",
    "strands = []\n",
    "\n",
    "for feature in genome.features:\n",
    "    nt_seq_len = len(str(genome.seq))\n",
    "    if feature.type == 'CDS': ###Caring only about protein coding sequences aka CDS\n",
    "        try:\n",
    "            locus_id = feature.qualifiers['locus_tag'][0]\n",
    "        except:\n",
    "            locus_id = ''\n",
    "        try:\n",
    "            gene_id = feature.qualifiers['gene'][0]\n",
    "        except:\n",
    "            gene_id = ''\n",
    "        start = feature.location.start\n",
    "        stop = feature.location.end\n",
    "        strand = feature.location.strand\n",
    "        assert stop > start\n",
    "        if strand == 1:\n",
    "            strand = '+'\n",
    "        elif strand == -1:\n",
    "            strand = '-'\n",
    "        else:\n",
    "            print('ERROR in strand')\n",
    "            break\n",
    "        if strand == '-':\n",
    "            if stop + 30 > nt_seq_len: ###Case that may occur at chromosome end\n",
    "                continue\n",
    "            cds_seq = str(genome.seq[start:stop].reverse_complement())\n",
    "            us_seq = str(genome.seq[stop:stop+length_of_upstream_seq].reverse_complement())\n",
    "        elif strand == '+':\n",
    "            if start < 30: ###Case that may occur at chromosome beginning\n",
    "                continue\n",
    "            cds_seq = str(genome.seq[start:stop])\n",
    "            us_seq = str(genome.seq[start-length_of_upstream_seq:start])\n",
    "        ###Add everyone to growing lists because it's a faster way to set up dataframes\n",
    "        loci.append(locus_id)\n",
    "        gene_ids.append(gene_id)\n",
    "        starts.append(start)\n",
    "        stops.append(stop)\n",
    "        strands.append(strand)\n",
    "        cds_seqs.append(cds_seq)\n",
    "        us_seqs.append(us_seq)"
   ]
  },
  {
   "cell_type": "code",
   "execution_count": 5,
   "metadata": {},
   "outputs": [
    {
     "name": "stdout",
     "output_type": "stream",
     "text": [
      "(4357, 7)\n"
     ]
    },
    {
     "data": {
      "text/html": [
       "<div>\n",
       "<style scoped>\n",
       "    .dataframe tbody tr th:only-of-type {\n",
       "        vertical-align: middle;\n",
       "    }\n",
       "\n",
       "    .dataframe tbody tr th {\n",
       "        vertical-align: top;\n",
       "    }\n",
       "\n",
       "    .dataframe thead th {\n",
       "        text-align: right;\n",
       "    }\n",
       "</style>\n",
       "<table border=\"1\" class=\"dataframe\">\n",
       "  <thead>\n",
       "    <tr style=\"text-align: right;\">\n",
       "      <th></th>\n",
       "      <th>locus_tag</th>\n",
       "      <th>gene</th>\n",
       "      <th>start_loc</th>\n",
       "      <th>stop_loc</th>\n",
       "      <th>strand</th>\n",
       "      <th>cds_seq</th>\n",
       "      <th>us_seq</th>\n",
       "    </tr>\n",
       "  </thead>\n",
       "  <tbody>\n",
       "    <tr>\n",
       "      <th>0</th>\n",
       "      <td>b0001</td>\n",
       "      <td>thrL</td>\n",
       "      <td>189</td>\n",
       "      <td>255</td>\n",
       "      <td>+</td>\n",
       "      <td>ATGAAACGCATTAGCACCACCATTACCACCACCATCACCATTACCA...</td>\n",
       "      <td>CAGATAAAAATTACAGAGTACACAACATCC</td>\n",
       "    </tr>\n",
       "    <tr>\n",
       "      <th>1</th>\n",
       "      <td>b0002</td>\n",
       "      <td>thrA</td>\n",
       "      <td>336</td>\n",
       "      <td>2799</td>\n",
       "      <td>+</td>\n",
       "      <td>ATGCGAGTGTTGAAGTTCGGCGGTACATCAGTGGCAAATGCAGAAC...</td>\n",
       "      <td>TTTTCGACCAAAGGTAACGAGGTAACAACC</td>\n",
       "    </tr>\n",
       "    <tr>\n",
       "      <th>2</th>\n",
       "      <td>b0003</td>\n",
       "      <td>thrB</td>\n",
       "      <td>2800</td>\n",
       "      <td>3733</td>\n",
       "      <td>+</td>\n",
       "      <td>ATGGTTAAAGTTTATGCCCCGGCTTCCAGTGCCAATATGAGCGTCG...</td>\n",
       "      <td>GTACCCTCTCATGGAAGTTAGGAGTCTGAC</td>\n",
       "    </tr>\n",
       "    <tr>\n",
       "      <th>3</th>\n",
       "      <td>b0004</td>\n",
       "      <td>thrC</td>\n",
       "      <td>3733</td>\n",
       "      <td>5020</td>\n",
       "      <td>+</td>\n",
       "      <td>ATGAAACTCTACAATCTGAAAGATCACAACGAGCAGGTCAGCTTTG...</td>\n",
       "      <td>ACGGCGGGCGCACGAGTACTGGAAAACTAA</td>\n",
       "    </tr>\n",
       "    <tr>\n",
       "      <th>4</th>\n",
       "      <td>b0005</td>\n",
       "      <td>yaaX</td>\n",
       "      <td>5233</td>\n",
       "      <td>5530</td>\n",
       "      <td>+</td>\n",
       "      <td>GTGAAAAAGATGCAATCTATCGTACTCGCACTTTCCCTGGTTCTGG...</td>\n",
       "      <td>CATAACGGGCAATGATAAAAGGAGTAACCT</td>\n",
       "    </tr>\n",
       "  </tbody>\n",
       "</table>\n",
       "</div>"
      ],
      "text/plain": [
       "  locus_tag  gene  start_loc  stop_loc strand  \\\n",
       "0     b0001  thrL        189       255      +   \n",
       "1     b0002  thrA        336      2799      +   \n",
       "2     b0003  thrB       2800      3733      +   \n",
       "3     b0004  thrC       3733      5020      +   \n",
       "4     b0005  yaaX       5233      5530      +   \n",
       "\n",
       "                                             cds_seq  \\\n",
       "0  ATGAAACGCATTAGCACCACCATTACCACCACCATCACCATTACCA...   \n",
       "1  ATGCGAGTGTTGAAGTTCGGCGGTACATCAGTGGCAAATGCAGAAC...   \n",
       "2  ATGGTTAAAGTTTATGCCCCGGCTTCCAGTGCCAATATGAGCGTCG...   \n",
       "3  ATGAAACTCTACAATCTGAAAGATCACAACGAGCAGGTCAGCTTTG...   \n",
       "4  GTGAAAAAGATGCAATCTATCGTACTCGCACTTTCCCTGGTTCTGG...   \n",
       "\n",
       "                           us_seq  \n",
       "0  CAGATAAAAATTACAGAGTACACAACATCC  \n",
       "1  TTTTCGACCAAAGGTAACGAGGTAACAACC  \n",
       "2  GTACCCTCTCATGGAAGTTAGGAGTCTGAC  \n",
       "3  ACGGCGGGCGCACGAGTACTGGAAAACTAA  \n",
       "4  CATAACGGGCAATGATAAAAGGAGTAACCT  "
      ]
     },
     "execution_count": 5,
     "metadata": {},
     "output_type": "execute_result"
    }
   ],
   "source": [
    "df = pd.DataFrame(zip(loci, gene_ids, starts, stops, strands, cds_seqs, us_seqs)) \n",
    "df.columns = ['locus_tag', 'gene', 'start_loc', 'stop_loc', 'strand', 'cds_seq', 'us_seq']\n",
    "print(df.shape)\n",
    "df.head()"
   ]
  },
  {
   "cell_type": "code",
   "execution_count": 6,
   "metadata": {},
   "outputs": [
    {
     "name": "stdout",
     "output_type": "stream",
     "text": [
      "30\n",
      "Counter({30: 4357})\n"
     ]
    }
   ],
   "source": [
    "###Test that I extracted upstream sequences properly\n",
    "print(length_of_upstream_seq)\n",
    "print(Counter(list(df['us_seq'].str.len())))"
   ]
  },
  {
   "cell_type": "code",
   "execution_count": 7,
   "metadata": {},
   "outputs": [
    {
     "name": "stdout",
     "output_type": "stream",
     "text": [
      "Max and min cds lengths: 8622 \t 42\n"
     ]
    }
   ],
   "source": [
    "df['cds_len'] = df['stop_loc'] - df['start_loc']\n",
    "assert all(df['cds_len'] == df['cds_seq'].str.len())\n",
    "print('Max and min cds lengths:', df['cds_len'].max(), '\\t', df['cds_len'].min())"
   ]
  },
  {
   "cell_type": "markdown",
   "metadata": {},
   "source": [
    "**Keep track of genes that will and won't be useful for downstream analyses**\n",
    "\n",
    "The only addition at the end should be a `well_behaved` column"
   ]
  },
  {
   "cell_type": "code",
   "execution_count": 8,
   "metadata": {},
   "outputs": [
    {
     "name": "stdout",
     "output_type": "stream",
     "text": [
      "(4357, 8)\n",
      "(4355, 9)\n"
     ]
    }
   ],
   "source": [
    "print(df.shape)\n",
    "###First ensure that locus tags are unique and drop duplicates entirely\n",
    "df = df.drop_duplicates('locus_tag')\n",
    "\n",
    "###Next set up a simple column that tracks the suitability of each gene\n",
    "df['well_behaved'] = True\n",
    "\n",
    "###Ensure that the coding sequence is a multiple of 3 (otherwise, what is happening?)\n",
    "df.at[df[df['cds_seq'].str.len()%3 != 0].index, 'well_behaved'] = False\n",
    "\n",
    "###Count the number of canonical bases\n",
    "for letter in ['A', 'T', 'G', 'C']:\n",
    "    df[letter] = df['cds_seq'].str.count(letter)\n",
    "df['ATGC'] = df[['A', 'T', 'G', 'C']].sum(axis=1)\n",
    "# ###And ensure that this number equals the coding sequence length\n",
    "df.at[df[(df['stop_loc'] - df['start_loc']) != df['ATGC']].index, 'well_behaved'] = False\n",
    "\n",
    "# ###Repeat the above procedure for upstream sequence regions\n",
    "for letter in ['A', 'T', 'G', 'C']:\n",
    "    df[letter] = df['us_seq'].str.count(letter)\n",
    "df['ATGC'] = df[['A', 'T', 'G', 'C']].sum(axis=1)\n",
    "###And ensure that this number equals the predefined upstream sequence length\n",
    "df.at[df[df['ATGC'] != length_of_upstream_seq].index, 'well_behaved'] = False\n",
    "\n",
    "###Remove those temporary columns\n",
    "df = df.drop(columns=['A', 'T', 'G', 'C', 'ATGC'])\n",
    "print(df.shape)"
   ]
  },
  {
   "cell_type": "markdown",
   "metadata": {},
   "source": [
    "**Write a set of well-behaved coding sequences to run through ROC-SEMPPR (associated R code)**"
   ]
  },
  {
   "cell_type": "code",
   "execution_count": 9,
   "metadata": {},
   "outputs": [],
   "source": [
    "with open('../Data/ecoli_info/NC_000913.3.CLEAN.CDS.fasta', 'w') as outfile:\n",
    "    for index in df[df['well_behaved']==True].index:\n",
    "        outfile.write('>{}\\n'.format(df.loc[index]['locus_tag']))\n",
    "        outfile.write('{}\\n'.format(df.loc[index]['cds_seq']))"
   ]
  },
  {
   "cell_type": "code",
   "execution_count": null,
   "metadata": {},
   "outputs": [],
   "source": []
  },
  {
   "cell_type": "markdown",
   "metadata": {},
   "source": [
    "# Add in GC percent data"
   ]
  },
  {
   "cell_type": "code",
   "execution_count": 10,
   "metadata": {},
   "outputs": [
    {
     "name": "stdout",
     "output_type": "stream",
     "text": [
      "(4355, 10)\n"
     ]
    }
   ],
   "source": [
    "###Count the number of canonical bases\n",
    "for letter in ['A', 'T', 'G', 'C']:\n",
    "    df[letter] = df['cds_seq'].str.count(letter)\n",
    "df['GC_percent_cds'] = df[['G', 'C']].sum(axis=1)/df[['A', 'T', 'G', 'C']].sum(axis=1)\n",
    "df = df.drop(columns=['A', 'T', 'G', 'C'])\n",
    "print(df.shape)"
   ]
  },
  {
   "cell_type": "code",
   "execution_count": null,
   "metadata": {},
   "outputs": [],
   "source": []
  },
  {
   "cell_type": "markdown",
   "metadata": {},
   "source": [
    "# Add the `ROC-SEMPPR` data \n",
    "\n",
    "(After running the `R` code offline)\n",
    "\n",
    "`ROC-SEMPPR` is defined here:\n",
    "https://academic.oup.com/gbe/article/7/6/1559/2465799\n",
    "\n",
    "It is a pretty novel, and in my opinion under-cited / under-used, metric of codon usage bias that is rooted in population genetic theory. The calculations take some time to run, but require only the **set** of all coding sequences in question from a particular genome, with no other *a priori* information necessary. In this sense it's slightly more complex than `iCUB` but uses far less information than many other models that purport to predict gene expression from sequence information."
   ]
  },
  {
   "cell_type": "code",
   "execution_count": 11,
   "metadata": {},
   "outputs": [
    {
     "name": "stdout",
     "output_type": "stream",
     "text": [
      "(4355, 11)\n"
     ]
    },
    {
     "data": {
      "text/html": [
       "<div>\n",
       "<style scoped>\n",
       "    .dataframe tbody tr th:only-of-type {\n",
       "        vertical-align: middle;\n",
       "    }\n",
       "\n",
       "    .dataframe tbody tr th {\n",
       "        vertical-align: top;\n",
       "    }\n",
       "\n",
       "    .dataframe thead th {\n",
       "        text-align: right;\n",
       "    }\n",
       "</style>\n",
       "<table border=\"1\" class=\"dataframe\">\n",
       "  <thead>\n",
       "    <tr style=\"text-align: right;\">\n",
       "      <th></th>\n",
       "      <th>locus_tag</th>\n",
       "      <th>gene</th>\n",
       "      <th>start_loc</th>\n",
       "      <th>stop_loc</th>\n",
       "      <th>strand</th>\n",
       "      <th>cds_seq</th>\n",
       "      <th>us_seq</th>\n",
       "      <th>cds_len</th>\n",
       "      <th>well_behaved</th>\n",
       "      <th>GC_percent_cds</th>\n",
       "      <th>roc_semppr_mean</th>\n",
       "    </tr>\n",
       "  </thead>\n",
       "  <tbody>\n",
       "    <tr>\n",
       "      <th>0</th>\n",
       "      <td>b0001</td>\n",
       "      <td>thrL</td>\n",
       "      <td>189</td>\n",
       "      <td>255</td>\n",
       "      <td>+</td>\n",
       "      <td>ATGAAACGCATTAGCACCACCATTACCACCACCATCACCATTACCA...</td>\n",
       "      <td>CAGATAAAAATTACAGAGTACACAACATCC</td>\n",
       "      <td>66</td>\n",
       "      <td>True</td>\n",
       "      <td>0.515152</td>\n",
       "      <td>1.244106</td>\n",
       "    </tr>\n",
       "    <tr>\n",
       "      <th>1</th>\n",
       "      <td>b0002</td>\n",
       "      <td>thrA</td>\n",
       "      <td>336</td>\n",
       "      <td>2799</td>\n",
       "      <td>+</td>\n",
       "      <td>ATGCGAGTGTTGAAGTTCGGCGGTACATCAGTGGCAAATGCAGAAC...</td>\n",
       "      <td>TTTTCGACCAAAGGTAACGAGGTAACAACC</td>\n",
       "      <td>2463</td>\n",
       "      <td>True</td>\n",
       "      <td>0.530654</td>\n",
       "      <td>1.034078</td>\n",
       "    </tr>\n",
       "    <tr>\n",
       "      <th>2</th>\n",
       "      <td>b0003</td>\n",
       "      <td>thrB</td>\n",
       "      <td>2800</td>\n",
       "      <td>3733</td>\n",
       "      <td>+</td>\n",
       "      <td>ATGGTTAAAGTTTATGCCCCGGCTTCCAGTGCCAATATGAGCGTCG...</td>\n",
       "      <td>GTACCCTCTCATGGAAGTTAGGAGTCTGAC</td>\n",
       "      <td>933</td>\n",
       "      <td>True</td>\n",
       "      <td>0.562701</td>\n",
       "      <td>0.994168</td>\n",
       "    </tr>\n",
       "    <tr>\n",
       "      <th>3</th>\n",
       "      <td>b0004</td>\n",
       "      <td>thrC</td>\n",
       "      <td>3733</td>\n",
       "      <td>5020</td>\n",
       "      <td>+</td>\n",
       "      <td>ATGAAACTCTACAATCTGAAAGATCACAACGAGCAGGTCAGCTTTG...</td>\n",
       "      <td>ACGGCGGGCGCACGAGTACTGGAAAACTAA</td>\n",
       "      <td>1287</td>\n",
       "      <td>True</td>\n",
       "      <td>0.528361</td>\n",
       "      <td>1.176750</td>\n",
       "    </tr>\n",
       "    <tr>\n",
       "      <th>4</th>\n",
       "      <td>b0005</td>\n",
       "      <td>yaaX</td>\n",
       "      <td>5233</td>\n",
       "      <td>5530</td>\n",
       "      <td>+</td>\n",
       "      <td>GTGAAAAAGATGCAATCTATCGTACTCGCACTTTCCCTGGTTCTGG...</td>\n",
       "      <td>CATAACGGGCAATGATAAAAGGAGTAACCT</td>\n",
       "      <td>297</td>\n",
       "      <td>True</td>\n",
       "      <td>0.538721</td>\n",
       "      <td>0.837528</td>\n",
       "    </tr>\n",
       "  </tbody>\n",
       "</table>\n",
       "</div>"
      ],
      "text/plain": [
       "  locus_tag  gene  start_loc  stop_loc strand  \\\n",
       "0     b0001  thrL        189       255      +   \n",
       "1     b0002  thrA        336      2799      +   \n",
       "2     b0003  thrB       2800      3733      +   \n",
       "3     b0004  thrC       3733      5020      +   \n",
       "4     b0005  yaaX       5233      5530      +   \n",
       "\n",
       "                                             cds_seq  \\\n",
       "0  ATGAAACGCATTAGCACCACCATTACCACCACCATCACCATTACCA...   \n",
       "1  ATGCGAGTGTTGAAGTTCGGCGGTACATCAGTGGCAAATGCAGAAC...   \n",
       "2  ATGGTTAAAGTTTATGCCCCGGCTTCCAGTGCCAATATGAGCGTCG...   \n",
       "3  ATGAAACTCTACAATCTGAAAGATCACAACGAGCAGGTCAGCTTTG...   \n",
       "4  GTGAAAAAGATGCAATCTATCGTACTCGCACTTTCCCTGGTTCTGG...   \n",
       "\n",
       "                           us_seq  cds_len  well_behaved  GC_percent_cds  \\\n",
       "0  CAGATAAAAATTACAGAGTACACAACATCC       66          True        0.515152   \n",
       "1  TTTTCGACCAAAGGTAACGAGGTAACAACC     2463          True        0.530654   \n",
       "2  GTACCCTCTCATGGAAGTTAGGAGTCTGAC      933          True        0.562701   \n",
       "3  ACGGCGGGCGCACGAGTACTGGAAAACTAA     1287          True        0.528361   \n",
       "4  CATAACGGGCAATGATAAAAGGAGTAACCT      297          True        0.538721   \n",
       "\n",
       "   roc_semppr_mean  \n",
       "0         1.244106  \n",
       "1         1.034078  \n",
       "2         0.994168  \n",
       "3         1.176750  \n",
       "4         0.837528  "
      ]
     },
     "execution_count": 11,
     "metadata": {},
     "output_type": "execute_result"
    }
   ],
   "source": [
    "rocsemppr_df = pd.read_csv('../Data/roc_semppr_first_pass.csv')\n",
    "rocsemppr_df = rocsemppr_df.drop(columns=rocsemppr_df.columns[2:])\n",
    "rocsemppr_df.columns = ['locus_tag', 'roc_semppr_mean']\n",
    "df = df.merge(rocsemppr_df, on='locus_tag', how='outer')\n",
    "print(df.shape)\n",
    "df.head()"
   ]
  },
  {
   "cell_type": "code",
   "execution_count": null,
   "metadata": {},
   "outputs": [],
   "source": []
  },
  {
   "cell_type": "markdown",
   "metadata": {},
   "source": [
    "# Add in `iCUB`\n",
    "\n",
    "`iCUB` is a simple codon usage bias metric that was originally designed/implemented here:\n",
    "https://royalsocietypublishing.org/doi/full/10.1098/rsif.2017.0667\n",
    "\n",
    "It is of a class of codon usage bias metrics that simply calculate \"disorder\" from a single coding sequence with no other *a priori* information given (including knowledge of any other values in the genome in question). This class of metrics is best known for the `Effective Number of Codons`, but many subsequent works have illustrated the limitations of this basic metric and have proposed various improvements and variants. `iCUB` appears to out-perform all known metrics of this simple class."
   ]
  },
  {
   "cell_type": "code",
   "execution_count": 12,
   "metadata": {},
   "outputs": [],
   "source": [
    "icub_vals = []\n",
    "for index in df[df['well_behaved']==True].index:\n",
    "    cds_seq = str(df.loc[index]['cds_seq'])\n",
    "    icub_vals.append(iCUB.iCUB_Calculator(cds_seq).get_iCUB())\n"
   ]
  },
  {
   "cell_type": "code",
   "execution_count": 25,
   "metadata": {},
   "outputs": [
    {
     "name": "stdout",
     "output_type": "stream",
     "text": [
      "1.0 0.04044184838990261\n"
     ]
    }
   ],
   "source": [
    "scaled_icub_vals = 1 - (np.array(icub_vals) - 20.)/41.\n",
    "print(max(scaled_icub_vals), min(scaled_icub_vals))\n",
    "df.at[df[df['well_behaved']==True].index, 'iCUB'] = scaled_icub_vals"
   ]
  },
  {
   "cell_type": "code",
   "execution_count": null,
   "metadata": {},
   "outputs": [],
   "source": []
  },
  {
   "cell_type": "markdown",
   "metadata": {},
   "source": [
    "# Add in the Codon Adaptation Index (`CAI`)\n",
    "\n",
    "The `Codon Adaptation Index` is one of the most famous codon usage bias metrics, originally proposed here:\n",
    "https://academic.oup.com/nar/article-abstract/15/3/1281/1166844\n",
    "\n",
    "It has a crazy number of citations and generally performs well at the task of predicting gene expression from sequence information. However, it requires some arbitrary and extraneous information. At its heart, the metric is a **distance** metric. It measures the distance of a given coding sequence (in terms of its codon usage bias) to a **pre-defined reference set of coding sequences** that are presumed to be highly expressed, and from which codon-level weights are calculated. Some work has been done to try to choose that reference set in an automated fashion from only knowledge in the genome, but to my knowledge nothing seems to outperform the pre-defined reference sets proposed in the paper (used below). And of course, this is to be expected since that reference set is a bit of a cheat since it already requires some outside gene expression knowledge and folds this knowledge into predictions of gene expression."
   ]
  },
  {
   "cell_type": "code",
   "execution_count": 26,
   "metadata": {},
   "outputs": [],
   "source": [
    "def get_codon_dicts(n=11):\n",
    "    \"\"\"\n",
    "    Gets the codon to amino acid look up dictionary and the amino acid to \n",
    "    (list of) codons dictionary using Biopython's CodonTable module\n",
    "    \"\"\"\n",
    "    codon_to_aa = CodonTable.unambiguous_dna_by_id[n].forward_table\n",
    "    aa_to_codons = {}\n",
    "    for codon, aa in codon_to_aa.items():\n",
    "        try:\n",
    "            aa_to_codons[aa].append(codon)\n",
    "        except:\n",
    "            aa_to_codons[aa] = [codon]\n",
    "    return codon_to_aa, aa_to_codons \n",
    "    \n",
    "def flatten_lol(lol):\n",
    "    \"\"\"\n",
    "    Merges a list of lists into a single large list\n",
    "    \"\"\"\n",
    "    return [inner for outer in lol for inner in outer]\n",
    "\n",
    "def tripletize(cds_string):\n",
    "    \"\"\"\n",
    "    Split a coding sequence into triplets (codons)\n",
    "    \"\"\"\n",
    "    assert len(cds_string) % 3 == 0\n",
    "    return [cds_string[i:i+3] for i in range(0, len(cds_string), 3)]\n",
    "\n",
    "def calculate_RSCUs(codon_count_dict):\n",
    "    \"\"\"\n",
    "    Calculates the relative synonymous codon usage values for a *SINGLE* dictionary\n",
    "    containing codon counts (codon:count) for *ONE* amino acid\n",
    "    \"\"\"\n",
    "    n_total = sum(codon_count_dict.values())\n",
    "    unique_codons = len(codon_count_dict.keys())\n",
    "    rscu_dict = {}  \n",
    "    if n_total != 0:\n",
    "        for codon, codon_count in codon_count_dict.items():\n",
    "            rscu_dict[codon] = codon_count / (float(n_total) / unique_codons)\n",
    "    else:\n",
    "        for codon, codon_count in codon_count_dict.items():\n",
    "            rscu_dict[codon] = 0 \n",
    "    return rscu_dict\n",
    "\n",
    "def calculate_codon_weights(list_of_cds_strings, zero_val=0.001):\n",
    "    \"\"\"\n",
    "    Calulates the weight of each codon from a reference set of genes\n",
    "    \"\"\"\n",
    "    ###Get housekeeping dictionaries\n",
    "    codon_to_aa, aa_to_codons = get_codon_dicts()\n",
    "    \n",
    "    if len(list_of_cds_strings) > 1: #when given a list of strings, make it one long list of codons\n",
    "        all_codons = []\n",
    "        for cds in list_of_cds_strings:\n",
    "            all_codons.append(tripletize(cds))\n",
    "        all_codons = flatten_lol(all_codons)\n",
    "    else:\n",
    "        all_codons = tripletize(list_of_cds_strings)\n",
    "\n",
    "    all_codon_counts = Counter(all_codons) #create dictionary of codon counts in the set\n",
    "    \n",
    "    ###Workhorse of the code\n",
    "    weights_dict = {}\n",
    "    for aa, codons in aa_to_codons.items(): #iterates through single amino acids\n",
    "        single_aa_codon_counts = {k: all_codon_counts.get(k, None) for k in codons}\n",
    "        single_rscu_dict = calculate_RSCUs(single_aa_codon_counts) #get RSCU dictionary for the aa\n",
    "        max_rscu = max(single_rscu_dict.values()) #weights are normalized by the max RSCU\n",
    "        for codon, rscu_val in single_rscu_dict.items():\n",
    "            if single_rscu_dict[codon] == 0:\n",
    "                weights_dict[codon] = zero_val\n",
    "            else:\n",
    "                weights_dict[codon] = rscu_val / max_rscu\n",
    "    return weights_dict\n",
    "\n",
    "def calculate_cai(single_cds_str, weights_dict):\n",
    "    \"\"\"\n",
    "    Calculates the CAI from a gene (string) and a dictionary of codon weight values.\n",
    "    \"\"\"\n",
    "    codon_list = tripletize(single_cds_str)\n",
    "    weights_list = []\n",
    "    for codon in codon_list:\n",
    "        weights_list.append(weights_dict.get(codon, None))\n",
    "    weights_list =  [i for i in weights_list if i] \n",
    "    cai = stats.gmean(weights_list)\n",
    "    return cai"
   ]
  },
  {
   "cell_type": "markdown",
   "metadata": {},
   "source": [
    "**The CAI relies on a reference set of sequences, previously defined, to determine individual codon weight values. I have taken these from the original 1987 implementation as described for *E. coli***"
   ]
  },
  {
   "cell_type": "code",
   "execution_count": 27,
   "metadata": {},
   "outputs": [],
   "source": [
    "reference_set_loci = pd.read_csv('../Data/ecoli_info/original_CAI_refset.txt', header=None, names=['locus_tag'])\n",
    "ref_set_seqs = list(df.merge(reference_set_loci, on='locus_tag')['cds_seq'])\n",
    "cai_weights_dict = calculate_codon_weights(ref_set_seqs)"
   ]
  },
  {
   "cell_type": "code",
   "execution_count": 28,
   "metadata": {},
   "outputs": [],
   "source": [
    "cai_vals = []\n",
    "for index in df[df['well_behaved']==True].index:\n",
    "    cds_seq = df.loc[index]['cds_seq']\n",
    "    cai_vals.append(calculate_cai(cds_seq, cai_weights_dict))\n",
    "    \n",
    "df.at[df[df['well_behaved']==True].index, 'CAI'] = cai_vals"
   ]
  },
  {
   "cell_type": "code",
   "execution_count": null,
   "metadata": {},
   "outputs": [],
   "source": []
  },
  {
   "cell_type": "markdown",
   "metadata": {},
   "source": [
    "# Add in knowledge of the `tAI` \n",
    "\n",
    "The so-called `tRNA adaptation index` is a very orthogonal metric that uses knowledge of the tRNA genes contained within the genome of interest to calculate a coding sequence specific metric of adaptation to this hypothetical tRNA pool. To my knowledge it was originally proposed here:\n",
    "https://academic.oup.com/nar/article/32/17/5036/1333956\n",
    "\n",
    "And I am taking the original codon weight values for *E. coli* from here:\n",
    "https://www.pnas.org/content/107/8/3645\n",
    "\n",
    "There was a subsequent re-implementation / variation that I'm also taking data from:\n",
    "https://academic.oup.com/bioinformatics/article/33/4/589/2593585\n",
    "\n",
    "But since that method is woefully inadequate in terms of its accessibility and usability (matlab?!), I'm taking the actual codon-level weights for this variant from yet another publication that (as best as I can tell) simply re-implemented the same basic model with more transparency:\n",
    "https://genominfo.org/journal/view.php?doi=10.5808/GI.2018.16.4.e28\n",
    "\n",
    "This is all a long wind up to say that I should probably re-implement the weight calculations from scratch one day. "
   ]
  },
  {
   "cell_type": "code",
   "execution_count": 29,
   "metadata": {},
   "outputs": [],
   "source": [
    "weights_df1 = pd.read_csv('../Data/ecoli_info/NC_000913.3.original_tAI_weights.csv', header=None)\n",
    "weights_df1 = weights_df1[weights_df1[1].isnull()==False]\n",
    "weights_df1.columns = ['codon', 'value']\n",
    "weights_dict1 = pd.Series(weights_df1['value'].values,index=weights_df1['codon']).to_dict()\n",
    "#\n",
    "weights_df2 = pd.read_csv('../Data/ecoli_info/NC_000913.3.stAIcalc_weights.csv', index_col=0)\n",
    "weights_df2.columns = ['codon', 'value']\n",
    "weights_dict2 = pd.Series(weights_df2['value'].values,index=weights_df2['codon']).to_dict()"
   ]
  },
  {
   "cell_type": "code",
   "execution_count": 30,
   "metadata": {},
   "outputs": [],
   "source": [
    "tai_vals1 = []\n",
    "tai_vals2 = []\n",
    "for index in df[df['well_behaved']==True].index:\n",
    "    cds_seq = df.loc[index]['cds_seq']\n",
    "    codons = tripletize(str(cds_seq))\n",
    "    tempy1 = []\n",
    "    tempy2 = []\n",
    "    for codon in codons:\n",
    "        tempy1.append(weights_dict1.get(codon, None))\n",
    "        tempy2.append(weights_dict2.get(codon, None))\n",
    "    tempy1 = [i for i in tempy1 if i]\n",
    "    tempy2 = [i for i in tempy2 if i]\n",
    "    tai_vals1.append(stats.gmean(tempy1))\n",
    "    tai_vals2.append(stats.gmean(tempy2))\n",
    "\n",
    "df.at[df[df['well_behaved']==True].index, 'tAI'] = tai_vals1\n",
    "df.at[df[df['well_behaved']==True].index, 'stAIcalc'] = tai_vals2"
   ]
  },
  {
   "cell_type": "code",
   "execution_count": null,
   "metadata": {},
   "outputs": [],
   "source": []
  },
  {
   "cell_type": "markdown",
   "metadata": {},
   "source": [
    "# Write data to a file"
   ]
  },
  {
   "cell_type": "code",
   "execution_count": 31,
   "metadata": {},
   "outputs": [],
   "source": [
    "df.to_csv('../Data/ecoli_info/current_ecoli_master_table.tsv', sep='\\t', index=False)"
   ]
  },
  {
   "cell_type": "code",
   "execution_count": null,
   "metadata": {},
   "outputs": [],
   "source": []
  },
  {
   "cell_type": "markdown",
   "metadata": {},
   "source": [
    "# Scratch"
   ]
  },
  {
   "cell_type": "code",
   "execution_count": null,
   "metadata": {},
   "outputs": [],
   "source": []
  },
  {
   "cell_type": "code",
   "execution_count": null,
   "metadata": {},
   "outputs": [],
   "source": []
  }
 ],
 "metadata": {
  "kernelspec": {
   "display_name": "Python 3",
   "language": "python",
   "name": "python3"
  },
  "language_info": {
   "codemirror_mode": {
    "name": "ipython",
    "version": 3
   },
   "file_extension": ".py",
   "mimetype": "text/x-python",
   "name": "python",
   "nbconvert_exporter": "python",
   "pygments_lexer": "ipython3",
   "version": "3.7.7"
  },
  "toc": {
   "colors": {
    "hover_highlight": "#DAA520",
    "navigate_num": "#000000",
    "navigate_text": "#333333",
    "running_highlight": "#FF0000",
    "selected_highlight": "#FFD700",
    "sidebar_border": "#EEEEEE",
    "wrapper_background": "#FFFFFF"
   },
   "moveMenuLeft": true,
   "nav_menu": {
    "height": "30px",
    "width": "252px"
   },
   "navigate_menu": true,
   "number_sections": true,
   "sideBar": true,
   "threshold": 4,
   "toc_cell": false,
   "toc_section_display": "block",
   "toc_window_display": false,
   "widenNotebook": false
  }
 },
 "nbformat": 4,
 "nbformat_minor": 4
}
