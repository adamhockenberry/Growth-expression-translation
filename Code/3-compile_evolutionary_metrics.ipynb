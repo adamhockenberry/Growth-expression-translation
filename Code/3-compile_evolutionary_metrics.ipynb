{
 "cells": [
  {
   "cell_type": "code",
   "execution_count": 1,
   "metadata": {},
   "outputs": [],
   "source": [
    "%matplotlib inline"
   ]
  },
  {
   "cell_type": "code",
   "execution_count": 2,
   "metadata": {},
   "outputs": [],
   "source": [
    "import pandas as pd\n",
    "import numpy as np\n",
    "import glob\n",
    "import tarfile\n",
    "from Bio import SeqIO\n",
    "from scipy import stats\n",
    "import statsmodels.formula.api as smf\n",
    "\n",
    "from matplotlib import pyplot as plt"
   ]
  },
  {
   "cell_type": "markdown",
   "metadata": {},
   "source": [
    "# Making use of Representative Genomes to limit species to include in OMA orthologs\n",
    "\n",
    "See: https://journals.plos.org/plosone/article?id=10.1371/journal.pone.0018910\n",
    "\n",
    "This step was performed manually, using the \"Export marker genes\" functionality of OMA (Jan. 2021, see: https://omabrowser.org/oma/export_markers).\n",
    "\n",
    "Briefly, I selected three datasets: \n",
    "\n",
    "1. From *all* gammaproteobacteria, I used the rgg-15 database\n",
    "2. From Enterobacterales I used the rp75 database\n",
    "3. From Enterobacteriacaea I used the rp75 database\n",
    "\n",
    "In each case, I attempted to manually include every genome listed in the associated rgg database below the indicated taxonomy level. This wasn't always possible due to some database discrepancies but resulted in fairly broad coverage.\n",
    "\n",
    "In each case I exported all marker genes (Maximum nr of markers = -1) and ensured that each ortholog occured in 50% of coverd species (Minimum fraction of covered species: 0.5)"
   ]
  },
  {
   "cell_type": "code",
   "execution_count": null,
   "metadata": {},
   "outputs": [],
   "source": [
    "###CHOOSE ONE\n",
    "\n",
    "###Went through and tried to find all of the genomes present from this set\n",
    "# df = pd.read_csv('../Data/ecoli_info/evolutionary_analysis/rgg-15.txt', sep='\\t',\n",
    "#                  encoding = 'ISO-8859-1', header=None)\n",
    "\n",
    "\n",
    "\n",
    "\n",
    "##For this set I used OMA to first limit taxonomy then for each genus tried to find\n",
    "##species in this dataframe (given that the numbers were so much larger and include\n",
    "##lots of species outside of my planned for taxonomy)\n",
    "# df = pd.read_csv('../Data/ecoli_info/evolutionary_analysis/rgg-75.txt', sep='\\t',\n",
    "#                  encoding = 'ISO-8859-1', header=None)\n",
    "\n",
    "\n",
    "\n",
    "\n",
    "\n",
    "# print(df.shape)\n",
    "# df = df[df[0].str[0]=='>']\n",
    "# print(df.shape)\n",
    "# df = df[df[8] == 'Bac/Gamma-proteo']\n",
    "# print(df.shape)\n",
    "# df = df[df[6] != '9GAMM']\n",
    "# print(df.shape)\n",
    "# df.head()"
   ]
  },
  {
   "cell_type": "markdown",
   "metadata": {},
   "source": [
    "**Manually looking for certain names in the rgg database, used when finding species to include in the Enterobacterales and Enterobactericaea clades**"
   ]
  },
  {
   "cell_type": "code",
   "execution_count": null,
   "metadata": {},
   "outputs": [],
   "source": [
    "# for i in df.index:\n",
    "#     if 'Escherichia' in df.loc[i][4]:\n",
    "#         print(df.loc[i][4], '*****', df.loc[i][6])\n",
    "# #     print(df.loc[i][4], '*****', df.loc[i][6])"
   ]
  },
  {
   "cell_type": "code",
   "execution_count": null,
   "metadata": {},
   "outputs": [],
   "source": []
  },
  {
   "cell_type": "markdown",
   "metadata": {},
   "source": [
    "# Selecting group and species sets to move forward with\n",
    "\n",
    "Parse through the downloaded orthologs and try to find a more limited set of: \n",
    "\n",
    "1. species and \n",
    "2. ortholog families\n",
    "\n",
    "to move forward with that would ensure relatively similar trees.\n",
    "\n",
    "This code won't run right now because I've chosen to zip up the files into a `.tar.gz` file. So this code was run once for each dataset and should be considered \"complete\""
   ]
  },
  {
   "cell_type": "code",
   "execution_count": null,
   "metadata": {},
   "outputs": [],
   "source": [
    "# from collections import Counter, defaultdict\n",
    "# import gzip\n",
    "# import subprocess"
   ]
  },
  {
   "cell_type": "code",
   "execution_count": null,
   "metadata": {},
   "outputs": [],
   "source": [
    "# # data_loc = '../Data/ecoli_info/evolutionary_analysis/marker_genes_rp15_gammaproteobacteria/'\n",
    "# # data_loc = '../Data/ecoli_info/evolutionary_analysis/marker_genes_rp75_enterobacterales/'\n",
    "# data_loc = '../Data/ecoli_info/evolutionary_analysis/marker_genes_rp75_enterobacteriacaea/'\n",
    "# # data_loc = '../Data/ecoli_info/evolutionary_analysis/marker_genes_rp75_escherichia/'\n",
    "\n",
    "# fasta_files = glob.glob(data_loc + '*.fa')\n",
    "# print(len(fasta_files))"
   ]
  },
  {
   "cell_type": "markdown",
   "metadata": {},
   "source": [
    "**First getting the number of genes per genome, and removing genomes with too few hits**"
   ]
  },
  {
   "cell_type": "code",
   "execution_count": null,
   "metadata": {},
   "outputs": [],
   "source": [
    "# ###Dictionary to hold hit counts per species\n",
    "# species_count_dict = defaultdict(int)\n",
    "\n",
    "# for fasta_file in fasta_files[:]:\n",
    "#     records = list(SeqIO.parse(fasta_file, 'fasta'))\n",
    "#     ids = [record.id[:5] for record in records]\n",
    "#     id_counter = Counter(ids)\n",
    "#     for single_id in id_counter:\n",
    "#         species_count_dict[single_id]+=1\n",
    "        \n",
    "# temp_items = species_count_dict.items()\n",
    "# listy = sorted(temp_items, key=lambda x: x[1])\n",
    "# max_val = listy[-1][1] ###Identify the largest number of hits\n",
    "# to_delete = [i[0] for i in listy if i[1] < max_val*0.8] ###Remove species below this threshold\n",
    "# print('Species to remove:', to_delete)\n",
    "# valid_species = [i[0] for i in listy if i[0] not in to_delete]\n",
    "# valid_species_count = len(valid_species)\n",
    "# print('Number of species to keep:', valid_species_count)"
   ]
  },
  {
   "cell_type": "markdown",
   "metadata": {},
   "source": [
    "**Given the newly limited set of species, identify high coverage ortholog families (i.e. those with representatives in most genomes**"
   ]
  },
  {
   "cell_type": "code",
   "execution_count": null,
   "metadata": {},
   "outputs": [],
   "source": [
    "# ###What I ultimately wish to keep\n",
    "# valid_fasta_files = []\n",
    "\n",
    "# ###Dictionary to hold hit counts per genome set\n",
    "# og_count_dict = defaultdict(int)\n",
    "# for fasta_file in fasta_files[:]:\n",
    "#     records = list(SeqIO.parse(fasta_file, 'fasta'))\n",
    "#     ids = [record.id[:5] for record in records]\n",
    "    \n",
    "#     ###Select only from the valid species list\n",
    "#     ids = sorted([single_id for single_id in ids if single_id not in to_delete])\n",
    "#     if len(ids) < valid_species_count * 0.8: ###Remove orthologs below this threshold\n",
    "#         continue\n",
    "#     valid_fasta_files.append(fasta_file)\n",
    "    \n",
    "#     ###Putting together the genome set for the ortholog\n",
    "#     long_id = '_%_'.join(ids)\n",
    "#     og_count_dict[long_id] += 1\n",
    "    \n",
    "# print(np.sum(list(og_count_dict.values())))\n",
    "# print(len(valid_fasta_files))"
   ]
  },
  {
   "cell_type": "markdown",
   "metadata": {},
   "source": [
    "**Inspecting the genome set hits (solely as a check / out of curiosity)**"
   ]
  },
  {
   "cell_type": "code",
   "execution_count": null,
   "metadata": {},
   "outputs": [],
   "source": [
    "# temp_items = og_count_dict.items()\n",
    "# listy = sorted(temp_items, key=lambda x: x[1], reverse=True)\n",
    "# for i in listy[:5]:\n",
    "#     print(i)\n",
    "#     print()"
   ]
  },
  {
   "cell_type": "markdown",
   "metadata": {},
   "source": [
    "**Write \\*new\\* ortholog fasta files for the ortholog families that passed the test and limit these files to include only the valid set of genomes. Place in a new folder**"
   ]
  },
  {
   "cell_type": "code",
   "execution_count": null,
   "metadata": {},
   "outputs": [],
   "source": [
    "# for fasta_file in valid_fasta_files:\n",
    "#     print(fasta_file)\n",
    "#     records = list(SeqIO.parse(fasta_file, 'fasta'))\n",
    "#     records = [record for record in records if record.id[:5] in valid_species]\n",
    "#     with open(fasta_file.replace('marker_genes_', ''), 'w') as outfile:\n",
    "#         SeqIO.write(records, outfile, 'fasta')"
   ]
  },
  {
   "cell_type": "markdown",
   "metadata": {},
   "source": [
    "**Make sure that I have the coding sequences that I need on hand. These are going to be extracted from the humongous OMA groups cdna file for the species that I care about**"
   ]
  },
  {
   "cell_type": "code",
   "execution_count": null,
   "metadata": {},
   "outputs": [],
   "source": [
    "# out_dir = '../Data/ecoli_info/evolutionary_analysis/CODING_SEQUENCES/'\n",
    "\n",
    "# ###Make sure that I don't repeat species since this takes some time to run\n",
    "# finished_species = [i.split('/')[-1][:-10] for i in glob.glob(out_dir+'*')]\n",
    "# print('Finished species:\\n', finished_species)\n",
    "# print()\n",
    "# species_to_write = [i for i in valid_species if i not in finished_species]\n",
    "# print('New species to write:\\n', species_to_write)"
   ]
  },
  {
   "cell_type": "markdown",
   "metadata": {},
   "source": [
    "**Slowly iterate through the huge cDNA file and for every record see if it's in the species list that I care about, if so... save it in a dictionary and at the end write each new file**"
   ]
  },
  {
   "cell_type": "code",
   "execution_count": null,
   "metadata": {},
   "outputs": [],
   "source": [
    "# if species_to_write != []:\n",
    "#     cds_dicty = defaultdict(dict)\n",
    "#     with gzip.open('../Data/ecoli_info/evolutionary_analysis/prokaryotes.cdna.fa.gz', 'rt') as infile:\n",
    "#         for record in SeqIO.parse(infile, 'fasta'):\n",
    "#             if record.id[:5] not in species_to_write:\n",
    "#                 continue\n",
    "#             cds_dicty[record.id[:5]][record.id] = record\n",
    "#     for key, seq_dict in cds_dicty.items():\n",
    "#         fname = '../Data/ecoli_info/evolutionary_analysis/CODING_SEQUENCES/{}.cds.fasta'.format(key)\n",
    "#         with open(fname, 'w') as outfile:\n",
    "#             SeqIO.write(list(seq_dict.values()), outfile, 'fasta')"
   ]
  },
  {
   "cell_type": "code",
   "execution_count": null,
   "metadata": {},
   "outputs": [],
   "source": []
  },
  {
   "cell_type": "markdown",
   "metadata": {},
   "source": [
    "# Create corresponding CDS files for each OMA aa file\n",
    "\n",
    "Similar to above, I've subsequently zipped all these files up so this code won't currently run but was how I compiled everything."
   ]
  },
  {
   "cell_type": "code",
   "execution_count": null,
   "metadata": {},
   "outputs": [],
   "source": [
    "# all_cds_seqs = {}\n",
    "# for genome_file in glob.glob('../Data/ecoli_info/evolutionary_analysis/CODING_SEQUENCES/*.cds.fasta'):\n",
    "#     records = SeqIO.parse(genome_file, 'fasta')\n",
    "#     for record in records:\n",
    "#         all_cds_seqs[record.id] = record\n",
    "# print(len(all_cds_seqs.keys()))"
   ]
  },
  {
   "cell_type": "code",
   "execution_count": null,
   "metadata": {},
   "outputs": [],
   "source": [
    "# good_files = glob.glob(data_loc.replace('marker_genes_', '')+'*.fa')\n",
    "# print('Number of amino acid fasta files to work with:', len(good_files))\n",
    "# for fa_file in good_files[:]:\n",
    "#     aa_records = list(SeqIO.parse(fa_file, 'fasta'))\n",
    "#     cds_records = [all_cds_seqs[record.id] for record in aa_records]\n",
    "#     assert len(aa_records) == len(cds_records) ###Make sure no errors popped up\n",
    "#     with open(fa_file.replace('.fa', '.cds.fna'), 'w') as outfile:\n",
    "#         for i, record in enumerate(aa_records):\n",
    "#             outfile.write('>{}\\n'.format(record.description))\n",
    "#             outfile.write('{}\\n'.format(str(cds_records[i].seq)))"
   ]
  },
  {
   "cell_type": "markdown",
   "metadata": {},
   "source": [
    "# Run MAFFT to align amino acid sequences\n",
    "\n",
    "Just doing a basic MAFFT analysis, could consider some more intense parameters at some point"
   ]
  },
  {
   "cell_type": "code",
   "execution_count": null,
   "metadata": {},
   "outputs": [],
   "source": [
    "# for fa_file in good_files:\n",
    "#     aligned_file = fa_file.replace('.fa', '.aln')\n",
    "#     subprocess.call('mafft {} > {}'.format(fa_file, aligned_file), shell=True)"
   ]
  },
  {
   "cell_type": "markdown",
   "metadata": {},
   "source": [
    "# Get nucleotide alignments from aligned amino acid sequences and raw nucleotide sequences using `pal2nal`.\n",
    "\n",
    "I thought about doing this manually before, but seems like this program is pretty standard?"
   ]
  },
  {
   "cell_type": "code",
   "execution_count": null,
   "metadata": {},
   "outputs": [],
   "source": [
    "# print(len(good_files))\n",
    "# for fa_file in good_files[:]:\n",
    "#     aln_file = fa_file.replace('.fa', '.aln')\n",
    "#     cds_file = fa_file.replace('.fa', '.cds.fna')\n",
    "#     cds_align = cds_file.replace('.fna', '.aln')\n",
    "#     with open(cds_align, 'w') as outfile:\n",
    "#         subprocess.call('~/workspace/pal2nal/pal2nal.pl -output fasta -nostderr {} {}'.format(aln_file, cds_file),\n",
    "#                         stdout=outfile,\n",
    "#                         shell=True)"
   ]
  },
  {
   "cell_type": "markdown",
   "metadata": {},
   "source": [
    "**Remove X's so that codeml actually runs**"
   ]
  },
  {
   "cell_type": "code",
   "execution_count": null,
   "metadata": {},
   "outputs": [],
   "source": [
    "# for fna_file in glob.glob(data_loc.replace('marker_genes_', '') + '*.cds.aln'):\n",
    "#     new_ids = []\n",
    "#     new_seqs = []\n",
    "#     records = SeqIO.parse(fna_file, 'fasta')\n",
    "#     for record in records:\n",
    "#         new_ids.append(record.id)\n",
    "#         if 'X' in str(record.seq):\n",
    "#             new_seqs.append(str(record.seq).replace('X', '-'))\n",
    "#         else:\n",
    "#             new_seqs.append(str(record.seq))\n",
    "#     with open(fna_file, 'w') as outfile:\n",
    "#         for i,j in zip(new_ids, new_seqs):\n",
    "#             outfile.write('>{}\\n{}\\n'.format(i, j))"
   ]
  },
  {
   "cell_type": "code",
   "execution_count": null,
   "metadata": {},
   "outputs": [],
   "source": []
  },
  {
   "cell_type": "markdown",
   "metadata": {},
   "source": [
    "# Run FastTree to make some trees from the amino acid sequences\n",
    "\n",
    "Note the `-nosupport` flag.\n",
    "\n",
    "I think it's better to make / use amino acid trees rather than the nucleotide level trees. Also note that I construct gene trees rather than doing a concatenated analysis and creating a large species tree (which is something that I could consider given the large number of orthologs that appear in all genomes that I selected, regardless of dataset). "
   ]
  },
  {
   "cell_type": "code",
   "execution_count": null,
   "metadata": {},
   "outputs": [],
   "source": [
    "# for fa_file in good_files[:]:\n",
    "#     print(fa_file)\n",
    "#     aln_file = fa_file.replace('.fa', '.aln')\n",
    "#     tree_file = fa_file.replace('.fa', '.newick')\n",
    "#     with open(tree_file, 'w') as outfile:\n",
    "#         subprocess.call('~/workspace/FastTree/FastTree -nosupport -lg {}'.format(aln_file),\n",
    "#                         stdout=outfile,\n",
    "#                         shell=True)"
   ]
  },
  {
   "cell_type": "code",
   "execution_count": null,
   "metadata": {},
   "outputs": [],
   "source": []
  },
  {
   "cell_type": "markdown",
   "metadata": {},
   "source": [
    "# Offline: run programs to get evolutionary rates!\n",
    "\n",
    "This is the payoff but also a real treat, given that both programs are astonishingly opaque and difficult to work with. I separately considered both `hyphy` and `codeml` (from `paml`). \n",
    "\n",
    "For `hyphy`, this is a pretty nice resource: https://stevenweaver.github.io/hyphy-site/tutorials/current-release-tutorial/ but note that the actual terminal level commands end up looking like this:\n",
    "`(echo 5; echo 1; echo 1; echo /ABSOLUTE/PATH/TO/ALIGNMENT.CDS.ALN; echo MG94CUSTOMCF3X4; echo 2; echo 012345; echo /ABSOLUTE/PATH/TO/TREE.NEWICK; echo 1) | hyphy | tail -n 11 | head -n 9 > output.txt`\n",
    "\n",
    "All of the `echo`-ing is to avoid the interactive interface, and the `tail` to `head` to output is all just to get a simple and clean output file that I can parse. \n",
    "\n",
    "For the purposes of this project I ran all of this code on our local cluster using include `.py` scripts in the folder `cluster_scripts/`."
   ]
  },
  {
   "cell_type": "code",
   "execution_count": null,
   "metadata": {},
   "outputs": [],
   "source": []
  },
  {
   "cell_type": "markdown",
   "metadata": {},
   "source": [
    "# Read all dn_ds files and construct relevant columns\n",
    "\n",
    "Trying to test here how reliable these values are, which program seems best, and which dataset is most appropriate in terms of the scope of studying evolutionary rate."
   ]
  },
  {
   "cell_type": "markdown",
   "metadata": {},
   "source": [
    "## First trying to get a mapping of OMA groups to *E. coli* \"bxxxx numbers\""
   ]
  },
  {
   "cell_type": "code",
   "execution_count": null,
   "metadata": {},
   "outputs": [
    {
     "data": {
      "text/html": [
       "<div>\n",
       "<style scoped>\n",
       "    .dataframe tbody tr th:only-of-type {\n",
       "        vertical-align: middle;\n",
       "    }\n",
       "\n",
       "    .dataframe tbody tr th {\n",
       "        vertical-align: top;\n",
       "    }\n",
       "\n",
       "    .dataframe thead th {\n",
       "        text-align: right;\n",
       "    }\n",
       "</style>\n",
       "<table border=\"1\" class=\"dataframe\">\n",
       "  <thead>\n",
       "    <tr style=\"text-align: right;\">\n",
       "      <th></th>\n",
       "      <th>locus_tag</th>\n",
       "      <th>gene</th>\n",
       "      <th>start_loc</th>\n",
       "      <th>stop_loc</th>\n",
       "      <th>strand</th>\n",
       "      <th>cds_seq</th>\n",
       "      <th>us_seq</th>\n",
       "      <th>cds_len</th>\n",
       "      <th>well_behaved</th>\n",
       "      <th>GC_percent_cds</th>\n",
       "      <th>roc_semppr_mean</th>\n",
       "      <th>iCUB</th>\n",
       "      <th>CAI</th>\n",
       "      <th>tAI</th>\n",
       "      <th>stAIcalc</th>\n",
       "    </tr>\n",
       "  </thead>\n",
       "  <tbody>\n",
       "    <tr>\n",
       "      <th>0</th>\n",
       "      <td>b0001</td>\n",
       "      <td>thrL</td>\n",
       "      <td>189</td>\n",
       "      <td>255</td>\n",
       "      <td>+</td>\n",
       "      <td>ATGAAACGCATTAGCACCACCATTACCACCACCATCACCATTACCA...</td>\n",
       "      <td>CAGATAAAAATTACAGAGTACACAACATCC</td>\n",
       "      <td>66</td>\n",
       "      <td>True</td>\n",
       "      <td>0.515152</td>\n",
       "      <td>1.244106</td>\n",
       "      <td>32.046035</td>\n",
       "      <td>0.617266</td>\n",
       "      <td>0.262286</td>\n",
       "      <td>0.258417</td>\n",
       "    </tr>\n",
       "    <tr>\n",
       "      <th>1</th>\n",
       "      <td>b0002</td>\n",
       "      <td>thrA</td>\n",
       "      <td>336</td>\n",
       "      <td>2799</td>\n",
       "      <td>+</td>\n",
       "      <td>ATGCGAGTGTTGAAGTTCGGCGGTACATCAGTGGCAAATGCAGAAC...</td>\n",
       "      <td>TTTTCGACCAAAGGTAACGAGGTAACAACC</td>\n",
       "      <td>2463</td>\n",
       "      <td>True</td>\n",
       "      <td>0.530654</td>\n",
       "      <td>1.034078</td>\n",
       "      <td>55.949262</td>\n",
       "      <td>0.353246</td>\n",
       "      <td>0.230564</td>\n",
       "      <td>0.216862</td>\n",
       "    </tr>\n",
       "    <tr>\n",
       "      <th>2</th>\n",
       "      <td>b0003</td>\n",
       "      <td>thrB</td>\n",
       "      <td>2800</td>\n",
       "      <td>3733</td>\n",
       "      <td>+</td>\n",
       "      <td>ATGGTTAAAGTTTATGCCCCGGCTTCCAGTGCCAATATGAGCGTCG...</td>\n",
       "      <td>GTACCCTCTCATGGAAGTTAGGAGTCTGAC</td>\n",
       "      <td>933</td>\n",
       "      <td>True</td>\n",
       "      <td>0.562701</td>\n",
       "      <td>0.994168</td>\n",
       "      <td>56.062386</td>\n",
       "      <td>0.357812</td>\n",
       "      <td>0.216292</td>\n",
       "      <td>0.210420</td>\n",
       "    </tr>\n",
       "    <tr>\n",
       "      <th>3</th>\n",
       "      <td>b0004</td>\n",
       "      <td>thrC</td>\n",
       "      <td>3733</td>\n",
       "      <td>5020</td>\n",
       "      <td>+</td>\n",
       "      <td>ATGAAACTCTACAATCTGAAAGATCACAACGAGCAGGTCAGCTTTG...</td>\n",
       "      <td>ACGGCGGGCGCACGAGTACTGGAAAACTAA</td>\n",
       "      <td>1287</td>\n",
       "      <td>True</td>\n",
       "      <td>0.528361</td>\n",
       "      <td>1.176750</td>\n",
       "      <td>53.052776</td>\n",
       "      <td>0.394675</td>\n",
       "      <td>0.231407</td>\n",
       "      <td>0.209784</td>\n",
       "    </tr>\n",
       "    <tr>\n",
       "      <th>4</th>\n",
       "      <td>b0005</td>\n",
       "      <td>yaaX</td>\n",
       "      <td>5233</td>\n",
       "      <td>5530</td>\n",
       "      <td>+</td>\n",
       "      <td>GTGAAAAAGATGCAATCTATCGTACTCGCACTTTCCCTGGTTCTGG...</td>\n",
       "      <td>CATAACGGGCAATGATAAAAGGAGTAACCT</td>\n",
       "      <td>297</td>\n",
       "      <td>True</td>\n",
       "      <td>0.538721</td>\n",
       "      <td>0.837528</td>\n",
       "      <td>50.705530</td>\n",
       "      <td>0.374371</td>\n",
       "      <td>0.197715</td>\n",
       "      <td>0.208944</td>\n",
       "    </tr>\n",
       "  </tbody>\n",
       "</table>\n",
       "</div>"
      ],
      "text/plain": [
       "  locus_tag  gene  start_loc  stop_loc strand  \\\n",
       "0     b0001  thrL        189       255      +   \n",
       "1     b0002  thrA        336      2799      +   \n",
       "2     b0003  thrB       2800      3733      +   \n",
       "3     b0004  thrC       3733      5020      +   \n",
       "4     b0005  yaaX       5233      5530      +   \n",
       "\n",
       "                                             cds_seq  \\\n",
       "0  ATGAAACGCATTAGCACCACCATTACCACCACCATCACCATTACCA...   \n",
       "1  ATGCGAGTGTTGAAGTTCGGCGGTACATCAGTGGCAAATGCAGAAC...   \n",
       "2  ATGGTTAAAGTTTATGCCCCGGCTTCCAGTGCCAATATGAGCGTCG...   \n",
       "3  ATGAAACTCTACAATCTGAAAGATCACAACGAGCAGGTCAGCTTTG...   \n",
       "4  GTGAAAAAGATGCAATCTATCGTACTCGCACTTTCCCTGGTTCTGG...   \n",
       "\n",
       "                           us_seq  cds_len  well_behaved  GC_percent_cds  \\\n",
       "0  CAGATAAAAATTACAGAGTACACAACATCC       66          True        0.515152   \n",
       "1  TTTTCGACCAAAGGTAACGAGGTAACAACC     2463          True        0.530654   \n",
       "2  GTACCCTCTCATGGAAGTTAGGAGTCTGAC      933          True        0.562701   \n",
       "3  ACGGCGGGCGCACGAGTACTGGAAAACTAA     1287          True        0.528361   \n",
       "4  CATAACGGGCAATGATAAAAGGAGTAACCT      297          True        0.538721   \n",
       "\n",
       "   roc_semppr_mean       iCUB       CAI       tAI  stAIcalc  \n",
       "0         1.244106  32.046035  0.617266  0.262286  0.258417  \n",
       "1         1.034078  55.949262  0.353246  0.230564  0.216862  \n",
       "2         0.994168  56.062386  0.357812  0.216292  0.210420  \n",
       "3         1.176750  53.052776  0.394675  0.231407  0.209784  \n",
       "4         0.837528  50.705530  0.374371  0.197715  0.208944  "
      ]
     },
     "execution_count": 3,
     "metadata": {},
     "output_type": "execute_result"
    }
   ],
   "source": [
    "master_df = pd.read_csv('../Data/ecoli_info/current_ecoli_master_table.tsv', sep='\\t')\n",
    "master_df.shape\n",
    "master_df.head()"
   ]
  },
  {
   "cell_type": "code",
   "execution_count": null,
   "metadata": {},
   "outputs": [
    {
     "name": "stdout",
     "output_type": "stream",
     "text": [
      "1982\n",
      "2372\n"
     ]
    }
   ],
   "source": [
    "ecoli_seq_dict = {}     \n",
    "\n",
    "# base_dirs = ['../Data/ecoli_info/evolutionary_analysis/rp15_gammaproteobacteria',\n",
    "#              '../Data/ecoli_info/evolutionary_analysis/rp75_enterobacterales',\n",
    "#              '../Data/ecoli_info/evolutionary_analysis/rp75_enterobacteriacaea',\n",
    "#              '../Data/ecoli_info/evolutionary_analysis/rp75_escherichia']\n",
    "base_dirs = ['../Data/ecoli_info/evolutionary_analysis/rp75_enterobacterales',\n",
    "             '../Data/ecoli_info/evolutionary_analysis/rp75_enterobacteriacaea']\n",
    "\n",
    "for base_dir in base_dirs:\n",
    "    tar_fname = base_dir + '/OMAGroup_cds_fna_files.tar.gz'\n",
    "    try:\n",
    "        t = tarfile.open(tar_fname, 'r')\n",
    "    except IOError as e:\n",
    "        print(e)\n",
    "\n",
    "    for infile in t.getmembers():\n",
    "        oma_name = infile.name.split('/')[-1].split('.')[0]\n",
    "        if oma_name in list(ecoli_seq_dict.keys()):\n",
    "            continue\n",
    "        records = t.extractfile(infile).read().decode(\"utf-8\")\n",
    "        records = records.split('\\n')\n",
    "        for i, record in enumerate(records):\n",
    "            if record[:6] == '>ECOLI':\n",
    "                ecoli_seq_dict[oma_name] = records[i+1].replace('-','')\n",
    "    print(len(ecoli_seq_dict.keys()))\n",
    "    t.close()"
   ]
  },
  {
   "cell_type": "code",
   "execution_count": 5,
   "metadata": {},
   "outputs": [
    {
     "name": "stdout",
     "output_type": "stream",
     "text": [
      "2365\n"
     ]
    }
   ],
   "source": [
    "ecoli_oma_to_bnumber = {}\n",
    "for name, seq in ecoli_seq_dict.items():\n",
    "    temp = master_df[master_df['cds_seq'] == seq]\n",
    "    if temp.shape[0] == 1:\n",
    "        ecoli_oma_to_bnumber[name] = temp.iloc[0]['locus_tag']\n",
    "print(len(ecoli_oma_to_bnumber.keys()))"
   ]
  },
  {
   "cell_type": "markdown",
   "metadata": {},
   "source": [
    "## Now extract `hyphy` results\n",
    "\n",
    "As best as I can tell, the only real interesting number I can get from `hyphy` is a `dn/ds` type metric (denoted `R`) rather than separate measurements of `dn` and `ds`"
   ]
  },
  {
   "cell_type": "markdown",
   "metadata": {},
   "source": [
    "**Instantiate an empty dataframe that will hold *all* rate results**"
   ]
  },
  {
   "cell_type": "code",
   "execution_count": 6,
   "metadata": {},
   "outputs": [],
   "source": [
    "res_df = pd.DataFrame(list(ecoli_oma_to_bnumber.values()))\n",
    "res_df.columns = ['locus_tag']"
   ]
  },
  {
   "cell_type": "markdown",
   "metadata": {},
   "source": [
    "**Now add the various `hyphy` columns**"
   ]
  },
  {
   "cell_type": "code",
   "execution_count": 7,
   "metadata": {},
   "outputs": [],
   "source": [
    "for base_dir in base_dirs:\n",
    "    names = []\n",
    "    rates = []\n",
    "    tar_fname = base_dir + '/OMAGroup_hyphy_files.tar.gz'\n",
    "    try:\n",
    "        t = tarfile.open(tar_fname, 'r')\n",
    "    except IOError as e:\n",
    "        print(e)\n",
    "\n",
    "    for infile in t.getmembers()[:]:\n",
    "        oma_name = infile.name.split('/')[-1].split('.')[0]\n",
    "        try:\n",
    "            eco_name = ecoli_oma_to_bnumber[oma_name]\n",
    "        except KeyError:\n",
    "            continue\n",
    "        df = pd.read_csv(t.extractfile(infile.name), skiprows=3, header=None, sep='=', index_col=0)\n",
    "        rate = float(df.loc['R'][1].strip(';'))\n",
    "        rates.append(rate)\n",
    "        names.append(eco_name)\n",
    "    temp_df = pd.DataFrame(zip(names, rates))\n",
    "    temp_df.columns = ['locus_tag', 'hyphy_{}'.format(base_dir.split('/')[-1])]\n",
    "    res_df = res_df.merge(temp_df, on='locus_tag', how='left')\n",
    "    t.close()"
   ]
  },
  {
   "cell_type": "code",
   "execution_count": 8,
   "metadata": {},
   "outputs": [
    {
     "name": "stdout",
     "output_type": "stream",
     "text": [
      "(2365, 3)\n"
     ]
    },
    {
     "data": {
      "text/html": [
       "<div>\n",
       "<style scoped>\n",
       "    .dataframe tbody tr th:only-of-type {\n",
       "        vertical-align: middle;\n",
       "    }\n",
       "\n",
       "    .dataframe tbody tr th {\n",
       "        vertical-align: top;\n",
       "    }\n",
       "\n",
       "    .dataframe thead th {\n",
       "        text-align: right;\n",
       "    }\n",
       "</style>\n",
       "<table border=\"1\" class=\"dataframe\">\n",
       "  <thead>\n",
       "    <tr style=\"text-align: right;\">\n",
       "      <th></th>\n",
       "      <th>locus_tag</th>\n",
       "      <th>hyphy_rp75_enterobacterales</th>\n",
       "      <th>hyphy_rp75_enterobacteriacaea</th>\n",
       "    </tr>\n",
       "  </thead>\n",
       "  <tbody>\n",
       "    <tr>\n",
       "      <th>0</th>\n",
       "      <td>b3242</td>\n",
       "      <td>0.061857</td>\n",
       "      <td>0.041733</td>\n",
       "    </tr>\n",
       "    <tr>\n",
       "      <th>1</th>\n",
       "      <td>b3847</td>\n",
       "      <td>0.068649</td>\n",
       "      <td>0.044641</td>\n",
       "    </tr>\n",
       "    <tr>\n",
       "      <th>2</th>\n",
       "      <td>b3712</td>\n",
       "      <td>0.112357</td>\n",
       "      <td>0.107174</td>\n",
       "    </tr>\n",
       "    <tr>\n",
       "      <th>3</th>\n",
       "      <td>b2216</td>\n",
       "      <td>0.120750</td>\n",
       "      <td>0.101621</td>\n",
       "    </tr>\n",
       "    <tr>\n",
       "      <th>4</th>\n",
       "      <td>b1834</td>\n",
       "      <td>0.084874</td>\n",
       "      <td>0.064982</td>\n",
       "    </tr>\n",
       "  </tbody>\n",
       "</table>\n",
       "</div>"
      ],
      "text/plain": [
       "  locus_tag  hyphy_rp75_enterobacterales  hyphy_rp75_enterobacteriacaea\n",
       "0     b3242                     0.061857                       0.041733\n",
       "1     b3847                     0.068649                       0.044641\n",
       "2     b3712                     0.112357                       0.107174\n",
       "3     b2216                     0.120750                       0.101621\n",
       "4     b1834                     0.084874                       0.064982"
      ]
     },
     "execution_count": 8,
     "metadata": {},
     "output_type": "execute_result"
    }
   ],
   "source": [
    "print(res_df.shape)\n",
    "res_df.head()"
   ]
  },
  {
   "cell_type": "code",
   "execution_count": null,
   "metadata": {},
   "outputs": [],
   "source": []
  },
  {
   "cell_type": "markdown",
   "metadata": {},
   "source": [
    "## Next read `codeml` outputs and construct rate column/s\n",
    "\n",
    "This code runs really slow on the larger `.tar.gz` files, not sure what's going on but it completes. And I'm running it once or twice at best and saving the results. So can investigate why some other time. \n",
    "\n",
    "Note that for `codeml` I believe there are equivalent `dn`, `ds`, and `dn/ds` values to be extracted. I'm still taking alignment-wide values rather than trying to isolate the *E. coli* clade. "
   ]
  },
  {
   "cell_type": "code",
   "execution_count": 9,
   "metadata": {},
   "outputs": [
    {
     "name": "stdout",
     "output_type": "stream",
     "text": [
      "(2365, 6)\n",
      "(2365, 9)\n"
     ]
    }
   ],
   "source": [
    "for base_dir in base_dirs:\n",
    "    names = []\n",
    "    dn_vals = []\n",
    "    ds_vals = []\n",
    "    dn_ds_vals = []\n",
    "\n",
    "    tar_fname = base_dir + '/OMAGroup_codeml_files.tar.gz'\n",
    "    try:\n",
    "        t = tarfile.open(tar_fname, 'r')\n",
    "    except IOError as e:\n",
    "        print(e)\n",
    "\n",
    "    for infile in t.getmembers()[:]:\n",
    "        oma_name = infile.name.split('/')[-1].split('.')[0]\n",
    "        try:\n",
    "            eco_name = ecoli_oma_to_bnumber[oma_name]\n",
    "        except KeyError:\n",
    "            continue\n",
    "        lines = t.extractfile(infile.name).read().decode('utf-8')\n",
    "        lines = lines.split('\\n')\n",
    "        for i, line in enumerate(lines):\n",
    "            if 'dN & dS for each branch' == line:\n",
    "                df = pd.DataFrame([temp_line.split() for temp_line in lines[i+4:-7]])\n",
    "                df.columns = lines[i+2].split()\n",
    "                names.append(eco_name)\n",
    "                for col_name in ['dN', 'dS', 'dN/dS']:\n",
    "                    df[col_name] = df[col_name].astype(float)\n",
    "                dn_vals.append(df['dN'].mean())\n",
    "                ds_vals.append(df['dS'].mean())\n",
    "                dn_ds_vals.append(df['dN/dS'].mean())\n",
    "                break\n",
    "    temp_df = pd.DataFrame(zip(names, dn_vals, ds_vals, dn_ds_vals))\n",
    "    temp_df.columns = ['locus_tag',\n",
    "                      'codeml_dn_{}'.format(base_dir.split('/')[-1]),\n",
    "                      'codeml_ds_{}'.format(base_dir.split('/')[-1]),\n",
    "                      'codeml_dnds_{}'.format(base_dir.split('/')[-1])]\n",
    "    res_df = res_df.merge(temp_df, on='locus_tag', how='left')\n",
    "    t.close()\n",
    "    print(res_df.shape)"
   ]
  },
  {
   "cell_type": "code",
   "execution_count": 10,
   "metadata": {},
   "outputs": [
    {
     "name": "stdout",
     "output_type": "stream",
     "text": [
      "(2365, 9)\n"
     ]
    },
    {
     "data": {
      "text/html": [
       "<div>\n",
       "<style scoped>\n",
       "    .dataframe tbody tr th:only-of-type {\n",
       "        vertical-align: middle;\n",
       "    }\n",
       "\n",
       "    .dataframe tbody tr th {\n",
       "        vertical-align: top;\n",
       "    }\n",
       "\n",
       "    .dataframe thead th {\n",
       "        text-align: right;\n",
       "    }\n",
       "</style>\n",
       "<table border=\"1\" class=\"dataframe\">\n",
       "  <thead>\n",
       "    <tr style=\"text-align: right;\">\n",
       "      <th></th>\n",
       "      <th>locus_tag</th>\n",
       "      <th>hyphy_rp75_enterobacterales</th>\n",
       "      <th>hyphy_rp75_enterobacteriacaea</th>\n",
       "      <th>codeml_dn_rp75_enterobacterales</th>\n",
       "      <th>codeml_ds_rp75_enterobacterales</th>\n",
       "      <th>codeml_dnds_rp75_enterobacterales</th>\n",
       "      <th>codeml_dn_rp75_enterobacteriacaea</th>\n",
       "      <th>codeml_ds_rp75_enterobacteriacaea</th>\n",
       "      <th>codeml_dnds_rp75_enterobacteriacaea</th>\n",
       "    </tr>\n",
       "  </thead>\n",
       "  <tbody>\n",
       "    <tr>\n",
       "      <th>0</th>\n",
       "      <td>b3242</td>\n",
       "      <td>0.061857</td>\n",
       "      <td>0.041733</td>\n",
       "      <td>0.019432</td>\n",
       "      <td>0.430200</td>\n",
       "      <td>0.0452</td>\n",
       "      <td>0.008914</td>\n",
       "      <td>0.254165</td>\n",
       "      <td>0.0351</td>\n",
       "    </tr>\n",
       "    <tr>\n",
       "      <th>1</th>\n",
       "      <td>b3847</td>\n",
       "      <td>0.068649</td>\n",
       "      <td>0.044641</td>\n",
       "      <td>0.018641</td>\n",
       "      <td>0.286941</td>\n",
       "      <td>0.0649</td>\n",
       "      <td>0.007812</td>\n",
       "      <td>0.193456</td>\n",
       "      <td>0.0404</td>\n",
       "    </tr>\n",
       "    <tr>\n",
       "      <th>2</th>\n",
       "      <td>b3712</td>\n",
       "      <td>0.112357</td>\n",
       "      <td>0.107174</td>\n",
       "      <td>0.062285</td>\n",
       "      <td>0.573070</td>\n",
       "      <td>0.1087</td>\n",
       "      <td>0.037463</td>\n",
       "      <td>0.365068</td>\n",
       "      <td>0.1026</td>\n",
       "    </tr>\n",
       "    <tr>\n",
       "      <th>3</th>\n",
       "      <td>b2216</td>\n",
       "      <td>0.120750</td>\n",
       "      <td>0.101621</td>\n",
       "      <td>0.044529</td>\n",
       "      <td>0.416921</td>\n",
       "      <td>0.1068</td>\n",
       "      <td>0.021724</td>\n",
       "      <td>0.235298</td>\n",
       "      <td>0.0923</td>\n",
       "    </tr>\n",
       "    <tr>\n",
       "      <th>4</th>\n",
       "      <td>b1834</td>\n",
       "      <td>0.084874</td>\n",
       "      <td>0.064982</td>\n",
       "      <td>0.027663</td>\n",
       "      <td>0.341353</td>\n",
       "      <td>0.0810</td>\n",
       "      <td>0.015866</td>\n",
       "      <td>0.251659</td>\n",
       "      <td>0.0630</td>\n",
       "    </tr>\n",
       "  </tbody>\n",
       "</table>\n",
       "</div>"
      ],
      "text/plain": [
       "  locus_tag  hyphy_rp75_enterobacterales  hyphy_rp75_enterobacteriacaea  \\\n",
       "0     b3242                     0.061857                       0.041733   \n",
       "1     b3847                     0.068649                       0.044641   \n",
       "2     b3712                     0.112357                       0.107174   \n",
       "3     b2216                     0.120750                       0.101621   \n",
       "4     b1834                     0.084874                       0.064982   \n",
       "\n",
       "   codeml_dn_rp75_enterobacterales  codeml_ds_rp75_enterobacterales  \\\n",
       "0                         0.019432                         0.430200   \n",
       "1                         0.018641                         0.286941   \n",
       "2                         0.062285                         0.573070   \n",
       "3                         0.044529                         0.416921   \n",
       "4                         0.027663                         0.341353   \n",
       "\n",
       "   codeml_dnds_rp75_enterobacterales  codeml_dn_rp75_enterobacteriacaea  \\\n",
       "0                             0.0452                           0.008914   \n",
       "1                             0.0649                           0.007812   \n",
       "2                             0.1087                           0.037463   \n",
       "3                             0.1068                           0.021724   \n",
       "4                             0.0810                           0.015866   \n",
       "\n",
       "   codeml_ds_rp75_enterobacteriacaea  codeml_dnds_rp75_enterobacteriacaea  \n",
       "0                           0.254165                               0.0351  \n",
       "1                           0.193456                               0.0404  \n",
       "2                           0.365068                               0.1026  \n",
       "3                           0.235298                               0.0923  \n",
       "4                           0.251659                               0.0630  "
      ]
     },
     "execution_count": 10,
     "metadata": {},
     "output_type": "execute_result"
    }
   ],
   "source": [
    "print(res_df.shape)\n",
    "res_df.head()"
   ]
  },
  {
   "cell_type": "code",
   "execution_count": 11,
   "metadata": {},
   "outputs": [],
   "source": [
    "assert len(set(res_df.index)) == len(list(res_df.index))"
   ]
  },
  {
   "cell_type": "code",
   "execution_count": 12,
   "metadata": {},
   "outputs": [],
   "source": [
    "res_df.to_csv('../Data/ecoli_info/ecoli_evolutionary_rate_table.tsv', sep='\\t', index=False)"
   ]
  },
  {
   "cell_type": "code",
   "execution_count": null,
   "metadata": {},
   "outputs": [],
   "source": []
  }
 ],
 "metadata": {
  "kernelspec": {
   "display_name": "Python 3",
   "language": "python",
   "name": "python3"
  },
  "language_info": {
   "codemirror_mode": {
    "name": "ipython",
    "version": 3
   },
   "file_extension": ".py",
   "mimetype": "text/x-python",
   "name": "python",
   "nbconvert_exporter": "python",
   "pygments_lexer": "ipython3",
   "version": "3.7.7"
  },
  "toc": {
   "colors": {
    "hover_highlight": "#DAA520",
    "navigate_num": "#000000",
    "navigate_text": "#333333",
    "running_highlight": "#FF0000",
    "selected_highlight": "#FFD700",
    "sidebar_border": "#EEEEEE",
    "wrapper_background": "#FFFFFF"
   },
   "moveMenuLeft": true,
   "nav_menu": {
    "height": "102px",
    "width": "252px"
   },
   "navigate_menu": true,
   "number_sections": true,
   "sideBar": true,
   "threshold": 4,
   "toc_cell": false,
   "toc_section_display": "block",
   "toc_window_display": false,
   "widenNotebook": false
  }
 },
 "nbformat": 4,
 "nbformat_minor": 4
}
