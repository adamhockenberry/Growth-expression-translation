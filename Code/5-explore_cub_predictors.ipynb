{
 "cells": [
  {
   "cell_type": "code",
   "execution_count": 1,
   "metadata": {},
   "outputs": [],
   "source": [
    "%matplotlib inline"
   ]
  },
  {
   "cell_type": "code",
   "execution_count": 2,
   "metadata": {},
   "outputs": [],
   "source": [
    "import pandas as pd\n",
    "import numpy as np\n",
    "import statsmodels.formula.api as smf\n",
    "from scipy.stats import zscore\n",
    "from scipy import stats\n",
    "from scipy.optimize import minimize, differential_evolution, NonlinearConstraint, LinearConstraint\n",
    "\n",
    "from matplotlib import pyplot as plt\n",
    "plt.style.use('./hockenberry.mplstyle')\n",
    "color_cycle = plt.rcParams['axes.prop_cycle'].by_key()['color']"
   ]
  },
  {
   "cell_type": "markdown",
   "metadata": {},
   "source": [
    "# Defining constants and working out save directories"
   ]
  },
  {
   "cell_type": "code",
   "execution_count": 35,
   "metadata": {},
   "outputs": [],
   "source": [
    "import datetime\n",
    "import os\n",
    "\n",
    "year = datetime.date.today().year\n",
    "month = datetime.date.today().month\n",
    "base_figs_dir = '../Results/Figures/{}_{:02}'.format(year, month)\n",
    "if not os.path.exists(base_figs_dir):\n",
    "    os.makedirs(base_figs_dir)"
   ]
  },
  {
   "cell_type": "code",
   "execution_count": 36,
   "metadata": {},
   "outputs": [],
   "source": [
    "# data_tag = 'ecoli_full'\n",
    "# data_tag = 'ecoli_sparse'\n",
    "data_tag = 'scer_rna'\n",
    "# data_tag = 'scer_prot'\n",
    "save_figs = False\n",
    "if save_figs:\n",
    "    base_figs_dir += '/{}'.format(data_tag)\n",
    "    if not os.path.exists(base_figs_dir):\n",
    "        os.makedirs(base_figs_dir)"
   ]
  },
  {
   "cell_type": "code",
   "execution_count": 38,
   "metadata": {},
   "outputs": [],
   "source": [
    "metric = 'CAI'\n",
    "# metric = 'tAI'\n",
    "# metric = 'roc_semppr_mean'\n",
    "# metric = 'iCUB'\n",
    "\n",
    "if save_figs:\n",
    "    figs_dir = base_figs_dir + '/{}'.format(metric)\n",
    "    if not os.path.exists(figs_dir):\n",
    "        os.makedirs(figs_dir)"
   ]
  },
  {
   "cell_type": "markdown",
   "metadata": {},
   "source": [
    "# Import data\n",
    "\n",
    "There are four main data tables to import / wrangle with. \n",
    "\n",
    "**First: gene-specific measurements (*i.e.* codon usage biases, predominantly)**"
   ]
  },
  {
   "cell_type": "code",
   "execution_count": 39,
   "metadata": {},
   "outputs": [
    {
     "name": "stdout",
     "output_type": "stream",
     "text": [
      "(5451, 12)\n",
      "(5398, 12)\n"
     ]
    },
    {
     "data": {
      "text/html": [
       "<div>\n",
       "<style scoped>\n",
       "    .dataframe tbody tr th:only-of-type {\n",
       "        vertical-align: middle;\n",
       "    }\n",
       "\n",
       "    .dataframe tbody tr th {\n",
       "        vertical-align: top;\n",
       "    }\n",
       "\n",
       "    .dataframe thead th {\n",
       "        text-align: right;\n",
       "    }\n",
       "</style>\n",
       "<table border=\"1\" class=\"dataframe\">\n",
       "  <thead>\n",
       "    <tr style=\"text-align: right;\">\n",
       "      <th></th>\n",
       "      <th>gene</th>\n",
       "      <th>start_loc</th>\n",
       "      <th>stop_loc</th>\n",
       "      <th>strand</th>\n",
       "      <th>cds_seq</th>\n",
       "      <th>cds_len</th>\n",
       "      <th>well_behaved</th>\n",
       "      <th>GC_percent_cds</th>\n",
       "      <th>roc_semppr_mean</th>\n",
       "      <th>iCUB</th>\n",
       "      <th>CAI</th>\n",
       "      <th>tAI</th>\n",
       "    </tr>\n",
       "    <tr>\n",
       "      <th>locus_tag</th>\n",
       "      <th></th>\n",
       "      <th></th>\n",
       "      <th></th>\n",
       "      <th></th>\n",
       "      <th></th>\n",
       "      <th></th>\n",
       "      <th></th>\n",
       "      <th></th>\n",
       "      <th></th>\n",
       "      <th></th>\n",
       "      <th></th>\n",
       "      <th></th>\n",
       "    </tr>\n",
       "  </thead>\n",
       "  <tbody>\n",
       "    <tr>\n",
       "      <th>CENPK1137D_4927</th>\n",
       "      <td>Gdh3p</td>\n",
       "      <td>31625.0</td>\n",
       "      <td>32998.0</td>\n",
       "      <td>+</td>\n",
       "      <td>ATGACAAGCGAACCAGAGTTTCAGCAGGCTTACGATGAGATCGTTT...</td>\n",
       "      <td>1374</td>\n",
       "      <td>True</td>\n",
       "      <td>0.485444</td>\n",
       "      <td>1.077532</td>\n",
       "      <td>0.089819</td>\n",
       "      <td>0.166896</td>\n",
       "      <td>0.414135</td>\n",
       "    </tr>\n",
       "    <tr>\n",
       "      <th>CENPK1137D_4938</th>\n",
       "      <td>Bdh2p</td>\n",
       "      <td>33506.0</td>\n",
       "      <td>34759.0</td>\n",
       "      <td>+</td>\n",
       "      <td>ATGAGAGCCTTAGCGTATTTCGGTAAAGGTAACATCAGATTCACCA...</td>\n",
       "      <td>1254</td>\n",
       "      <td>True</td>\n",
       "      <td>0.484848</td>\n",
       "      <td>0.559819</td>\n",
       "      <td>0.101853</td>\n",
       "      <td>0.146111</td>\n",
       "      <td>0.374852</td>\n",
       "    </tr>\n",
       "    <tr>\n",
       "      <th>CENPK1137D_4949</th>\n",
       "      <td>Bdh1p</td>\n",
       "      <td>35211.0</td>\n",
       "      <td>36359.0</td>\n",
       "      <td>+</td>\n",
       "      <td>ATGAGAGCTTTGGCATATTTCAAGAAGGGTGATATTCACTTCACTA...</td>\n",
       "      <td>1149</td>\n",
       "      <td>True</td>\n",
       "      <td>0.449956</td>\n",
       "      <td>1.741424</td>\n",
       "      <td>0.105991</td>\n",
       "      <td>0.239300</td>\n",
       "      <td>0.408900</td>\n",
       "    </tr>\n",
       "    <tr>\n",
       "      <th>CENPK1137D_4960</th>\n",
       "      <td>Ecm1p</td>\n",
       "      <td>36565.0</td>\n",
       "      <td>37203.0</td>\n",
       "      <td>+</td>\n",
       "      <td>ATGTGGGAACAAAGACGACAAAAGGTAGTTTTTTCCTTGACTATAC...</td>\n",
       "      <td>639</td>\n",
       "      <td>True</td>\n",
       "      <td>0.403756</td>\n",
       "      <td>0.997815</td>\n",
       "      <td>0.136281</td>\n",
       "      <td>0.180668</td>\n",
       "      <td>0.399201</td>\n",
       "    </tr>\n",
       "    <tr>\n",
       "      <th>CENPK1137D_4971</th>\n",
       "      <td>Cne1p</td>\n",
       "      <td>37520.0</td>\n",
       "      <td>39028.0</td>\n",
       "      <td>+</td>\n",
       "      <td>ATGAAATTTTCTGCGTATTTATGGTGGCTGTTTTTGAATCTAGCGT...</td>\n",
       "      <td>1509</td>\n",
       "      <td>True</td>\n",
       "      <td>0.433400</td>\n",
       "      <td>0.164382</td>\n",
       "      <td>0.050166</td>\n",
       "      <td>0.126947</td>\n",
       "      <td>0.323906</td>\n",
       "    </tr>\n",
       "  </tbody>\n",
       "</table>\n",
       "</div>"
      ],
      "text/plain": [
       "                  gene  start_loc  stop_loc strand  \\\n",
       "locus_tag                                            \n",
       "CENPK1137D_4927  Gdh3p    31625.0   32998.0      +   \n",
       "CENPK1137D_4938  Bdh2p    33506.0   34759.0      +   \n",
       "CENPK1137D_4949  Bdh1p    35211.0   36359.0      +   \n",
       "CENPK1137D_4960  Ecm1p    36565.0   37203.0      +   \n",
       "CENPK1137D_4971  Cne1p    37520.0   39028.0      +   \n",
       "\n",
       "                                                           cds_seq  cds_len  \\\n",
       "locus_tag                                                                     \n",
       "CENPK1137D_4927  ATGACAAGCGAACCAGAGTTTCAGCAGGCTTACGATGAGATCGTTT...     1374   \n",
       "CENPK1137D_4938  ATGAGAGCCTTAGCGTATTTCGGTAAAGGTAACATCAGATTCACCA...     1254   \n",
       "CENPK1137D_4949  ATGAGAGCTTTGGCATATTTCAAGAAGGGTGATATTCACTTCACTA...     1149   \n",
       "CENPK1137D_4960  ATGTGGGAACAAAGACGACAAAAGGTAGTTTTTTCCTTGACTATAC...      639   \n",
       "CENPK1137D_4971  ATGAAATTTTCTGCGTATTTATGGTGGCTGTTTTTGAATCTAGCGT...     1509   \n",
       "\n",
       "                 well_behaved  GC_percent_cds  roc_semppr_mean      iCUB  \\\n",
       "locus_tag                                                                  \n",
       "CENPK1137D_4927          True        0.485444         1.077532  0.089819   \n",
       "CENPK1137D_4938          True        0.484848         0.559819  0.101853   \n",
       "CENPK1137D_4949          True        0.449956         1.741424  0.105991   \n",
       "CENPK1137D_4960          True        0.403756         0.997815  0.136281   \n",
       "CENPK1137D_4971          True        0.433400         0.164382  0.050166   \n",
       "\n",
       "                      CAI       tAI  \n",
       "locus_tag                            \n",
       "CENPK1137D_4927  0.166896  0.414135  \n",
       "CENPK1137D_4938  0.146111  0.374852  \n",
       "CENPK1137D_4949  0.239300  0.408900  \n",
       "CENPK1137D_4960  0.180668  0.399201  \n",
       "CENPK1137D_4971  0.126947  0.323906  "
      ]
     },
     "execution_count": 39,
     "metadata": {},
     "output_type": "execute_result"
    }
   ],
   "source": [
    "if data_tag in ['ecoli_full', 'ecoli_sparse']:\n",
    "    full_df = pd.read_csv('../Data/ecoli_info/current_ecoli_master_table.tsv', sep='\\t', index_col=0)\n",
    "elif data_tag in ['scer_rna', 'scer_prot']:\n",
    "    full_df = pd.read_csv('../Data/scer_info/current_scer_master_table.tsv', sep='\\t', index_col=0)\n",
    "else:\n",
    "    raise Exception('Incorrect organism identifier')\n",
    "    \n",
    "print(full_df.shape)\n",
    "full_df = full_df[full_df[metric].isnull()==False]\n",
    "print(full_df.shape)\n",
    "full_df.head()"
   ]
  },
  {
   "cell_type": "markdown",
   "metadata": {},
   "source": [
    "**Next: meta-data related to experiments / growth conditions**"
   ]
  },
  {
   "cell_type": "code",
   "execution_count": 40,
   "metadata": {},
   "outputs": [
    {
     "name": "stdout",
     "output_type": "stream",
     "text": [
      "(14, 14)\n"
     ]
    },
    {
     "data": {
      "text/html": [
       "<div>\n",
       "<style scoped>\n",
       "    .dataframe tbody tr th:only-of-type {\n",
       "        vertical-align: middle;\n",
       "    }\n",
       "\n",
       "    .dataframe tbody tr th {\n",
       "        vertical-align: top;\n",
       "    }\n",
       "\n",
       "    .dataframe thead th {\n",
       "        text-align: right;\n",
       "    }\n",
       "</style>\n",
       "<table border=\"1\" class=\"dataframe\">\n",
       "  <thead>\n",
       "    <tr style=\"text-align: right;\">\n",
       "      <th></th>\n",
       "      <th>Sample</th>\n",
       "      <th>Nitrogen source</th>\n",
       "      <th>dilution rate (/h)</th>\n",
       "      <th>glucose.H2O concentration (g/L)</th>\n",
       "      <th>nitrogen source concentration (g/L)</th>\n",
       "      <th>limiting nutrient</th>\n",
       "      <th>C/N ratio</th>\n",
       "      <th>experiment subset</th>\n",
       "      <th>extra notes</th>\n",
       "      <th>Simple_sample_id</th>\n",
       "      <th>total RNA content (g/gDW)</th>\n",
       "      <th>total protein content (g/gDW)</th>\n",
       "      <th>Doubling_time</th>\n",
       "      <th>Growth Rate (1/hr)</th>\n",
       "    </tr>\n",
       "  </thead>\n",
       "  <tbody>\n",
       "    <tr>\n",
       "      <th>0</th>\n",
       "      <td>1</td>\n",
       "      <td>NH4</td>\n",
       "      <td>0.05</td>\n",
       "      <td>7.5</td>\n",
       "      <td>0.5</td>\n",
       "      <td>N</td>\n",
       "      <td>30</td>\n",
       "      <td>GR</td>\n",
       "      <td>NaN</td>\n",
       "      <td>NH4_0.05_7.5_0.5</td>\n",
       "      <td>0.024169</td>\n",
       "      <td>0.261477</td>\n",
       "      <td>13.862944</td>\n",
       "      <td>0.05</td>\n",
       "    </tr>\n",
       "    <tr>\n",
       "      <th>3</th>\n",
       "      <td>4</td>\n",
       "      <td>NH4</td>\n",
       "      <td>0.10</td>\n",
       "      <td>7.5</td>\n",
       "      <td>5.0</td>\n",
       "      <td>C</td>\n",
       "      <td>3</td>\n",
       "      <td>NM</td>\n",
       "      <td>NaN</td>\n",
       "      <td>NH4_0.1_7.5_5.0</td>\n",
       "      <td>0.050000</td>\n",
       "      <td>0.358024</td>\n",
       "      <td>6.931472</td>\n",
       "      <td>0.10</td>\n",
       "    </tr>\n",
       "    <tr>\n",
       "      <th>6</th>\n",
       "      <td>7</td>\n",
       "      <td>NH4</td>\n",
       "      <td>0.10</td>\n",
       "      <td>7.5</td>\n",
       "      <td>0.5</td>\n",
       "      <td>N</td>\n",
       "      <td>30</td>\n",
       "      <td>GR, NM</td>\n",
       "      <td>NaN</td>\n",
       "      <td>NH4_0.1_7.5_0.5</td>\n",
       "      <td>0.025297</td>\n",
       "      <td>0.225573</td>\n",
       "      <td>6.931472</td>\n",
       "      <td>0.10</td>\n",
       "    </tr>\n",
       "    <tr>\n",
       "      <th>9</th>\n",
       "      <td>10</td>\n",
       "      <td>NH4</td>\n",
       "      <td>0.13</td>\n",
       "      <td>7.5</td>\n",
       "      <td>0.5</td>\n",
       "      <td>N</td>\n",
       "      <td>30</td>\n",
       "      <td>GR</td>\n",
       "      <td>NaN</td>\n",
       "      <td>NH4_0.13_7.5_0.5</td>\n",
       "      <td>0.025831</td>\n",
       "      <td>0.275686</td>\n",
       "      <td>5.331901</td>\n",
       "      <td>0.13</td>\n",
       "    </tr>\n",
       "    <tr>\n",
       "      <th>12</th>\n",
       "      <td>13</td>\n",
       "      <td>NH4</td>\n",
       "      <td>0.18</td>\n",
       "      <td>7.5</td>\n",
       "      <td>0.5</td>\n",
       "      <td>N</td>\n",
       "      <td>30</td>\n",
       "      <td>GR</td>\n",
       "      <td>NaN</td>\n",
       "      <td>NH4_0.18_7.5_0.5</td>\n",
       "      <td>0.038539</td>\n",
       "      <td>0.286470</td>\n",
       "      <td>3.850818</td>\n",
       "      <td>0.18</td>\n",
       "    </tr>\n",
       "  </tbody>\n",
       "</table>\n",
       "</div>"
      ],
      "text/plain": [
       "    Sample Nitrogen source  dilution rate (/h)  \\\n",
       "0        1             NH4                0.05   \n",
       "3        4             NH4                0.10   \n",
       "6        7             NH4                0.10   \n",
       "9       10             NH4                0.13   \n",
       "12      13             NH4                0.18   \n",
       "\n",
       "    glucose.H2O concentration (g/L)  nitrogen source concentration (g/L)  \\\n",
       "0                               7.5                                  0.5   \n",
       "3                               7.5                                  5.0   \n",
       "6                               7.5                                  0.5   \n",
       "9                               7.5                                  0.5   \n",
       "12                              7.5                                  0.5   \n",
       "\n",
       "   limiting nutrient  C/N ratio experiment subset extra notes  \\\n",
       "0                  N         30                GR         NaN   \n",
       "3                  C          3                NM         NaN   \n",
       "6                  N         30            GR, NM         NaN   \n",
       "9                  N         30                GR         NaN   \n",
       "12                 N         30                GR         NaN   \n",
       "\n",
       "    Simple_sample_id  total RNA content (g/gDW)  \\\n",
       "0   NH4_0.05_7.5_0.5                   0.024169   \n",
       "3    NH4_0.1_7.5_5.0                   0.050000   \n",
       "6    NH4_0.1_7.5_0.5                   0.025297   \n",
       "9   NH4_0.13_7.5_0.5                   0.025831   \n",
       "12  NH4_0.18_7.5_0.5                   0.038539   \n",
       "\n",
       "    total protein content (g/gDW)  Doubling_time  Growth Rate (1/hr)  \n",
       "0                        0.261477      13.862944                0.05  \n",
       "3                        0.358024       6.931472                0.10  \n",
       "6                        0.225573       6.931472                0.10  \n",
       "9                        0.275686       5.331901                0.13  \n",
       "12                       0.286470       3.850818                0.18  "
      ]
     },
     "execution_count": 40,
     "metadata": {},
     "output_type": "execute_result"
    }
   ],
   "source": [
    "if data_tag == 'ecoli_full':\n",
    "    meta_df = pd.read_csv('../Data/processed_data/processed_metadata.tsv', sep='\\t', index_col=0)\n",
    "elif data_tag == 'ecoli_sparse':\n",
    "    meta_df = pd.read_csv('../Data/processed_data/processed_metadata_SPARSE.tsv', sep='\\t', index_col=0)\n",
    "elif data_tag == 'scer_rna':\n",
    "    meta_df = pd.read_csv('../Data/processed_data/processed_metadata_scer_RNA.tsv', sep='\\t', index_col=0)\n",
    "elif data_tag == 'scer_prot':\n",
    "    meta_df = pd.read_csv('../Data/processed_data/processed_metadata_scer_PROTEIN.tsv', sep='\\t', index_col=0)\n",
    "else:\n",
    "    raise Exception('Incorrect organism identifier')\n",
    "    \n",
    "print(meta_df.shape)\n",
    "meta_df.head()"
   ]
  },
  {
   "cell_type": "markdown",
   "metadata": {},
   "source": [
    "**Next: condition-specific expression information**"
   ]
  },
  {
   "cell_type": "code",
   "execution_count": 41,
   "metadata": {},
   "outputs": [
    {
     "name": "stdout",
     "output_type": "stream",
     "text": [
      "(3127, 14)\n"
     ]
    },
    {
     "data": {
      "text/html": [
       "<div>\n",
       "<style scoped>\n",
       "    .dataframe tbody tr th:only-of-type {\n",
       "        vertical-align: middle;\n",
       "    }\n",
       "\n",
       "    .dataframe tbody tr th {\n",
       "        vertical-align: top;\n",
       "    }\n",
       "\n",
       "    .dataframe thead th {\n",
       "        text-align: right;\n",
       "    }\n",
       "</style>\n",
       "<table border=\"1\" class=\"dataframe\">\n",
       "  <thead>\n",
       "    <tr style=\"text-align: right;\">\n",
       "      <th></th>\n",
       "      <th>NH4_0.05_7.5_0.5</th>\n",
       "      <th>NH4_0.1_7.5_5.0</th>\n",
       "      <th>NH4_0.1_7.5_0.5</th>\n",
       "      <th>NH4_0.13_7.5_0.5</th>\n",
       "      <th>NH4_0.18_7.5_0.5</th>\n",
       "      <th>NH4_0.3_7.5_0.5</th>\n",
       "      <th>NH4_0.35_7.5_0.5</th>\n",
       "      <th>Gln_0.1_7.5_5.53</th>\n",
       "      <th>Gln_0.1_1.21_5.53</th>\n",
       "      <th>Gln_0.1_6.87_0.55</th>\n",
       "      <th>Phe_0.1_7.5_12.35</th>\n",
       "      <th>Phe_0.1_7.5_1.24</th>\n",
       "      <th>Ile_0.1_7.5_9.81</th>\n",
       "      <th>Ile_0.1_7.5_0.98</th>\n",
       "    </tr>\n",
       "    <tr>\n",
       "      <th>Gene</th>\n",
       "      <th></th>\n",
       "      <th></th>\n",
       "      <th></th>\n",
       "      <th></th>\n",
       "      <th></th>\n",
       "      <th></th>\n",
       "      <th></th>\n",
       "      <th></th>\n",
       "      <th></th>\n",
       "      <th></th>\n",
       "      <th></th>\n",
       "      <th></th>\n",
       "      <th></th>\n",
       "      <th></th>\n",
       "    </tr>\n",
       "  </thead>\n",
       "  <tbody>\n",
       "    <tr>\n",
       "      <th>SAL1</th>\n",
       "      <td>-9.529879</td>\n",
       "      <td>-9.462814</td>\n",
       "      <td>-9.358983</td>\n",
       "      <td>-9.349310</td>\n",
       "      <td>-9.222958</td>\n",
       "      <td>-9.351982</td>\n",
       "      <td>-9.339676</td>\n",
       "      <td>-9.418705</td>\n",
       "      <td>-9.529775</td>\n",
       "      <td>-9.331296</td>\n",
       "      <td>-9.294119</td>\n",
       "      <td>-9.299223</td>\n",
       "      <td>-9.317947</td>\n",
       "      <td>-9.363821</td>\n",
       "    </tr>\n",
       "    <tr>\n",
       "      <th>CET1</th>\n",
       "      <td>-9.169022</td>\n",
       "      <td>-9.139245</td>\n",
       "      <td>-9.078706</td>\n",
       "      <td>-9.031129</td>\n",
       "      <td>-9.071170</td>\n",
       "      <td>-9.227227</td>\n",
       "      <td>-9.302235</td>\n",
       "      <td>-9.106038</td>\n",
       "      <td>-9.220858</td>\n",
       "      <td>-9.136797</td>\n",
       "      <td>-9.276800</td>\n",
       "      <td>-9.180333</td>\n",
       "      <td>-9.150939</td>\n",
       "      <td>-9.142975</td>\n",
       "    </tr>\n",
       "    <tr>\n",
       "      <th>FOB1</th>\n",
       "      <td>-9.545055</td>\n",
       "      <td>-9.351033</td>\n",
       "      <td>-9.294461</td>\n",
       "      <td>-9.243162</td>\n",
       "      <td>-9.149694</td>\n",
       "      <td>-9.159748</td>\n",
       "      <td>-9.130156</td>\n",
       "      <td>-9.370800</td>\n",
       "      <td>-9.551954</td>\n",
       "      <td>-9.412692</td>\n",
       "      <td>-9.515242</td>\n",
       "      <td>-9.376876</td>\n",
       "      <td>-9.266782</td>\n",
       "      <td>-9.382779</td>\n",
       "    </tr>\n",
       "    <tr>\n",
       "      <th>RPS9A</th>\n",
       "      <td>-8.067467</td>\n",
       "      <td>-7.485624</td>\n",
       "      <td>-7.452787</td>\n",
       "      <td>-7.326448</td>\n",
       "      <td>-7.246923</td>\n",
       "      <td>-7.158720</td>\n",
       "      <td>-7.136058</td>\n",
       "      <td>-7.483618</td>\n",
       "      <td>-7.766808</td>\n",
       "      <td>-7.592273</td>\n",
       "      <td>-7.685154</td>\n",
       "      <td>-7.645901</td>\n",
       "      <td>-7.438962</td>\n",
       "      <td>-7.538191</td>\n",
       "    </tr>\n",
       "    <tr>\n",
       "      <th>COQ4</th>\n",
       "      <td>-8.303525</td>\n",
       "      <td>-8.475349</td>\n",
       "      <td>-8.614872</td>\n",
       "      <td>-8.736973</td>\n",
       "      <td>-8.886612</td>\n",
       "      <td>-9.258626</td>\n",
       "      <td>-9.339141</td>\n",
       "      <td>-8.471156</td>\n",
       "      <td>-8.456111</td>\n",
       "      <td>-8.633659</td>\n",
       "      <td>-8.572922</td>\n",
       "      <td>-8.657927</td>\n",
       "      <td>-8.696813</td>\n",
       "      <td>-8.607754</td>\n",
       "    </tr>\n",
       "  </tbody>\n",
       "</table>\n",
       "</div>"
      ],
      "text/plain": [
       "       NH4_0.05_7.5_0.5  NH4_0.1_7.5_5.0  NH4_0.1_7.5_0.5  NH4_0.13_7.5_0.5  \\\n",
       "Gene                                                                          \n",
       "SAL1          -9.529879        -9.462814        -9.358983         -9.349310   \n",
       "CET1          -9.169022        -9.139245        -9.078706         -9.031129   \n",
       "FOB1          -9.545055        -9.351033        -9.294461         -9.243162   \n",
       "RPS9A         -8.067467        -7.485624        -7.452787         -7.326448   \n",
       "COQ4          -8.303525        -8.475349        -8.614872         -8.736973   \n",
       "\n",
       "       NH4_0.18_7.5_0.5  NH4_0.3_7.5_0.5  NH4_0.35_7.5_0.5  Gln_0.1_7.5_5.53  \\\n",
       "Gene                                                                           \n",
       "SAL1          -9.222958        -9.351982         -9.339676         -9.418705   \n",
       "CET1          -9.071170        -9.227227         -9.302235         -9.106038   \n",
       "FOB1          -9.149694        -9.159748         -9.130156         -9.370800   \n",
       "RPS9A         -7.246923        -7.158720         -7.136058         -7.483618   \n",
       "COQ4          -8.886612        -9.258626         -9.339141         -8.471156   \n",
       "\n",
       "       Gln_0.1_1.21_5.53  Gln_0.1_6.87_0.55  Phe_0.1_7.5_12.35  \\\n",
       "Gene                                                             \n",
       "SAL1           -9.529775          -9.331296          -9.294119   \n",
       "CET1           -9.220858          -9.136797          -9.276800   \n",
       "FOB1           -9.551954          -9.412692          -9.515242   \n",
       "RPS9A          -7.766808          -7.592273          -7.685154   \n",
       "COQ4           -8.456111          -8.633659          -8.572922   \n",
       "\n",
       "       Phe_0.1_7.5_1.24  Ile_0.1_7.5_9.81  Ile_0.1_7.5_0.98  \n",
       "Gene                                                         \n",
       "SAL1          -9.299223         -9.317947         -9.363821  \n",
       "CET1          -9.180333         -9.150939         -9.142975  \n",
       "FOB1          -9.376876         -9.266782         -9.382779  \n",
       "RPS9A         -7.645901         -7.438962         -7.538191  \n",
       "COQ4          -8.657927         -8.696813         -8.607754  "
      ]
     },
     "execution_count": 41,
     "metadata": {},
     "output_type": "execute_result"
    }
   ],
   "source": [
    "if data_tag == 'ecoli_full':\n",
    "    exp_df = pd.read_csv('../Data/processed_data/processed_expression.tsv', sep='\\t', index_col=0)\n",
    "elif data_tag == 'ecoli_sparse':\n",
    "    exp_df = pd.read_csv('../Data/processed_data/processed_expression_SPARSE.tsv', sep='\\t', index_col=0)\n",
    "elif data_tag == 'scer_rna':\n",
    "    exp_df = pd.read_csv('../Data/processed_data/processed_expression_scer_RNA.tsv', sep='\\t', index_col=0)\n",
    "elif data_tag == 'scer_prot':\n",
    "    exp_df = pd.read_csv('../Data/processed_data/processed_expression_scer_PROTEIN.tsv', sep='\\t', index_col=0)\n",
    "else:\n",
    "    raise Exception('Incorrect organism identifier')\n",
    "    \n",
    "print(exp_df.shape)\n",
    "exp_df.head()"
   ]
  },
  {
   "cell_type": "markdown",
   "metadata": {},
   "source": [
    "**Finally: expression summary statistics calculated from the condition-specific expression matrices**"
   ]
  },
  {
   "cell_type": "code",
   "execution_count": 42,
   "metadata": {},
   "outputs": [
    {
     "name": "stdout",
     "output_type": "stream",
     "text": [
      "(3127, 13)\n"
     ]
    },
    {
     "data": {
      "text/html": [
       "<div>\n",
       "<style scoped>\n",
       "    .dataframe tbody tr th:only-of-type {\n",
       "        vertical-align: middle;\n",
       "    }\n",
       "\n",
       "    .dataframe tbody tr th {\n",
       "        vertical-align: top;\n",
       "    }\n",
       "\n",
       "    .dataframe thead th {\n",
       "        text-align: right;\n",
       "    }\n",
       "</style>\n",
       "<table border=\"1\" class=\"dataframe\">\n",
       "  <thead>\n",
       "    <tr style=\"text-align: right;\">\n",
       "      <th></th>\n",
       "      <th>count</th>\n",
       "      <th>mean</th>\n",
       "      <th>std</th>\n",
       "      <th>min</th>\n",
       "      <th>25_percentile</th>\n",
       "      <th>50_percentile</th>\n",
       "      <th>75_percentile</th>\n",
       "      <th>max</th>\n",
       "      <th>cv</th>\n",
       "      <th>noise</th>\n",
       "      <th>lin_slope</th>\n",
       "      <th>lin_r</th>\n",
       "      <th>spearmans_rho</th>\n",
       "    </tr>\n",
       "    <tr>\n",
       "      <th>Gene</th>\n",
       "      <th></th>\n",
       "      <th></th>\n",
       "      <th></th>\n",
       "      <th></th>\n",
       "      <th></th>\n",
       "      <th></th>\n",
       "      <th></th>\n",
       "      <th></th>\n",
       "      <th></th>\n",
       "      <th></th>\n",
       "      <th></th>\n",
       "      <th></th>\n",
       "      <th></th>\n",
       "    </tr>\n",
       "  </thead>\n",
       "  <tbody>\n",
       "    <tr>\n",
       "      <th>SAL1</th>\n",
       "      <td>14.0</td>\n",
       "      <td>-9.369320</td>\n",
       "      <td>0.087924</td>\n",
       "      <td>-9.529879</td>\n",
       "      <td>-9.404984</td>\n",
       "      <td>-9.350646</td>\n",
       "      <td>-9.321284</td>\n",
       "      <td>-9.222958</td>\n",
       "      <td>-0.009384</td>\n",
       "      <td>0.000088</td>\n",
       "      <td>0.310614</td>\n",
       "      <td>0.321647</td>\n",
       "      <td>0.422626</td>\n",
       "    </tr>\n",
       "    <tr>\n",
       "      <th>CET1</th>\n",
       "      <td>14.0</td>\n",
       "      <td>-9.159534</td>\n",
       "      <td>0.077434</td>\n",
       "      <td>-9.302235</td>\n",
       "      <td>-9.210727</td>\n",
       "      <td>-9.146957</td>\n",
       "      <td>-9.113728</td>\n",
       "      <td>-9.031129</td>\n",
       "      <td>-0.008454</td>\n",
       "      <td>0.000071</td>\n",
       "      <td>-0.485171</td>\n",
       "      <td>-0.442465</td>\n",
       "      <td>-0.053789</td>\n",
       "    </tr>\n",
       "    <tr>\n",
       "      <th>FOB1</th>\n",
       "      <td>14.0</td>\n",
       "      <td>-9.339317</td>\n",
       "      <td>0.140541</td>\n",
       "      <td>-9.551954</td>\n",
       "      <td>-9.405214</td>\n",
       "      <td>-9.360916</td>\n",
       "      <td>-9.249067</td>\n",
       "      <td>-9.130156</td>\n",
       "      <td>-0.015048</td>\n",
       "      <td>0.000226</td>\n",
       "      <td>0.453884</td>\n",
       "      <td>0.751277</td>\n",
       "      <td>0.827322</td>\n",
       "    </tr>\n",
       "    <tr>\n",
       "      <th>RPS9A</th>\n",
       "      <td>14.0</td>\n",
       "      <td>-7.501781</td>\n",
       "      <td>0.249342</td>\n",
       "      <td>-8.067467</td>\n",
       "      <td>-7.632494</td>\n",
       "      <td>-7.484621</td>\n",
       "      <td>-7.354576</td>\n",
       "      <td>-7.136058</td>\n",
       "      <td>-0.033238</td>\n",
       "      <td>0.001105</td>\n",
       "      <td>0.264747</td>\n",
       "      <td>0.777461</td>\n",
       "      <td>0.858058</td>\n",
       "    </tr>\n",
       "    <tr>\n",
       "      <th>COQ4</th>\n",
       "      <td>14.0</td>\n",
       "      <td>-8.693674</td>\n",
       "      <td>0.292705</td>\n",
       "      <td>-9.339141</td>\n",
       "      <td>-8.726933</td>\n",
       "      <td>-8.624266</td>\n",
       "      <td>-8.499742</td>\n",
       "      <td>-8.303525</td>\n",
       "      <td>-0.033669</td>\n",
       "      <td>0.001134</td>\n",
       "      <td>-0.278865</td>\n",
       "      <td>-0.961341</td>\n",
       "      <td>-0.858058</td>\n",
       "    </tr>\n",
       "  </tbody>\n",
       "</table>\n",
       "</div>"
      ],
      "text/plain": [
       "       count      mean       std       min  25_percentile  50_percentile  \\\n",
       "Gene                                                                       \n",
       "SAL1    14.0 -9.369320  0.087924 -9.529879      -9.404984      -9.350646   \n",
       "CET1    14.0 -9.159534  0.077434 -9.302235      -9.210727      -9.146957   \n",
       "FOB1    14.0 -9.339317  0.140541 -9.551954      -9.405214      -9.360916   \n",
       "RPS9A   14.0 -7.501781  0.249342 -8.067467      -7.632494      -7.484621   \n",
       "COQ4    14.0 -8.693674  0.292705 -9.339141      -8.726933      -8.624266   \n",
       "\n",
       "       75_percentile       max        cv     noise  lin_slope     lin_r  \\\n",
       "Gene                                                                      \n",
       "SAL1       -9.321284 -9.222958 -0.009384  0.000088   0.310614  0.321647   \n",
       "CET1       -9.113728 -9.031129 -0.008454  0.000071  -0.485171 -0.442465   \n",
       "FOB1       -9.249067 -9.130156 -0.015048  0.000226   0.453884  0.751277   \n",
       "RPS9A      -7.354576 -7.136058 -0.033238  0.001105   0.264747  0.777461   \n",
       "COQ4       -8.499742 -8.303525 -0.033669  0.001134  -0.278865 -0.961341   \n",
       "\n",
       "       spearmans_rho  \n",
       "Gene                  \n",
       "SAL1        0.422626  \n",
       "CET1       -0.053789  \n",
       "FOB1        0.827322  \n",
       "RPS9A       0.858058  \n",
       "COQ4       -0.858058  "
      ]
     },
     "execution_count": 42,
     "metadata": {},
     "output_type": "execute_result"
    }
   ],
   "source": [
    "if data_tag == 'ecoli_full':\n",
    "    exp_summary_df = pd.read_csv('../Data/processed_data/processed_expression_summary.tsv', sep='\\t', index_col=0)\n",
    "elif data_tag == 'ecoli_sparse':\n",
    "    exp_summary_df = pd.read_csv('../Data/processed_data/processed_expression_summary_SPARSE.tsv', sep='\\t', index_col=0)\n",
    "elif data_tag == 'scer_rna':\n",
    "    exp_summary_df = pd.read_csv('../Data/processed_data/processed_expression_summary_scer_RNA.tsv', sep='\\t', index_col=0)\n",
    "elif data_tag == 'scer_prot':\n",
    "    exp_summary_df = pd.read_csv('../Data/processed_data/processed_expression_summary_scer_PROTEIN.tsv', sep='\\t', index_col=0)\n",
    "else:\n",
    "    raise Exception('Incorrect organism identifier')\n",
    "    \n",
    "print(exp_summary_df.shape)\n",
    "exp_summary_df.head()"
   ]
  },
  {
   "cell_type": "markdown",
   "metadata": {},
   "source": [
    "**Merge some relevant information together with an inner join (indices must appear in both datasets)**"
   ]
  },
  {
   "cell_type": "code",
   "execution_count": 43,
   "metadata": {},
   "outputs": [
    {
     "name": "stdout",
     "output_type": "stream",
     "text": [
      "(5398, 12)\n",
      "(4674, 12)\n",
      "(2773, 25)\n"
     ]
    },
    {
     "data": {
      "text/html": [
       "<div>\n",
       "<style scoped>\n",
       "    .dataframe tbody tr th:only-of-type {\n",
       "        vertical-align: middle;\n",
       "    }\n",
       "\n",
       "    .dataframe tbody tr th {\n",
       "        vertical-align: top;\n",
       "    }\n",
       "\n",
       "    .dataframe thead th {\n",
       "        text-align: right;\n",
       "    }\n",
       "</style>\n",
       "<table border=\"1\" class=\"dataframe\">\n",
       "  <thead>\n",
       "    <tr style=\"text-align: right;\">\n",
       "      <th></th>\n",
       "      <th>gene</th>\n",
       "      <th>start_loc</th>\n",
       "      <th>stop_loc</th>\n",
       "      <th>strand</th>\n",
       "      <th>cds_seq</th>\n",
       "      <th>cds_len</th>\n",
       "      <th>well_behaved</th>\n",
       "      <th>GC_percent_cds</th>\n",
       "      <th>roc_semppr_mean</th>\n",
       "      <th>iCUB</th>\n",
       "      <th>...</th>\n",
       "      <th>min</th>\n",
       "      <th>25_percentile</th>\n",
       "      <th>50_percentile</th>\n",
       "      <th>75_percentile</th>\n",
       "      <th>max</th>\n",
       "      <th>cv</th>\n",
       "      <th>noise</th>\n",
       "      <th>lin_slope</th>\n",
       "      <th>lin_r</th>\n",
       "      <th>spearmans_rho</th>\n",
       "    </tr>\n",
       "    <tr>\n",
       "      <th>gene</th>\n",
       "      <th></th>\n",
       "      <th></th>\n",
       "      <th></th>\n",
       "      <th></th>\n",
       "      <th></th>\n",
       "      <th></th>\n",
       "      <th></th>\n",
       "      <th></th>\n",
       "      <th></th>\n",
       "      <th></th>\n",
       "      <th></th>\n",
       "      <th></th>\n",
       "      <th></th>\n",
       "      <th></th>\n",
       "      <th></th>\n",
       "      <th></th>\n",
       "      <th></th>\n",
       "      <th></th>\n",
       "      <th></th>\n",
       "      <th></th>\n",
       "      <th></th>\n",
       "    </tr>\n",
       "  </thead>\n",
       "  <tbody>\n",
       "    <tr>\n",
       "      <th>GDH3</th>\n",
       "      <td>GDH3</td>\n",
       "      <td>31625.0</td>\n",
       "      <td>32998.0</td>\n",
       "      <td>+</td>\n",
       "      <td>ATGACAAGCGAACCAGAGTTTCAGCAGGCTTACGATGAGATCGTTT...</td>\n",
       "      <td>1374</td>\n",
       "      <td>True</td>\n",
       "      <td>0.485444</td>\n",
       "      <td>1.077532</td>\n",
       "      <td>0.089819</td>\n",
       "      <td>...</td>\n",
       "      <td>-10.076061</td>\n",
       "      <td>-9.483638</td>\n",
       "      <td>-8.343823</td>\n",
       "      <td>-7.849622</td>\n",
       "      <td>-7.419854</td>\n",
       "      <td>-0.109852</td>\n",
       "      <td>0.012067</td>\n",
       "      <td>-0.051404</td>\n",
       "      <td>-0.573989</td>\n",
       "      <td>-0.550694</td>\n",
       "    </tr>\n",
       "    <tr>\n",
       "      <th>BDH2</th>\n",
       "      <td>BDH2</td>\n",
       "      <td>33506.0</td>\n",
       "      <td>34759.0</td>\n",
       "      <td>+</td>\n",
       "      <td>ATGAGAGCCTTAGCGTATTTCGGTAAAGGTAACATCAGATTCACCA...</td>\n",
       "      <td>1254</td>\n",
       "      <td>True</td>\n",
       "      <td>0.484848</td>\n",
       "      <td>0.559819</td>\n",
       "      <td>0.101853</td>\n",
       "      <td>...</td>\n",
       "      <td>-9.012457</td>\n",
       "      <td>-8.404090</td>\n",
       "      <td>-7.887480</td>\n",
       "      <td>-7.570515</td>\n",
       "      <td>-7.207328</td>\n",
       "      <td>-0.069453</td>\n",
       "      <td>0.004824</td>\n",
       "      <td>-0.094082</td>\n",
       "      <td>-0.615253</td>\n",
       "      <td>-0.484098</td>\n",
       "    </tr>\n",
       "    <tr>\n",
       "      <th>BDH1</th>\n",
       "      <td>BDH1</td>\n",
       "      <td>35211.0</td>\n",
       "      <td>36359.0</td>\n",
       "      <td>+</td>\n",
       "      <td>ATGAGAGCTTTGGCATATTTCAAGAAGGGTGATATTCACTTCACTA...</td>\n",
       "      <td>1149</td>\n",
       "      <td>True</td>\n",
       "      <td>0.449956</td>\n",
       "      <td>1.741424</td>\n",
       "      <td>0.105991</td>\n",
       "      <td>...</td>\n",
       "      <td>-8.022431</td>\n",
       "      <td>-7.849994</td>\n",
       "      <td>-7.817956</td>\n",
       "      <td>-7.769308</td>\n",
       "      <td>-7.357529</td>\n",
       "      <td>-0.024996</td>\n",
       "      <td>0.000625</td>\n",
       "      <td>0.249636</td>\n",
       "      <td>0.570496</td>\n",
       "      <td>0.299680</td>\n",
       "    </tr>\n",
       "    <tr>\n",
       "      <th>ECM1</th>\n",
       "      <td>ECM1</td>\n",
       "      <td>36565.0</td>\n",
       "      <td>37203.0</td>\n",
       "      <td>+</td>\n",
       "      <td>ATGTGGGAACAAAGACGACAAAAGGTAGTTTTTTCCTTGACTATAC...</td>\n",
       "      <td>639</td>\n",
       "      <td>True</td>\n",
       "      <td>0.403756</td>\n",
       "      <td>0.997815</td>\n",
       "      <td>0.136281</td>\n",
       "      <td>...</td>\n",
       "      <td>-8.943690</td>\n",
       "      <td>-8.712437</td>\n",
       "      <td>-8.593025</td>\n",
       "      <td>-8.492389</td>\n",
       "      <td>-8.422527</td>\n",
       "      <td>-0.016790</td>\n",
       "      <td>0.000282</td>\n",
       "      <td>0.274398</td>\n",
       "      <td>0.467629</td>\n",
       "      <td>0.432871</td>\n",
       "    </tr>\n",
       "    <tr>\n",
       "      <th>CNE1</th>\n",
       "      <td>CNE1</td>\n",
       "      <td>37520.0</td>\n",
       "      <td>39028.0</td>\n",
       "      <td>+</td>\n",
       "      <td>ATGAAATTTTCTGCGTATTTATGGTGGCTGTTTTTGAATCTAGCGT...</td>\n",
       "      <td>1509</td>\n",
       "      <td>True</td>\n",
       "      <td>0.433400</td>\n",
       "      <td>0.164382</td>\n",
       "      <td>0.050166</td>\n",
       "      <td>...</td>\n",
       "      <td>-9.723498</td>\n",
       "      <td>-9.625497</td>\n",
       "      <td>-9.589312</td>\n",
       "      <td>-9.512295</td>\n",
       "      <td>-9.419379</td>\n",
       "      <td>-0.009782</td>\n",
       "      <td>0.000096</td>\n",
       "      <td>-0.314356</td>\n",
       "      <td>-0.346370</td>\n",
       "      <td>-0.350907</td>\n",
       "    </tr>\n",
       "  </tbody>\n",
       "</table>\n",
       "<p>5 rows × 25 columns</p>\n",
       "</div>"
      ],
      "text/plain": [
       "      gene  start_loc  stop_loc strand  \\\n",
       "gene                                     \n",
       "GDH3  GDH3    31625.0   32998.0      +   \n",
       "BDH2  BDH2    33506.0   34759.0      +   \n",
       "BDH1  BDH1    35211.0   36359.0      +   \n",
       "ECM1  ECM1    36565.0   37203.0      +   \n",
       "CNE1  CNE1    37520.0   39028.0      +   \n",
       "\n",
       "                                                cds_seq  cds_len  \\\n",
       "gene                                                               \n",
       "GDH3  ATGACAAGCGAACCAGAGTTTCAGCAGGCTTACGATGAGATCGTTT...     1374   \n",
       "BDH2  ATGAGAGCCTTAGCGTATTTCGGTAAAGGTAACATCAGATTCACCA...     1254   \n",
       "BDH1  ATGAGAGCTTTGGCATATTTCAAGAAGGGTGATATTCACTTCACTA...     1149   \n",
       "ECM1  ATGTGGGAACAAAGACGACAAAAGGTAGTTTTTTCCTTGACTATAC...      639   \n",
       "CNE1  ATGAAATTTTCTGCGTATTTATGGTGGCTGTTTTTGAATCTAGCGT...     1509   \n",
       "\n",
       "      well_behaved  GC_percent_cds  roc_semppr_mean      iCUB  ...        min  \\\n",
       "gene                                                           ...              \n",
       "GDH3          True        0.485444         1.077532  0.089819  ... -10.076061   \n",
       "BDH2          True        0.484848         0.559819  0.101853  ...  -9.012457   \n",
       "BDH1          True        0.449956         1.741424  0.105991  ...  -8.022431   \n",
       "ECM1          True        0.403756         0.997815  0.136281  ...  -8.943690   \n",
       "CNE1          True        0.433400         0.164382  0.050166  ...  -9.723498   \n",
       "\n",
       "      25_percentile  50_percentile  75_percentile       max        cv  \\\n",
       "gene                                                                    \n",
       "GDH3      -9.483638      -8.343823      -7.849622 -7.419854 -0.109852   \n",
       "BDH2      -8.404090      -7.887480      -7.570515 -7.207328 -0.069453   \n",
       "BDH1      -7.849994      -7.817956      -7.769308 -7.357529 -0.024996   \n",
       "ECM1      -8.712437      -8.593025      -8.492389 -8.422527 -0.016790   \n",
       "CNE1      -9.625497      -9.589312      -9.512295 -9.419379 -0.009782   \n",
       "\n",
       "         noise  lin_slope     lin_r  spearmans_rho  \n",
       "gene                                                \n",
       "GDH3  0.012067  -0.051404 -0.573989      -0.550694  \n",
       "BDH2  0.004824  -0.094082 -0.615253      -0.484098  \n",
       "BDH1  0.000625   0.249636  0.570496       0.299680  \n",
       "ECM1  0.000282   0.274398  0.467629       0.432871  \n",
       "CNE1  0.000096  -0.314356 -0.346370      -0.350907  \n",
       "\n",
       "[5 rows x 25 columns]"
      ]
     },
     "execution_count": 43,
     "metadata": {},
     "output_type": "execute_result"
    }
   ],
   "source": [
    "if data_tag in ['ecoli_full', 'ecoli_sparse']:\n",
    "    full_df = full_df.merge(exp_summary_df, how='inner', left_index=True, right_index=True)\n",
    "elif data_tag in ['scer_rna', 'scer_prot']:\n",
    "    print(full_df.shape)\n",
    "    full_df = full_df[full_df['gene'] != 'hypothetical protein']\n",
    "    print(full_df.shape)\n",
    "    assert set(full_df['gene'].str[-1:]) == set(['p'])\n",
    "    full_df['gene'] = full_df['gene'].str.slice(start=0, stop=-1)\n",
    "    full_df['gene'] = full_df['gene'].str.upper()\n",
    "    full_df = full_df.merge(exp_summary_df, how='inner', left_on='gene', right_index=True)\n",
    "    full_df = full_df.set_index(full_df['gene'])\n",
    "    full_df = full_df[~full_df.index.duplicated(keep='first')]\n",
    "print(full_df.shape)\n",
    "full_df.head()"
   ]
  },
  {
   "cell_type": "markdown",
   "metadata": {},
   "source": [
    "# Find the individual conditions whose gene expression is most (and least) correlated with CUB"
   ]
  },
  {
   "cell_type": "code",
   "execution_count": 44,
   "metadata": {},
   "outputs": [
    {
     "name": "stdout",
     "output_type": "stream",
     "text": [
      "(6, 'NH4_0.35_7.5_0.5') 0.40482399445475575\n",
      "(0, 'NH4_0.05_7.5_0.5') 0.22034251884275158\n"
     ]
    }
   ],
   "source": [
    "###Working with the full expression dataset here\n",
    "temp_df = exp_df.loc[full_df.index]\n",
    "\n",
    "corrs = []\n",
    "growth = []\n",
    "min_r2 = 1\n",
    "min_col = (np.nan, '')\n",
    "max_r2 = 0\n",
    "max_col = (np.nan, '')\n",
    "for i, col in enumerate(temp_df.columns):\n",
    "    ###Test correlation between each column (individual condition expression) against pre-defined metric\n",
    "    r, p = stats.pearsonr(full_df[metric], temp_df[col])\n",
    "    r2 = r**2\n",
    "    corrs.append(r2)\n",
    "    ###Ensure that I can match the expression column to its proper meta-data\n",
    "    assert meta_df[meta_df['Simple_sample_id']==col].shape[0]==1\n",
    "    ###And extract the growth rate\n",
    "    growth.append(meta_df[meta_df['Simple_sample_id']==col].iloc[0]['Growth Rate (1/hr)'])\n",
    "    if r2 > max_r2:\n",
    "        max_r2 = r2\n",
    "        max_col = (i, col)\n",
    "    if r2 < min_r2:\n",
    "        min_r2 = r2\n",
    "        min_col = (i, col)\n",
    "print(max_col, max_r2)\n",
    "print(min_col, min_r2)"
   ]
  },
  {
   "cell_type": "code",
   "execution_count": 45,
   "metadata": {},
   "outputs": [
    {
     "data": {
      "image/png": "[encoded data removed]",
      "text/plain": [
       "<Figure size 450x300 with 1 Axes>"
      ]
     },
     "metadata": {
      "needs_background": "light"
     },
     "output_type": "display_data"
    },
    {
     "data": {
      "image/png": "[encoded data removed]",
      "text/plain": [
       "<Figure size 450x300 with 1 Axes>"
      ]
     },
     "metadata": {
      "needs_background": "light"
     },
     "output_type": "display_data"
    }
   ],
   "source": [
    "assert all(temp_df.index == full_df.index)\n",
    "fig, ax = plt.subplots(figsize=(3,2))\n",
    "ax.plot(temp_df[max_col[1]], full_df[metric], marker='.', linestyle='', alpha=0.2)\n",
    "if 'ecoli' in data_tag:\n",
    "    ax.set_xlabel('Expression in Condition {} (TPM)'.format(max_col[0]))\n",
    "elif data_tag == 'scer_rna':\n",
    "    ax.set_xlabel('Relative RNA abundance, Condition {}'.format(max_col[0]))\n",
    "elif data_tag == 'scer_prot':\n",
    "    ax.set_xlabel('Relative protein abundance, Condition {}'.format(max_col[0]))\n",
    "ax.set_ylabel(metric)\n",
    "ax.set_title(r\"R$^2$ = {:.3f}\".format(max_r2))\n",
    "if save_figs:\n",
    "    plt.savefig(figs_dir+'/{}_vs_Cond{}.pdf'.format(metric, max_col[0]), bbox_inches='tight')\n",
    "\n",
    "fig, ax = plt.subplots(figsize=(3,2))\n",
    "ax.plot(temp_df[min_col[1]], full_df[metric], marker='.', linestyle='', alpha=0.2)\n",
    "if 'ecoli' in data_tag:\n",
    "    ax.set_xlabel('Expression in Condition {} (TPM)'.format(min_col[0]))\n",
    "elif data_tag == 'scer_rna':\n",
    "    ax.set_xlabel('Relative RNA abundance, Condition {}'.format(min_col[0]))\n",
    "elif data_tag == 'scer_prot':\n",
    "    ax.set_xlabel('Relative protein abundance, Condition {}'.format(min_col[0]))\n",
    "ax.set_ylabel(metric)\n",
    "ax.set_title(r\"R$^2$ = {:.3f}\".format(min_r2))\n",
    "if save_figs:\n",
    "    plt.savefig(figs_dir+'/{}_vs_Cond{}.pdf'.format(metric, min_col[0]), bbox_inches='tight')"
   ]
  },
  {
   "cell_type": "code",
   "execution_count": 34,
   "metadata": {},
   "outputs": [
    {
     "name": "stdout",
     "output_type": "stream",
     "text": [
      "SpearmanrResult(correlation=0.4674602320616079, pvalue=0.009196960306485799)\n",
      "(0.48397140444358033, 0.00673194055090414)\n"
     ]
    },
    {
     "data": {
      "image/png": "[encoded data removed]",
      "text/plain": [
       "<Figure size 450x300 with 1 Axes>"
      ]
     },
     "metadata": {
      "needs_background": "light"
     },
     "output_type": "display_data"
    }
   ],
   "source": [
    "fig, ax = plt.subplots(figsize=(3,2))\n",
    "ax.plot(corrs, growth, marker='o', linestyle='')\n",
    "ax.set_xlabel('R$^2$ ({} vs expression)'.format(metric))\n",
    "ax.set_ylabel('Growth rate (1/hr)')\n",
    "print(stats.spearmanr(corrs, growth))\n",
    "print(stats.pearsonr(corrs, growth))\n",
    "ax.set_title('')\n",
    "if save_figs:\n",
    "    plt.savefig(figs_dir+'/growth_vs_cond_corrs.pdf', bbox_inches='tight')"
   ]
  },
  {
   "cell_type": "code",
   "execution_count": null,
   "metadata": {},
   "outputs": [],
   "source": []
  },
  {
   "cell_type": "markdown",
   "metadata": {},
   "source": [
    "# Determine which expression-based summary statistics are *most* correlated with CUB metrics"
   ]
  },
  {
   "cell_type": "code",
   "execution_count": 17,
   "metadata": {},
   "outputs": [
    {
     "name": "stdout",
     "output_type": "stream",
     "text": [
      "Index(['gene', 'start_loc', 'stop_loc', 'strand', 'cds_seq', 'cds_len',\n",
      "       'well_behaved', 'GC_percent_cds', 'roc_semppr_mean', 'iCUB', 'CAI',\n",
      "       'tAI', 'count', 'mean', 'std', 'min', '25_percentile', '50_percentile',\n",
      "       '75_percentile', 'max', 'cv', 'noise', 'lin_slope', 'lin_r',\n",
      "       'spearmans_rho'],\n",
      "      dtype='object')\n"
     ]
    }
   ],
   "source": [
    "print(full_df.columns)"
   ]
  },
  {
   "cell_type": "code",
   "execution_count": 18,
   "metadata": {},
   "outputs": [
    {
     "name": "stdout",
     "output_type": "stream",
     "text": [
      "mean 0.26894306928352224 6.926386940296424e-264\n",
      "50_percentile 0.25570908044893487 6.770845505554565e-249\n",
      "max 0.2544825004190619 1.6088149504169594e-247\n",
      "min 0.23534982746899752 2.4013536098863037e-226\n",
      "GC_percent_cds 0.03548840742962816 4.597065924386858e-32\n",
      "cds_len 0.0027982551079439415 0.0010299300121771472\n"
     ]
    }
   ],
   "source": [
    "sstats = ['mean', '50_percentile', 'max', 'min']\n",
    "\n",
    "cub_corrs = []\n",
    "for sstat in sstats:\n",
    "    r, p = stats.pearsonr(full_df[metric], full_df[sstat])\n",
    "    r2 = r**2\n",
    "    print(sstat, r2, p)\n",
    "    cub_corrs.append(r2)\n",
    "\n",
    "other_metrics = ['GC_percent_cds', 'cds_len']\n",
    "other_corrs = []\n",
    "for other_metric in other_metrics:\n",
    "    r, p = stats.pearsonr(full_df[other_metric], full_df[sstat])\n",
    "    r2 = r**2\n",
    "    print(other_metric, r2, p)\n",
    "    other_corrs.append(r2)"
   ]
  },
  {
   "cell_type": "code",
   "execution_count": 19,
   "metadata": {},
   "outputs": [
    {
     "data": {
      "image/png": "[encoded data removed]",
      "text/plain": [
       "<Figure size 600x375 with 1 Axes>"
      ]
     },
     "metadata": {
      "needs_background": "light"
     },
     "output_type": "display_data"
    }
   ],
   "source": [
    "fig, ax = plt.subplots(figsize=(4,2.5))\n",
    "ax.bar(np.arange(len(cub_corrs)), cub_corrs)\n",
    "ax.set_ylabel('R$^2$ ({} vs metric)'.format(metric))\n",
    "\n",
    "\n",
    "ax.axvline(len(cub_corrs)-0.5, c='k')\n",
    "ax.bar(np.arange(len(cub_corrs), len(cub_corrs)+len(other_corrs)), other_corrs)\n",
    "\n",
    "ax.set_xticks(np.arange(len(cub_corrs) + len(other_corrs)))\n",
    "ax.set_xticklabels(['Mean', 'Median', 'Max.', 'Min.', 'GC%', 'CDS\\nlength'], rotation=0)\n",
    "ax.set_xlabel('Gene expression summary statistic', labelpad=(0, 10, 0, 0))\n",
    "ax.xaxis.set_label_coords(0.335, -0.17)\n",
    "\n",
    "\n",
    "\n",
    "if save_figs:\n",
    "    plt.savefig(figs_dir+'/{}_summary_stats_corr.pdf'.format(metric), bbox_inches='tight')"
   ]
  },
  {
   "cell_type": "markdown",
   "metadata": {},
   "source": [
    "## Hair-brained scheme to optimize weights\n",
    "\n",
    "(shelved for now, lots of parameters to optimize and a strange fitness landscape to consider)"
   ]
  },
  {
   "cell_type": "code",
   "execution_count": null,
   "metadata": {},
   "outputs": [],
   "source": [
    "# def custom_corr_fxn(weights, exp_df, full_df):\n",
    "#     all_vals = []\n",
    "#     for gene in full_df.index:\n",
    "#         all_vals.append(np.average(exp_df.loc[gene], weights=weights))\n",
    "#     rho, p = stats.spearmanr(all_vals, full_df['CAI'])\n",
    "#     print('here {}'.format(rho))\n",
    "#     return (1-rho)"
   ]
  },
  {
   "cell_type": "code",
   "execution_count": null,
   "metadata": {},
   "outputs": [],
   "source": [
    "# x0 = np.random.random(size=len(exp_df.columns))\n",
    "# x0 = x0 / np.sum(x0)\n",
    "# print(np.sum(x0))\n",
    "# constraints = [{'type': 'eq', 'fun': lambda x: 1 - sum(x)},\n",
    "#                {'type': 'ineq', 'fun': lambda x: x}]\n",
    "\n",
    "# res = minimize(custom_corr_fxn, x0, args=(exp_df, full_df), method='SLSQP', constraints=constraints,\n",
    "#                options={'maxiter': 20, 'disp': True, 'eps':1e-1})"
   ]
  },
  {
   "cell_type": "code",
   "execution_count": null,
   "metadata": {},
   "outputs": [],
   "source": [
    "# bounds = [(0,1) for i in exp_df.columns]\n",
    "# def constr_f(x):\n",
    "#     return np.sum(x)\n",
    "# nlc = NonlinearConstraint(constr_f, 1.0, 1.0)\n",
    "\n",
    "# res = differential_evolution(custom_corr_fxn,\\\n",
    "#                              bounds=np.array(bounds),\\\n",
    "#                              args=(exp_df, full_df),\\\n",
    "#                              constraints=[nlc])"
   ]
  },
  {
   "cell_type": "code",
   "execution_count": null,
   "metadata": {},
   "outputs": [],
   "source": [
    "# fig, ax = plt.subplots()\n",
    "# ax.scatter(res.x, meta_df['Growth Rate (1/hr)'])"
   ]
  },
  {
   "cell_type": "code",
   "execution_count": null,
   "metadata": {},
   "outputs": [],
   "source": []
  },
  {
   "cell_type": "markdown",
   "metadata": {},
   "source": [
    "# Regression analysis to assess predictors of CUB"
   ]
  },
  {
   "cell_type": "code",
   "execution_count": null,
   "metadata": {},
   "outputs": [],
   "source": [
    "print(full_df.columns)"
   ]
  },
  {
   "cell_type": "code",
   "execution_count": null,
   "metadata": {},
   "outputs": [],
   "source": [
    "model_correlations = []"
   ]
  },
  {
   "cell_type": "code",
   "execution_count": null,
   "metadata": {},
   "outputs": [],
   "source": [
    "###Model 1, average expression\n",
    "model1_params = []\n",
    "fitted = smf.ols('zscore({}) ~ zscore(mean)'.format(metric), data=full_df).fit()\n",
    "params = fitted.params\n",
    "cis = fitted.conf_int(alpha=0.05, cols=None)\n",
    "model_correlations.append(fitted.rsquared_adj)\n",
    "model1_params = list(zip(params, cis.values))\n",
    "fitted.summary()"
   ]
  },
  {
   "cell_type": "code",
   "execution_count": null,
   "metadata": {},
   "outputs": [],
   "source": [
    "###Model 2, growth correlation\n",
    "model2_params = []\n",
    "fitted = smf.ols('zscore({}) ~ zscore(lin_r)'.format(metric), data=full_df).fit()\n",
    "params = fitted.params\n",
    "cis = fitted.conf_int(alpha=0.05, cols=None)\n",
    "model2_params = list(zip(params, cis.values))\n",
    "model_correlations.append(fitted.rsquared_adj)\n",
    "\n",
    "\n",
    "fitted.summary()"
   ]
  },
  {
   "cell_type": "code",
   "execution_count": null,
   "metadata": {},
   "outputs": [],
   "source": [
    "###Model 3, all together\n",
    "model3_params = []\n",
    "fitted = smf.ols('zscore({}) ~ zscore(mean) + zscore(lin_r)'.format(metric), data=full_df).fit()\n",
    "params = fitted.params\n",
    "cis = fitted.conf_int(alpha=0.05, cols=None)\n",
    "model3_params = list(zip(params, cis.values))\n",
    "model_correlations.append(fitted.rsquared_adj)\n",
    "fitted.summary()"
   ]
  },
  {
   "cell_type": "code",
   "execution_count": null,
   "metadata": {},
   "outputs": [],
   "source": [
    "counter = 0\n",
    "fig, ax = plt.subplots()\n",
    "for model_params in [model1_params, model2_params, model3_params]:\n",
    "    for i,ind_param in enumerate(model_params[1:]):\n",
    "        plt.plot(ind_param[0], -i+counter, marker='s', markersize=8, color=color_cycle[0])\n",
    "        plt.plot([ind_param[1][0], ind_param[1][1]], [-i+counter, -i+counter], marker='', color='0.35')\n",
    "    ax.axhline(-i+counter-1, c='k')\n",
    "    counter -= 2\n",
    "ax.set_ylim(-6, 1)\n",
    "ax.set_yticks(range(-6, 2))\n",
    "labels_top_to_bottom = ['', 'Expression\\n(mean)\\t\\t', '',\\\n",
    "                    'GAI', '',\\\n",
    "                    'Expression\\n(mean)\\t\\t', 'GAI', '']\n",
    "ax.set_yticklabels(labels_top_to_bottom[::-1])\n",
    "ax.set_xlabel('Standardized model coefficient')\n",
    "ax.set_xlim(0, 0.6)\n",
    "if save_figs:\n",
    "    plt.savefig(figs_dir+'/{}_model_comp_coefs.pdf'.format(metric), bbox_inches='tight')\n",
    "\n",
    "fig, ax = plt.subplots()\n",
    "ax.barh(0, model_correlations[0], 0.8, facecolor='0.5')\n",
    "ax.barh(-2, model_correlations[1], 0.8, facecolor='0.5')\n",
    "ax.barh(-4.5, model_correlations[2], 0.8, facecolor='0.5')\n",
    "ax.axhline(-1, c='k')\n",
    "ax.axhline(-3, c='k')\n",
    "ax.set_ylim(-6, 1)\n",
    "ax.set_yticks(range(-6, 2))\n",
    "ax.set_yticklabels([''])\n",
    "ax.set_xlabel('Adjusted-R$^2$');\n",
    "if save_figs:\n",
    "    plt.savefig(figs_dir+'/{}_model_comp_R2.pdf'.format(metric), bbox_inches='tight')"
   ]
  },
  {
   "cell_type": "code",
   "execution_count": null,
   "metadata": {},
   "outputs": [],
   "source": [
    "###Model1\n",
    "fig, ax = plt.subplots()\n",
    "ax.plot(full_df['mean'], zscore(full_df[metric]), marker='.', linestyle='', alpha=0.2)\n",
    "ax.set_xlabel('Expression (mean)')\n",
    "ax.set_ylabel('{} (zscore)'.format(metric))\n",
    "\n",
    "###Model 2\n",
    "fig, ax = plt.subplots()\n",
    "ax.plot(full_df['lin_r'], zscore(full_df[metric]), marker='.', linestyle='', alpha=0.2)\n",
    "ax.set_xlabel('GAI')\n",
    "ax.set_ylabel('{} (zscore)'.format(metric))\n",
    "\n",
    "###Model 3\n",
    "fig, ax = plt.subplots()\n",
    "ax.plot(fitted.predict(), zscore(full_df[metric]), marker='.', linestyle='', alpha=0.2)\n",
    "ax.set_xlabel('Multi-variate model predictions')\n",
    "ax.set_ylabel('{} (zscore)'.format(metric))\n",
    "if save_figs:\n",
    "    plt.savefig(figs_dir+'/{}_best_additive.pdf'.format(metric), bbox_inches='tight')"
   ]
  },
  {
   "cell_type": "code",
   "execution_count": null,
   "metadata": {},
   "outputs": [],
   "source": [
    "print(stats.spearmanr(zscore(full_df['mean']), zscore(full_df[metric])))\n",
    "print(stats.spearmanr(fitted.predict(), zscore(full_df[metric])))"
   ]
  },
  {
   "cell_type": "markdown",
   "metadata": {},
   "source": [
    "## Robustness check \n",
    "\n",
    "**Ensure that results are consistent when using with value from the lowest/highest correlation condition *rather* than the mean**"
   ]
  },
  {
   "cell_type": "code",
   "execution_count": null,
   "metadata": {},
   "outputs": [],
   "source": [
    "temp_df = full_df.merge(exp_df, left_index=True, right_index=True, how='inner')\n",
    "temp_df.rename(columns={min_col[1]:'min_col',max_col[1]:'max_col'}, inplace=True)"
   ]
  },
  {
   "cell_type": "code",
   "execution_count": null,
   "metadata": {},
   "outputs": [],
   "source": [
    "fitted = smf.ols('zscore({}) ~ zscore({}) + zscore(lin_r)'.format(metric, 'min_col'), data=temp_df).fit()\n",
    "fitted.summary()"
   ]
  },
  {
   "cell_type": "code",
   "execution_count": null,
   "metadata": {},
   "outputs": [],
   "source": [
    "fitted = smf.ols('zscore({}) ~ zscore({}) + zscore(lin_r)'.format(metric, 'max_col'), data=temp_df).fit()\n",
    "fitted.summary()"
   ]
  },
  {
   "cell_type": "code",
   "execution_count": null,
   "metadata": {},
   "outputs": [],
   "source": []
  },
  {
   "cell_type": "markdown",
   "metadata": {},
   "source": [
    "# Visualizing alternative models for robustness"
   ]
  },
  {
   "cell_type": "markdown",
   "metadata": {},
   "source": [
    "**First, an interaction effect**"
   ]
  },
  {
   "cell_type": "code",
   "execution_count": null,
   "metadata": {},
   "outputs": [],
   "source": [
    "fitted = smf.ols('{} ~ mean * lin_r'.format(metric), data=full_df).fit()\n",
    "fitted.summary()"
   ]
  },
  {
   "cell_type": "code",
   "execution_count": null,
   "metadata": {},
   "outputs": [],
   "source": [
    "growth_corrs = [-1, -0.66, -0.33, 0, 0.33, 0.66, 1]\n",
    "#Plot the resulting data\n",
    "fig, ax = plt.subplots()\n",
    "x_vals = np.linspace(full_df['mean'].min(), full_df['mean'].max(), 100)\n",
    "ax.plot(full_df['mean'], full_df[metric], marker='.', linestyle='', alpha=0.2)\n",
    "for i in growth_corrs[::-1]:\n",
    "    ax.plot(x_vals, fitted.params[0] +\\\n",
    "            (fitted.params[1]*x_vals) +\\\n",
    "            (fitted.params[2]*i) +\\\n",
    "            (fitted.params[3]*x_vals*i), label=i)\n",
    "ax.set_xlabel('Expression (mean, log TPM)')\n",
    "ax.set_ylabel('{}'.format(metric))\n",
    "leg = ax.legend(title='GAI value', bbox_to_anchor=(1, 1.035))\n",
    "plt.setp(leg.get_title(), multialignment='center')\n",
    "ax.set_title('Adjusted-R$^2$ = {:.3f}'.format(fitted.rsquared_adj))\n",
    "if save_figs:\n",
    "    plt.savefig(figs_dir+'/{}_best_interaction.pdf'.format(metric), bbox_inches='tight')"
   ]
  },
  {
   "cell_type": "markdown",
   "metadata": {},
   "source": [
    "**Next, a basic polynomial fit**"
   ]
  },
  {
   "cell_type": "code",
   "execution_count": null,
   "metadata": {},
   "outputs": [],
   "source": [
    "fitted = smf.ols('{} ~ np.power(mean, 2) + np.power(mean, 1) + lin_r'.format(metric), data=full_df).fit()\n",
    "fitted.summary()"
   ]
  },
  {
   "cell_type": "code",
   "execution_count": null,
   "metadata": {},
   "outputs": [],
   "source": [
    "growth_corrs = [-1, -0.66, -0.33, 0, 0.33, 0.66, 1]\n",
    "#Plot the resulting data\n",
    "fig, ax = plt.subplots()\n",
    "x_vals = np.linspace(full_df['mean'].min(), full_df['mean'].max(), 100)\n",
    "ax.plot(full_df['mean'], full_df[metric], marker='.', linestyle='', alpha=0.2)\n",
    "for i in growth_corrs[::-1]:\n",
    "    ax.plot(x_vals, fitted.params[0] +\\\n",
    "            (fitted.params[1]*np.power(x_vals, 2)) +\\\n",
    "            (fitted.params[2]*np.power(x_vals, 1)) +\\\n",
    "            (fitted.params[3]*i), label=i)\n",
    "ax.set_xlabel('Expression (mean, log TPM)')\n",
    "ax.set_ylabel('{}'.format(metric))\n",
    "leg = ax.legend(title='GAI value', bbox_to_anchor=(1, 1.035))\n",
    "plt.setp(leg.get_title(), multialignment='center')\n",
    "ax.set_title('Adjusted-R$^2$ = {:.3f}'.format(fitted.rsquared_adj))\n",
    "if save_figs:\n",
    "    plt.savefig(figs_dir+'/{}_poly_multi.pdf'.format(metric), bbox_inches='tight')"
   ]
  },
  {
   "cell_type": "markdown",
   "metadata": {},
   "source": [
    "**And a log-transformed y-variable fit (with the interaction term**"
   ]
  },
  {
   "cell_type": "code",
   "execution_count": null,
   "metadata": {},
   "outputs": [],
   "source": [
    "fitted = smf.ols('np.log({}) ~ mean * lin_r'.format(metric), data=full_df).fit()\n",
    "fitted.summary()"
   ]
  },
  {
   "cell_type": "code",
   "execution_count": null,
   "metadata": {},
   "outputs": [],
   "source": [
    "growth_corrs = [-1, -0.66, -0.33, 0, 0.33, 0.66, 1]\n",
    "#Plot the resulting data\n",
    "fig, ax = plt.subplots()\n",
    "x_vals = np.linspace(full_df['mean'].min(), full_df['mean'].max(), 100)\n",
    "ax.plot(full_df['mean'], full_df[metric], marker='.', linestyle='', alpha=0.2)\n",
    "for i in growth_corrs[::-1]:\n",
    "    ax.plot(x_vals, np.exp(fitted.params[0] +\\\n",
    "            (fitted.params[1]*x_vals) +\\\n",
    "            (fitted.params[2]*i) +\\\n",
    "            (fitted.params[3]*x_vals*i)), label=i)\n",
    "ax.set_xlabel('Expression (mean, log TPM)')\n",
    "ax.set_ylabel('{}'.format(metric))\n",
    "leg = ax.legend(title='GAI value', bbox_to_anchor=(1, 1.035))\n",
    "plt.setp(leg.get_title(), multialignment='center')\n",
    "ax.set_title('Adjusted-R$^2$ = {:.3f}'.format(fitted.rsquared_adj))"
   ]
  },
  {
   "cell_type": "markdown",
   "metadata": {},
   "source": [
    "# Finally, some mixed linear models\n",
    "\n",
    "There are a few benefits and a few problems to the following analysis. **If** you're going to discretize data, you should do it using a mixed linear model as opposed to fixed-effects. Here, I'm only *really* interested in dealing with discrete categories as a visual companion, so this framework and the resulting plots have a few nice visual perks. But the above analyses that do not discretize the growth rate variable are far more statistically *correct* in my opinion.\n",
    "\n",
    "Mixed effect models are difficult to summarize, we don't get the benefit of an R2 anymore (the term doesn't have much meaning here). We also can't directly compare models using the log-transformed response variable directly with the non-log-transformed version. Apparently, the log-likelihoods, AICs, etc. are on different scales and while there appear to be some ways to map one onto the other I haven't dug into this yet. \n",
    "\n",
    "There are some nuanced issues with fitting to the log-transformed data since the error distributions make some incorrect assumptions when doing this, but note that doesn't seem to ever stop anyone from log-scaling data and fitting linear lines so I'm putting it out there as a relatively minor issue here.\n",
    "\n",
    "Also, the `reml` flag seems to be a \"choose-as-you-see-fit\" parameter. There are a lot of warnings that crop up, but the results even with a bunch of warnings for basic `mixedlm` models look almost the same as the `ols` models so I didn't find this to be too concerning. \n",
    "\n",
    "And again, I can't stress this enough that we're doing this mainly for visualization purposes, binning / discretizing continuous data is **always** a bad idea (I've yet to ever see convincing evidence to the contrary). "
   ]
  },
  {
   "cell_type": "code",
   "execution_count": null,
   "metadata": {},
   "outputs": [],
   "source": [
    "reml=True\n",
    "n_cats = 10\n",
    "full_df['growth_cat'] = pd.qcut(full_df['lin_r'], n_cats, labels=list(range(n_cats)))"
   ]
  },
  {
   "cell_type": "markdown",
   "metadata": {},
   "source": [
    "## Linear model with a fixed slope and random intercept"
   ]
  },
  {
   "cell_type": "code",
   "execution_count": null,
   "metadata": {},
   "outputs": [],
   "source": [
    "temp_df = full_df\n",
    "\n",
    "fitted = smf.mixedlm('{} ~ mean'.format(metric),\\\n",
    "                     groups=temp_df['growth_cat'],\\\n",
    "                     data = temp_df).fit(reml=reml)\n",
    "print('AIC', fitted.aic)\n",
    "fitted.summary()"
   ]
  },
  {
   "cell_type": "code",
   "execution_count": null,
   "metadata": {},
   "outputs": [],
   "source": [
    "fig, ax = plt.subplots()\n",
    "ax.plot(full_df['mean'], full_df[metric], marker='.', linestyle='', alpha=0.2)\n",
    "for i in range(n_cats-1, -1, -1):\n",
    "    x_vals = np.linspace(full_df['mean'].min(), full_df['mean'].max(), 100)\n",
    "    line = fitted.params[0]+fitted.random_effects[i]['Group'] + ((fitted.params[1])*x_vals)\n",
    "    ax.plot(x_vals, line, label=i)\n",
    "ax.set_xlabel('Mean expression')\n",
    "ax.set_ylabel('{}'.format(metric))\n",
    "if n_cats == 5:\n",
    "    ax.legend(title='Growth rate quantile\\n(highest correlation to lowest)', ncol=1, bbox_to_anchor=(1, 1.05))\n",
    "elif n_cats == 10:\n",
    "    ax.legend(title='Growth rate decile\\n(highest correlation to lowest)', ncol=2, bbox_to_anchor=(1, 1.05))\n",
    "else:\n",
    "    ax.legend(title='Growth rate category\\n(highest correlation to lowest)', ncol=2, bbox_to_anchor=(1, 1.05))"
   ]
  },
  {
   "cell_type": "markdown",
   "metadata": {},
   "source": [
    "## Linear with a random slope and fixed intercept"
   ]
  },
  {
   "cell_type": "code",
   "execution_count": null,
   "metadata": {},
   "outputs": [],
   "source": [
    "temp_df = full_df\n",
    "\n",
    "fitted = smf.mixedlm('{} ~ mean'.format(metric),\\\n",
    "                     groups=temp_df['growth_cat'],\\\n",
    "                     re_formula='~0+mean',\n",
    "                     data = temp_df).fit(reml=reml)\n",
    "print('AIC', fitted.aic)\n",
    "fitted.summary()"
   ]
  },
  {
   "cell_type": "code",
   "execution_count": null,
   "metadata": {},
   "outputs": [],
   "source": [
    "fig, ax = plt.subplots()\n",
    "ax.plot(full_df['mean'], full_df[metric], marker='.', linestyle='', alpha=0.2)\n",
    "for i in range(n_cats-1, -1, -1):\n",
    "    x_vals = np.linspace(full_df['mean'].min(), full_df['mean'].max(), 100)\n",
    "    line = fitted.params[0] + ((fitted.params[1]+fitted.random_effects[i]['mean'])*x_vals)\n",
    "    ax.plot(x_vals, line, label=i)\n",
    "ax.set_xlabel('Mean expression')\n",
    "ax.set_ylabel('{}'.format(metric))\n",
    "if n_cats == 5:\n",
    "    ax.legend(title='Growth rate quantile\\n(highest correlation to lowest)', ncol=1, bbox_to_anchor=(1, 1.05))\n",
    "elif n_cats == 10:\n",
    "    ax.legend(title='Growth rate decile\\n(highest correlation to lowest)', ncol=2, bbox_to_anchor=(1, 1.05))\n",
    "else:\n",
    "    ax.legend(title='Growth rate category\\n(highest correlation to lowest)', ncol=2, bbox_to_anchor=(1, 1.05))"
   ]
  },
  {
   "cell_type": "markdown",
   "metadata": {},
   "source": [
    "## Linear with random effect slope AND random intercepts"
   ]
  },
  {
   "cell_type": "code",
   "execution_count": null,
   "metadata": {},
   "outputs": [],
   "source": [
    "temp_df = full_df\n",
    "\n",
    "fitted = smf.mixedlm('{} ~ mean'.format(metric),\\\n",
    "                     groups=temp_df['growth_cat'],\\\n",
    "                     re_formula='~mean',\n",
    "                     data = temp_df).fit(reml=reml)\n",
    "print('AIC', fitted.aic)\n",
    "fitted.summary()"
   ]
  },
  {
   "cell_type": "code",
   "execution_count": null,
   "metadata": {
    "scrolled": true
   },
   "outputs": [],
   "source": [
    "fig, ax = plt.subplots()\n",
    "ax.plot(full_df['mean'], full_df[metric], marker='.', linestyle='', alpha=0.2)\n",
    "for i in range(n_cats-1, -1, -1):\n",
    "    x_vals = np.linspace(full_df['mean'].min(), full_df['mean'].max(), 100)\n",
    "    line = fitted.params[0]+fitted.random_effects[i]['Group'] + ((fitted.params[1]+fitted.random_effects[i]['mean'])*x_vals)\n",
    "    ax.plot(x_vals, line, label=i)\n",
    "ax.set_xlabel('Mean expression')\n",
    "ax.set_ylabel('{}'.format(metric))\n",
    "if n_cats == 5:\n",
    "    ax.legend(title='Growth rate quantile\\n(highest correlation to lowest)', ncol=1, bbox_to_anchor=(1, 1.05))\n",
    "elif n_cats == 10:\n",
    "    ax.legend(title='Growth rate decile\\n(highest correlation to lowest)', ncol=2, bbox_to_anchor=(1, 1.05))\n",
    "else:\n",
    "    ax.legend(title='Growth rate category\\n(highest correlation to lowest)', ncol=2, bbox_to_anchor=(1, 1.05))"
   ]
  },
  {
   "cell_type": "markdown",
   "metadata": {},
   "source": [
    "## Exponential with random slopes and random intercepts"
   ]
  },
  {
   "cell_type": "code",
   "execution_count": null,
   "metadata": {},
   "outputs": [],
   "source": [
    "temp_df = full_df\n",
    "\n",
    "fitted = smf.mixedlm('np.log({}) ~ mean'.format(metric),\\\n",
    "                     groups=temp_df['growth_cat'],\\\n",
    "                     re_formula='~mean',\n",
    "                     data = temp_df).fit(reml=reml)\n",
    "print('AIC', fitted.aic)\n",
    "fitted.summary()"
   ]
  },
  {
   "cell_type": "code",
   "execution_count": null,
   "metadata": {},
   "outputs": [],
   "source": [
    "fig, ax = plt.subplots()\n",
    "ax.plot(full_df['mean'], full_df[metric], marker='.', linestyle='', alpha=0.2)\n",
    "for i in range(n_cats-1, -1, -1):\n",
    "    x_vals = np.linspace(full_df['mean'].min(), full_df['mean'].max(), 100)\n",
    "    line = np.exp(fitted.params[0]+fitted.random_effects[i]['Group'] + ((fitted.params[1]+fitted.random_effects[i]['mean'])*x_vals))\n",
    "    ax.plot(x_vals, line, label=i)\n",
    "ax.set_xlabel('Mean expression')\n",
    "ax.set_ylabel('{}'.format(metric))\n",
    "if n_cats == 5:\n",
    "    ax.legend(title='Growth rate quantile\\n(highest correlation to lowest)', ncol=1, bbox_to_anchor=(1, 1.05))\n",
    "elif n_cats == 10:\n",
    "    ax.legend(title='Growth rate decile\\n(highest correlation to lowest)', ncol=2, bbox_to_anchor=(1, 1.05))\n",
    "else:\n",
    "    ax.legend(title='Growth rate category\\n(highest correlation to lowest)', ncol=2, bbox_to_anchor=(1, 1.05))"
   ]
  },
  {
   "cell_type": "code",
   "execution_count": null,
   "metadata": {},
   "outputs": [],
   "source": []
  },
  {
   "cell_type": "code",
   "execution_count": null,
   "metadata": {},
   "outputs": [],
   "source": []
  },
  {
   "cell_type": "code",
   "execution_count": null,
   "metadata": {},
   "outputs": [],
   "source": []
  },
  {
   "cell_type": "code",
   "execution_count": null,
   "metadata": {},
   "outputs": [],
   "source": []
  },
  {
   "cell_type": "code",
   "execution_count": null,
   "metadata": {},
   "outputs": [],
   "source": []
  },
  {
   "cell_type": "code",
   "execution_count": null,
   "metadata": {},
   "outputs": [],
   "source": []
  },
  {
   "cell_type": "code",
   "execution_count": null,
   "metadata": {},
   "outputs": [],
   "source": []
  },
  {
   "cell_type": "code",
   "execution_count": null,
   "metadata": {},
   "outputs": [],
   "source": []
  },
  {
   "cell_type": "code",
   "execution_count": null,
   "metadata": {},
   "outputs": [],
   "source": []
  },
  {
   "cell_type": "code",
   "execution_count": null,
   "metadata": {},
   "outputs": [],
   "source": []
  },
  {
   "cell_type": "code",
   "execution_count": null,
   "metadata": {},
   "outputs": [],
   "source": []
  },
  {
   "cell_type": "markdown",
   "metadata": {},
   "source": [
    "# Scratch"
   ]
  },
  {
   "cell_type": "code",
   "execution_count": null,
   "metadata": {},
   "outputs": [],
   "source": [
    "full_df"
   ]
  },
  {
   "cell_type": "code",
   "execution_count": null,
   "metadata": {},
   "outputs": [],
   "source": [
    "full_df.hist('lin_r')"
   ]
  },
  {
   "cell_type": "code",
   "execution_count": null,
   "metadata": {},
   "outputs": [],
   "source": [
    "metric = 'CAI'\n",
    "fitted = smf.ols('zscore({}) ~ zscore(mean)'.format(metric), data=full_df).fit()\n",
    "fitted.summary()\n",
    "# fitted = smf.ols('zscore({}) ~ zscore(lin_r)'.format(metric), data=full_df).fit()\n",
    "# fitted.summary()\n",
    "# fitted = smf.ols('zscore({}) ~ zscore(mean) + zscore(lin_r)'.format(metric), data=full_df).fit()\n",
    "# fitted.summary()\n",
    "# fitted = smf.ols('zscore({}) ~ zscore(mean) + zscore(GC_percent_cds)'.format(metric), data=full_df).fit()\n",
    "# fitted.summary()"
   ]
  },
  {
   "cell_type": "code",
   "execution_count": null,
   "metadata": {},
   "outputs": [],
   "source": [
    "fig, ax = plt.subplots()\n",
    "# ax.plot(full_df['mean'], full_df['CAI'], linestyle='', marker='.')\n",
    "ax.plot(zscore(full_df['mean']), zscore(full_df['CAI']), linestyle='', marker='.')\n",
    "# ax.semilogx(full_df['mean'], full_df['CAI'], linestyle='', marker='.')"
   ]
  },
  {
   "cell_type": "code",
   "execution_count": null,
   "metadata": {},
   "outputs": [],
   "source": [
    "full_df['mean'].min()"
   ]
  },
  {
   "cell_type": "code",
   "execution_count": null,
   "metadata": {},
   "outputs": [],
   "source": []
  }
 ],
 "metadata": {
  "kernelspec": {
   "display_name": "Python 3",
   "language": "python",
   "name": "python3"
  },
  "language_info": {
   "codemirror_mode": {
    "name": "ipython",
    "version": 3
   },
   "file_extension": ".py",
   "mimetype": "text/x-python",
   "name": "python",
   "nbconvert_exporter": "python",
   "pygments_lexer": "ipython3",
   "version": "3.7.7"
  },
  "toc": {
   "colors": {
    "hover_highlight": "#DAA520",
    "navigate_num": "#000000",
    "navigate_text": "#333333",
    "running_highlight": "#FF0000",
    "selected_highlight": "#FFD700",
    "sidebar_border": "#EEEEEE",
    "wrapper_background": "#FFFFFF"
   },
   "moveMenuLeft": true,
   "nav_menu": {
    "height": "138px",
    "width": "252px"
   },
   "navigate_menu": true,
   "number_sections": true,
   "sideBar": true,
   "threshold": 4,
   "toc_cell": false,
   "toc_section_display": "block",
   "toc_window_display": false,
   "widenNotebook": false
  }
 },
 "nbformat": 4,
 "nbformat_minor": 4
}
