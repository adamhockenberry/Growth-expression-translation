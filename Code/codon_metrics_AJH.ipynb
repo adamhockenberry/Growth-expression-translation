{
 "cells": [
  {
   "cell_type": "code",
   "execution_count": 1,
   "metadata": {},
   "outputs": [],
   "source": [
    "%matplotlib inline"
   ]
  },
  {
   "cell_type": "code",
   "execution_count": 43,
   "metadata": {},
   "outputs": [],
   "source": [
    "from Bio import SeqIO\n",
    "from Bio.Data import CodonTable\n",
    "import pandas as pd"
   ]
  },
  {
   "cell_type": "code",
   "execution_count": 3,
   "metadata": {},
   "outputs": [],
   "source": [
    "genome = list(SeqIO.parse('../Data/ecoli_info/NC_000913.3.gb', 'genbank'))\n",
    "assert len(genome) == 1\n",
    "genome = genome[0]"
   ]
  },
  {
   "cell_type": "code",
   "execution_count": 4,
   "metadata": {},
   "outputs": [],
   "source": [
    "loci = []\n",
    "gene_ids = []\n",
    "cds_seqs = []\n",
    "us_seqs = []\n",
    "starts = []\n",
    "stops = []\n",
    "strands = []\n",
    "\n",
    "for feature in genome.features:\n",
    "    nt_seq_len = len(str(genome.seq))\n",
    "    if feature.type == 'CDS':\n",
    "        try:\n",
    "            locus_id = feature.qualifiers['locus_tag'][0]\n",
    "        except:\n",
    "            locus_id = ''\n",
    "        try:\n",
    "            gene_id = feature.qualifiers['gene'][0]\n",
    "        except:\n",
    "            gene_id = ''\n",
    "        start = feature.location.start\n",
    "        stop = feature.location.end\n",
    "        strand = feature.location.strand\n",
    "        if strand == 1:\n",
    "            strand = '+'\n",
    "        elif strand == -1:\n",
    "            strand = '-'\n",
    "        else:\n",
    "            print('ERROR')\n",
    "            break\n",
    "        if strand == '-':\n",
    "            if stop + 30 > nt_seq_len:\n",
    "                continue\n",
    "            cds_seq = str(genome.seq[start:stop].reverse_complement())\n",
    "            us_seq = str(genome.seq[stop:stop+30].reverse_complement())\n",
    "        elif strand == '+':\n",
    "            if start < 30:\n",
    "                continue\n",
    "            cds_seq = str(genome.seq[start:stop])\n",
    "            us_seq = str(genome.seq[start-30:start])\n",
    "        else:\n",
    "            print('MAJOR ERROR')\n",
    "            break\n",
    "        loci.append(locus_id)\n",
    "        gene_ids.append(gene_id)\n",
    "        starts.append(start)\n",
    "        stops.append(stop)\n",
    "        strands.append(strand)\n",
    "        cds_seqs.append(cds_seq)\n",
    "        us_seqs.append(us_seq)"
   ]
  },
  {
   "cell_type": "code",
   "execution_count": 108,
   "metadata": {},
   "outputs": [
    {
     "name": "stdout",
     "output_type": "stream",
     "text": [
      "(4357, 7)\n"
     ]
    },
    {
     "data": {
      "text/html": [
       "<div>\n",
       "<style scoped>\n",
       "    .dataframe tbody tr th:only-of-type {\n",
       "        vertical-align: middle;\n",
       "    }\n",
       "\n",
       "    .dataframe tbody tr th {\n",
       "        vertical-align: top;\n",
       "    }\n",
       "\n",
       "    .dataframe thead th {\n",
       "        text-align: right;\n",
       "    }\n",
       "</style>\n",
       "<table border=\"1\" class=\"dataframe\">\n",
       "  <thead>\n",
       "    <tr style=\"text-align: right;\">\n",
       "      <th></th>\n",
       "      <th>locus_tag</th>\n",
       "      <th>gene</th>\n",
       "      <th>start_loc</th>\n",
       "      <th>stop_loc</th>\n",
       "      <th>strand</th>\n",
       "      <th>cds_seq</th>\n",
       "      <th>us_seq</th>\n",
       "    </tr>\n",
       "  </thead>\n",
       "  <tbody>\n",
       "    <tr>\n",
       "      <th>0</th>\n",
       "      <td>b0001</td>\n",
       "      <td>thrL</td>\n",
       "      <td>189</td>\n",
       "      <td>255</td>\n",
       "      <td>+</td>\n",
       "      <td>ATGAAACGCATTAGCACCACCATTACCACCACCATCACCATTACCA...</td>\n",
       "      <td>CAGATAAAAATTACAGAGTACACAACATCC</td>\n",
       "    </tr>\n",
       "    <tr>\n",
       "      <th>1</th>\n",
       "      <td>b0002</td>\n",
       "      <td>thrA</td>\n",
       "      <td>336</td>\n",
       "      <td>2799</td>\n",
       "      <td>+</td>\n",
       "      <td>ATGCGAGTGTTGAAGTTCGGCGGTACATCAGTGGCAAATGCAGAAC...</td>\n",
       "      <td>TTTTCGACCAAAGGTAACGAGGTAACAACC</td>\n",
       "    </tr>\n",
       "    <tr>\n",
       "      <th>2</th>\n",
       "      <td>b0003</td>\n",
       "      <td>thrB</td>\n",
       "      <td>2800</td>\n",
       "      <td>3733</td>\n",
       "      <td>+</td>\n",
       "      <td>ATGGTTAAAGTTTATGCCCCGGCTTCCAGTGCCAATATGAGCGTCG...</td>\n",
       "      <td>GTACCCTCTCATGGAAGTTAGGAGTCTGAC</td>\n",
       "    </tr>\n",
       "    <tr>\n",
       "      <th>3</th>\n",
       "      <td>b0004</td>\n",
       "      <td>thrC</td>\n",
       "      <td>3733</td>\n",
       "      <td>5020</td>\n",
       "      <td>+</td>\n",
       "      <td>ATGAAACTCTACAATCTGAAAGATCACAACGAGCAGGTCAGCTTTG...</td>\n",
       "      <td>ACGGCGGGCGCACGAGTACTGGAAAACTAA</td>\n",
       "    </tr>\n",
       "    <tr>\n",
       "      <th>4</th>\n",
       "      <td>b0005</td>\n",
       "      <td>yaaX</td>\n",
       "      <td>5233</td>\n",
       "      <td>5530</td>\n",
       "      <td>+</td>\n",
       "      <td>GTGAAAAAGATGCAATCTATCGTACTCGCACTTTCCCTGGTTCTGG...</td>\n",
       "      <td>CATAACGGGCAATGATAAAAGGAGTAACCT</td>\n",
       "    </tr>\n",
       "  </tbody>\n",
       "</table>\n",
       "</div>"
      ],
      "text/plain": [
       "  locus_tag  gene  start_loc  stop_loc strand  \\\n",
       "0     b0001  thrL        189       255      +   \n",
       "1     b0002  thrA        336      2799      +   \n",
       "2     b0003  thrB       2800      3733      +   \n",
       "3     b0004  thrC       3733      5020      +   \n",
       "4     b0005  yaaX       5233      5530      +   \n",
       "\n",
       "                                             cds_seq  \\\n",
       "0  ATGAAACGCATTAGCACCACCATTACCACCACCATCACCATTACCA...   \n",
       "1  ATGCGAGTGTTGAAGTTCGGCGGTACATCAGTGGCAAATGCAGAAC...   \n",
       "2  ATGGTTAAAGTTTATGCCCCGGCTTCCAGTGCCAATATGAGCGTCG...   \n",
       "3  ATGAAACTCTACAATCTGAAAGATCACAACGAGCAGGTCAGCTTTG...   \n",
       "4  GTGAAAAAGATGCAATCTATCGTACTCGCACTTTCCCTGGTTCTGG...   \n",
       "\n",
       "                           us_seq  \n",
       "0  CAGATAAAAATTACAGAGTACACAACATCC  \n",
       "1  TTTTCGACCAAAGGTAACGAGGTAACAACC  \n",
       "2  GTACCCTCTCATGGAAGTTAGGAGTCTGAC  \n",
       "3  ACGGCGGGCGCACGAGTACTGGAAAACTAA  \n",
       "4  CATAACGGGCAATGATAAAAGGAGTAACCT  "
      ]
     },
     "execution_count": 108,
     "metadata": {},
     "output_type": "execute_result"
    }
   ],
   "source": [
    "df = pd.DataFrame(zip(loci, gene_ids, starts, stops, strands, cds_seqs, us_seqs)) \n",
    "df.columns = ['locus_tag', 'gene', 'start_loc', 'stop_loc', 'strand', 'cds_seq', 'us_seq']\n",
    "print(df.shape)\n",
    "df.head()"
   ]
  },
  {
   "cell_type": "code",
   "execution_count": 110,
   "metadata": {},
   "outputs": [],
   "source": [
    "df = df.drop_duplicates('locus_tag')"
   ]
  },
  {
   "cell_type": "markdown",
   "metadata": {},
   "source": [
    "# CAI calc stuff"
   ]
  },
  {
   "cell_type": "code",
   "execution_count": 80,
   "metadata": {},
   "outputs": [],
   "source": [
    "def get_codon_dicts(n=11):\n",
    "    \"\"\"\n",
    "    \"\"\"\n",
    "    codon_to_aa = CodonTable.unambiguous_dna_by_id[11].forward_table\n",
    "    aa_to_codons = {}\n",
    "    for codon, aa in codon_to_aa.items():\n",
    "        try:\n",
    "            aa_to_codons[aa].append(codon)\n",
    "        except:\n",
    "            aa_to_codons[aa] = [codon]\n",
    "    return codon_to_aa, aa_to_codons \n",
    "            \n",
    "# def get_single_codon_counts(AminoAcid, listofCodons):\n",
    "#     \"\"\"Counts instances of each alternative codon for an amino acid in a list\"\"\"\n",
    "#     dictOfCodonCounts = {}  \n",
    "#     for codonOption in AminoAcid[1]:\n",
    "#         count = listofCodons.count(codonOption)\n",
    "#         dictOfCodonCounts[codonOption] = count\n",
    "#     return dictOfCodonCounts\n",
    "    \n",
    "def flatten_lol(lol):\n",
    "    \"\"\"\n",
    "    Merges together lists within a list\n",
    "    \"\"\"\n",
    "    return [inner for outer in lol for inner in outer]\n",
    "\n",
    "def tripletize(cds_string):\n",
    "    \"\"\"\n",
    "    Ensure an even length sequence and split into codons\n",
    "    \"\"\"\n",
    "    assert len(cds_string) % 3 == 0\n",
    "    return [cds_string[i:i+3] for i in range(0, len(cds_string), 3)]\n",
    "\n",
    "def calculate_RSCUs(codon_count_dict):\n",
    "    n_total = sum(codon_count_dict.values())\n",
    "    unique_codons = len(codon_count_dict.keys())\n",
    "    rscu_dict = {}  \n",
    "    if n_total != 0:\n",
    "        for codon, codon_count in codon_count_dict.items():\n",
    "            RSCU = codon_count / (float(n_total) / unique_codons)\n",
    "            rscu_dict[codon] = RSCU \n",
    "    else:\n",
    "        for codon, codon_count in codon_count_dict.items():\n",
    "            rscu_dict[codon] = 0 \n",
    "    return rscu_dict\n",
    "\n",
    "def calculate_weights(list_of_cds_strings, zero_val=0.001):\n",
    "    \"\"\"\n",
    "    Calulates the weight of each codon from a reference set of genes\n",
    "    \"\"\"\n",
    "    from collections import Counter\n",
    "    codon_to_aa, aa_to_codons = get_codon_dicts()\n",
    "    \n",
    "    if len(list_of_cds_strings) > 1: #when it is a list of genes, make it one gene\n",
    "        all_codons = []\n",
    "        for cds in list_of_cds_strings:\n",
    "            all_codons.append(tripletize(cds))\n",
    "        all_codons = flatten_lol(all_codons)\n",
    "    else:\n",
    "        all_codons = tripletize(list_of_cds_strings)\n",
    "        \n",
    "    all_codon_counts = Counter(all_codons)\n",
    "    \n",
    "    \n",
    "    weights_dict = {}\n",
    "    for aa, codons in aa_to_codons.items():\n",
    "        single_aa_codon_counts = {k: all_codon_counts.get(k, None) for k in codons}\n",
    "        single_rscu_dict = calculate_RSCUs(single_aa_codon_counts)\n",
    "        max_rscu = max(single_rscu_dict.values())\n",
    "        for codon, rscu_val in single_rscu_dict.items():\n",
    "            if single_rscu_dict[codon] == 0:\n",
    "                weights_dict[codon] = zero_val\n",
    "            else:\n",
    "                weights_dict[codon] = rscu_val / max_rscu\n",
    "    return weights_dict"
   ]
  },
  {
   "cell_type": "code",
   "execution_count": 111,
   "metadata": {},
   "outputs": [],
   "source": [
    "reference_set_loci = pd.read_csv('../Data/ecoli_info/original_CAI_refset.txt', header=None, names=['locus_tag'])\n",
    "ref_set_seqs = list(df.merge(reference_set_loci, on='locus_tag')['cds_seq'])\n",
    "cai_weights_dict = calculate_weights(ref_set_seqs)"
   ]
  },
  {
   "cell_type": "code",
   "execution_count": 112,
   "metadata": {},
   "outputs": [],
   "source": [
    "from scipy.stats import gmean\n",
    "def calculate_cai(cds_seq, weights_dict):\n",
    "    codon_list = tripletize(cds_seq)\n",
    "    weights_list = []\n",
    "    for codon in codon_list:\n",
    "        weights_list.append(weights_dict.get(codon, None))\n",
    "#     geometricMean = exp(sum([log(x) for x in listy])/float(len(listy)))\n",
    "    weights_list =  [i for i in weights_list if i] \n",
    "    cai = gmean(weights_list)\n",
    "    return cai"
   ]
  },
  {
   "cell_type": "code",
   "execution_count": 113,
   "metadata": {},
   "outputs": [],
   "source": [
    "cai_vals = []\n",
    "for index in df.index[:]:\n",
    "    cds_seq = df.loc[index]['cds_seq']\n",
    "    if len(cds_seq) % 3 != 0:\n",
    "        cai_vals.append(None)\n",
    "        continue\n",
    "    cai_vals.append(calculate_cai(cds_seq, cai_weights_dict))"
   ]
  },
  {
   "cell_type": "code",
   "execution_count": 114,
   "metadata": {},
   "outputs": [],
   "source": [
    "df['CAI'] = cai_vals"
   ]
  },
  {
   "cell_type": "code",
   "execution_count": 115,
   "metadata": {},
   "outputs": [],
   "source": [
    "df.to_csv('../Data/ecoli_info/temp_ecoli_master_table.tsv', sep='\\t', index=False)"
   ]
  },
  {
   "cell_type": "code",
   "execution_count": null,
   "metadata": {},
   "outputs": [],
   "source": []
  }
 ],
 "metadata": {
  "kernelspec": {
   "display_name": "Python 3",
   "language": "python",
   "name": "python3"
  },
  "language_info": {
   "codemirror_mode": {
    "name": "ipython",
    "version": 3
   },
   "file_extension": ".py",
   "mimetype": "text/x-python",
   "name": "python",
   "nbconvert_exporter": "python",
   "pygments_lexer": "ipython3",
   "version": "3.7.7"
  },
  "toc": {
   "colors": {
    "hover_highlight": "#DAA520",
    "navigate_num": "#000000",
    "navigate_text": "#333333",
    "running_highlight": "#FF0000",
    "selected_highlight": "#FFD700",
    "sidebar_border": "#EEEEEE",
    "wrapper_background": "#FFFFFF"
   },
   "moveMenuLeft": true,
   "nav_menu": {
    "height": "30px",
    "width": "252px"
   },
   "navigate_menu": true,
   "number_sections": true,
   "sideBar": true,
   "threshold": 4,
   "toc_cell": false,
   "toc_section_display": "block",
   "toc_window_display": false,
   "widenNotebook": false
  }
 },
 "nbformat": 4,
 "nbformat_minor": 4
}
