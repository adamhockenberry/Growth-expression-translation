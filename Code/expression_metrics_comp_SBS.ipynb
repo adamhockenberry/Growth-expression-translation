{
 "cells": [
  {
   "cell_type": "code",
   "execution_count": 27,
   "metadata": {},
   "outputs": [],
   "source": [
    "import copy\n",
    "import matplotlib.pyplot as plt\n",
    "import numpy as np\n",
    "import pandas as pd\n",
    "from scipy import stats\n",
    "import seaborn as sns"
   ]
  },
  {
   "cell_type": "markdown",
   "metadata": {},
   "source": [
    "# Read in input files"
   ]
  },
  {
   "cell_type": "code",
   "execution_count": 2,
   "metadata": {},
   "outputs": [],
   "source": [
    "#Ecoli information\n",
    "ecoli_df = pd.read_csv('../Data/ecoli_info/current_ecoli_master_table.tsv', sep='\\t')"
   ]
  },
  {
   "cell_type": "code",
   "execution_count": 3,
   "metadata": {},
   "outputs": [
    {
     "data": {
      "text/html": [
       "<div>\n",
       "<style scoped>\n",
       "    .dataframe tbody tr th:only-of-type {\n",
       "        vertical-align: middle;\n",
       "    }\n",
       "\n",
       "    .dataframe tbody tr th {\n",
       "        vertical-align: top;\n",
       "    }\n",
       "\n",
       "    .dataframe thead th {\n",
       "        text-align: right;\n",
       "    }\n",
       "</style>\n",
       "<table border=\"1\" class=\"dataframe\">\n",
       "  <thead>\n",
       "    <tr style=\"text-align: right;\">\n",
       "      <th></th>\n",
       "      <th>locus_tag</th>\n",
       "      <th>gene</th>\n",
       "      <th>start_loc</th>\n",
       "      <th>stop_loc</th>\n",
       "      <th>strand</th>\n",
       "      <th>cds_seq</th>\n",
       "      <th>us_seq</th>\n",
       "      <th>cds_len</th>\n",
       "      <th>well_behaved</th>\n",
       "      <th>GC_percent_cds</th>\n",
       "      <th>roc_semppr_mean</th>\n",
       "      <th>iCUB</th>\n",
       "      <th>CAI</th>\n",
       "      <th>tAI</th>\n",
       "      <th>stAIcalc</th>\n",
       "      <th>aSD_binding</th>\n",
       "      <th>sec_struct</th>\n",
       "      <th>sec_struct_bound</th>\n",
       "      <th>Start_accessibility</th>\n",
       "    </tr>\n",
       "  </thead>\n",
       "  <tbody>\n",
       "    <tr>\n",
       "      <th>0</th>\n",
       "      <td>b0001</td>\n",
       "      <td>thrL</td>\n",
       "      <td>189</td>\n",
       "      <td>255</td>\n",
       "      <td>+</td>\n",
       "      <td>ATGAAACGCATTAGCACCACCATTACCACCACCATCACCATTACCA...</td>\n",
       "      <td>CAGATAAAAATTACAGAGTACACAACATCC</td>\n",
       "      <td>66</td>\n",
       "      <td>True</td>\n",
       "      <td>0.515152</td>\n",
       "      <td>1.244106</td>\n",
       "      <td>32.046035</td>\n",
       "      <td>0.617266</td>\n",
       "      <td>0.262286</td>\n",
       "      <td>0.258417</td>\n",
       "      <td>-2.45</td>\n",
       "      <td>NaN</td>\n",
       "      <td>NaN</td>\n",
       "      <td>NaN</td>\n",
       "    </tr>\n",
       "    <tr>\n",
       "      <th>1</th>\n",
       "      <td>b0002</td>\n",
       "      <td>thrA</td>\n",
       "      <td>336</td>\n",
       "      <td>2799</td>\n",
       "      <td>+</td>\n",
       "      <td>ATGCGAGTGTTGAAGTTCGGCGGTACATCAGTGGCAAATGCAGAAC...</td>\n",
       "      <td>TTTTCGACCAAAGGTAACGAGGTAACAACC</td>\n",
       "      <td>2463</td>\n",
       "      <td>True</td>\n",
       "      <td>0.530654</td>\n",
       "      <td>1.034078</td>\n",
       "      <td>55.949262</td>\n",
       "      <td>0.353246</td>\n",
       "      <td>0.230564</td>\n",
       "      <td>0.216862</td>\n",
       "      <td>-5.42</td>\n",
       "      <td>-21.31</td>\n",
       "      <td>-12.81</td>\n",
       "      <td>-8.50</td>\n",
       "    </tr>\n",
       "    <tr>\n",
       "      <th>2</th>\n",
       "      <td>b0003</td>\n",
       "      <td>thrB</td>\n",
       "      <td>2800</td>\n",
       "      <td>3733</td>\n",
       "      <td>+</td>\n",
       "      <td>ATGGTTAAAGTTTATGCCCCGGCTTCCAGTGCCAATATGAGCGTCG...</td>\n",
       "      <td>GTACCCTCTCATGGAAGTTAGGAGTCTGAC</td>\n",
       "      <td>933</td>\n",
       "      <td>True</td>\n",
       "      <td>0.562701</td>\n",
       "      <td>0.994168</td>\n",
       "      <td>56.062386</td>\n",
       "      <td>0.357812</td>\n",
       "      <td>0.216292</td>\n",
       "      <td>0.210420</td>\n",
       "      <td>-6.51</td>\n",
       "      <td>-21.87</td>\n",
       "      <td>-14.05</td>\n",
       "      <td>-7.82</td>\n",
       "    </tr>\n",
       "    <tr>\n",
       "      <th>3</th>\n",
       "      <td>b0004</td>\n",
       "      <td>thrC</td>\n",
       "      <td>3733</td>\n",
       "      <td>5020</td>\n",
       "      <td>+</td>\n",
       "      <td>ATGAAACTCTACAATCTGAAAGATCACAACGAGCAGGTCAGCTTTG...</td>\n",
       "      <td>ACGGCGGGCGCACGAGTACTGGAAAACTAA</td>\n",
       "      <td>1287</td>\n",
       "      <td>True</td>\n",
       "      <td>0.528361</td>\n",
       "      <td>1.176750</td>\n",
       "      <td>53.052776</td>\n",
       "      <td>0.394675</td>\n",
       "      <td>0.231407</td>\n",
       "      <td>0.209784</td>\n",
       "      <td>-3.40</td>\n",
       "      <td>-24.44</td>\n",
       "      <td>-20.71</td>\n",
       "      <td>-3.73</td>\n",
       "    </tr>\n",
       "    <tr>\n",
       "      <th>4</th>\n",
       "      <td>b0005</td>\n",
       "      <td>yaaX</td>\n",
       "      <td>5233</td>\n",
       "      <td>5530</td>\n",
       "      <td>+</td>\n",
       "      <td>GTGAAAAAGATGCAATCTATCGTACTCGCACTTTCCCTGGTTCTGG...</td>\n",
       "      <td>CATAACGGGCAATGATAAAAGGAGTAACCT</td>\n",
       "      <td>297</td>\n",
       "      <td>True</td>\n",
       "      <td>0.538721</td>\n",
       "      <td>0.837528</td>\n",
       "      <td>50.705530</td>\n",
       "      <td>0.374371</td>\n",
       "      <td>0.197715</td>\n",
       "      <td>0.208944</td>\n",
       "      <td>-6.51</td>\n",
       "      <td>-17.15</td>\n",
       "      <td>-7.38</td>\n",
       "      <td>-9.77</td>\n",
       "    </tr>\n",
       "    <tr>\n",
       "      <th>...</th>\n",
       "      <td>...</td>\n",
       "      <td>...</td>\n",
       "      <td>...</td>\n",
       "      <td>...</td>\n",
       "      <td>...</td>\n",
       "      <td>...</td>\n",
       "      <td>...</td>\n",
       "      <td>...</td>\n",
       "      <td>...</td>\n",
       "      <td>...</td>\n",
       "      <td>...</td>\n",
       "      <td>...</td>\n",
       "      <td>...</td>\n",
       "      <td>...</td>\n",
       "      <td>...</td>\n",
       "      <td>...</td>\n",
       "      <td>...</td>\n",
       "      <td>...</td>\n",
       "      <td>...</td>\n",
       "    </tr>\n",
       "    <tr>\n",
       "      <th>4350</th>\n",
       "      <td>b4399</td>\n",
       "      <td>creC</td>\n",
       "      <td>4636695</td>\n",
       "      <td>4638120</td>\n",
       "      <td>+</td>\n",
       "      <td>ATGCGTATCGGCATGCGGTTGTTGCTGGGCTATTTTTTACTGGTGG...</td>\n",
       "      <td>CGGCATGGGATATAGCCTGAGGGGCCTGTA</td>\n",
       "      <td>1425</td>\n",
       "      <td>True</td>\n",
       "      <td>0.538947</td>\n",
       "      <td>0.829794</td>\n",
       "      <td>55.967103</td>\n",
       "      <td>0.293537</td>\n",
       "      <td>0.212672</td>\n",
       "      <td>0.206721</td>\n",
       "      <td>-6.09</td>\n",
       "      <td>-31.71</td>\n",
       "      <td>-18.33</td>\n",
       "      <td>-13.38</td>\n",
       "    </tr>\n",
       "    <tr>\n",
       "      <th>4351</th>\n",
       "      <td>b4400</td>\n",
       "      <td>creD</td>\n",
       "      <td>4638177</td>\n",
       "      <td>4639530</td>\n",
       "      <td>+</td>\n",
       "      <td>ATGTTGAAATCCCCCCTGTTCTGGAAAATGACTAGCCTGTTTGGTG...</td>\n",
       "      <td>TATCCTGCTGCCATTGCAAAGGAGAAGACT</td>\n",
       "      <td>1353</td>\n",
       "      <td>True</td>\n",
       "      <td>0.495935</td>\n",
       "      <td>0.739848</td>\n",
       "      <td>54.634345</td>\n",
       "      <td>0.288635</td>\n",
       "      <td>0.210078</td>\n",
       "      <td>0.199677</td>\n",
       "      <td>-7.00</td>\n",
       "      <td>-16.18</td>\n",
       "      <td>-10.40</td>\n",
       "      <td>-5.78</td>\n",
       "    </tr>\n",
       "    <tr>\n",
       "      <th>4352</th>\n",
       "      <td>b4401</td>\n",
       "      <td>arcA</td>\n",
       "      <td>4639589</td>\n",
       "      <td>4640306</td>\n",
       "      <td>-</td>\n",
       "      <td>ATGCAGACCCCGCACATTCTTATCGTTGAAGACGAGTTGGTAACAC...</td>\n",
       "      <td>TCGATTTAGTTGGCAATTTAGGTAGCAAAC</td>\n",
       "      <td>717</td>\n",
       "      <td>True</td>\n",
       "      <td>0.510460</td>\n",
       "      <td>1.676448</td>\n",
       "      <td>48.981781</td>\n",
       "      <td>0.530773</td>\n",
       "      <td>0.275348</td>\n",
       "      <td>0.239921</td>\n",
       "      <td>-2.60</td>\n",
       "      <td>-16.36</td>\n",
       "      <td>-9.19</td>\n",
       "      <td>-7.17</td>\n",
       "    </tr>\n",
       "    <tr>\n",
       "      <th>4353</th>\n",
       "      <td>b4402</td>\n",
       "      <td>yjjY</td>\n",
       "      <td>4640401</td>\n",
       "      <td>4640542</td>\n",
       "      <td>+</td>\n",
       "      <td>ATGACTAAAGTACGTAATTGCGTTCTTGATGCACTTTCCATCAACG...</td>\n",
       "      <td>CATGCTGCAAATTAACATGATCGGCGTAAC</td>\n",
       "      <td>141</td>\n",
       "      <td>True</td>\n",
       "      <td>0.425532</td>\n",
       "      <td>0.802032</td>\n",
       "      <td>47.451431</td>\n",
       "      <td>0.314394</td>\n",
       "      <td>0.219204</td>\n",
       "      <td>0.230201</td>\n",
       "      <td>-1.76</td>\n",
       "      <td>-14.24</td>\n",
       "      <td>-7.14</td>\n",
       "      <td>-7.10</td>\n",
       "    </tr>\n",
       "    <tr>\n",
       "      <th>4354</th>\n",
       "      <td>b4403</td>\n",
       "      <td>yjtD</td>\n",
       "      <td>4640941</td>\n",
       "      <td>4641628</td>\n",
       "      <td>+</td>\n",
       "      <td>ATGCGTATAACGATTATTCTGGTCGCACCCGCCAGAGCAGAAAATA...</td>\n",
       "      <td>CGCGGTTATTTGATCAAGAAGAGTGGCAAT</td>\n",
       "      <td>687</td>\n",
       "      <td>True</td>\n",
       "      <td>0.497817</td>\n",
       "      <td>0.566772</td>\n",
       "      <td>53.610186</td>\n",
       "      <td>0.261990</td>\n",
       "      <td>0.204571</td>\n",
       "      <td>0.202168</td>\n",
       "      <td>-2.65</td>\n",
       "      <td>-20.19</td>\n",
       "      <td>-14.11</td>\n",
       "      <td>-6.08</td>\n",
       "    </tr>\n",
       "  </tbody>\n",
       "</table>\n",
       "<p>4355 rows × 19 columns</p>\n",
       "</div>"
      ],
      "text/plain": [
       "     locus_tag  gene  start_loc  stop_loc strand  \\\n",
       "0        b0001  thrL        189       255      +   \n",
       "1        b0002  thrA        336      2799      +   \n",
       "2        b0003  thrB       2800      3733      +   \n",
       "3        b0004  thrC       3733      5020      +   \n",
       "4        b0005  yaaX       5233      5530      +   \n",
       "...        ...   ...        ...       ...    ...   \n",
       "4350     b4399  creC    4636695   4638120      +   \n",
       "4351     b4400  creD    4638177   4639530      +   \n",
       "4352     b4401  arcA    4639589   4640306      -   \n",
       "4353     b4402  yjjY    4640401   4640542      +   \n",
       "4354     b4403  yjtD    4640941   4641628      +   \n",
       "\n",
       "                                                cds_seq  \\\n",
       "0     ATGAAACGCATTAGCACCACCATTACCACCACCATCACCATTACCA...   \n",
       "1     ATGCGAGTGTTGAAGTTCGGCGGTACATCAGTGGCAAATGCAGAAC...   \n",
       "2     ATGGTTAAAGTTTATGCCCCGGCTTCCAGTGCCAATATGAGCGTCG...   \n",
       "3     ATGAAACTCTACAATCTGAAAGATCACAACGAGCAGGTCAGCTTTG...   \n",
       "4     GTGAAAAAGATGCAATCTATCGTACTCGCACTTTCCCTGGTTCTGG...   \n",
       "...                                                 ...   \n",
       "4350  ATGCGTATCGGCATGCGGTTGTTGCTGGGCTATTTTTTACTGGTGG...   \n",
       "4351  ATGTTGAAATCCCCCCTGTTCTGGAAAATGACTAGCCTGTTTGGTG...   \n",
       "4352  ATGCAGACCCCGCACATTCTTATCGTTGAAGACGAGTTGGTAACAC...   \n",
       "4353  ATGACTAAAGTACGTAATTGCGTTCTTGATGCACTTTCCATCAACG...   \n",
       "4354  ATGCGTATAACGATTATTCTGGTCGCACCCGCCAGAGCAGAAAATA...   \n",
       "\n",
       "                              us_seq  cds_len  well_behaved  GC_percent_cds  \\\n",
       "0     CAGATAAAAATTACAGAGTACACAACATCC       66          True        0.515152   \n",
       "1     TTTTCGACCAAAGGTAACGAGGTAACAACC     2463          True        0.530654   \n",
       "2     GTACCCTCTCATGGAAGTTAGGAGTCTGAC      933          True        0.562701   \n",
       "3     ACGGCGGGCGCACGAGTACTGGAAAACTAA     1287          True        0.528361   \n",
       "4     CATAACGGGCAATGATAAAAGGAGTAACCT      297          True        0.538721   \n",
       "...                              ...      ...           ...             ...   \n",
       "4350  CGGCATGGGATATAGCCTGAGGGGCCTGTA     1425          True        0.538947   \n",
       "4351  TATCCTGCTGCCATTGCAAAGGAGAAGACT     1353          True        0.495935   \n",
       "4352  TCGATTTAGTTGGCAATTTAGGTAGCAAAC      717          True        0.510460   \n",
       "4353  CATGCTGCAAATTAACATGATCGGCGTAAC      141          True        0.425532   \n",
       "4354  CGCGGTTATTTGATCAAGAAGAGTGGCAAT      687          True        0.497817   \n",
       "\n",
       "      roc_semppr_mean       iCUB       CAI       tAI  stAIcalc  aSD_binding  \\\n",
       "0            1.244106  32.046035  0.617266  0.262286  0.258417        -2.45   \n",
       "1            1.034078  55.949262  0.353246  0.230564  0.216862        -5.42   \n",
       "2            0.994168  56.062386  0.357812  0.216292  0.210420        -6.51   \n",
       "3            1.176750  53.052776  0.394675  0.231407  0.209784        -3.40   \n",
       "4            0.837528  50.705530  0.374371  0.197715  0.208944        -6.51   \n",
       "...               ...        ...       ...       ...       ...          ...   \n",
       "4350         0.829794  55.967103  0.293537  0.212672  0.206721        -6.09   \n",
       "4351         0.739848  54.634345  0.288635  0.210078  0.199677        -7.00   \n",
       "4352         1.676448  48.981781  0.530773  0.275348  0.239921        -2.60   \n",
       "4353         0.802032  47.451431  0.314394  0.219204  0.230201        -1.76   \n",
       "4354         0.566772  53.610186  0.261990  0.204571  0.202168        -2.65   \n",
       "\n",
       "      sec_struct  sec_struct_bound  Start_accessibility  \n",
       "0            NaN               NaN                  NaN  \n",
       "1         -21.31            -12.81                -8.50  \n",
       "2         -21.87            -14.05                -7.82  \n",
       "3         -24.44            -20.71                -3.73  \n",
       "4         -17.15             -7.38                -9.77  \n",
       "...          ...               ...                  ...  \n",
       "4350      -31.71            -18.33               -13.38  \n",
       "4351      -16.18            -10.40                -5.78  \n",
       "4352      -16.36             -9.19                -7.17  \n",
       "4353      -14.24             -7.14                -7.10  \n",
       "4354      -20.19            -14.11                -6.08  \n",
       "\n",
       "[4355 rows x 19 columns]"
      ]
     },
     "execution_count": 3,
     "metadata": {},
     "output_type": "execute_result"
    }
   ],
   "source": [
    "ecoli_df"
   ]
  },
  {
   "cell_type": "code",
   "execution_count": 4,
   "metadata": {},
   "outputs": [],
   "source": [
    "df = pd.ExcelFile(r'../Data/raw_data/41467_2019_13483_MOESM4_ESM.xlsx')"
   ]
  },
  {
   "cell_type": "code",
   "execution_count": 5,
   "metadata": {},
   "outputs": [],
   "source": [
    "expression_df = df.parse('Expression Data', index_col='log-TPM')\n",
    "metadata_df = df.parse('Metadata')"
   ]
  },
  {
   "cell_type": "markdown",
   "metadata": {},
   "source": [
    "# Remove all Sample IDs that are irrelevant"
   ]
  },
  {
   "cell_type": "code",
   "execution_count": 6,
   "metadata": {},
   "outputs": [],
   "source": [
    "#Remove samples that contain no growth rate information\n",
    "metadata_df = metadata_df.dropna(subset=['Growth Rate (1/hr)'])\n",
    "metadata_df = metadata_df[metadata_df['Growth Rate (1/hr)'] != 0]"
   ]
  },
  {
   "cell_type": "code",
   "execution_count": 7,
   "metadata": {},
   "outputs": [],
   "source": [
    "#Remove all Sample IDs where the alignment is less than 80%\n",
    "metadata_df = metadata_df[metadata_df['Alignment'] > 80]"
   ]
  },
  {
   "cell_type": "code",
   "execution_count": 8,
   "metadata": {},
   "outputs": [],
   "source": [
    "#Remove all columns where no growth rate information was found\n",
    "expression_df = expression_df[metadata_df['Sample ID']]\n",
    "assert list(metadata_df['Sample ID']) == list(expression_df.columns)"
   ]
  },
  {
   "cell_type": "markdown",
   "metadata": {},
   "source": [
    "***Average across replicates and drop them***"
   ]
  },
  {
   "cell_type": "code",
   "execution_count": 9,
   "metadata": {},
   "outputs": [],
   "source": [
    "cols = []\n",
    "unique_cols = []\n",
    "expression_clean_df = copy.deepcopy(expression_df)\n",
    "\n",
    "#Rename columns in dataframe\n",
    "for column in expression_df.columns:\n",
    "    cols.append(column[:-3])\n",
    "    #Get names of unique columns\n",
    "    if column[:-3] not in unique_cols:\n",
    "        unique_cols.append(column[:-3])\n",
    "\n",
    "expression_clean_df.columns = cols\n",
    "\n",
    "#New dataframe with averaged replicates and no duplicates\n",
    "expression_clean_df = expression_clean_df[unique_cols].groupby(level=0, axis=1).mean()"
   ]
  },
  {
   "cell_type": "code",
   "execution_count": 10,
   "metadata": {},
   "outputs": [],
   "source": [
    "#Average growth rate in metadata df\n",
    "\n",
    "cond = []\n",
    "unique_cond = []\n",
    "metadata_clean_df = copy.deepcopy(metadata_df)\n",
    "\n",
    "for condition in metadata_df['Sample ID']:\n",
    "    cond.append(condition[:-3])\n",
    "    if condition[:-3] not in unique_cond:\n",
    "        unique_cond.append(condition[:-3])\n",
    "        \n",
    "metadata_clean_df['Sample ID'] = cond\n",
    "\n",
    "#New dataframe with averaged replicates and no duplicates\n",
    "metadata_clean_df = metadata_clean_df.groupby('Sample ID').mean()"
   ]
  },
  {
   "cell_type": "code",
   "execution_count": 11,
   "metadata": {},
   "outputs": [
    {
     "name": "stdout",
     "output_type": "stream",
     "text": [
      "(105, 6)\n",
      "(3923, 105)\n"
     ]
    }
   ],
   "source": [
    "#Make sure columns are the same in expression data as metadata\n",
    "print(metadata_clean_df.shape)\n",
    "print(expression_clean_df.shape)"
   ]
  },
  {
   "cell_type": "code",
   "execution_count": 12,
   "metadata": {},
   "outputs": [],
   "source": [
    "#Remove genes from ecoli_df if not tagged in expression dataset\n",
    "ecoli_clean_df = copy.deepcopy(ecoli_df)\n",
    "\n",
    "for locus in range(len(ecoli_df)):\n",
    "    if ecoli_df['locus_tag'][locus] not in expression_clean_df.index.tolist():\n",
    "        ecoli_clean_df = ecoli_clean_df.drop(locus)\n",
    "\n",
    "expression_final_df = copy.deepcopy(expression_clean_df)\n",
    "\n",
    "for locus in range(len(expression_clean_df)):\n",
    "    if expression_clean_df.index[locus] not in ecoli_clean_df['locus_tag'].tolist():\n",
    "        expression_final_df = expression_final_df.drop(expression_clean_df.index[locus])"
   ]
  },
  {
   "cell_type": "code",
   "execution_count": 13,
   "metadata": {},
   "outputs": [
    {
     "name": "stdout",
     "output_type": "stream",
     "text": [
      "(3859, 19)\n",
      "(3859, 105)\n"
     ]
    }
   ],
   "source": [
    "print(ecoli_clean_df.shape)\n",
    "print(expression_final_df.shape)"
   ]
  },
  {
   "cell_type": "markdown",
   "metadata": {},
   "source": [
    "# Correlation between codon bias metrics"
   ]
  },
  {
   "cell_type": "code",
   "execution_count": 14,
   "metadata": {},
   "outputs": [
    {
     "data": {
      "text/html": [
       "<div>\n",
       "<style scoped>\n",
       "    .dataframe tbody tr th:only-of-type {\n",
       "        vertical-align: middle;\n",
       "    }\n",
       "\n",
       "    .dataframe tbody tr th {\n",
       "        vertical-align: top;\n",
       "    }\n",
       "\n",
       "    .dataframe thead th {\n",
       "        text-align: right;\n",
       "    }\n",
       "</style>\n",
       "<table border=\"1\" class=\"dataframe\">\n",
       "  <thead>\n",
       "    <tr style=\"text-align: right;\">\n",
       "      <th></th>\n",
       "      <th>iCUB</th>\n",
       "      <th>roc_semppr_mean</th>\n",
       "      <th>CAI</th>\n",
       "      <th>tAI</th>\n",
       "      <th>stAIcalc</th>\n",
       "    </tr>\n",
       "  </thead>\n",
       "  <tbody>\n",
       "    <tr>\n",
       "      <th>1</th>\n",
       "      <td>55.949262</td>\n",
       "      <td>1.034078</td>\n",
       "      <td>0.353246</td>\n",
       "      <td>0.230564</td>\n",
       "      <td>0.216862</td>\n",
       "    </tr>\n",
       "    <tr>\n",
       "      <th>2</th>\n",
       "      <td>56.062386</td>\n",
       "      <td>0.994168</td>\n",
       "      <td>0.357812</td>\n",
       "      <td>0.216292</td>\n",
       "      <td>0.210420</td>\n",
       "    </tr>\n",
       "    <tr>\n",
       "      <th>3</th>\n",
       "      <td>53.052776</td>\n",
       "      <td>1.176750</td>\n",
       "      <td>0.394675</td>\n",
       "      <td>0.231407</td>\n",
       "      <td>0.209784</td>\n",
       "    </tr>\n",
       "    <tr>\n",
       "      <th>4</th>\n",
       "      <td>50.705530</td>\n",
       "      <td>0.837528</td>\n",
       "      <td>0.374371</td>\n",
       "      <td>0.197715</td>\n",
       "      <td>0.208944</td>\n",
       "    </tr>\n",
       "    <tr>\n",
       "      <th>5</th>\n",
       "      <td>53.158862</td>\n",
       "      <td>1.032499</td>\n",
       "      <td>0.353849</td>\n",
       "      <td>0.225856</td>\n",
       "      <td>0.213151</td>\n",
       "    </tr>\n",
       "    <tr>\n",
       "      <th>...</th>\n",
       "      <td>...</td>\n",
       "      <td>...</td>\n",
       "      <td>...</td>\n",
       "      <td>...</td>\n",
       "      <td>...</td>\n",
       "    </tr>\n",
       "    <tr>\n",
       "      <th>4349</th>\n",
       "      <td>54.346407</td>\n",
       "      <td>0.752851</td>\n",
       "      <td>0.275049</td>\n",
       "      <td>0.212304</td>\n",
       "      <td>0.195169</td>\n",
       "    </tr>\n",
       "    <tr>\n",
       "      <th>4350</th>\n",
       "      <td>55.967103</td>\n",
       "      <td>0.829794</td>\n",
       "      <td>0.293537</td>\n",
       "      <td>0.212672</td>\n",
       "      <td>0.206721</td>\n",
       "    </tr>\n",
       "    <tr>\n",
       "      <th>4351</th>\n",
       "      <td>54.634345</td>\n",
       "      <td>0.739848</td>\n",
       "      <td>0.288635</td>\n",
       "      <td>0.210078</td>\n",
       "      <td>0.199677</td>\n",
       "    </tr>\n",
       "    <tr>\n",
       "      <th>4352</th>\n",
       "      <td>48.981781</td>\n",
       "      <td>1.676448</td>\n",
       "      <td>0.530773</td>\n",
       "      <td>0.275348</td>\n",
       "      <td>0.239921</td>\n",
       "    </tr>\n",
       "    <tr>\n",
       "      <th>4354</th>\n",
       "      <td>53.610186</td>\n",
       "      <td>0.566772</td>\n",
       "      <td>0.261990</td>\n",
       "      <td>0.204571</td>\n",
       "      <td>0.202168</td>\n",
       "    </tr>\n",
       "  </tbody>\n",
       "</table>\n",
       "<p>3859 rows × 5 columns</p>\n",
       "</div>"
      ],
      "text/plain": [
       "           iCUB  roc_semppr_mean       CAI       tAI  stAIcalc\n",
       "1     55.949262         1.034078  0.353246  0.230564  0.216862\n",
       "2     56.062386         0.994168  0.357812  0.216292  0.210420\n",
       "3     53.052776         1.176750  0.394675  0.231407  0.209784\n",
       "4     50.705530         0.837528  0.374371  0.197715  0.208944\n",
       "5     53.158862         1.032499  0.353849  0.225856  0.213151\n",
       "...         ...              ...       ...       ...       ...\n",
       "4349  54.346407         0.752851  0.275049  0.212304  0.195169\n",
       "4350  55.967103         0.829794  0.293537  0.212672  0.206721\n",
       "4351  54.634345         0.739848  0.288635  0.210078  0.199677\n",
       "4352  48.981781         1.676448  0.530773  0.275348  0.239921\n",
       "4354  53.610186         0.566772  0.261990  0.204571  0.202168\n",
       "\n",
       "[3859 rows x 5 columns]"
      ]
     },
     "execution_count": 14,
     "metadata": {},
     "output_type": "execute_result"
    }
   ],
   "source": [
    "metric_df = ecoli_clean_df[['iCUB', 'roc_semppr_mean', 'CAI', 'tAI', 'stAIcalc', 'aSD_binding', 'sec_struct', 'sec_struct_bound', 'Start_accessibility']]\n",
    "metric_df"
   ]
  },
  {
   "cell_type": "code",
   "execution_count": 15,
   "metadata": {},
   "outputs": [
    {
     "data": {
      "text/html": [
       "<div>\n",
       "<style scoped>\n",
       "    .dataframe tbody tr th:only-of-type {\n",
       "        vertical-align: middle;\n",
       "    }\n",
       "\n",
       "    .dataframe tbody tr th {\n",
       "        vertical-align: top;\n",
       "    }\n",
       "\n",
       "    .dataframe thead th {\n",
       "        text-align: right;\n",
       "    }\n",
       "</style>\n",
       "<table border=\"1\" class=\"dataframe\">\n",
       "  <thead>\n",
       "    <tr style=\"text-align: right;\">\n",
       "      <th></th>\n",
       "      <th>iCUB</th>\n",
       "      <th>roc_semppr_mean</th>\n",
       "      <th>CAI</th>\n",
       "      <th>tAI</th>\n",
       "      <th>stAIcalc</th>\n",
       "    </tr>\n",
       "  </thead>\n",
       "  <tbody>\n",
       "    <tr>\n",
       "      <th>iCUB</th>\n",
       "      <td>1.000000</td>\n",
       "      <td>-0.515658</td>\n",
       "      <td>-0.581081</td>\n",
       "      <td>-0.538805</td>\n",
       "      <td>-0.486559</td>\n",
       "    </tr>\n",
       "    <tr>\n",
       "      <th>roc_semppr_mean</th>\n",
       "      <td>-0.515658</td>\n",
       "      <td>1.000000</td>\n",
       "      <td>0.939023</td>\n",
       "      <td>0.837262</td>\n",
       "      <td>0.546885</td>\n",
       "    </tr>\n",
       "    <tr>\n",
       "      <th>CAI</th>\n",
       "      <td>-0.581081</td>\n",
       "      <td>0.939023</td>\n",
       "      <td>1.000000</td>\n",
       "      <td>0.843535</td>\n",
       "      <td>0.695474</td>\n",
       "    </tr>\n",
       "    <tr>\n",
       "      <th>tAI</th>\n",
       "      <td>-0.538805</td>\n",
       "      <td>0.837262</td>\n",
       "      <td>0.843535</td>\n",
       "      <td>1.000000</td>\n",
       "      <td>0.740101</td>\n",
       "    </tr>\n",
       "    <tr>\n",
       "      <th>stAIcalc</th>\n",
       "      <td>-0.486559</td>\n",
       "      <td>0.546885</td>\n",
       "      <td>0.695474</td>\n",
       "      <td>0.740101</td>\n",
       "      <td>1.000000</td>\n",
       "    </tr>\n",
       "  </tbody>\n",
       "</table>\n",
       "</div>"
      ],
      "text/plain": [
       "                     iCUB  roc_semppr_mean       CAI       tAI  stAIcalc\n",
       "iCUB             1.000000        -0.515658 -0.581081 -0.538805 -0.486559\n",
       "roc_semppr_mean -0.515658         1.000000  0.939023  0.837262  0.546885\n",
       "CAI             -0.581081         0.939023  1.000000  0.843535  0.695474\n",
       "tAI             -0.538805         0.837262  0.843535  1.000000  0.740101\n",
       "stAIcalc        -0.486559         0.546885  0.695474  0.740101  1.000000"
      ]
     },
     "execution_count": 15,
     "metadata": {},
     "output_type": "execute_result"
    }
   ],
   "source": [
    "metric_corr = metric_df.corr(method='spearman')\n",
    "metric_corr"
   ]
  },
  {
   "cell_type": "code",
   "execution_count": 16,
   "metadata": {},
   "outputs": [
    {
     "data": {
      "image/png": "[encoded data removed]",
      "text/plain": [
       "<Figure size 432x288 with 2 Axes>"
      ]
     },
     "metadata": {
      "needs_background": "light"
     },
     "output_type": "display_data"
    }
   ],
   "source": [
    "#Visualize correlation matrix\n",
    "sns.heatmap(metric_corr)\n",
    "plt.show()"
   ]
  },
  {
   "cell_type": "markdown",
   "metadata": {},
   "source": [
    "# Correlate metrics with gene expression"
   ]
  },
  {
   "cell_type": "code",
   "execution_count": 19,
   "metadata": {},
   "outputs": [],
   "source": [
    "#Average expression data\n",
    "avg_expression_list = []\n",
    "\n",
    "for g in expression_final_df.values:\n",
    "    avg_expression_list.append(np.mean(g))"
   ]
  },
  {
   "cell_type": "code",
   "execution_count": 20,
   "metadata": {},
   "outputs": [],
   "source": [
    "#Median expression data\n",
    "med_expression_list = []\n",
    "\n",
    "for g in expression_final_df.values:\n",
    "    med_expression_list.append(np.median(g))"
   ]
  },
  {
   "cell_type": "code",
   "execution_count": 22,
   "metadata": {},
   "outputs": [],
   "source": [
    "#Max expression data\n",
    "max_expression_list = []\n",
    "\n",
    "for g in expression_final_df.values:\n",
    "    max_expression_list.append(max(g))"
   ]
  },
  {
   "cell_type": "code",
   "execution_count": 23,
   "metadata": {},
   "outputs": [],
   "source": [
    "#Min expression data\n",
    "min_expression_list = []\n",
    "\n",
    "for g in expression_final_df.values:\n",
    "    min_expression_list.append(min(g))"
   ]
  },
  {
   "cell_type": "code",
   "execution_count": 44,
   "metadata": {},
   "outputs": [],
   "source": [
    "def calc_metric_correlation(metric):\n",
    "    #Correlation between metric and average gene expression\n",
    "    avg_rho, p = stats.spearmanr(ecoli_clean_df[metric], avg_expression_list)\n",
    "    #Correlation between metric and median gene expression\n",
    "    med_rho, p = stats.spearmanr(ecoli_clean_df[metric], med_expression_list)\n",
    "    #Correlation between metric and max gene expression\n",
    "    max_rho, p = stats.spearmanr(ecoli_clean_df[metric], max_expression_list)\n",
    "    #Correlation between metric and min gene expression\n",
    "    min_rho, p = stats.spearmanr(ecoli_clean_df[metric], min_expression_list)\n",
    "    \n",
    "    return [avg_rho, med_rho, max_rho, min_rho]"
   ]
  },
  {
   "cell_type": "code",
   "execution_count": 65,
   "metadata": {},
   "outputs": [],
   "source": [
    "#Calculate each metric's correlation with gene expression data\n",
    "icub_corr_list = calc_metric_correlation('iCUB')\n",
    "roc_corr_list = calc_metric_correlation('roc_semppr_mean')\n",
    "cai_corr_list = calc_metric_correlation('CAI')\n",
    "tai_corr_list = calc_metric_correlation('tAI')\n",
    "staicalc_corr_list = calc_metric_correlation('stAIcalc')\n",
    "asd_corr_list = calc_metric_correlation('aSD_binding')\n",
    "ss_corr_list = calc_metric_correlation('sec_struct')\n",
    "ss_bound_corrr_list = calc_metric_correlation('sec_struct_bound')\n",
    "accessibility_list = calc_metric_correlation('Start_accessibility')"
   ]
  },
  {
   "cell_type": "code",
   "execution_count": 66,
   "metadata": {},
   "outputs": [],
   "source": [
    "#Create dataframe for bar plots\n",
    "metrics_corr = pd.DataFrame(zip(icub_corr_list, roc_corr_list, cai_corr_list, tai_corr_list, staicalc_corr_list, asd_corr_list, ss_corr_list, ss_bound_corrr_list, accessibility_list), columns=['iCUB', 'roc_semppr_mean', 'CAI', 'tAI', 'stAIcalc', 'aSD_binding', 'sec_struct', 'sec_struct_bound', 'Start_accessibility'])"
   ]
  },
  {
   "cell_type": "code",
   "execution_count": 67,
   "metadata": {},
   "outputs": [
    {
     "data": {
      "text/plain": [
       "<AxesSubplot:>"
      ]
     },
     "execution_count": 67,
     "metadata": {},
     "output_type": "execute_result"
    },
    {
     "data": {
      "image/png": "[encoded data removed]",
      "text/plain": [
       "<Figure size 432x288 with 1 Axes>"
      ]
     },
     "metadata": {
      "needs_background": "light"
     },
     "output_type": "display_data"
    }
   ],
   "source": [
    "#Bar plot of average gene expression correlations\n",
    "metrics_corr.loc[0].plot.bar(x='Metric', y='Spearman')"
   ]
  },
  {
   "cell_type": "code",
   "execution_count": 68,
   "metadata": {},
   "outputs": [
    {
     "data": {
      "text/plain": [
       "<AxesSubplot:>"
      ]
     },
     "execution_count": 68,
     "metadata": {},
     "output_type": "execute_result"
    },
    {
     "data": {
      "image/png": "[encoded data removed]",
      "text/plain": [
       "<Figure size 432x288 with 1 Axes>"
      ]
     },
     "metadata": {
      "needs_background": "light"
     },
     "output_type": "display_data"
    }
   ],
   "source": [
    "#Bar plot of median gene expression correlations\n",
    "metrics_corr.loc[1].plot.bar(x='Metric', y='Spearman')"
   ]
  },
  {
   "cell_type": "code",
   "execution_count": 69,
   "metadata": {},
   "outputs": [
    {
     "data": {
      "text/plain": [
       "<AxesSubplot:>"
      ]
     },
     "execution_count": 69,
     "metadata": {},
     "output_type": "execute_result"
    },
    {
     "data": {
      "image/png": "[encoded data removed]",
      "text/plain": [
       "<Figure size 432x288 with 1 Axes>"
      ]
     },
     "metadata": {
      "needs_background": "light"
     },
     "output_type": "display_data"
    }
   ],
   "source": [
    "#Bar plot of max gene expression correlations\n",
    "metrics_corr.loc[2].plot.bar(x='Metric', y='Spearman')"
   ]
  },
  {
   "cell_type": "code",
   "execution_count": 70,
   "metadata": {},
   "outputs": [
    {
     "data": {
      "text/plain": [
       "<AxesSubplot:>"
      ]
     },
     "execution_count": 70,
     "metadata": {},
     "output_type": "execute_result"
    },
    {
     "data": {
      "image/png": "[encoded data removed]",
      "text/plain": [
       "<Figure size 432x288 with 1 Axes>"
      ]
     },
     "metadata": {
      "needs_background": "light"
     },
     "output_type": "display_data"
    }
   ],
   "source": [
    "#Bar plot of min gene expression correlations\n",
    "metrics_corr.loc[3].plot.bar(x='Metric', y='Spearman')"
   ]
  }
 ],
 "metadata": {
  "kernelspec": {
   "display_name": "Python 3",
   "language": "python",
   "name": "python3"
  },
  "language_info": {
   "codemirror_mode": {
    "name": "ipython",
    "version": 3
   },
   "file_extension": ".py",
   "mimetype": "text/x-python",
   "name": "python",
   "nbconvert_exporter": "python",
   "pygments_lexer": "ipython3",
   "version": "3.8.5"
  }
 },
 "nbformat": 4,
 "nbformat_minor": 4
}
