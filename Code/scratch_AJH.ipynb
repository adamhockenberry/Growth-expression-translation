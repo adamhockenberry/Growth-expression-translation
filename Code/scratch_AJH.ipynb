{
 "cells": [
  {
   "cell_type": "code",
   "execution_count": 1,
   "metadata": {},
   "outputs": [],
   "source": [
    "%matplotlib inline"
   ]
  },
  {
   "cell_type": "code",
   "execution_count": 2,
   "metadata": {},
   "outputs": [],
   "source": [
    "import pandas as pd\n",
    "import numpy as np\n",
    "from scipy import stats\n",
    "\n",
    "import matplotlib.pyplot as plt"
   ]
  },
  {
   "cell_type": "code",
   "execution_count": 3,
   "metadata": {},
   "outputs": [],
   "source": [
    "rnaseq_file = '../Data/raw_data/41467_2019_13483_MOESM4_ESM.xlsx'"
   ]
  },
  {
   "cell_type": "code",
   "execution_count": 4,
   "metadata": {},
   "outputs": [
    {
     "name": "stdout",
     "output_type": "stream",
     "text": [
      "(278, 26)\n",
      "(195, 26)\n",
      "(179, 26)\n",
      "(173, 26)\n"
     ]
    }
   ],
   "source": [
    "metadata_df = pd.read_excel(rnaseq_file, sheet_name='Metadata')\n",
    "print(metadata_df.shape)\n",
    "metadata_df = metadata_df[metadata_df['Growth Rate (1/hr)'].isnull() == False]\n",
    "print(metadata_df.shape)\n",
    "metadata_df = metadata_df[metadata_df['Growth Rate (1/hr)'] > 0.0]\n",
    "print(metadata_df.shape)\n",
    "metadata_df = metadata_df[metadata_df['Alignment'] > 80]\n",
    "print(metadata_df.shape)"
   ]
  },
  {
   "cell_type": "code",
   "execution_count": 5,
   "metadata": {},
   "outputs": [
    {
     "name": "stdout",
     "output_type": "stream",
     "text": [
      "(3923, 278)\n",
      "(3923, 173)\n"
     ]
    }
   ],
   "source": [
    "expression_df = pd.read_excel(rnaseq_file, sheet_name='Expression Data', index_col=0)\n",
    "print(expression_df.shape)\n",
    "expression_df = expression_df[metadata_df['Sample ID']]\n",
    "print(expression_df.shape)"
   ]
  },
  {
   "cell_type": "code",
   "execution_count": null,
   "metadata": {},
   "outputs": [],
   "source": [
    "assert list(metadata_df['Sample ID']) == list(expression_df.columns)"
   ]
  },
  {
   "cell_type": "code",
   "execution_count": null,
   "metadata": {},
   "outputs": [],
   "source": [
    "expression_df = expression_df / expression_df.sum()"
   ]
  },
  {
   "cell_type": "code",
   "execution_count": null,
   "metadata": {},
   "outputs": [],
   "source": [
    "tempy = []\n",
    "for index in expression_df.index:\n",
    "    rho, p = stats.spearmanr(expression_df.loc[index], metadata_df['Growth Rate (1/hr)'])\n",
    "    tempy.append((index, rho, p))\n",
    "tempy.sort(key=lambda x: x[1])"
   ]
  },
  {
   "cell_type": "code",
   "execution_count": null,
   "metadata": {},
   "outputs": [],
   "source": [
    "tempy"
   ]
  },
  {
   "cell_type": "code",
   "execution_count": null,
   "metadata": {},
   "outputs": [],
   "source": []
  },
  {
   "cell_type": "code",
   "execution_count": null,
   "metadata": {},
   "outputs": [],
   "source": [
    "a = metadata_df['Growth Rate (1/hr)']\n",
    "b = expression_df.sum()\n",
    "\n",
    "fig, ax = plt.subplots()\n",
    "ax.scatter(a,b)"
   ]
  },
  {
   "cell_type": "code",
   "execution_count": null,
   "metadata": {},
   "outputs": [],
   "source": [
    "metadata_df['Growth Rate (1/hr)'].hist()"
   ]
  },
  {
   "cell_type": "code",
   "execution_count": null,
   "metadata": {},
   "outputs": [],
   "source": [
    "tempy = []\n",
    "for column in expression_df.columns:\n",
    "    rho, p = stats.spearmanr(expression_df[expression_df.columns[0]], expression_df[column])\n",
    "    tempy.append((column, rho, p))\n",
    "tempy.sort(key=lambda x: x[1])"
   ]
  },
  {
   "cell_type": "code",
   "execution_count": null,
   "metadata": {},
   "outputs": [],
   "source": [
    "tempy"
   ]
  },
  {
   "cell_type": "code",
   "execution_count": null,
   "metadata": {},
   "outputs": [],
   "source": []
  },
  {
   "cell_type": "code",
   "execution_count": null,
   "metadata": {},
   "outputs": [],
   "source": []
  },
  {
   "cell_type": "code",
   "execution_count": null,
   "metadata": {},
   "outputs": [],
   "source": []
  },
  {
   "cell_type": "code",
   "execution_count": null,
   "metadata": {},
   "outputs": [],
   "source": []
  },
  {
   "cell_type": "code",
   "execution_count": null,
   "metadata": {},
   "outputs": [],
   "source": []
  },
  {
   "cell_type": "code",
   "execution_count": 12,
   "metadata": {},
   "outputs": [
    {
     "name": "stdout",
     "output_type": "stream",
     "text": [
      "(4310, 7)\n"
     ]
    }
   ],
   "source": [
    "other_df = pd.read_csv('../Data/ecoli_info/temp_ecoli_master_table.tsv', sep='\\t', index_col=0)\n",
    "other_df = other_df[other_df['CAI'].isnull()==False]\n",
    "print(other_df.shape)\n",
    "# other_df = pd.read_csv('../Phage_translation/Data/562_associated_data/ecoli.combined.tsv', sep='\\t', index_col=7)"
   ]
  },
  {
   "cell_type": "code",
   "execution_count": 13,
   "metadata": {},
   "outputs": [
    {
     "data": {
      "text/html": [
       "<div>\n",
       "<style scoped>\n",
       "    .dataframe tbody tr th:only-of-type {\n",
       "        vertical-align: middle;\n",
       "    }\n",
       "\n",
       "    .dataframe tbody tr th {\n",
       "        vertical-align: top;\n",
       "    }\n",
       "\n",
       "    .dataframe thead th {\n",
       "        text-align: right;\n",
       "    }\n",
       "</style>\n",
       "<table border=\"1\" class=\"dataframe\">\n",
       "  <thead>\n",
       "    <tr style=\"text-align: right;\">\n",
       "      <th></th>\n",
       "      <th>gene</th>\n",
       "      <th>start_loc</th>\n",
       "      <th>stop_loc</th>\n",
       "      <th>strand</th>\n",
       "      <th>cds_seq</th>\n",
       "      <th>us_seq</th>\n",
       "      <th>CAI</th>\n",
       "    </tr>\n",
       "    <tr>\n",
       "      <th>locus_tag</th>\n",
       "      <th></th>\n",
       "      <th></th>\n",
       "      <th></th>\n",
       "      <th></th>\n",
       "      <th></th>\n",
       "      <th></th>\n",
       "      <th></th>\n",
       "    </tr>\n",
       "  </thead>\n",
       "  <tbody>\n",
       "    <tr>\n",
       "      <th>b0001</th>\n",
       "      <td>thrL</td>\n",
       "      <td>189</td>\n",
       "      <td>255</td>\n",
       "      <td>+</td>\n",
       "      <td>ATGAAACGCATTAGCACCACCATTACCACCACCATCACCATTACCA...</td>\n",
       "      <td>CAGATAAAAATTACAGAGTACACAACATCC</td>\n",
       "      <td>0.617266</td>\n",
       "    </tr>\n",
       "    <tr>\n",
       "      <th>b0002</th>\n",
       "      <td>thrA</td>\n",
       "      <td>336</td>\n",
       "      <td>2799</td>\n",
       "      <td>+</td>\n",
       "      <td>ATGCGAGTGTTGAAGTTCGGCGGTACATCAGTGGCAAATGCAGAAC...</td>\n",
       "      <td>TTTTCGACCAAAGGTAACGAGGTAACAACC</td>\n",
       "      <td>0.353246</td>\n",
       "    </tr>\n",
       "    <tr>\n",
       "      <th>b0003</th>\n",
       "      <td>thrB</td>\n",
       "      <td>2800</td>\n",
       "      <td>3733</td>\n",
       "      <td>+</td>\n",
       "      <td>ATGGTTAAAGTTTATGCCCCGGCTTCCAGTGCCAATATGAGCGTCG...</td>\n",
       "      <td>GTACCCTCTCATGGAAGTTAGGAGTCTGAC</td>\n",
       "      <td>0.357812</td>\n",
       "    </tr>\n",
       "    <tr>\n",
       "      <th>b0004</th>\n",
       "      <td>thrC</td>\n",
       "      <td>3733</td>\n",
       "      <td>5020</td>\n",
       "      <td>+</td>\n",
       "      <td>ATGAAACTCTACAATCTGAAAGATCACAACGAGCAGGTCAGCTTTG...</td>\n",
       "      <td>ACGGCGGGCGCACGAGTACTGGAAAACTAA</td>\n",
       "      <td>0.394675</td>\n",
       "    </tr>\n",
       "    <tr>\n",
       "      <th>b0005</th>\n",
       "      <td>yaaX</td>\n",
       "      <td>5233</td>\n",
       "      <td>5530</td>\n",
       "      <td>+</td>\n",
       "      <td>GTGAAAAAGATGCAATCTATCGTACTCGCACTTTCCCTGGTTCTGG...</td>\n",
       "      <td>CATAACGGGCAATGATAAAAGGAGTAACCT</td>\n",
       "      <td>0.374371</td>\n",
       "    </tr>\n",
       "    <tr>\n",
       "      <th>...</th>\n",
       "      <td>...</td>\n",
       "      <td>...</td>\n",
       "      <td>...</td>\n",
       "      <td>...</td>\n",
       "      <td>...</td>\n",
       "      <td>...</td>\n",
       "      <td>...</td>\n",
       "    </tr>\n",
       "    <tr>\n",
       "      <th>b4399</th>\n",
       "      <td>creC</td>\n",
       "      <td>4636695</td>\n",
       "      <td>4638120</td>\n",
       "      <td>+</td>\n",
       "      <td>ATGCGTATCGGCATGCGGTTGTTGCTGGGCTATTTTTTACTGGTGG...</td>\n",
       "      <td>CGGCATGGGATATAGCCTGAGGGGCCTGTA</td>\n",
       "      <td>0.293537</td>\n",
       "    </tr>\n",
       "    <tr>\n",
       "      <th>b4400</th>\n",
       "      <td>creD</td>\n",
       "      <td>4638177</td>\n",
       "      <td>4639530</td>\n",
       "      <td>+</td>\n",
       "      <td>ATGTTGAAATCCCCCCTGTTCTGGAAAATGACTAGCCTGTTTGGTG...</td>\n",
       "      <td>TATCCTGCTGCCATTGCAAAGGAGAAGACT</td>\n",
       "      <td>0.288635</td>\n",
       "    </tr>\n",
       "    <tr>\n",
       "      <th>b4401</th>\n",
       "      <td>arcA</td>\n",
       "      <td>4639589</td>\n",
       "      <td>4640306</td>\n",
       "      <td>-</td>\n",
       "      <td>ATGCAGACCCCGCACATTCTTATCGTTGAAGACGAGTTGGTAACAC...</td>\n",
       "      <td>TCGATTTAGTTGGCAATTTAGGTAGCAAAC</td>\n",
       "      <td>0.530773</td>\n",
       "    </tr>\n",
       "    <tr>\n",
       "      <th>b4402</th>\n",
       "      <td>yjjY</td>\n",
       "      <td>4640401</td>\n",
       "      <td>4640542</td>\n",
       "      <td>+</td>\n",
       "      <td>ATGACTAAAGTACGTAATTGCGTTCTTGATGCACTTTCCATCAACG...</td>\n",
       "      <td>CATGCTGCAAATTAACATGATCGGCGTAAC</td>\n",
       "      <td>0.314394</td>\n",
       "    </tr>\n",
       "    <tr>\n",
       "      <th>b4403</th>\n",
       "      <td>yjtD</td>\n",
       "      <td>4640941</td>\n",
       "      <td>4641628</td>\n",
       "      <td>+</td>\n",
       "      <td>ATGCGTATAACGATTATTCTGGTCGCACCCGCCAGAGCAGAAAATA...</td>\n",
       "      <td>CGCGGTTATTTGATCAAGAAGAGTGGCAAT</td>\n",
       "      <td>0.261990</td>\n",
       "    </tr>\n",
       "  </tbody>\n",
       "</table>\n",
       "<p>4310 rows × 7 columns</p>\n",
       "</div>"
      ],
      "text/plain": [
       "           gene  start_loc  stop_loc strand  \\\n",
       "locus_tag                                     \n",
       "b0001      thrL        189       255      +   \n",
       "b0002      thrA        336      2799      +   \n",
       "b0003      thrB       2800      3733      +   \n",
       "b0004      thrC       3733      5020      +   \n",
       "b0005      yaaX       5233      5530      +   \n",
       "...         ...        ...       ...    ...   \n",
       "b4399      creC    4636695   4638120      +   \n",
       "b4400      creD    4638177   4639530      +   \n",
       "b4401      arcA    4639589   4640306      -   \n",
       "b4402      yjjY    4640401   4640542      +   \n",
       "b4403      yjtD    4640941   4641628      +   \n",
       "\n",
       "                                                     cds_seq  \\\n",
       "locus_tag                                                      \n",
       "b0001      ATGAAACGCATTAGCACCACCATTACCACCACCATCACCATTACCA...   \n",
       "b0002      ATGCGAGTGTTGAAGTTCGGCGGTACATCAGTGGCAAATGCAGAAC...   \n",
       "b0003      ATGGTTAAAGTTTATGCCCCGGCTTCCAGTGCCAATATGAGCGTCG...   \n",
       "b0004      ATGAAACTCTACAATCTGAAAGATCACAACGAGCAGGTCAGCTTTG...   \n",
       "b0005      GTGAAAAAGATGCAATCTATCGTACTCGCACTTTCCCTGGTTCTGG...   \n",
       "...                                                      ...   \n",
       "b4399      ATGCGTATCGGCATGCGGTTGTTGCTGGGCTATTTTTTACTGGTGG...   \n",
       "b4400      ATGTTGAAATCCCCCCTGTTCTGGAAAATGACTAGCCTGTTTGGTG...   \n",
       "b4401      ATGCAGACCCCGCACATTCTTATCGTTGAAGACGAGTTGGTAACAC...   \n",
       "b4402      ATGACTAAAGTACGTAATTGCGTTCTTGATGCACTTTCCATCAACG...   \n",
       "b4403      ATGCGTATAACGATTATTCTGGTCGCACCCGCCAGAGCAGAAAATA...   \n",
       "\n",
       "                                   us_seq       CAI  \n",
       "locus_tag                                            \n",
       "b0001      CAGATAAAAATTACAGAGTACACAACATCC  0.617266  \n",
       "b0002      TTTTCGACCAAAGGTAACGAGGTAACAACC  0.353246  \n",
       "b0003      GTACCCTCTCATGGAAGTTAGGAGTCTGAC  0.357812  \n",
       "b0004      ACGGCGGGCGCACGAGTACTGGAAAACTAA  0.394675  \n",
       "b0005      CATAACGGGCAATGATAAAAGGAGTAACCT  0.374371  \n",
       "...                                   ...       ...  \n",
       "b4399      CGGCATGGGATATAGCCTGAGGGGCCTGTA  0.293537  \n",
       "b4400      TATCCTGCTGCCATTGCAAAGGAGAAGACT  0.288635  \n",
       "b4401      TCGATTTAGTTGGCAATTTAGGTAGCAAAC  0.530773  \n",
       "b4402      CATGCTGCAAATTAACATGATCGGCGTAAC  0.314394  \n",
       "b4403      CGCGGTTATTTGATCAAGAAGAGTGGCAAT  0.261990  \n",
       "\n",
       "[4310 rows x 7 columns]"
      ]
     },
     "execution_count": 13,
     "metadata": {},
     "output_type": "execute_result"
    }
   ],
   "source": [
    "other_df"
   ]
  },
  {
   "cell_type": "code",
   "execution_count": 14,
   "metadata": {},
   "outputs": [
    {
     "name": "stdout",
     "output_type": "stream",
     "text": [
      "(3923, 173)\n",
      "(3859, 173)\n",
      "(3859, 7)\n"
     ]
    }
   ],
   "source": [
    "print(expression_df.shape)\n",
    "expression_df = expression_df[expression_df.index.isin(other_df.index)]\n",
    "print(expression_df.shape)\n",
    "other_df = other_df[other_df.index.isin(expression_df.index)]\n",
    "print(other_df.shape)"
   ]
  },
  {
   "cell_type": "code",
   "execution_count": 15,
   "metadata": {},
   "outputs": [],
   "source": [
    "expression_df = expression_df.sort_index()\n",
    "other_df = other_df.sort_index()"
   ]
  },
  {
   "cell_type": "code",
   "execution_count": 18,
   "metadata": {},
   "outputs": [],
   "source": [
    "tempy = []\n",
    "listy_a = []\n",
    "listy_b = []\n",
    "for column in expression_df.columns:\n",
    "#     a, b, c, d, e = stats.linregress(other_df['CAI'], expression_df[column])\n",
    "#     listy_a.append(c)\n",
    "#     listy_b.append(metadata_df[metadata_df['Sample ID']==column].iloc[0]['Growth Rate (1/hr)'])\n",
    "#     tempy.append((column, rho, p))\n",
    "    rho, p = stats.spearmanr(other_df['CAI'], expression_df[column])\n",
    "    listy_a.append(rho)\n",
    "    listy_b.append(metadata_df[metadata_df['Sample ID']==column].iloc[0]['Growth Rate (1/hr)'])\n",
    "    tempy.append((column, rho, p))\n",
    "tempy.sort(key=lambda x: x[1])"
   ]
  },
  {
   "cell_type": "code",
   "execution_count": 19,
   "metadata": {},
   "outputs": [
    {
     "name": "stdout",
     "output_type": "stream",
     "text": [
      "SpearmanrResult(correlation=0.4119985099319515, pvalue=1.782679623368587e-08)\n"
     ]
    },
    {
     "data": {
      "image/png": "[encoded data removed]",
      "text/plain": [
       "<Figure size 432x288 with 1 Axes>"
      ]
     },
     "metadata": {
      "needs_background": "light"
     },
     "output_type": "display_data"
    }
   ],
   "source": [
    "fig, ax = plt.subplots()\n",
    "ax.scatter(listy_b, listy_a)\n",
    "print(stats.spearmanr(listy_b, listy_a))"
   ]
  },
  {
   "cell_type": "code",
   "execution_count": 20,
   "metadata": {},
   "outputs": [
    {
     "data": {
      "text/plain": [
       "[('fps__fps_serB_ale4__2', 0.33146369607745396, 1.2885775488479362e-99),\n",
       " ('fps__fps_serB_ale4__1', 0.3420018827900485, 2.4663472312302756e-106),\n",
       " ('ica__cytd_rib__2', 0.3444408755860476, 6.3024416087092785e-108),\n",
       " ('ica__cytd_rib__1', 0.3496102963395999, 2.380471023175806e-111),\n",
       " ('ssw__wt_xyl__1', 0.3575035445904968, 1.0578438521556207e-116),\n",
       " ('fps__fps_thrA_ale1__1', 0.3651268816718592, 5.11143160252301e-122),\n",
       " ('ytf__delyiaJ__2', 0.36627391631209333, 7.871608573494893e-123),\n",
       " ('fps__fps_thrA_ale2__1', 0.3664288879239551, 6.109945076938548e-123),\n",
       " ('ytf__delybiH__2', 0.3679308406920579, 5.20634069765807e-124),\n",
       " ('ica__ade_glc__2', 0.3691498275928744, 6.987283366871812e-125),\n",
       " ('ica__ade_glc__1', 0.36973015222399813, 2.6775510982047237e-125),\n",
       " ('efeU__menFentCubiC_ale37__1', 0.3713691338055837, 1.7643870735580306e-126),\n",
       " ('fps__fps_serB_ale1__1', 0.3718005202422033, 8.6014027572368e-127),\n",
       " ('efeU__menFentCubiC_ale37__2', 0.37306425596457266, 1.0417241138208416e-127),\n",
       " ('fps__fps_thrA_ale2__2', 0.37363308410616614, 4.0154918576277633e-128),\n",
       " ('ssw__glc_ac_ac2__1', 0.37460565395101403, 7.833135250518569e-129),\n",
       " ('fps__fps_thrA_ale1__2', 0.3749170794967602, 4.635904233710352e-129),\n",
       " ('ica__no3_anaero__2', 0.3757297103951309, 1.1763371067456585e-129),\n",
       " ('fps__fps_serB_ale1__2', 0.37789262443048316, 2.9986467684119633e-131),\n",
       " ('ssw__glc_ac_glc2__1', 0.37850880305645646, 1.0488364989763235e-131),\n",
       " ('ytf__delyiaJ__1', 0.37919188740821824, 3.2643510921406856e-132),\n",
       " ('ica__gth__1', 0.3792367246659663, 3.023297932911396e-132),\n",
       " ('fps__fps_ptsI_ale1__1', 0.3817226579844377, 4.217955012128443e-134),\n",
       " ('ssw__wt_glc__1', 0.3817568277572761, 3.976366701013975e-134),\n",
       " ('ytf__delybiH__1', 0.3826457446587144, 8.551210215541929e-135),\n",
       " ('ica__leu_glcr__2', 0.3852474837455696, 9.25751481428785e-137),\n",
       " ('ica__wt_glc__4', 0.3855806209810583, 5.170429855456914e-137),\n",
       " ('ica__leu_glcr__1', 0.3856930821181985, 4.246810171964987e-137),\n",
       " ('fps__fps_ptsI_ale1__2', 0.3861139328876853, 2.0320922978570365e-137),\n",
       " ('ica__no3_anaero__1', 0.38925631967032004, 7.9945082575215845e-140),\n",
       " ('pal__tartr_ale28_f10__2', 0.39058611977305097, 7.534064745607934e-141),\n",
       " ('efeU__menFentCubiC_ale38__1', 0.39059968550535396, 7.35429019264006e-141),\n",
       " ('fps__fps_ptsI_ale3__1', 0.39103816818746456, 3.367083456622413e-141),\n",
       " ('ytf__wt_ph5__2', 0.39125934304863397, 2.269437557172142e-141),\n",
       " ('ytf__delydcI_ph8__1', 0.39133874041862415, 1.969609179484546e-141),\n",
       " ('ytf__delyddM__1', 0.3915413842159313, 1.3716424145790162e-141),\n",
       " ('efeU__menFentCubiC_ale36__2', 0.393026500940368, 9.59924114291271e-143),\n",
       " ('ytf__wt_glc__2', 0.39351363921794297, 4.00021259227264e-143),\n",
       " ('ytf__delyafC__2', 0.39393692732161195, 1.8673918823403081e-143),\n",
       " ('ytf__delyieP__2', 0.3940746027141178, 1.4572094807435201e-143),\n",
       " ('cra_crp__delcra_ac__1', 0.39419515788074516, 1.172629284347562e-143),\n",
       " ('efeU__menFentCubiC_ale38__2', 0.39426367293714476, 1.0363701592372898e-143),\n",
       " ('ica__gth__2', 0.3943608261239104, 8.698096059062552e-144),\n",
       " ('ica__ura_pyr__1', 0.39461484687722603, 5.499881682612431e-144),\n",
       " ('ytf__delyeiE__1', 0.3950213887522234, 2.638702751408652e-144),\n",
       " ('efeU__menFentCubiC_ale36__1', 0.395108305095061, 2.254964928527931e-144),\n",
       " ('ytf__delyddM__2', 0.3953541415178282, 1.445395467848259e-144),\n",
       " ('ytf__wt_ph5__1', 0.39584671560833157, 5.922129787952813e-145),\n",
       " ('ytf__delyieP__1', 0.3961968251189079, 3.137941193422622e-145),\n",
       " ('cra_crp__delcra_ac__2', 0.39650641433339723, 1.7883698566595816e-145),\n",
       " ('ssw__wt_ac__1', 0.3969861233214379, 7.474329829959016e-146),\n",
       " ('ytf__wt_ph8__1', 0.39731339945052696, 4.118335245649649e-146),\n",
       " ('ica__ura_pyr__2', 0.3974011212615994, 3.509867224599443e-146),\n",
       " ('fps__fps_ptsI_ale3__2', 0.3975615441948611, 2.6197690871526006e-146),\n",
       " ('ytf__delydcI_ph5__2', 0.3976596235128497, 2.190615837473673e-146),\n",
       " ('ytf__delydcI_ph8__2', 0.39839218872653775, 5.746559814557997e-147),\n",
       " ('ytf__delyeiE__2', 0.398414256888321, 5.519224114519544e-147),\n",
       " ('fur__delfur_fe2__2', 0.3988843569122978, 2.3341876607329343e-147),\n",
       " ('pal__tartr_ale28__2', 0.3989609146069298, 2.028677182214929e-147),\n",
       " ('pal__tartr_ale28_f10__1', 0.399002439831107, 1.8800154348541458e-147),\n",
       " ('ytf__delydcI_ph5__1', 0.40064544533899693, 9.17544921921067e-149),\n",
       " ('cra_crp__delcra_fru__1', 0.4011662131780643, 3.5105222932582196e-149),\n",
       " ('ytf__delyheO__1', 0.40146901161462345, 2.006393347123667e-149),\n",
       " ('ytf__delyafC__1', 0.40206746144403815, 6.629707582853858e-150),\n",
       " ('fur__delfur_fe2__1', 0.4024931640901487, 3.0115603493091994e-150),\n",
       " ('ytf__delybaO__1', 0.402728591537507, 1.945585305500388e-150),\n",
       " ('ytf__wt_ph8__2', 0.40301003759008214, 1.1535038003543238e-150),\n",
       " ('ytf__wt_glc__1', 0.403587269010742, 3.9418692679339176e-151),\n",
       " ('cra_crp__delcra_fru__2', 0.40364799523678796, 3.520389554719338e-151),\n",
       " ('ytf__delyheO__2', 0.40434559791908575, 9.586921117981904e-152),\n",
       " ('ica__bw_delpurR_cytd__2', 0.4045623943974056, 6.395048957308367e-152),\n",
       " ('ytf__delybaO__2', 0.4047736044836878, 4.309368737524626e-152),\n",
       " ('ica__bw_delpurR_cytd__1', 0.4055210928133168, 1.0634342431113075e-152),\n",
       " ('pal__tartr_ale26_f10__2', 0.40758799621558944, 2.1787331701492163e-154),\n",
       " ('ytf__delybaQ__2', 0.40789467798301826, 1.2208094800532143e-154),\n",
       " ('ica__wt_glc__1', 0.4090235800837271, 1.440079917959845e-155),\n",
       " ('pal__5drib_ale10_f18__1', 0.40929899962534627, 8.538334908161582e-156),\n",
       " ('ica__wt_glc__6', 0.40983768816309063, 3.067206567627384e-156),\n",
       " ('omics__bw_glc__1', 0.4098594937419612, 2.9425753344038766e-156),\n",
       " ('pal__lyx_ale2_f6__1', 0.4098732470609714, 2.866580342156453e-156),\n",
       " ('ica__wt_glc__5', 0.4103331584875184, 1.1941573618806358e-156),\n",
       " ('pal__5drib_ale10_f18__2', 0.4103488069588886, 1.1590742626973878e-156),\n",
       " ('ytf__delybaQ__1', 0.41045170226747796, 9.5266528214459e-157),\n",
       " ('ica__wt_glc__2', 0.41052563856396723, 8.274115165143446e-157),\n",
       " ('omics__bw_glc__2', 0.4111747911729078, 2.3964211667241326e-157),\n",
       " ('omics__bw_ac__2', 0.4113223052560821, 1.807611368513665e-157),\n",
       " ('ica__tyr_glcn__2', 0.41185137712741005, 6.5673646719092005e-158),\n",
       " ('ica__phe_acgam__2', 0.4122459683937659, 3.082672195272175e-158),\n",
       " ('ica__tyr_glcn__1', 0.4124485950711523, 2.089709366816327e-158),\n",
       " ('ica__phe_acgam__1', 0.41259334040904727, 1.5827173847339787e-158),\n",
       " ('ica__thm_gal__1', 0.41362684651948983, 2.1675870470977428e-159),\n",
       " ('omics__bw_ac__1', 0.4139507380291701, 1.1608061739732269e-159),\n",
       " ('omics__bw_pyr__2', 0.41406134546998863, 9.377170940590158e-160),\n",
       " ('omics__bw_pyr__1', 0.4147346930720648, 2.553050776241593e-160),\n",
       " ('fur__wt_fe__2', 0.4154253072636192, 6.702101000057814e-161),\n",
       " ('ica__met_glc__2', 0.4154275941637733, 6.6724492108911845e-161),\n",
       " ('pgi__pgi_ale2__1', 0.4160721091252278, 1.9097282073470327e-161),\n",
       " ('42c__42c_ale10__1', 0.41649788565705864, 8.344416767740389e-162),\n",
       " ('pal__tartr_ale26_f10__1', 0.41687824667287604, 3.9786328432434685e-162),\n",
       " ('fur__wt_fe__1', 0.4178829225409493, 5.598869347146549e-163),\n",
       " ('pal__tartr_ale28__1', 0.41798922821508305, 4.547973640438919e-163),\n",
       " ('efeU__menFentC_ale29__1', 0.41835271660896683, 2.2329090352910526e-163),\n",
       " ('ica__met_glc__1', 0.4187398455954064, 1.0457093069233683e-163),\n",
       " ('pal__arab_ale16__1', 0.4189391598019922, 7.07324529003504e-164),\n",
       " ('cra_crp__wt_ac__1', 0.41938533518291904, 2.945187395634395e-164),\n",
       " ('rpoB__rpoBE546V_glc__1', 0.42132471907187946, 6.433713584940354e-166),\n",
       " ('ssw__xyl_ale3__1', 0.4213938370287668, 5.611457643824929e-166),\n",
       " ('ssw__wt_glyc__1', 0.42184124548243934, 2.313802457389652e-166),\n",
       " ('ssw__glc_xyl_xyl__1', 0.4219194799944661, 1.9814743395499938e-166),\n",
       " ('pal__tartr_ale26__1', 0.42431875149745196, 1.6718663656752372e-168),\n",
       " ('ica__wt_glc__3', 0.4255558291928235, 1.403929201011051e-169),\n",
       " ('pal__tartr_ale26__2', 0.4263239935036449, 2.9993146647768366e-170),\n",
       " ('efeU__menFentC_ale29__2', 0.4267932798963563, 1.1658726902139788e-170),\n",
       " ('ica__arg_sbt__2', 0.4268208756884391, 1.1028070044964609e-170),\n",
       " ('ica__thm_gal__2', 0.42723752203737225, 4.759705980232045e-171),\n",
       " ('pal__arab_ale14_f9__1', 0.4273236177695659, 4.0004529245068347e-171),\n",
       " ('42c__42c_ale5__1', 0.42737082579099034, 3.6367847454451813e-171),\n",
       " ('cra_crp__wt_ac__2', 0.427394056984098, 3.4701342110484025e-171),\n",
       " ('cra_crp__delcra_glc__2', 0.4275553004550478, 2.505581589611455e-171),\n",
       " ('rpoB__wt_lb__1', 0.4288375614681253, 1.8681119499955218e-172),\n",
       " ('rpoB__wt_lb__2', 0.42894458383926604, 1.5034052273795214e-172),\n",
       " ('omics__bw_fum__2', 0.4298892631531692, 2.20282359643905e-173),\n",
       " ('ssw__xyl_ale1__1', 0.4303177063787758, 9.200515460560824e-174),\n",
       " ('pal__5drib_ale10__1', 0.4303657692878701, 8.341474191959889e-174),\n",
       " ('cra_crp__wt_fru__2', 0.43071821477290656, 4.063223003751181e-174),\n",
       " ('pal__arab_ale16__2', 0.4308596604550624, 3.043708129747135e-174),\n",
       " ('cra_crp__delcra_glc__1', 0.4311595136420583, 1.6490123420391747e-174),\n",
       " ('ssw__xyl_ale2__1', 0.43222003322095903, 1.8777628526106412e-175),\n",
       " ('omics__bw_fum__1', 0.4322694064041832, 1.6967950239764273e-175),\n",
       " ('pal__lyx_ale2__1', 0.4327431225276705, 6.411880475609448e-176),\n",
       " ('pal__lyx_ale4__1', 0.4327431225276705, 6.411880475609448e-176),\n",
       " ('pgi__pgi_ale7__1', 0.43315110485521596, 2.7697929086927948e-176),\n",
       " ('pal__arab_ale14_f9__2', 0.43472313481534697, 1.079251899078769e-177),\n",
       " ('efeU__menFentC_ale39__2', 0.43567325734926116, 1.5056188548196138e-178),\n",
       " ('ssw__glc_glyc_glc__1', 0.4359161413375033, 9.090842541152987e-179),\n",
       " ('efeU__menFentC_ale39__1', 0.4374056929944867, 4.08249019693329e-180),\n",
       " ('ssw__glc_xyl_glc__1', 0.4375537083902615, 2.996666722245452e-180),\n",
       " ('efeU__menFentC_ale30__1', 0.43783522639105193, 1.663593728918154e-180),\n",
       " ('42c__42c_ale8__1', 0.43854308458314734, 3.778425240463355e-181),\n",
       " ('cra_crp__wt_fru__1', 0.4394078276474877, 6.14922672631152e-182),\n",
       " ('pgi__pgi_ale1__1', 0.4400916341205412, 1.4577674536057114e-182),\n",
       " ('ssw__glc_glyc_glyc__1', 0.4405100826820868, 6.031651387208142e-183),\n",
       " ('efeU__menFentC_ale30__2', 0.440615069588512, 4.832762626699106e-183),\n",
       " ('pgi__pgi_ale3__1', 0.4413841170181403, 9.509986456538443e-184),\n",
       " ('42c__42c_ale9__1', 0.44166630935360046, 5.231894359910283e-184),\n",
       " ('42c__42c_ale4__1', 0.4427110879690243, 5.697394915329415e-185),\n",
       " ('pgi__pgi_ale6__1', 0.44279164563952417, 4.8004869038539324e-185),\n",
       " ('42c__wt_42c__1', 0.44370668195478646, 6.837262138338447e-186),\n",
       " ('pal__arab_ale14__1', 0.44388427263795627, 4.680699818758891e-186),\n",
       " ('42c__42c_ale3__1', 0.44391320359258657, 4.400393274229239e-186),\n",
       " ('pal__lyx_ale2__2', 0.4446870732341569, 8.416665958900177e-187),\n",
       " ('pal__lyx_ale4__2', 0.4446870732341569, 8.416665958900177e-187),\n",
       " ('pal__arab_ale14__2', 0.4477480920861059, 1.1625106308001034e-189),\n",
       " ('ica__arg_sbt__1', 0.4479474677461649, 7.55287453888661e-190),\n",
       " ('rpoB__rpoBE672K_glc__2', 0.44822314188169554, 4.1586293951132353e-190),\n",
       " ('rpoB__rpoBE672K_glc__1', 0.44855606668911796, 2.0213787539435056e-190),\n",
       " ('pgi__pgi_ale8__1', 0.4494980423783442, 2.6139533960327296e-191),\n",
       " ('42c__42c_ale1__1', 0.45037106915115527, 3.90362559107816e-192),\n",
       " ('pgi__glu4_delpgi__1', 0.45365726381450966, 2.8921694726830832e-195),\n",
       " ('pgi__pgi_ale5__1', 0.45409971802099997, 1.0892674988456867e-195),\n",
       " ('glu__glu_ale8__1', 0.4545503878895009, 4.0227754073737817e-196),\n",
       " ('glu__glu_ale10__1', 0.4560813024126977, 1.3492479238710934e-197),\n",
       " ('glu__glu_ale6__1', 0.4581076973572961, 1.4683561018085663e-199),\n",
       " ('42c__42c_ale2__1', 0.461255697296599, 1.2315692321436253e-202),\n",
       " ('glu__glu_ale9__1', 0.4640200291070695, 2.302848997539176e-205),\n",
       " ('glu__glu_ale3__1', 0.46490091656753463, 3.0732604772294967e-206),\n",
       " ('42c__42c_ale6__1', 0.4675754738863314, 6.548591913480412e-209),\n",
       " ('glu__glu_ale5__1', 0.4702879364602622, 1.208986375716868e-211),\n",
       " ('glu__glu_ale4__1', 0.47095372513870304, 2.556414630448019e-212),\n",
       " ('rpoB__rpoBE546V_lb__1', 0.47195202011318255, 2.4719118084070105e-213),\n",
       " ('rpoB__rpoBE546V_lb__2', 0.4725386068426403, 6.241547187324366e-214),\n",
       " ('rpoB__rpoBE672K_lb__1', 0.4760545209753329, 1.5415687914171242e-217),\n",
       " ('rpoB__rpoBE672K_lb__2', 0.4772136685595271, 9.758824662371631e-219)]"
      ]
     },
     "execution_count": 20,
     "metadata": {},
     "output_type": "execute_result"
    }
   ],
   "source": [
    "tempy"
   ]
  },
  {
   "cell_type": "code",
   "execution_count": null,
   "metadata": {},
   "outputs": [],
   "source": [
    "other_df.columns"
   ]
  },
  {
   "cell_type": "code",
   "execution_count": null,
   "metadata": {},
   "outputs": [],
   "source": [
    "expression_df"
   ]
  },
  {
   "cell_type": "code",
   "execution_count": 21,
   "metadata": {},
   "outputs": [],
   "source": [
    "listy = []\n",
    "for index in expression_df.index:\n",
    "    rho, p = stats.spearmanr(expression_df.loc[index], metadata_df['Growth Rate (1/hr)'])\n",
    "    listy.append(rho)\n",
    "other_df['hunch'] = listy"
   ]
  },
  {
   "cell_type": "code",
   "execution_count": 22,
   "metadata": {},
   "outputs": [
    {
     "name": "stdout",
     "output_type": "stream",
     "text": [
      "SpearmanrResult(correlation=0.36392238574567204, pvalue=3.6153357810994047e-121)\n"
     ]
    },
    {
     "data": {
      "image/png": "[encoded data removed]",
      "text/plain": [
       "<Figure size 432x288 with 1 Axes>"
      ]
     },
     "metadata": {
      "needs_background": "light"
     },
     "output_type": "display_data"
    }
   ],
   "source": [
    "fig, ax = plt.subplots()\n",
    "ax.scatter(other_df['CAI'], other_df['hunch'])\n",
    "print(stats.spearmanr(other_df['CAI'], other_df['hunch']))"
   ]
  },
  {
   "cell_type": "code",
   "execution_count": null,
   "metadata": {},
   "outputs": [],
   "source": [
    "fig, ax = plt.subplots()\n",
    "ax.scatter(other_df['Start_accessibility'], other_df['hunch'])\n",
    "print(stats.spearmanr(other_df['Start_accessibility'], other_df['hunch']))"
   ]
  },
  {
   "cell_type": "code",
   "execution_count": null,
   "metadata": {},
   "outputs": [],
   "source": [
    "fig, ax = plt.subplots()\n",
    "ax.scatter(other_df['sec_struct'], other_df['hunch'])\n",
    "print(stats.spearmanr(other_df['sec_struct'], other_df['hunch']))"
   ]
  },
  {
   "cell_type": "code",
   "execution_count": null,
   "metadata": {},
   "outputs": [],
   "source": [
    "fig, ax = plt.subplots()\n",
    "ax.scatter(other_df['aSD_binding'], other_df['hunch'])\n",
    "print(stats.spearmanr(other_df['aSD_binding'], other_df['hunch']))"
   ]
  },
  {
   "cell_type": "code",
   "execution_count": null,
   "metadata": {},
   "outputs": [],
   "source": []
  }
 ],
 "metadata": {
  "kernelspec": {
   "display_name": "Python 3",
   "language": "python",
   "name": "python3"
  },
  "language_info": {
   "codemirror_mode": {
    "name": "ipython",
    "version": 3
   },
   "file_extension": ".py",
   "mimetype": "text/x-python",
   "name": "python",
   "nbconvert_exporter": "python",
   "pygments_lexer": "ipython3",
   "version": "3.7.7"
  },
  "toc": {
   "colors": {
    "hover_highlight": "#DAA520",
    "navigate_num": "#000000",
    "navigate_text": "#333333",
    "running_highlight": "#FF0000",
    "selected_highlight": "#FFD700",
    "sidebar_border": "#EEEEEE",
    "wrapper_background": "#FFFFFF"
   },
   "moveMenuLeft": true,
   "nav_menu": {
    "height": "12px",
    "width": "252px"
   },
   "navigate_menu": true,
   "number_sections": true,
   "sideBar": true,
   "threshold": 4,
   "toc_cell": false,
   "toc_section_display": "block",
   "toc_window_display": false,
   "widenNotebook": false
  }
 },
 "nbformat": 4,
 "nbformat_minor": 4
}
