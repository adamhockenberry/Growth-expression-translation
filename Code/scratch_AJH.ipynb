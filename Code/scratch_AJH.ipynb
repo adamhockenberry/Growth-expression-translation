{
 "cells": [
  {
   "cell_type": "code",
   "execution_count": 1,
   "metadata": {},
   "outputs": [],
   "source": [
    "%matplotlib inline"
   ]
  },
  {
   "cell_type": "code",
   "execution_count": 2,
   "metadata": {},
   "outputs": [],
   "source": [
    "import pandas as pd\n",
    "import numpy as np\n",
    "from scipy import stats\n",
    "\n",
    "import matplotlib.pyplot as plt"
   ]
  },
  {
   "cell_type": "code",
   "execution_count": 3,
   "metadata": {},
   "outputs": [],
   "source": [
    "rnaseq_file = '../Data/raw_data/41467_2019_13483_MOESM4_ESM.xlsx'"
   ]
  },
  {
   "cell_type": "markdown",
   "metadata": {},
   "source": [
    "# Basic data processing"
   ]
  },
  {
   "cell_type": "code",
   "execution_count": 4,
   "metadata": {},
   "outputs": [
    {
     "name": "stdout",
     "output_type": "stream",
     "text": [
      "(278, 26)\n",
      "(195, 26)\n",
      "(179, 26)\n",
      "(173, 26)\n"
     ]
    }
   ],
   "source": [
    "metadata_df = pd.read_excel(rnaseq_file, sheet_name='Metadata')\n",
    "print(metadata_df.shape)\n",
    "metadata_df = metadata_df[metadata_df['Growth Rate (1/hr)'].isnull() == False]\n",
    "print(metadata_df.shape)\n",
    "metadata_df = metadata_df[metadata_df['Growth Rate (1/hr)'] > 0.0]\n",
    "print(metadata_df.shape)\n",
    "###OR\n",
    "# metadata_df['Growth Rate (1/hr)'] = metadata_df['Growth Rate (1/hr)'].replace(0.0, np.NaN)\n",
    "# print(metadata_df.shape)\n",
    "metadata_df = metadata_df[metadata_df['Alignment'] > 80]\n",
    "print(metadata_df.shape)"
   ]
  },
  {
   "cell_type": "code",
   "execution_count": 5,
   "metadata": {},
   "outputs": [
    {
     "name": "stdout",
     "output_type": "stream",
     "text": [
      "(3923, 278)\n",
      "(3923, 173)\n"
     ]
    }
   ],
   "source": [
    "expression_df = pd.read_excel(rnaseq_file, sheet_name='Expression Data', index_col=0)\n",
    "print(expression_df.shape)\n",
    "expression_df = expression_df[metadata_df['Sample ID']]\n",
    "print(expression_df.shape)\n",
    "assert list(metadata_df['Sample ID']) == list(expression_df.columns)"
   ]
  },
  {
   "cell_type": "code",
   "execution_count": null,
   "metadata": {},
   "outputs": [],
   "source": []
  },
  {
   "cell_type": "markdown",
   "metadata": {},
   "source": [
    "# Dimensionality reduction techniques to assess associations with growth rate\n",
    "\n",
    "What we're \\*trying\\* to do here is say that 4,xyz genes is simply too many to deal with. Can we condense these numbers into a more limited number of dimensions and then ask whether variation in any of those transformed dimensions are associated with growth rate?\n",
    "\n",
    "\"Limited\" is arbitrary, so we can change the number of principal components to include/consider as well as the transformation kernel.\n",
    "\n",
    "*Something else to consider is how and whether to standardize the values which can help with PCA in general.*"
   ]
  },
  {
   "cell_type": "code",
   "execution_count": 6,
   "metadata": {},
   "outputs": [],
   "source": [
    "from sklearn.decomposition import PCA, KernelPCA\n",
    "from scipy.stats import zscore"
   ]
  },
  {
   "cell_type": "code",
   "execution_count": 18,
   "metadata": {},
   "outputs": [
    {
     "name": "stdout",
     "output_type": "stream",
     "text": [
      "PCA variance:\t\t [0.17868669 0.14011406 0.10637011 0.0797626  0.07526526 0.03916571\n",
      " 0.02618565 0.02432209 0.02130139 0.01878229]\n",
      "PCA variance by hand:\t [0.17868669 0.14011406 0.10637011 0.0797626  0.07526526 0.03916571\n",
      " 0.02618565 0.02432209 0.02130139 0.01878229]\n",
      "\n",
      "Total PCA variance: 0.7099558478559914\n",
      "\n",
      "PCA shape: (173, 10)\n",
      "\n",
      "Correlations with growth rate (PCA index, correlation results):\n",
      "0 SpearmanrResult(correlation=-0.5117343892094286, pvalue=6.225942957627076e-13)\n",
      "1 SpearmanrResult(correlation=0.42290201397067795, pvalue=6.7766152271492115e-09)\n",
      "2 SpearmanrResult(correlation=0.1440604895186832, pvalue=0.05862980753303296)\n",
      "3 SpearmanrResult(correlation=-0.2508107322809927, pvalue=0.0008736270685379527)\n",
      "4 SpearmanrResult(correlation=0.2660693782156894, pvalue=0.0004028320340034326)\n",
      "5 SpearmanrResult(correlation=-0.062950753436428, pvalue=0.4106207099696768)\n",
      "6 SpearmanrResult(correlation=0.07572869570932637, pvalue=0.32204837211234844)\n",
      "7 SpearmanrResult(correlation=-0.08586016767386705, pvalue=0.26135143559288315)\n",
      "8 SpearmanrResult(correlation=0.05893873690676264, pvalue=0.4411409491699332)\n",
      "9 SpearmanrResult(correlation=-0.20313717209635893, pvalue=0.007351469519846948)\n"
     ]
    }
   ],
   "source": [
    "pca = PCA(n_components=10)\n",
    "pca_transform = pca.fit_transform(expression_df.T.values)\n",
    "print('PCA variance:\\t\\t', pca.explained_variance_ratio_)\n",
    "\n",
    "explained_variance = np.var(expression_df.values.T, axis=0)\n",
    "explained_variance_ratio = np.var(pca_transform, axis=0) / np.sum(explained_variance)\n",
    "print('PCA variance by hand:\\t', explained_variance_ratio)\n",
    "print()\n",
    "print('Total PCA variance:', np.sum(explained_variance_ratio))\n",
    "print()\n",
    "print('PCA shape:', pca_transform.shape)\n",
    "print()\n",
    "print('Correlations with growth rate (PCA index, correlation results):')\n",
    "for i in range(pca_transform.shape[1]):\n",
    "    print(i, stats.spearmanr(pca_transform[:,i], metadata_df['Growth Rate (1/hr)'], nan_policy='omit'))"
   ]
  },
  {
   "cell_type": "code",
   "execution_count": 40,
   "metadata": {},
   "outputs": [
    {
     "name": "stdout",
     "output_type": "stream",
     "text": [
      "kPCA variance by hand:\t [4.55484798e-05 3.57160501e-05 2.71144815e-05 2.03320417e-05\n",
      " 1.91856386e-05 9.98361104e-06 6.67490375e-06 6.19987122e-06\n",
      " 5.42987293e-06 4.78773637e-06]\n",
      "\n",
      "Total kPCA variance: 0.0001809726869446087\n",
      "\n",
      "kPCA shape: (173, 10)\n",
      "\n",
      "Correlations with growth rate (kPCA index, correlation results):\n",
      "0 SpearmanrResult(correlation=-0.5117337961853782, pvalue=6.226387602529056e-13)\n",
      "1 SpearmanrResult(correlation=0.422901523890139, pvalue=6.776915112060937e-09)\n",
      "2 SpearmanrResult(correlation=0.14406032257400095, pvalue=0.05863010316804499)\n",
      "3 SpearmanrResult(correlation=-0.25081044162865535, pvalue=0.0008736395669755845)\n",
      "4 SpearmanrResult(correlation=0.26606906988085066, pvalue=0.00040283852537357324)\n",
      "5 SpearmanrResult(correlation=-0.06295068048586701, pvalue=0.4106212533661363)\n",
      "6 SpearmanrResult(correlation=0.07572860795103065, pvalue=0.3220489344918837)\n",
      "7 SpearmanrResult(correlation=-0.0858600681747021, pvalue=0.2613519903273898)\n",
      "8 SpearmanrResult(correlation=0.05893866860553212, pvalue=0.44114147947985194)\n",
      "9 SpearmanrResult(correlation=-0.20322619555068178, pvalue=0.007325157343804074)\n"
     ]
    }
   ],
   "source": [
    "kpca = KernelPCA(n_components=10, kernel='poly', degree=1)\n",
    "kpca_transform = kpca.fit_transform(expression_df.values.T)\n",
    "explained_variance = np.var(expression_df.values.T, axis=0)\n",
    "explained_variance_ratio = np.var(kpca_transform, axis=0) / np.sum(explained_variance)\n",
    "print('kPCA variance by hand:\\t', explained_variance_ratio)\n",
    "print()\n",
    "print('Total kPCA variance:', np.sum(explained_variance_ratio))\n",
    "print()\n",
    "print('kPCA shape:', kpca_transform.shape)\n",
    "print()\n",
    "print('Correlations with growth rate (kPCA index, correlation results):')\n",
    "for i in range(kpca_transform.shape[1]):\n",
    "    print(i, stats.spearmanr(kpca_transform[:,i], metadata_df['Growth Rate (1/hr)']))"
   ]
  },
  {
   "cell_type": "code",
   "execution_count": null,
   "metadata": {},
   "outputs": [],
   "source": []
  },
  {
   "cell_type": "markdown",
   "metadata": {},
   "source": [
    "**And just for fun, trying dimensionality reduction with a neural network based autoencoder**\n",
    "\n",
    "But I'm still not sure how to preserve variance and thus quantify the success of an autoencoder"
   ]
  },
  {
   "cell_type": "code",
   "execution_count": 89,
   "metadata": {},
   "outputs": [
    {
     "name": "stdout",
     "output_type": "stream",
     "text": [
      "2.2.0\n",
      "2.3.0-tf\n"
     ]
    }
   ],
   "source": [
    "import tensorflow as tf\n",
    "assert tf.__version__ >= \"2.0\"\n",
    "print(tf.__version__)\n",
    "tf.config.threading.set_intra_op_parallelism_threads(1)\n",
    "tf.config.threading.set_inter_op_parallelism_threads(1)\n",
    "tf.random.set_seed(42)\n",
    "\n",
    "from tensorflow import keras\n",
    "print(keras.__version__)\n",
    "\n",
    "from tensorflow.keras import layers\n",
    "\n",
    "from sklearn.preprocessing import minmax_scale\n",
    "from sklearn.model_selection import train_test_split"
   ]
  },
  {
   "cell_type": "code",
   "execution_count": 114,
   "metadata": {},
   "outputs": [
    {
     "name": "stdout",
     "output_type": "stream",
     "text": [
      "(173, 3923) (138, 3923) (35, 3923)\n",
      "(173, 3923) (138, 3923) (35, 3923)\n"
     ]
    }
   ],
   "source": [
    "X_all = expression_df.values.T\n",
    "X_train, X_val = train_test_split(X_all, train_size = 0.8, random_state = 42)\n",
    "\n",
    "print(X_all.shape, X_train.shape, X_val.shape)\n",
    "\n",
    "# X_train = minmax_scale(X_train, axis = 0)\n",
    "# X_val = minmax_scale(X_val, axis = 0)\n",
    "print(X_all.shape, X_train.shape, X_val.shape)"
   ]
  },
  {
   "cell_type": "code",
   "execution_count": 129,
   "metadata": {},
   "outputs": [],
   "source": [
    "# reduce to xyz features\n",
    "encoding_dim = 10\n",
    "\n",
    "input_df = layers.Input(shape=(X_all.shape[1],))\n",
    "encoded = layers.Dense(encoding_dim, activation='elu')(input_df)\n",
    "# encoded = layers.Dense(encoding_dim, activation='linear')(encoded)\n",
    "# encoded = layers.Dense(encoding_dim*2, activation='elu')(encoded)\n",
    "# encoded = layers.BatchNormalization()(encoded)\n",
    "encoded = layers.Dropout(0.5)(encoded)\n",
    "decoded = layers.Dense(X_all.shape[1], activation='sigmoid')(encoded)\n",
    "\n",
    "# encoder\n",
    "autoencoder = keras.Model(input_df, decoded)\n",
    "\n",
    "# intermediate result\n",
    "encoder = keras.Model(input_df, encoded)\n",
    "\n",
    "autoencoder.compile(optimizer='sgd', loss='mean_squared_error')\n",
    "\n",
    "autoencoder.fit(X_train, X_train,\n",
    "                epochs=10,\n",
    "                batch_size=32,\n",
    "                validation_data=(X_val, X_val),\n",
    "                verbose=0);"
   ]
  },
  {
   "cell_type": "code",
   "execution_count": 130,
   "metadata": {},
   "outputs": [
    {
     "name": "stdout",
     "output_type": "stream",
     "text": [
      "(173, 10)\n",
      "0 SpearmanrResult(correlation=-0.4512910012031265, pvalue=4.621554132604088e-10)\n",
      "1 SpearmanrResult(correlation=-0.4436773275345793, pvalue=9.731263713955468e-10)\n",
      "2 SpearmanrResult(correlation=0.015772174776835273, pvalue=0.8368225834740041)\n",
      "3 SpearmanrResult(correlation=0.1544121846745052, pvalue=0.04251601180115212)\n",
      "4 SpearmanrResult(correlation=-0.2587246406450567, pvalue=0.0005881258799288646)\n",
      "5 SpearmanrResult(correlation=-0.5152815636043364, pvalue=4.051435625928383e-13)\n",
      "6 SpearmanrResult(correlation=-0.4246106855582904, pvalue=5.805249083969e-09)\n",
      "7 SpearmanrResult(correlation=0.0021653992711398126, pvalue=0.9774428712790408)\n",
      "8 SpearmanrResult(correlation=-0.2475046730083531, pvalue=0.0010269118436698496)\n",
      "9 SpearmanrResult(correlation=-0.37757584860620375, pvalue=3.0380133222915266e-07)\n"
     ]
    }
   ],
   "source": [
    "encoded_X_all = encoder.predict(X_all)\n",
    "print(encoded_X_all.shape)\n",
    "for i in range(encoding_dim):\n",
    "    print(i, stats.spearmanr(encoded_X_all[:,i], metadata_df['Growth Rate (1/hr)']))"
   ]
  },
  {
   "cell_type": "code",
   "execution_count": 171,
   "metadata": {},
   "outputs": [
    {
     "name": "stdout",
     "output_type": "stream",
     "text": [
      "['42c__42c_ale1__1']\n",
      "['42c__42c_ale10__1']\n",
      "['42c__42c_ale2__1']\n",
      "['42c__42c_ale3__1']\n",
      "['42c__42c_ale4__1']\n",
      "['42c__42c_ale5__1']\n",
      "['42c__42c_ale6__1']\n",
      "['42c__42c_ale8__1']\n",
      "['42c__42c_ale9__1']\n",
      "['42c__wt_42c__1']\n",
      "['cra_crp__delcra_ac__1', 'cra_crp__delcra_ac__2']\n",
      "['cra_crp__delcra_fru__1', 'cra_crp__delcra_fru__2']\n",
      "['cra_crp__delcra_glc__1', 'cra_crp__delcra_glc__2']\n",
      "['cra_crp__wt_ac__1', 'cra_crp__wt_ac__2']\n",
      "['cra_crp__wt_fru__1', 'cra_crp__wt_fru__2']\n",
      "['pal__5drib_ale10__1']\n",
      "['pal__5drib_ale10_f18__1', 'pal__5drib_ale10_f18__2']\n",
      "['pal__arab_ale14__1', 'pal__arab_ale14__2']\n",
      "['pal__arab_ale14_f9__1', 'pal__arab_ale14_f9__2']\n",
      "['pal__arab_ale16__1', 'pal__arab_ale16__2']\n",
      "['pal__lyx_ale2__1', 'pal__lyx_ale2__2']\n",
      "['pal__lyx_ale2_f6__1']\n",
      "['pal__lyx_ale4__1', 'pal__lyx_ale4__2']\n",
      "['pal__tartr_ale26__1', 'pal__tartr_ale26__2']\n",
      "['pal__tartr_ale26_f10__1', 'pal__tartr_ale26_f10__2']\n",
      "['pal__tartr_ale28__1', 'pal__tartr_ale28__2']\n",
      "['pal__tartr_ale28_f10__1', 'pal__tartr_ale28_f10__2']\n",
      "['fps__fps_ptsI_ale1__1', 'fps__fps_ptsI_ale1__2']\n",
      "['fps__fps_ptsI_ale3__1', 'fps__fps_ptsI_ale3__2']\n",
      "['fps__fps_serB_ale1__1', 'fps__fps_serB_ale1__2']\n",
      "['fps__fps_serB_ale4__1', 'fps__fps_serB_ale4__2']\n",
      "['fps__fps_thrA_ale1__1', 'fps__fps_thrA_ale1__2']\n",
      "['fps__fps_thrA_ale2__1', 'fps__fps_thrA_ale2__2']\n",
      "['fur__delfur_fe2__1', 'fur__delfur_fe2__2']\n",
      "['fur__wt_fe__1', 'fur__wt_fe__2']\n",
      "['glu__glu_ale10__1']\n",
      "['glu__glu_ale3__1']\n",
      "['glu__glu_ale4__1']\n",
      "['glu__glu_ale5__1']\n",
      "['glu__glu_ale6__1']\n",
      "['glu__glu_ale8__1']\n",
      "['glu__glu_ale9__1']\n",
      "['ica__ade_glc__1', 'ica__ade_glc__2']\n",
      "['ica__arg_sbt__1', 'ica__arg_sbt__2']\n",
      "['ica__bw_delpurR_cytd__1', 'ica__bw_delpurR_cytd__2']\n",
      "['ica__cytd_rib__1', 'ica__cytd_rib__2']\n",
      "['ica__gth__1', 'ica__gth__2']\n",
      "['ica__leu_glcr__1', 'ica__leu_glcr__2']\n",
      "['ica__met_glc__1', 'ica__met_glc__2']\n",
      "['ica__no3_anaero__1', 'ica__no3_anaero__2']\n",
      "['ica__phe_acgam__1', 'ica__phe_acgam__2']\n",
      "['ica__thm_gal__1', 'ica__thm_gal__2']\n",
      "['ica__tyr_glcn__1', 'ica__tyr_glcn__2']\n",
      "['ica__ura_pyr__1', 'ica__ura_pyr__2']\n",
      "['ica__wt_glc__1', 'ica__wt_glc__2', 'ica__wt_glc__3', 'ica__wt_glc__4', 'ica__wt_glc__5', 'ica__wt_glc__6']\n",
      "['omics__bw_ac__1', 'omics__bw_ac__2']\n",
      "['omics__bw_fum__1', 'omics__bw_fum__2']\n",
      "['omics__bw_glc__1', 'omics__bw_glc__2']\n",
      "['omics__bw_pyr__1', 'omics__bw_pyr__2']\n",
      "['pgi__glu4_delpgi__1']\n",
      "['pgi__pgi_ale1__1']\n",
      "['pgi__pgi_ale2__1']\n",
      "['pgi__pgi_ale3__1']\n",
      "['pgi__pgi_ale5__1']\n",
      "['pgi__pgi_ale6__1']\n",
      "['pgi__pgi_ale7__1']\n",
      "['pgi__pgi_ale8__1']\n",
      "['efeU__menFentC_ale29__1', 'efeU__menFentC_ale29__2']\n",
      "['efeU__menFentC_ale30__1', 'efeU__menFentC_ale30__2']\n",
      "['efeU__menFentC_ale39__1', 'efeU__menFentC_ale39__2']\n",
      "['efeU__menFentCubiC_ale36__1', 'efeU__menFentCubiC_ale36__2']\n",
      "['efeU__menFentCubiC_ale37__1', 'efeU__menFentCubiC_ale37__2']\n",
      "['efeU__menFentCubiC_ale38__1', 'efeU__menFentCubiC_ale38__2']\n",
      "['rpoB__rpoBE546V_glc__1']\n",
      "['rpoB__rpoBE546V_lb__1', 'rpoB__rpoBE546V_lb__2']\n",
      "['rpoB__rpoBE672K_glc__1', 'rpoB__rpoBE672K_glc__2']\n",
      "['rpoB__rpoBE672K_lb__1', 'rpoB__rpoBE672K_lb__2']\n",
      "['rpoB__wt_lb__1', 'rpoB__wt_lb__2']\n",
      "['ssw__glc_ac_ac2__1']\n",
      "['ssw__glc_ac_glc2__1']\n",
      "['ssw__glc_glyc_glc__1']\n",
      "['ssw__glc_glyc_glyc__1']\n",
      "['ssw__glc_xyl_glc__1']\n",
      "['ssw__glc_xyl_xyl__1']\n",
      "['ssw__wt_ac__1']\n",
      "['ssw__wt_glc__1']\n",
      "['ssw__wt_glyc__1']\n",
      "['ssw__wt_xyl__1']\n",
      "['ssw__xyl_ale1__1']\n",
      "['ssw__xyl_ale2__1']\n",
      "['ssw__xyl_ale3__1']\n",
      "['ytf__delyafC__1', 'ytf__delyafC__2']\n",
      "['ytf__delybaO__1', 'ytf__delybaO__2']\n",
      "['ytf__delybaQ__1', 'ytf__delybaQ__2']\n",
      "['ytf__delybiH__1', 'ytf__delybiH__2']\n",
      "['ytf__delydcI_ph5__1', 'ytf__delydcI_ph5__2']\n",
      "['ytf__delydcI_ph8__1', 'ytf__delydcI_ph8__2']\n",
      "['ytf__delyddM__1', 'ytf__delyddM__2']\n",
      "['ytf__delyeiE__1', 'ytf__delyeiE__2']\n",
      "['ytf__delyheO__1', 'ytf__delyheO__2']\n",
      "['ytf__delyiaJ__1', 'ytf__delyiaJ__2']\n",
      "['ytf__delyieP__1', 'ytf__delyieP__2']\n",
      "['ytf__wt_glc__1', 'ytf__wt_glc__2']\n",
      "['ytf__wt_ph5__1', 'ytf__wt_ph5__2']\n",
      "['ytf__wt_ph8__1', 'ytf__wt_ph8__2']\n"
     ]
    }
   ],
   "source": [
    "dicty = metadata_df.groupby(['Study', 'Project ID', 'Condition ID'])['Sample ID'].apply(list).to_dict()\n",
    "\n",
    "for i,j in dicty.items():\n",
    "    print(j)\n",
    "    \n",
    "    \n",
    "# metadata_df.groupby(['Study', 'Project ID', 'Condition ID'])['Growth Rate (1/hr)'].apply(list).to_dict()"
   ]
  },
  {
   "cell_type": "code",
   "execution_count": 163,
   "metadata": {},
   "outputs": [
    {
     "data": {
      "text/plain": [
       "Study          Project ID  Condition ID\n",
       "42C Evolution  42c         42c_ale1        0.950\n",
       "                           42c_ale10       0.980\n",
       "                           42c_ale2        0.970\n",
       "                           42c_ale3        0.920\n",
       "                           42c_ale4        1.030\n",
       "                                           ...  \n",
       "yTF            ytf         delyiaJ         0.660\n",
       "                           delyieP         0.665\n",
       "                           wt_glc          0.685\n",
       "                           wt_ph5          0.485\n",
       "                           wt_ph8          0.650\n",
       "Name: Growth Rate (1/hr), Length: 105, dtype: float64"
      ]
     },
     "execution_count": 163,
     "metadata": {},
     "output_type": "execute_result"
    }
   ],
   "source": [
    "metadata_df.groupby()['Growth Rate (1/hr)'].mean()"
   ]
  },
  {
   "cell_type": "code",
   "execution_count": 157,
   "metadata": {},
   "outputs": [
    {
     "data": {
      "text/plain": [
       "1    105\n",
       "2     64\n",
       "6      1\n",
       "5      1\n",
       "4      1\n",
       "3      1\n",
       "Name: Replicate #, dtype: int64"
      ]
     },
     "execution_count": 157,
     "metadata": {},
     "output_type": "execute_result"
    }
   ],
   "source": [
    "metadata_df['Replicate #'].value_counts()"
   ]
  },
  {
   "cell_type": "markdown",
   "metadata": {},
   "source": [
    "# Assess individual gene correlations with growth rate\n",
    " \n",
    "How about clustering genes together?\n",
    "\n",
    "Also there are some slight statistical issues here with treating replicates as independent experiments (they shouldn't be)"
   ]
  },
  {
   "cell_type": "code",
   "execution_count": 41,
   "metadata": {},
   "outputs": [
    {
     "data": {
      "text/plain": [
       "<matplotlib.axes._subplots.AxesSubplot at 0x7fa4fda01690>"
      ]
     },
     "execution_count": 41,
     "metadata": {},
     "output_type": "execute_result"
    },
    {
     "data": {
      "image/png": "[encoded data removed]",
      "text/plain": [
       "<Figure size 432x288 with 1 Axes>"
      ]
     },
     "metadata": {
      "needs_background": "light"
     },
     "output_type": "display_data"
    }
   ],
   "source": [
    "metadata_df['Growth Rate (1/hr)'].hist()"
   ]
  },
  {
   "cell_type": "code",
   "execution_count": 69,
   "metadata": {},
   "outputs": [],
   "source": [
    "tempy = []\n",
    "tempy_rando = []\n",
    "for index in expression_df.index:\n",
    "    rho, p = stats.spearmanr(expression_df.loc[index], metadata_df['Growth Rate (1/hr)'])\n",
    "    tempy.append((index, rho, p))\n",
    "    rho, p = stats.spearmanr(np.random.permutation(expression_df.loc[index].values), metadata_df['Growth Rate (1/hr)'])\n",
    "    tempy_rando.append((index, rho, p))\n",
    "tempy.sort(key=lambda x: x[1])\n",
    "tempy_rando.sort(key=lambda x: x[1])"
   ]
  },
  {
   "cell_type": "code",
   "execution_count": 70,
   "metadata": {},
   "outputs": [
    {
     "data": {
      "image/png": "[encoded data removed]",
      "text/plain": [
       "<Figure size 360x216 with 1 Axes>"
      ]
     },
     "metadata": {
      "needs_background": "light"
     },
     "output_type": "display_data"
    }
   ],
   "source": [
    "fig, ax = plt.subplots(figsize=(5,3))\n",
    "ax.plot([i[1] for i in tempy], label='True data')\n",
    "ax.plot([i[1] for i in tempy_rando], label='Shuffled data')\n",
    "ax.axhline(0, c='k')\n",
    "ax.set_xlabel('Rank index of genes', fontsize=14)\n",
    "ax.set_ylabel('Spearman\\'s rho correlation\\n(expression vs growth)', fontsize=14)\n",
    "plt.tick_params(labelsize=12)\n",
    "plt.legend(fontsize=12, framealpha=1)\n",
    "ax.grid()"
   ]
  },
  {
   "cell_type": "code",
   "execution_count": 44,
   "metadata": {},
   "outputs": [
    {
     "data": {
      "text/html": [
       "<div>\n",
       "<style scoped>\n",
       "    .dataframe tbody tr th:only-of-type {\n",
       "        vertical-align: middle;\n",
       "    }\n",
       "\n",
       "    .dataframe tbody tr th {\n",
       "        vertical-align: top;\n",
       "    }\n",
       "\n",
       "    .dataframe thead th {\n",
       "        text-align: right;\n",
       "    }\n",
       "</style>\n",
       "<table border=\"1\" class=\"dataframe\">\n",
       "  <thead>\n",
       "    <tr style=\"text-align: right;\">\n",
       "      <th></th>\n",
       "      <th>fur__wt_fe__1</th>\n",
       "      <th>fur__wt_fe__2</th>\n",
       "      <th>fur__delfur_fe2__1</th>\n",
       "      <th>fur__delfur_fe2__2</th>\n",
       "      <th>omics__bw_ac__1</th>\n",
       "      <th>omics__bw_ac__2</th>\n",
       "      <th>omics__bw_fum__1</th>\n",
       "      <th>omics__bw_fum__2</th>\n",
       "      <th>omics__bw_glc__1</th>\n",
       "      <th>omics__bw_glc__2</th>\n",
       "      <th>...</th>\n",
       "      <th>efeU__menFentC_ale29__1</th>\n",
       "      <th>efeU__menFentC_ale29__2</th>\n",
       "      <th>efeU__menFentC_ale30__1</th>\n",
       "      <th>efeU__menFentC_ale30__2</th>\n",
       "      <th>efeU__menFentCubiC_ale36__1</th>\n",
       "      <th>efeU__menFentCubiC_ale36__2</th>\n",
       "      <th>efeU__menFentCubiC_ale37__1</th>\n",
       "      <th>efeU__menFentCubiC_ale37__2</th>\n",
       "      <th>efeU__menFentCubiC_ale38__1</th>\n",
       "      <th>efeU__menFentCubiC_ale38__2</th>\n",
       "    </tr>\n",
       "    <tr>\n",
       "      <th>log-TPM</th>\n",
       "      <th></th>\n",
       "      <th></th>\n",
       "      <th></th>\n",
       "      <th></th>\n",
       "      <th></th>\n",
       "      <th></th>\n",
       "      <th></th>\n",
       "      <th></th>\n",
       "      <th></th>\n",
       "      <th></th>\n",
       "      <th></th>\n",
       "      <th></th>\n",
       "      <th></th>\n",
       "      <th></th>\n",
       "      <th></th>\n",
       "      <th></th>\n",
       "      <th></th>\n",
       "      <th></th>\n",
       "      <th></th>\n",
       "      <th></th>\n",
       "      <th></th>\n",
       "    </tr>\n",
       "  </thead>\n",
       "  <tbody>\n",
       "    <tr>\n",
       "      <th>b0002</th>\n",
       "      <td>11.064810</td>\n",
       "      <td>10.779071</td>\n",
       "      <td>11.229767</td>\n",
       "      <td>11.214065</td>\n",
       "      <td>9.257348</td>\n",
       "      <td>9.182322</td>\n",
       "      <td>9.709213</td>\n",
       "      <td>9.672126</td>\n",
       "      <td>10.208587</td>\n",
       "      <td>10.218351</td>\n",
       "      <td>...</td>\n",
       "      <td>10.271327</td>\n",
       "      <td>10.276565</td>\n",
       "      <td>11.148538</td>\n",
       "      <td>11.170578</td>\n",
       "      <td>11.676604</td>\n",
       "      <td>11.726097</td>\n",
       "      <td>11.881529</td>\n",
       "      <td>11.923237</td>\n",
       "      <td>11.496410</td>\n",
       "      <td>11.552762</td>\n",
       "    </tr>\n",
       "    <tr>\n",
       "      <th>b0003</th>\n",
       "      <td>10.776984</td>\n",
       "      <td>10.597810</td>\n",
       "      <td>10.897938</td>\n",
       "      <td>10.861157</td>\n",
       "      <td>8.983408</td>\n",
       "      <td>8.943151</td>\n",
       "      <td>9.436004</td>\n",
       "      <td>9.394573</td>\n",
       "      <td>9.609637</td>\n",
       "      <td>9.677931</td>\n",
       "      <td>...</td>\n",
       "      <td>10.160291</td>\n",
       "      <td>10.116861</td>\n",
       "      <td>10.314322</td>\n",
       "      <td>10.392251</td>\n",
       "      <td>10.916426</td>\n",
       "      <td>10.909277</td>\n",
       "      <td>11.023924</td>\n",
       "      <td>11.038426</td>\n",
       "      <td>10.624301</td>\n",
       "      <td>10.764195</td>\n",
       "    </tr>\n",
       "    <tr>\n",
       "      <th>b0004</th>\n",
       "      <td>10.394971</td>\n",
       "      <td>10.113950</td>\n",
       "      <td>10.185151</td>\n",
       "      <td>10.164655</td>\n",
       "      <td>8.761690</td>\n",
       "      <td>8.779920</td>\n",
       "      <td>9.532673</td>\n",
       "      <td>9.534370</td>\n",
       "      <td>9.883558</td>\n",
       "      <td>9.870356</td>\n",
       "      <td>...</td>\n",
       "      <td>10.475069</td>\n",
       "      <td>10.434352</td>\n",
       "      <td>10.679541</td>\n",
       "      <td>10.723953</td>\n",
       "      <td>11.143310</td>\n",
       "      <td>11.112721</td>\n",
       "      <td>11.184795</td>\n",
       "      <td>11.241845</td>\n",
       "      <td>10.953206</td>\n",
       "      <td>11.001006</td>\n",
       "    </tr>\n",
       "    <tr>\n",
       "      <th>b0005</th>\n",
       "      <td>6.716069</td>\n",
       "      <td>6.410864</td>\n",
       "      <td>6.527653</td>\n",
       "      <td>6.136168</td>\n",
       "      <td>4.474204</td>\n",
       "      <td>4.720490</td>\n",
       "      <td>5.782102</td>\n",
       "      <td>5.326669</td>\n",
       "      <td>5.846675</td>\n",
       "      <td>5.972022</td>\n",
       "      <td>...</td>\n",
       "      <td>5.979079</td>\n",
       "      <td>5.705586</td>\n",
       "      <td>6.306120</td>\n",
       "      <td>6.291340</td>\n",
       "      <td>5.058537</td>\n",
       "      <td>4.835550</td>\n",
       "      <td>5.448097</td>\n",
       "      <td>5.757951</td>\n",
       "      <td>5.873964</td>\n",
       "      <td>5.808618</td>\n",
       "    </tr>\n",
       "    <tr>\n",
       "      <th>b0006</th>\n",
       "      <td>6.761813</td>\n",
       "      <td>6.816532</td>\n",
       "      <td>6.862147</td>\n",
       "      <td>6.817480</td>\n",
       "      <td>6.536457</td>\n",
       "      <td>6.439917</td>\n",
       "      <td>6.408731</td>\n",
       "      <td>6.276017</td>\n",
       "      <td>6.910200</td>\n",
       "      <td>6.843384</td>\n",
       "      <td>...</td>\n",
       "      <td>8.371287</td>\n",
       "      <td>8.322390</td>\n",
       "      <td>8.137515</td>\n",
       "      <td>8.071837</td>\n",
       "      <td>7.354131</td>\n",
       "      <td>7.365536</td>\n",
       "      <td>7.328101</td>\n",
       "      <td>7.314761</td>\n",
       "      <td>8.057750</td>\n",
       "      <td>8.105213</td>\n",
       "    </tr>\n",
       "  </tbody>\n",
       "</table>\n",
       "<p>5 rows × 173 columns</p>\n",
       "</div>"
      ],
      "text/plain": [
       "         fur__wt_fe__1  fur__wt_fe__2  fur__delfur_fe2__1  fur__delfur_fe2__2  \\\n",
       "log-TPM                                                                         \n",
       "b0002        11.064810      10.779071           11.229767           11.214065   \n",
       "b0003        10.776984      10.597810           10.897938           10.861157   \n",
       "b0004        10.394971      10.113950           10.185151           10.164655   \n",
       "b0005         6.716069       6.410864            6.527653            6.136168   \n",
       "b0006         6.761813       6.816532            6.862147            6.817480   \n",
       "\n",
       "         omics__bw_ac__1  omics__bw_ac__2  omics__bw_fum__1  omics__bw_fum__2  \\\n",
       "log-TPM                                                                         \n",
       "b0002           9.257348         9.182322          9.709213          9.672126   \n",
       "b0003           8.983408         8.943151          9.436004          9.394573   \n",
       "b0004           8.761690         8.779920          9.532673          9.534370   \n",
       "b0005           4.474204         4.720490          5.782102          5.326669   \n",
       "b0006           6.536457         6.439917          6.408731          6.276017   \n",
       "\n",
       "         omics__bw_glc__1  omics__bw_glc__2  ...  efeU__menFentC_ale29__1  \\\n",
       "log-TPM                                      ...                            \n",
       "b0002           10.208587         10.218351  ...                10.271327   \n",
       "b0003            9.609637          9.677931  ...                10.160291   \n",
       "b0004            9.883558          9.870356  ...                10.475069   \n",
       "b0005            5.846675          5.972022  ...                 5.979079   \n",
       "b0006            6.910200          6.843384  ...                 8.371287   \n",
       "\n",
       "         efeU__menFentC_ale29__2  efeU__menFentC_ale30__1  \\\n",
       "log-TPM                                                     \n",
       "b0002                  10.276565                11.148538   \n",
       "b0003                  10.116861                10.314322   \n",
       "b0004                  10.434352                10.679541   \n",
       "b0005                   5.705586                 6.306120   \n",
       "b0006                   8.322390                 8.137515   \n",
       "\n",
       "         efeU__menFentC_ale30__2  efeU__menFentCubiC_ale36__1  \\\n",
       "log-TPM                                                         \n",
       "b0002                  11.170578                    11.676604   \n",
       "b0003                  10.392251                    10.916426   \n",
       "b0004                  10.723953                    11.143310   \n",
       "b0005                   6.291340                     5.058537   \n",
       "b0006                   8.071837                     7.354131   \n",
       "\n",
       "         efeU__menFentCubiC_ale36__2  efeU__menFentCubiC_ale37__1  \\\n",
       "log-TPM                                                             \n",
       "b0002                      11.726097                    11.881529   \n",
       "b0003                      10.909277                    11.023924   \n",
       "b0004                      11.112721                    11.184795   \n",
       "b0005                       4.835550                     5.448097   \n",
       "b0006                       7.365536                     7.328101   \n",
       "\n",
       "         efeU__menFentCubiC_ale37__2  efeU__menFentCubiC_ale38__1  \\\n",
       "log-TPM                                                             \n",
       "b0002                      11.923237                    11.496410   \n",
       "b0003                      11.038426                    10.624301   \n",
       "b0004                      11.241845                    10.953206   \n",
       "b0005                       5.757951                     5.873964   \n",
       "b0006                       7.314761                     8.057750   \n",
       "\n",
       "         efeU__menFentCubiC_ale38__2  \n",
       "log-TPM                               \n",
       "b0002                      11.552762  \n",
       "b0003                      10.764195  \n",
       "b0004                      11.001006  \n",
       "b0005                       5.808618  \n",
       "b0006                       8.105213  \n",
       "\n",
       "[5 rows x 173 columns]"
      ]
     },
     "execution_count": 44,
     "metadata": {},
     "output_type": "execute_result"
    }
   ],
   "source": [
    "expression_df.head()"
   ]
  },
  {
   "cell_type": "code",
   "execution_count": 46,
   "metadata": {},
   "outputs": [
    {
     "ename": "TypeError",
     "evalue": "permutation() takes no keyword arguments",
     "output_type": "error",
     "traceback": [
      "\u001b[0;31m---------------------------------------------------------------------------\u001b[0m",
      "\u001b[0;31mTypeError\u001b[0m                                 Traceback (most recent call last)",
      "\u001b[0;32m<ipython-input-46-6540fdf4a08a>\u001b[0m in \u001b[0;36m<module>\u001b[0;34m\u001b[0m\n\u001b[0;32m----> 1\u001b[0;31m \u001b[0mnp\u001b[0m\u001b[0;34m.\u001b[0m\u001b[0mrandom\u001b[0m\u001b[0;34m.\u001b[0m\u001b[0mpermutation\u001b[0m\u001b[0;34m(\u001b[0m\u001b[0mexpression_df\u001b[0m\u001b[0;34m.\u001b[0m\u001b[0mvalues\u001b[0m\u001b[0;34m,\u001b[0m \u001b[0maxis\u001b[0m\u001b[0;34m=\u001b[0m\u001b[0;36m1\u001b[0m\u001b[0;34m)\u001b[0m\u001b[0;34m\u001b[0m\u001b[0;34m\u001b[0m\u001b[0m\n\u001b[0m",
      "\u001b[0;31mTypeError\u001b[0m: permutation() takes no keyword arguments"
     ]
    }
   ],
   "source": [
    "np.random.permutation(expression_df.values)"
   ]
  },
  {
   "cell_type": "markdown",
   "metadata": {},
   "source": [
    "**How about total reads?**"
   ]
  },
  {
   "cell_type": "code",
   "execution_count": 149,
   "metadata": {},
   "outputs": [
    {
     "data": {
      "text/plain": [
       "<matplotlib.collections.PathCollection at 0x7fbaec79fe50>"
      ]
     },
     "execution_count": 149,
     "metadata": {},
     "output_type": "execute_result"
    },
    {
     "data": {
      "image/png": "[encoded data removed]",
      "text/plain": [
       "<Figure size 432x288 with 1 Axes>"
      ]
     },
     "metadata": {
      "needs_background": "light"
     },
     "output_type": "display_data"
    }
   ],
   "source": [
    "a = metadata_df['Growth Rate (1/hr)']\n",
    "b = expression_df.sum()\n",
    "\n",
    "fig, ax = plt.subplots()\n",
    "ax.scatter(a,b)"
   ]
  },
  {
   "cell_type": "code",
   "execution_count": null,
   "metadata": {},
   "outputs": [],
   "source": []
  },
  {
   "cell_type": "markdown",
   "metadata": {},
   "source": [
    "# Incorporating external data sources"
   ]
  },
  {
   "cell_type": "code",
   "execution_count": 152,
   "metadata": {},
   "outputs": [
    {
     "name": "stdout",
     "output_type": "stream",
     "text": [
      "(4355, 13)\n",
      "(4310, 13)\n",
      "(4310, 13)\n",
      "(4310, 13)\n",
      "(4310, 13)\n",
      "(4310, 13)\n"
     ]
    }
   ],
   "source": [
    "other_df = pd.read_csv('../Data/ecoli_info/temp_ecoli_master_table.tsv', sep='\\t', index_col=0)\n",
    "print(other_df.shape)\n",
    "other_df = other_df[other_df['CAI'].isnull()==False]\n",
    "print(other_df.shape)\n",
    "other_df = other_df[other_df['roc_semppr_mean'].isnull()==False]\n",
    "print(other_df.shape)\n",
    "other_df = other_df[other_df['iCUB'].isnull()==False]\n",
    "print(other_df.shape)\n",
    "other_df = other_df[other_df['tAI'].isnull()==False]\n",
    "print(other_df.shape)\n",
    "other_df = other_df[other_df['stAIcalc'].isnull()==False]\n",
    "print(other_df.shape)"
   ]
  },
  {
   "cell_type": "code",
   "execution_count": 153,
   "metadata": {
    "scrolled": true
   },
   "outputs": [
    {
     "data": {
      "text/html": [
       "<div>\n",
       "<style scoped>\n",
       "    .dataframe tbody tr th:only-of-type {\n",
       "        vertical-align: middle;\n",
       "    }\n",
       "\n",
       "    .dataframe tbody tr th {\n",
       "        vertical-align: top;\n",
       "    }\n",
       "\n",
       "    .dataframe thead th {\n",
       "        text-align: right;\n",
       "    }\n",
       "</style>\n",
       "<table border=\"1\" class=\"dataframe\">\n",
       "  <thead>\n",
       "    <tr style=\"text-align: right;\">\n",
       "      <th></th>\n",
       "      <th>gene</th>\n",
       "      <th>start_loc</th>\n",
       "      <th>stop_loc</th>\n",
       "      <th>strand</th>\n",
       "      <th>cds_seq</th>\n",
       "      <th>us_seq</th>\n",
       "      <th>well_behaved</th>\n",
       "      <th>GC_percent_cds</th>\n",
       "      <th>roc_semppr_mean</th>\n",
       "      <th>iCUB</th>\n",
       "      <th>CAI</th>\n",
       "      <th>tAI</th>\n",
       "      <th>stAIcalc</th>\n",
       "    </tr>\n",
       "    <tr>\n",
       "      <th>locus_tag</th>\n",
       "      <th></th>\n",
       "      <th></th>\n",
       "      <th></th>\n",
       "      <th></th>\n",
       "      <th></th>\n",
       "      <th></th>\n",
       "      <th></th>\n",
       "      <th></th>\n",
       "      <th></th>\n",
       "      <th></th>\n",
       "      <th></th>\n",
       "      <th></th>\n",
       "      <th></th>\n",
       "    </tr>\n",
       "  </thead>\n",
       "  <tbody>\n",
       "    <tr>\n",
       "      <th>b0001</th>\n",
       "      <td>thrL</td>\n",
       "      <td>189</td>\n",
       "      <td>255</td>\n",
       "      <td>+</td>\n",
       "      <td>ATGAAACGCATTAGCACCACCATTACCACCACCATCACCATTACCA...</td>\n",
       "      <td>CAGATAAAAATTACAGAGTACACAACATCC</td>\n",
       "      <td>True</td>\n",
       "      <td>0.515152</td>\n",
       "      <td>1.244106</td>\n",
       "      <td>32.046035</td>\n",
       "      <td>0.617266</td>\n",
       "      <td>0.262286</td>\n",
       "      <td>0.258417</td>\n",
       "    </tr>\n",
       "    <tr>\n",
       "      <th>b0002</th>\n",
       "      <td>thrA</td>\n",
       "      <td>336</td>\n",
       "      <td>2799</td>\n",
       "      <td>+</td>\n",
       "      <td>ATGCGAGTGTTGAAGTTCGGCGGTACATCAGTGGCAAATGCAGAAC...</td>\n",
       "      <td>TTTTCGACCAAAGGTAACGAGGTAACAACC</td>\n",
       "      <td>True</td>\n",
       "      <td>0.530654</td>\n",
       "      <td>1.034078</td>\n",
       "      <td>55.949262</td>\n",
       "      <td>0.353246</td>\n",
       "      <td>0.230564</td>\n",
       "      <td>0.216862</td>\n",
       "    </tr>\n",
       "    <tr>\n",
       "      <th>b0003</th>\n",
       "      <td>thrB</td>\n",
       "      <td>2800</td>\n",
       "      <td>3733</td>\n",
       "      <td>+</td>\n",
       "      <td>ATGGTTAAAGTTTATGCCCCGGCTTCCAGTGCCAATATGAGCGTCG...</td>\n",
       "      <td>GTACCCTCTCATGGAAGTTAGGAGTCTGAC</td>\n",
       "      <td>True</td>\n",
       "      <td>0.562701</td>\n",
       "      <td>0.994168</td>\n",
       "      <td>56.062386</td>\n",
       "      <td>0.357812</td>\n",
       "      <td>0.216292</td>\n",
       "      <td>0.210420</td>\n",
       "    </tr>\n",
       "    <tr>\n",
       "      <th>b0004</th>\n",
       "      <td>thrC</td>\n",
       "      <td>3733</td>\n",
       "      <td>5020</td>\n",
       "      <td>+</td>\n",
       "      <td>ATGAAACTCTACAATCTGAAAGATCACAACGAGCAGGTCAGCTTTG...</td>\n",
       "      <td>ACGGCGGGCGCACGAGTACTGGAAAACTAA</td>\n",
       "      <td>True</td>\n",
       "      <td>0.528361</td>\n",
       "      <td>1.176750</td>\n",
       "      <td>53.052776</td>\n",
       "      <td>0.394675</td>\n",
       "      <td>0.231407</td>\n",
       "      <td>0.209784</td>\n",
       "    </tr>\n",
       "    <tr>\n",
       "      <th>b0005</th>\n",
       "      <td>yaaX</td>\n",
       "      <td>5233</td>\n",
       "      <td>5530</td>\n",
       "      <td>+</td>\n",
       "      <td>GTGAAAAAGATGCAATCTATCGTACTCGCACTTTCCCTGGTTCTGG...</td>\n",
       "      <td>CATAACGGGCAATGATAAAAGGAGTAACCT</td>\n",
       "      <td>True</td>\n",
       "      <td>0.538721</td>\n",
       "      <td>0.837528</td>\n",
       "      <td>50.705530</td>\n",
       "      <td>0.374371</td>\n",
       "      <td>0.197715</td>\n",
       "      <td>0.208944</td>\n",
       "    </tr>\n",
       "    <tr>\n",
       "      <th>...</th>\n",
       "      <td>...</td>\n",
       "      <td>...</td>\n",
       "      <td>...</td>\n",
       "      <td>...</td>\n",
       "      <td>...</td>\n",
       "      <td>...</td>\n",
       "      <td>...</td>\n",
       "      <td>...</td>\n",
       "      <td>...</td>\n",
       "      <td>...</td>\n",
       "      <td>...</td>\n",
       "      <td>...</td>\n",
       "      <td>...</td>\n",
       "    </tr>\n",
       "    <tr>\n",
       "      <th>b4399</th>\n",
       "      <td>creC</td>\n",
       "      <td>4636695</td>\n",
       "      <td>4638120</td>\n",
       "      <td>+</td>\n",
       "      <td>ATGCGTATCGGCATGCGGTTGTTGCTGGGCTATTTTTTACTGGTGG...</td>\n",
       "      <td>CGGCATGGGATATAGCCTGAGGGGCCTGTA</td>\n",
       "      <td>True</td>\n",
       "      <td>0.538947</td>\n",
       "      <td>0.829794</td>\n",
       "      <td>55.967103</td>\n",
       "      <td>0.293537</td>\n",
       "      <td>0.212672</td>\n",
       "      <td>0.206721</td>\n",
       "    </tr>\n",
       "    <tr>\n",
       "      <th>b4400</th>\n",
       "      <td>creD</td>\n",
       "      <td>4638177</td>\n",
       "      <td>4639530</td>\n",
       "      <td>+</td>\n",
       "      <td>ATGTTGAAATCCCCCCTGTTCTGGAAAATGACTAGCCTGTTTGGTG...</td>\n",
       "      <td>TATCCTGCTGCCATTGCAAAGGAGAAGACT</td>\n",
       "      <td>True</td>\n",
       "      <td>0.495935</td>\n",
       "      <td>0.739848</td>\n",
       "      <td>54.634345</td>\n",
       "      <td>0.288635</td>\n",
       "      <td>0.210078</td>\n",
       "      <td>0.199677</td>\n",
       "    </tr>\n",
       "    <tr>\n",
       "      <th>b4401</th>\n",
       "      <td>arcA</td>\n",
       "      <td>4639589</td>\n",
       "      <td>4640306</td>\n",
       "      <td>-</td>\n",
       "      <td>ATGCAGACCCCGCACATTCTTATCGTTGAAGACGAGTTGGTAACAC...</td>\n",
       "      <td>TCGATTTAGTTGGCAATTTAGGTAGCAAAC</td>\n",
       "      <td>True</td>\n",
       "      <td>0.510460</td>\n",
       "      <td>1.676448</td>\n",
       "      <td>48.981781</td>\n",
       "      <td>0.530773</td>\n",
       "      <td>0.275348</td>\n",
       "      <td>0.239921</td>\n",
       "    </tr>\n",
       "    <tr>\n",
       "      <th>b4402</th>\n",
       "      <td>yjjY</td>\n",
       "      <td>4640401</td>\n",
       "      <td>4640542</td>\n",
       "      <td>+</td>\n",
       "      <td>ATGACTAAAGTACGTAATTGCGTTCTTGATGCACTTTCCATCAACG...</td>\n",
       "      <td>CATGCTGCAAATTAACATGATCGGCGTAAC</td>\n",
       "      <td>True</td>\n",
       "      <td>0.425532</td>\n",
       "      <td>0.802032</td>\n",
       "      <td>47.451431</td>\n",
       "      <td>0.314394</td>\n",
       "      <td>0.219204</td>\n",
       "      <td>0.230201</td>\n",
       "    </tr>\n",
       "    <tr>\n",
       "      <th>b4403</th>\n",
       "      <td>yjtD</td>\n",
       "      <td>4640941</td>\n",
       "      <td>4641628</td>\n",
       "      <td>+</td>\n",
       "      <td>ATGCGTATAACGATTATTCTGGTCGCACCCGCCAGAGCAGAAAATA...</td>\n",
       "      <td>CGCGGTTATTTGATCAAGAAGAGTGGCAAT</td>\n",
       "      <td>True</td>\n",
       "      <td>0.497817</td>\n",
       "      <td>0.566772</td>\n",
       "      <td>53.610186</td>\n",
       "      <td>0.261990</td>\n",
       "      <td>0.204571</td>\n",
       "      <td>0.202168</td>\n",
       "    </tr>\n",
       "  </tbody>\n",
       "</table>\n",
       "<p>4310 rows × 13 columns</p>\n",
       "</div>"
      ],
      "text/plain": [
       "           gene  start_loc  stop_loc strand  \\\n",
       "locus_tag                                     \n",
       "b0001      thrL        189       255      +   \n",
       "b0002      thrA        336      2799      +   \n",
       "b0003      thrB       2800      3733      +   \n",
       "b0004      thrC       3733      5020      +   \n",
       "b0005      yaaX       5233      5530      +   \n",
       "...         ...        ...       ...    ...   \n",
       "b4399      creC    4636695   4638120      +   \n",
       "b4400      creD    4638177   4639530      +   \n",
       "b4401      arcA    4639589   4640306      -   \n",
       "b4402      yjjY    4640401   4640542      +   \n",
       "b4403      yjtD    4640941   4641628      +   \n",
       "\n",
       "                                                     cds_seq  \\\n",
       "locus_tag                                                      \n",
       "b0001      ATGAAACGCATTAGCACCACCATTACCACCACCATCACCATTACCA...   \n",
       "b0002      ATGCGAGTGTTGAAGTTCGGCGGTACATCAGTGGCAAATGCAGAAC...   \n",
       "b0003      ATGGTTAAAGTTTATGCCCCGGCTTCCAGTGCCAATATGAGCGTCG...   \n",
       "b0004      ATGAAACTCTACAATCTGAAAGATCACAACGAGCAGGTCAGCTTTG...   \n",
       "b0005      GTGAAAAAGATGCAATCTATCGTACTCGCACTTTCCCTGGTTCTGG...   \n",
       "...                                                      ...   \n",
       "b4399      ATGCGTATCGGCATGCGGTTGTTGCTGGGCTATTTTTTACTGGTGG...   \n",
       "b4400      ATGTTGAAATCCCCCCTGTTCTGGAAAATGACTAGCCTGTTTGGTG...   \n",
       "b4401      ATGCAGACCCCGCACATTCTTATCGTTGAAGACGAGTTGGTAACAC...   \n",
       "b4402      ATGACTAAAGTACGTAATTGCGTTCTTGATGCACTTTCCATCAACG...   \n",
       "b4403      ATGCGTATAACGATTATTCTGGTCGCACCCGCCAGAGCAGAAAATA...   \n",
       "\n",
       "                                   us_seq  well_behaved  GC_percent_cds  \\\n",
       "locus_tag                                                                 \n",
       "b0001      CAGATAAAAATTACAGAGTACACAACATCC          True        0.515152   \n",
       "b0002      TTTTCGACCAAAGGTAACGAGGTAACAACC          True        0.530654   \n",
       "b0003      GTACCCTCTCATGGAAGTTAGGAGTCTGAC          True        0.562701   \n",
       "b0004      ACGGCGGGCGCACGAGTACTGGAAAACTAA          True        0.528361   \n",
       "b0005      CATAACGGGCAATGATAAAAGGAGTAACCT          True        0.538721   \n",
       "...                                   ...           ...             ...   \n",
       "b4399      CGGCATGGGATATAGCCTGAGGGGCCTGTA          True        0.538947   \n",
       "b4400      TATCCTGCTGCCATTGCAAAGGAGAAGACT          True        0.495935   \n",
       "b4401      TCGATTTAGTTGGCAATTTAGGTAGCAAAC          True        0.510460   \n",
       "b4402      CATGCTGCAAATTAACATGATCGGCGTAAC          True        0.425532   \n",
       "b4403      CGCGGTTATTTGATCAAGAAGAGTGGCAAT          True        0.497817   \n",
       "\n",
       "           roc_semppr_mean       iCUB       CAI       tAI  stAIcalc  \n",
       "locus_tag                                                            \n",
       "b0001             1.244106  32.046035  0.617266  0.262286  0.258417  \n",
       "b0002             1.034078  55.949262  0.353246  0.230564  0.216862  \n",
       "b0003             0.994168  56.062386  0.357812  0.216292  0.210420  \n",
       "b0004             1.176750  53.052776  0.394675  0.231407  0.209784  \n",
       "b0005             0.837528  50.705530  0.374371  0.197715  0.208944  \n",
       "...                    ...        ...       ...       ...       ...  \n",
       "b4399             0.829794  55.967103  0.293537  0.212672  0.206721  \n",
       "b4400             0.739848  54.634345  0.288635  0.210078  0.199677  \n",
       "b4401             1.676448  48.981781  0.530773  0.275348  0.239921  \n",
       "b4402             0.802032  47.451431  0.314394  0.219204  0.230201  \n",
       "b4403             0.566772  53.610186  0.261990  0.204571  0.202168  \n",
       "\n",
       "[4310 rows x 13 columns]"
      ]
     },
     "execution_count": 153,
     "metadata": {},
     "output_type": "execute_result"
    }
   ],
   "source": [
    "other_df"
   ]
  },
  {
   "cell_type": "code",
   "execution_count": 154,
   "metadata": {},
   "outputs": [
    {
     "name": "stdout",
     "output_type": "stream",
     "text": [
      "(3923, 173)\n",
      "(3859, 173)\n",
      "(3859, 13)\n"
     ]
    }
   ],
   "source": [
    "print(expression_df.shape)\n",
    "expression_df = expression_df[expression_df.index.isin(other_df.index)]\n",
    "print(expression_df.shape)\n",
    "other_df = other_df[other_df.index.isin(expression_df.index)]\n",
    "print(other_df.shape)"
   ]
  },
  {
   "cell_type": "code",
   "execution_count": 155,
   "metadata": {},
   "outputs": [],
   "source": [
    "expression_df = expression_df.sort_index()\n",
    "other_df = other_df.sort_index()"
   ]
  },
  {
   "cell_type": "markdown",
   "metadata": {},
   "source": [
    "## What metric correlates best with expression data?"
   ]
  },
  {
   "cell_type": "code",
   "execution_count": 173,
   "metadata": {},
   "outputs": [
    {
     "name": "stdout",
     "output_type": "stream",
     "text": [
      "GC_percent_cds\n",
      "Mean: 0.05470493491676735\n",
      "Median: 0.04842152926979853\n",
      "Max: 0.1808102950864034\n",
      "\n",
      "roc_semppr_mean\n",
      "Mean: 0.3957754416125814\n",
      "Median: 0.3948306456620813\n",
      "Max: 0.484170412507893\n",
      "\n",
      "iCUB\n",
      "Mean: -0.29614608151881755\n",
      "Median: -0.2887424886286724\n",
      "Max: 0.38153718617504284\n",
      "\n",
      "CAI\n",
      "Mean: 0.41321347461508845\n",
      "Median: 0.41185137712741005\n",
      "Max: 0.4772136685595271\n",
      "\n",
      "tAI\n",
      "Mean: 0.37615000279184263\n",
      "Median: 0.37625149919776335\n",
      "Max: 0.4325669145885162\n",
      "\n",
      "stAIcalc\n",
      "Mean: 0.33404045122335485\n",
      "Median: 0.33485180228550554\n",
      "Max: 0.3716422880846404\n",
      "\n"
     ]
    }
   ],
   "source": [
    "metrics = ['GC_percent_cds', 'roc_semppr_mean', 'iCUB', 'CAI', 'tAI', 'stAIcalc']\n",
    "\n",
    "for metric in metrics[:]:\n",
    "    print(metric)\n",
    "    tempy = []\n",
    "    for column in expression_df.columns:\n",
    "        tempy.append(stats.spearmanr(other_df[metric], expression_df[column])[0])\n",
    "    print('Mean:', np.mean(tempy))\n",
    "    print('Median:', np.median(tempy))\n",
    "    print('Max:', np.max(np.abs(tempy)))\n",
    "    print()"
   ]
  },
  {
   "cell_type": "markdown",
   "metadata": {},
   "source": [
    "## How do metric *correlations* with expression in individual conditions correlate with growth rate?"
   ]
  },
  {
   "cell_type": "code",
   "execution_count": 187,
   "metadata": {},
   "outputs": [],
   "source": [
    "metric = 'GC_percent_cds'\n",
    "# metric = 'roc_semppr_mean'\n",
    "# metric = 'iCUB'\n",
    "# metric = 'CAI'\n",
    "# metric = 'tAI'\n",
    "# metric = 'stAIcalc'\n",
    "\n",
    "\n",
    "\n",
    "tempy = []\n",
    "listy_a = []\n",
    "listy_b = []\n",
    "for column in expression_df.columns:\n",
    "    rho, p = stats.spearmanr(other_df[metric], expression_df[column])\n",
    "    listy_a.append(rho)\n",
    "    listy_b.append(metadata_df[metadata_df['Sample ID']==column].iloc[0]['Growth Rate (1/hr)'])\n",
    "    tempy.append((column, rho, p))\n",
    "tempy.sort(key=lambda x: x[1])"
   ]
  },
  {
   "cell_type": "code",
   "execution_count": 188,
   "metadata": {},
   "outputs": [
    {
     "name": "stdout",
     "output_type": "stream",
     "text": [
      "SpearmanrResult(correlation=0.28979487440542095, pvalue=0.0001100273726425804)\n"
     ]
    },
    {
     "data": {
      "image/png": "[encoded data removed]",
      "text/plain": [
       "<Figure size 432x288 with 1 Axes>"
      ]
     },
     "metadata": {
      "needs_background": "light"
     },
     "output_type": "display_data"
    }
   ],
   "source": [
    "fig, ax = plt.subplots()\n",
    "ax.scatter(listy_b, listy_a)\n",
    "print(stats.spearmanr(listy_b, listy_a))"
   ]
  },
  {
   "cell_type": "markdown",
   "metadata": {},
   "source": [
    "## Example correlations between metric and average expression"
   ]
  },
  {
   "cell_type": "code",
   "execution_count": 200,
   "metadata": {},
   "outputs": [
    {
     "name": "stdout",
     "output_type": "stream",
     "text": [
      "SpearmanrResult(correlation=0.4614061108752819, pvalue=8.763095745222825e-203)\n"
     ]
    },
    {
     "data": {
      "image/png": "[encoded data removed]",
      "text/plain": [
       "<Figure size 432x288 with 1 Axes>"
      ]
     },
     "metadata": {
      "needs_background": "light"
     },
     "output_type": "display_data"
    }
   ],
   "source": [
    "# metric = 'GC_percent_cds'\n",
    "# metric = 'roc_semppr_mean'\n",
    "# metric = 'iCUB'\n",
    "metric = 'CAI'\n",
    "# metric = 'tAI'\n",
    "# metric = 'stAIcalc'\n",
    "\n",
    "fig, ax = plt.subplots()\n",
    "ax.scatter(other_df[metric], expression_df.max(axis=1))\n",
    "print(stats.spearmanr(other_df[metric], expression_df.max(axis=1)))"
   ]
  },
  {
   "cell_type": "markdown",
   "metadata": {},
   "source": [
    "# Quantify each individual gene's correlation with growth rate and assess its relationship/correlation with the codon metrics"
   ]
  },
  {
   "cell_type": "code",
   "execution_count": 203,
   "metadata": {},
   "outputs": [],
   "source": [
    "import statsmodels.formula.api as smf"
   ]
  },
  {
   "cell_type": "code",
   "execution_count": 211,
   "metadata": {},
   "outputs": [],
   "source": [
    "###Get correlation between expression and growth for each gene\n",
    "listy = []\n",
    "for index in expression_df.index:\n",
    "    rho, p = stats.spearmanr(expression_df.loc[index], metadata_df['Growth Rate (1/hr)'])\n",
    "    listy.append(rho)"
   ]
  },
  {
   "cell_type": "code",
   "execution_count": 214,
   "metadata": {},
   "outputs": [
    {
     "name": "stdout",
     "output_type": "stream",
     "text": [
      "Intercept                            1.201398e-287\n",
      "expression_summary                   2.085459e-248\n",
      "growth_summary                        5.563325e-17\n",
      "expression_summary:growth_summary     4.129076e-49\n",
      "dtype: float64\n",
      "                            OLS Regression Results                            \n",
      "==============================================================================\n",
      "Dep. Variable:           codon_metric   R-squared:                       0.370\n",
      "Model:                            OLS   Adj. R-squared:                  0.369\n",
      "Method:                 Least Squares   F-statistic:                     753.9\n",
      "Date:                Wed, 06 Jan 2021   Prob (F-statistic):               0.00\n",
      "Time:                        20:47:08   Log-Likelihood:                 4326.7\n",
      "No. Observations:                3859   AIC:                            -8645.\n",
      "Df Residuals:                    3855   BIC:                            -8620.\n",
      "Df Model:                           3                                         \n",
      "Covariance Type:            nonrobust                                         \n",
      "=====================================================================================================\n",
      "                                        coef    std err          t      P>|t|      [0.025      0.975]\n",
      "-----------------------------------------------------------------------------------------------------\n",
      "Intercept                             0.2072      0.005     39.566      0.000       0.197       0.217\n",
      "expression_summary                    0.0215      0.001     36.297      0.000       0.020       0.023\n",
      "growth_summary                       -0.1558      0.019     -8.413      0.000      -0.192      -0.119\n",
      "expression_summary:growth_summary     0.0304      0.002     14.941      0.000       0.026       0.034\n",
      "==============================================================================\n",
      "Omnibus:                      365.807   Durbin-Watson:                   1.583\n",
      "Prob(Omnibus):                  0.000   Jarque-Bera (JB):              637.959\n",
      "Skew:                           0.664   Prob(JB):                    2.94e-139\n",
      "Kurtosis:                       4.485   Cond. No.                         126.\n",
      "==============================================================================\n",
      "\n",
      "Warnings:\n",
      "[1] Standard Errors assume that the covariance matrix of the errors is correctly specified.\n"
     ]
    }
   ],
   "source": [
    "# metric = 'GC_percent_cds'\n",
    "# metric = 'roc_semppr_mean'\n",
    "# metric = 'iCUB'\n",
    "metric = 'CAI'\n",
    "# metric = 'tAI'\n",
    "# metric = 'stAIcalc'\n",
    "\n",
    "# plot_df = pd.DataFrame(zip(other_df[metric], expression_df.mean(axis=1), listy))\n",
    "# plot_df = pd.DataFrame(zip(other_df[metric], expression_df.median(axis=1), listy))\n",
    "plot_df = pd.DataFrame(zip(other_df[metric], expression_df.max(axis=1), listy))\n",
    "\n",
    "plot_df.columns = ['codon_metric', 'expression_summary', 'growth_summary']\n",
    "\n",
    "fitted_model = smf.ols('codon_metric ~ expression_summary * growth_summary', data=plot_df).fit()\n",
    "print(fitted_model.pvalues)\n",
    "print(fitted_model.summary())"
   ]
  },
  {
   "cell_type": "code",
   "execution_count": null,
   "metadata": {},
   "outputs": [],
   "source": []
  },
  {
   "cell_type": "code",
   "execution_count": null,
   "metadata": {},
   "outputs": [],
   "source": []
  },
  {
   "cell_type": "code",
   "execution_count": 6,
   "metadata": {},
   "outputs": [
    {
     "data": {
      "text/html": [
       "<div>\n",
       "<style scoped>\n",
       "    .dataframe tbody tr th:only-of-type {\n",
       "        vertical-align: middle;\n",
       "    }\n",
       "\n",
       "    .dataframe tbody tr th {\n",
       "        vertical-align: top;\n",
       "    }\n",
       "\n",
       "    .dataframe thead th {\n",
       "        text-align: right;\n",
       "    }\n",
       "</style>\n",
       "<table border=\"1\" class=\"dataframe\">\n",
       "  <thead>\n",
       "    <tr style=\"text-align: right;\">\n",
       "      <th></th>\n",
       "      <th>fur__wt_fe__1</th>\n",
       "      <th>fur__wt_fe__2</th>\n",
       "      <th>fur__delfur_fe2__1</th>\n",
       "      <th>fur__delfur_fe2__2</th>\n",
       "      <th>omics__bw_ac__1</th>\n",
       "      <th>omics__bw_ac__2</th>\n",
       "      <th>omics__bw_fum__1</th>\n",
       "      <th>omics__bw_fum__2</th>\n",
       "      <th>omics__bw_glc__1</th>\n",
       "      <th>omics__bw_glc__2</th>\n",
       "      <th>...</th>\n",
       "      <th>efeU__menFentC_ale29__1</th>\n",
       "      <th>efeU__menFentC_ale29__2</th>\n",
       "      <th>efeU__menFentC_ale30__1</th>\n",
       "      <th>efeU__menFentC_ale30__2</th>\n",
       "      <th>efeU__menFentCubiC_ale36__1</th>\n",
       "      <th>efeU__menFentCubiC_ale36__2</th>\n",
       "      <th>efeU__menFentCubiC_ale37__1</th>\n",
       "      <th>efeU__menFentCubiC_ale37__2</th>\n",
       "      <th>efeU__menFentCubiC_ale38__1</th>\n",
       "      <th>efeU__menFentCubiC_ale38__2</th>\n",
       "    </tr>\n",
       "    <tr>\n",
       "      <th>log-TPM</th>\n",
       "      <th></th>\n",
       "      <th></th>\n",
       "      <th></th>\n",
       "      <th></th>\n",
       "      <th></th>\n",
       "      <th></th>\n",
       "      <th></th>\n",
       "      <th></th>\n",
       "      <th></th>\n",
       "      <th></th>\n",
       "      <th></th>\n",
       "      <th></th>\n",
       "      <th></th>\n",
       "      <th></th>\n",
       "      <th></th>\n",
       "      <th></th>\n",
       "      <th></th>\n",
       "      <th></th>\n",
       "      <th></th>\n",
       "      <th></th>\n",
       "      <th></th>\n",
       "    </tr>\n",
       "  </thead>\n",
       "  <tbody>\n",
       "    <tr>\n",
       "      <th>b0002</th>\n",
       "      <td>11.064810</td>\n",
       "      <td>10.779071</td>\n",
       "      <td>11.229767</td>\n",
       "      <td>11.214065</td>\n",
       "      <td>9.257348</td>\n",
       "      <td>9.182322</td>\n",
       "      <td>9.709213</td>\n",
       "      <td>9.672126</td>\n",
       "      <td>10.208587</td>\n",
       "      <td>10.218351</td>\n",
       "      <td>...</td>\n",
       "      <td>10.271327</td>\n",
       "      <td>10.276565</td>\n",
       "      <td>11.148538</td>\n",
       "      <td>11.170578</td>\n",
       "      <td>11.676604</td>\n",
       "      <td>11.726097</td>\n",
       "      <td>11.881529</td>\n",
       "      <td>11.923237</td>\n",
       "      <td>11.496410</td>\n",
       "      <td>11.552762</td>\n",
       "    </tr>\n",
       "    <tr>\n",
       "      <th>b0003</th>\n",
       "      <td>10.776984</td>\n",
       "      <td>10.597810</td>\n",
       "      <td>10.897938</td>\n",
       "      <td>10.861157</td>\n",
       "      <td>8.983408</td>\n",
       "      <td>8.943151</td>\n",
       "      <td>9.436004</td>\n",
       "      <td>9.394573</td>\n",
       "      <td>9.609637</td>\n",
       "      <td>9.677931</td>\n",
       "      <td>...</td>\n",
       "      <td>10.160291</td>\n",
       "      <td>10.116861</td>\n",
       "      <td>10.314322</td>\n",
       "      <td>10.392251</td>\n",
       "      <td>10.916426</td>\n",
       "      <td>10.909277</td>\n",
       "      <td>11.023924</td>\n",
       "      <td>11.038426</td>\n",
       "      <td>10.624301</td>\n",
       "      <td>10.764195</td>\n",
       "    </tr>\n",
       "    <tr>\n",
       "      <th>b0004</th>\n",
       "      <td>10.394971</td>\n",
       "      <td>10.113950</td>\n",
       "      <td>10.185151</td>\n",
       "      <td>10.164655</td>\n",
       "      <td>8.761690</td>\n",
       "      <td>8.779920</td>\n",
       "      <td>9.532673</td>\n",
       "      <td>9.534370</td>\n",
       "      <td>9.883558</td>\n",
       "      <td>9.870356</td>\n",
       "      <td>...</td>\n",
       "      <td>10.475069</td>\n",
       "      <td>10.434352</td>\n",
       "      <td>10.679541</td>\n",
       "      <td>10.723953</td>\n",
       "      <td>11.143310</td>\n",
       "      <td>11.112721</td>\n",
       "      <td>11.184795</td>\n",
       "      <td>11.241845</td>\n",
       "      <td>10.953206</td>\n",
       "      <td>11.001006</td>\n",
       "    </tr>\n",
       "    <tr>\n",
       "      <th>b0005</th>\n",
       "      <td>6.716069</td>\n",
       "      <td>6.410864</td>\n",
       "      <td>6.527653</td>\n",
       "      <td>6.136168</td>\n",
       "      <td>4.474204</td>\n",
       "      <td>4.720490</td>\n",
       "      <td>5.782102</td>\n",
       "      <td>5.326669</td>\n",
       "      <td>5.846675</td>\n",
       "      <td>5.972022</td>\n",
       "      <td>...</td>\n",
       "      <td>5.979079</td>\n",
       "      <td>5.705586</td>\n",
       "      <td>6.306120</td>\n",
       "      <td>6.291340</td>\n",
       "      <td>5.058537</td>\n",
       "      <td>4.835550</td>\n",
       "      <td>5.448097</td>\n",
       "      <td>5.757951</td>\n",
       "      <td>5.873964</td>\n",
       "      <td>5.808618</td>\n",
       "    </tr>\n",
       "    <tr>\n",
       "      <th>b0006</th>\n",
       "      <td>6.761813</td>\n",
       "      <td>6.816532</td>\n",
       "      <td>6.862147</td>\n",
       "      <td>6.817480</td>\n",
       "      <td>6.536457</td>\n",
       "      <td>6.439917</td>\n",
       "      <td>6.408731</td>\n",
       "      <td>6.276017</td>\n",
       "      <td>6.910200</td>\n",
       "      <td>6.843384</td>\n",
       "      <td>...</td>\n",
       "      <td>8.371287</td>\n",
       "      <td>8.322390</td>\n",
       "      <td>8.137515</td>\n",
       "      <td>8.071837</td>\n",
       "      <td>7.354131</td>\n",
       "      <td>7.365536</td>\n",
       "      <td>7.328101</td>\n",
       "      <td>7.314761</td>\n",
       "      <td>8.057750</td>\n",
       "      <td>8.105213</td>\n",
       "    </tr>\n",
       "    <tr>\n",
       "      <th>...</th>\n",
       "      <td>...</td>\n",
       "      <td>...</td>\n",
       "      <td>...</td>\n",
       "      <td>...</td>\n",
       "      <td>...</td>\n",
       "      <td>...</td>\n",
       "      <td>...</td>\n",
       "      <td>...</td>\n",
       "      <td>...</td>\n",
       "      <td>...</td>\n",
       "      <td>...</td>\n",
       "      <td>...</td>\n",
       "      <td>...</td>\n",
       "      <td>...</td>\n",
       "      <td>...</td>\n",
       "      <td>...</td>\n",
       "      <td>...</td>\n",
       "      <td>...</td>\n",
       "      <td>...</td>\n",
       "      <td>...</td>\n",
       "      <td>...</td>\n",
       "    </tr>\n",
       "    <tr>\n",
       "      <th>b4688</th>\n",
       "      <td>2.916383</td>\n",
       "      <td>3.248885</td>\n",
       "      <td>2.800527</td>\n",
       "      <td>2.039165</td>\n",
       "      <td>3.949532</td>\n",
       "      <td>3.257212</td>\n",
       "      <td>4.179527</td>\n",
       "      <td>4.054499</td>\n",
       "      <td>2.949236</td>\n",
       "      <td>3.450042</td>\n",
       "      <td>...</td>\n",
       "      <td>1.849193</td>\n",
       "      <td>2.272005</td>\n",
       "      <td>0.000000</td>\n",
       "      <td>1.283342</td>\n",
       "      <td>1.355421</td>\n",
       "      <td>1.167070</td>\n",
       "      <td>1.734880</td>\n",
       "      <td>1.007913</td>\n",
       "      <td>0.000000</td>\n",
       "      <td>1.545422</td>\n",
       "    </tr>\n",
       "    <tr>\n",
       "      <th>b4693</th>\n",
       "      <td>1.755932</td>\n",
       "      <td>2.136364</td>\n",
       "      <td>4.268691</td>\n",
       "      <td>4.252711</td>\n",
       "      <td>2.302745</td>\n",
       "      <td>1.583916</td>\n",
       "      <td>1.778959</td>\n",
       "      <td>2.486890</td>\n",
       "      <td>1.694740</td>\n",
       "      <td>2.202905</td>\n",
       "      <td>...</td>\n",
       "      <td>0.772861</td>\n",
       "      <td>2.004397</td>\n",
       "      <td>0.000000</td>\n",
       "      <td>0.333735</td>\n",
       "      <td>3.202295</td>\n",
       "      <td>3.001444</td>\n",
       "      <td>3.105540</td>\n",
       "      <td>3.091406</td>\n",
       "      <td>3.380939</td>\n",
       "      <td>3.171579</td>\n",
       "    </tr>\n",
       "    <tr>\n",
       "      <th>b4696_1</th>\n",
       "      <td>2.064534</td>\n",
       "      <td>2.014348</td>\n",
       "      <td>2.468705</td>\n",
       "      <td>2.431928</td>\n",
       "      <td>3.628631</td>\n",
       "      <td>3.736596</td>\n",
       "      <td>2.954142</td>\n",
       "      <td>2.836546</td>\n",
       "      <td>2.777701</td>\n",
       "      <td>2.979065</td>\n",
       "      <td>...</td>\n",
       "      <td>2.857578</td>\n",
       "      <td>2.874401</td>\n",
       "      <td>2.797063</td>\n",
       "      <td>2.578195</td>\n",
       "      <td>2.734153</td>\n",
       "      <td>2.718261</td>\n",
       "      <td>3.100377</td>\n",
       "      <td>3.021188</td>\n",
       "      <td>3.225358</td>\n",
       "      <td>3.401920</td>\n",
       "    </tr>\n",
       "    <tr>\n",
       "      <th>b4696_2</th>\n",
       "      <td>2.639106</td>\n",
       "      <td>2.200281</td>\n",
       "      <td>3.044666</td>\n",
       "      <td>3.115836</td>\n",
       "      <td>3.954829</td>\n",
       "      <td>4.146989</td>\n",
       "      <td>3.648122</td>\n",
       "      <td>3.681090</td>\n",
       "      <td>3.388667</td>\n",
       "      <td>3.764555</td>\n",
       "      <td>...</td>\n",
       "      <td>2.617006</td>\n",
       "      <td>3.515160</td>\n",
       "      <td>3.212986</td>\n",
       "      <td>3.012930</td>\n",
       "      <td>2.597279</td>\n",
       "      <td>3.731740</td>\n",
       "      <td>3.460336</td>\n",
       "      <td>3.696665</td>\n",
       "      <td>3.483282</td>\n",
       "      <td>3.818985</td>\n",
       "    </tr>\n",
       "    <tr>\n",
       "      <th>b4705</th>\n",
       "      <td>4.720801</td>\n",
       "      <td>4.211245</td>\n",
       "      <td>2.788597</td>\n",
       "      <td>3.595577</td>\n",
       "      <td>4.183743</td>\n",
       "      <td>2.768540</td>\n",
       "      <td>3.921648</td>\n",
       "      <td>4.849924</td>\n",
       "      <td>2.661522</td>\n",
       "      <td>3.764098</td>\n",
       "      <td>...</td>\n",
       "      <td>3.499761</td>\n",
       "      <td>4.102990</td>\n",
       "      <td>0.000000</td>\n",
       "      <td>2.471121</td>\n",
       "      <td>1.794923</td>\n",
       "      <td>2.306682</td>\n",
       "      <td>1.508380</td>\n",
       "      <td>1.379646</td>\n",
       "      <td>0.000000</td>\n",
       "      <td>0.000000</td>\n",
       "    </tr>\n",
       "  </tbody>\n",
       "</table>\n",
       "<p>3923 rows × 173 columns</p>\n",
       "</div>"
      ],
      "text/plain": [
       "         fur__wt_fe__1  fur__wt_fe__2  fur__delfur_fe2__1  fur__delfur_fe2__2  \\\n",
       "log-TPM                                                                         \n",
       "b0002        11.064810      10.779071           11.229767           11.214065   \n",
       "b0003        10.776984      10.597810           10.897938           10.861157   \n",
       "b0004        10.394971      10.113950           10.185151           10.164655   \n",
       "b0005         6.716069       6.410864            6.527653            6.136168   \n",
       "b0006         6.761813       6.816532            6.862147            6.817480   \n",
       "...                ...            ...                 ...                 ...   \n",
       "b4688         2.916383       3.248885            2.800527            2.039165   \n",
       "b4693         1.755932       2.136364            4.268691            4.252711   \n",
       "b4696_1       2.064534       2.014348            2.468705            2.431928   \n",
       "b4696_2       2.639106       2.200281            3.044666            3.115836   \n",
       "b4705         4.720801       4.211245            2.788597            3.595577   \n",
       "\n",
       "         omics__bw_ac__1  omics__bw_ac__2  omics__bw_fum__1  omics__bw_fum__2  \\\n",
       "log-TPM                                                                         \n",
       "b0002           9.257348         9.182322          9.709213          9.672126   \n",
       "b0003           8.983408         8.943151          9.436004          9.394573   \n",
       "b0004           8.761690         8.779920          9.532673          9.534370   \n",
       "b0005           4.474204         4.720490          5.782102          5.326669   \n",
       "b0006           6.536457         6.439917          6.408731          6.276017   \n",
       "...                  ...              ...               ...               ...   \n",
       "b4688           3.949532         3.257212          4.179527          4.054499   \n",
       "b4693           2.302745         1.583916          1.778959          2.486890   \n",
       "b4696_1         3.628631         3.736596          2.954142          2.836546   \n",
       "b4696_2         3.954829         4.146989          3.648122          3.681090   \n",
       "b4705           4.183743         2.768540          3.921648          4.849924   \n",
       "\n",
       "         omics__bw_glc__1  omics__bw_glc__2  ...  efeU__menFentC_ale29__1  \\\n",
       "log-TPM                                      ...                            \n",
       "b0002           10.208587         10.218351  ...                10.271327   \n",
       "b0003            9.609637          9.677931  ...                10.160291   \n",
       "b0004            9.883558          9.870356  ...                10.475069   \n",
       "b0005            5.846675          5.972022  ...                 5.979079   \n",
       "b0006            6.910200          6.843384  ...                 8.371287   \n",
       "...                   ...               ...  ...                      ...   \n",
       "b4688            2.949236          3.450042  ...                 1.849193   \n",
       "b4693            1.694740          2.202905  ...                 0.772861   \n",
       "b4696_1          2.777701          2.979065  ...                 2.857578   \n",
       "b4696_2          3.388667          3.764555  ...                 2.617006   \n",
       "b4705            2.661522          3.764098  ...                 3.499761   \n",
       "\n",
       "         efeU__menFentC_ale29__2  efeU__menFentC_ale30__1  \\\n",
       "log-TPM                                                     \n",
       "b0002                  10.276565                11.148538   \n",
       "b0003                  10.116861                10.314322   \n",
       "b0004                  10.434352                10.679541   \n",
       "b0005                   5.705586                 6.306120   \n",
       "b0006                   8.322390                 8.137515   \n",
       "...                          ...                      ...   \n",
       "b4688                   2.272005                 0.000000   \n",
       "b4693                   2.004397                 0.000000   \n",
       "b4696_1                 2.874401                 2.797063   \n",
       "b4696_2                 3.515160                 3.212986   \n",
       "b4705                   4.102990                 0.000000   \n",
       "\n",
       "         efeU__menFentC_ale30__2  efeU__menFentCubiC_ale36__1  \\\n",
       "log-TPM                                                         \n",
       "b0002                  11.170578                    11.676604   \n",
       "b0003                  10.392251                    10.916426   \n",
       "b0004                  10.723953                    11.143310   \n",
       "b0005                   6.291340                     5.058537   \n",
       "b0006                   8.071837                     7.354131   \n",
       "...                          ...                          ...   \n",
       "b4688                   1.283342                     1.355421   \n",
       "b4693                   0.333735                     3.202295   \n",
       "b4696_1                 2.578195                     2.734153   \n",
       "b4696_2                 3.012930                     2.597279   \n",
       "b4705                   2.471121                     1.794923   \n",
       "\n",
       "         efeU__menFentCubiC_ale36__2  efeU__menFentCubiC_ale37__1  \\\n",
       "log-TPM                                                             \n",
       "b0002                      11.726097                    11.881529   \n",
       "b0003                      10.909277                    11.023924   \n",
       "b0004                      11.112721                    11.184795   \n",
       "b0005                       4.835550                     5.448097   \n",
       "b0006                       7.365536                     7.328101   \n",
       "...                              ...                          ...   \n",
       "b4688                       1.167070                     1.734880   \n",
       "b4693                       3.001444                     3.105540   \n",
       "b4696_1                     2.718261                     3.100377   \n",
       "b4696_2                     3.731740                     3.460336   \n",
       "b4705                       2.306682                     1.508380   \n",
       "\n",
       "         efeU__menFentCubiC_ale37__2  efeU__menFentCubiC_ale38__1  \\\n",
       "log-TPM                                                             \n",
       "b0002                      11.923237                    11.496410   \n",
       "b0003                      11.038426                    10.624301   \n",
       "b0004                      11.241845                    10.953206   \n",
       "b0005                       5.757951                     5.873964   \n",
       "b0006                       7.314761                     8.057750   \n",
       "...                              ...                          ...   \n",
       "b4688                       1.007913                     0.000000   \n",
       "b4693                       3.091406                     3.380939   \n",
       "b4696_1                     3.021188                     3.225358   \n",
       "b4696_2                     3.696665                     3.483282   \n",
       "b4705                       1.379646                     0.000000   \n",
       "\n",
       "         efeU__menFentCubiC_ale38__2  \n",
       "log-TPM                               \n",
       "b0002                      11.552762  \n",
       "b0003                      10.764195  \n",
       "b0004                      11.001006  \n",
       "b0005                       5.808618  \n",
       "b0006                       8.105213  \n",
       "...                              ...  \n",
       "b4688                       1.545422  \n",
       "b4693                       3.171579  \n",
       "b4696_1                     3.401920  \n",
       "b4696_2                     3.818985  \n",
       "b4705                       0.000000  \n",
       "\n",
       "[3923 rows x 173 columns]"
      ]
     },
     "execution_count": 6,
     "metadata": {},
     "output_type": "execute_result"
    }
   ],
   "source": [
    "# expression_df"
   ]
  },
  {
   "cell_type": "code",
   "execution_count": null,
   "metadata": {},
   "outputs": [],
   "source": []
  },
  {
   "cell_type": "markdown",
   "metadata": {},
   "source": [
    "# Adventures in clustering"
   ]
  },
  {
   "cell_type": "code",
   "execution_count": 92,
   "metadata": {},
   "outputs": [],
   "source": [
    "import seaborn as sns\n",
    "from sklearn.cluster import AgglomerativeClustering, DBSCAN, OPTICS\n",
    "\n",
    "from scipy.cluster import hierarchy"
   ]
  },
  {
   "cell_type": "code",
   "execution_count": 10,
   "metadata": {},
   "outputs": [
    {
     "name": "stdout",
     "output_type": "stream",
     "text": [
      "(173, 173)\n"
     ]
    },
    {
     "data": {
      "text/html": [
       "<div>\n",
       "<style scoped>\n",
       "    .dataframe tbody tr th:only-of-type {\n",
       "        vertical-align: middle;\n",
       "    }\n",
       "\n",
       "    .dataframe tbody tr th {\n",
       "        vertical-align: top;\n",
       "    }\n",
       "\n",
       "    .dataframe thead th {\n",
       "        text-align: right;\n",
       "    }\n",
       "</style>\n",
       "<table border=\"1\" class=\"dataframe\">\n",
       "  <thead>\n",
       "    <tr style=\"text-align: right;\">\n",
       "      <th></th>\n",
       "      <th>fur__wt_fe__1</th>\n",
       "      <th>fur__wt_fe__2</th>\n",
       "      <th>fur__delfur_fe2__1</th>\n",
       "      <th>fur__delfur_fe2__2</th>\n",
       "      <th>omics__bw_ac__1</th>\n",
       "      <th>omics__bw_ac__2</th>\n",
       "      <th>omics__bw_fum__1</th>\n",
       "      <th>omics__bw_fum__2</th>\n",
       "      <th>omics__bw_glc__1</th>\n",
       "      <th>omics__bw_glc__2</th>\n",
       "      <th>...</th>\n",
       "      <th>efeU__menFentC_ale29__1</th>\n",
       "      <th>efeU__menFentC_ale29__2</th>\n",
       "      <th>efeU__menFentC_ale30__1</th>\n",
       "      <th>efeU__menFentC_ale30__2</th>\n",
       "      <th>efeU__menFentCubiC_ale36__1</th>\n",
       "      <th>efeU__menFentCubiC_ale36__2</th>\n",
       "      <th>efeU__menFentCubiC_ale37__1</th>\n",
       "      <th>efeU__menFentCubiC_ale37__2</th>\n",
       "      <th>efeU__menFentCubiC_ale38__1</th>\n",
       "      <th>efeU__menFentCubiC_ale38__2</th>\n",
       "    </tr>\n",
       "  </thead>\n",
       "  <tbody>\n",
       "    <tr>\n",
       "      <th>fur__wt_fe__1</th>\n",
       "      <td>1.000000</td>\n",
       "      <td>0.996052</td>\n",
       "      <td>0.963706</td>\n",
       "      <td>0.963485</td>\n",
       "      <td>0.920567</td>\n",
       "      <td>0.919894</td>\n",
       "      <td>0.915651</td>\n",
       "      <td>0.913602</td>\n",
       "      <td>0.960286</td>\n",
       "      <td>0.961679</td>\n",
       "      <td>...</td>\n",
       "      <td>0.849489</td>\n",
       "      <td>0.850144</td>\n",
       "      <td>0.922285</td>\n",
       "      <td>0.930598</td>\n",
       "      <td>0.932191</td>\n",
       "      <td>0.938081</td>\n",
       "      <td>0.938491</td>\n",
       "      <td>0.941269</td>\n",
       "      <td>0.929753</td>\n",
       "      <td>0.922834</td>\n",
       "    </tr>\n",
       "    <tr>\n",
       "      <th>fur__wt_fe__2</th>\n",
       "      <td>0.996052</td>\n",
       "      <td>1.000000</td>\n",
       "      <td>0.962703</td>\n",
       "      <td>0.962414</td>\n",
       "      <td>0.922900</td>\n",
       "      <td>0.922577</td>\n",
       "      <td>0.918324</td>\n",
       "      <td>0.916052</td>\n",
       "      <td>0.960037</td>\n",
       "      <td>0.961047</td>\n",
       "      <td>...</td>\n",
       "      <td>0.846393</td>\n",
       "      <td>0.846562</td>\n",
       "      <td>0.919817</td>\n",
       "      <td>0.927784</td>\n",
       "      <td>0.927515</td>\n",
       "      <td>0.933182</td>\n",
       "      <td>0.933412</td>\n",
       "      <td>0.936131</td>\n",
       "      <td>0.928705</td>\n",
       "      <td>0.920489</td>\n",
       "    </tr>\n",
       "    <tr>\n",
       "      <th>fur__delfur_fe2__1</th>\n",
       "      <td>0.963706</td>\n",
       "      <td>0.962703</td>\n",
       "      <td>1.000000</td>\n",
       "      <td>0.996905</td>\n",
       "      <td>0.912404</td>\n",
       "      <td>0.912958</td>\n",
       "      <td>0.904385</td>\n",
       "      <td>0.902055</td>\n",
       "      <td>0.950829</td>\n",
       "      <td>0.951698</td>\n",
       "      <td>...</td>\n",
       "      <td>0.834489</td>\n",
       "      <td>0.833750</td>\n",
       "      <td>0.888814</td>\n",
       "      <td>0.901731</td>\n",
       "      <td>0.940483</td>\n",
       "      <td>0.943393</td>\n",
       "      <td>0.945141</td>\n",
       "      <td>0.946351</td>\n",
       "      <td>0.904708</td>\n",
       "      <td>0.903937</td>\n",
       "    </tr>\n",
       "    <tr>\n",
       "      <th>fur__delfur_fe2__2</th>\n",
       "      <td>0.963485</td>\n",
       "      <td>0.962414</td>\n",
       "      <td>0.996905</td>\n",
       "      <td>1.000000</td>\n",
       "      <td>0.911173</td>\n",
       "      <td>0.911780</td>\n",
       "      <td>0.902446</td>\n",
       "      <td>0.899954</td>\n",
       "      <td>0.950618</td>\n",
       "      <td>0.951611</td>\n",
       "      <td>...</td>\n",
       "      <td>0.831461</td>\n",
       "      <td>0.830588</td>\n",
       "      <td>0.885028</td>\n",
       "      <td>0.897943</td>\n",
       "      <td>0.937434</td>\n",
       "      <td>0.941021</td>\n",
       "      <td>0.943259</td>\n",
       "      <td>0.944290</td>\n",
       "      <td>0.901277</td>\n",
       "      <td>0.900799</td>\n",
       "    </tr>\n",
       "    <tr>\n",
       "      <th>omics__bw_ac__1</th>\n",
       "      <td>0.920567</td>\n",
       "      <td>0.922900</td>\n",
       "      <td>0.912404</td>\n",
       "      <td>0.911173</td>\n",
       "      <td>1.000000</td>\n",
       "      <td>0.995248</td>\n",
       "      <td>0.966034</td>\n",
       "      <td>0.964484</td>\n",
       "      <td>0.939546</td>\n",
       "      <td>0.940523</td>\n",
       "      <td>...</td>\n",
       "      <td>0.815925</td>\n",
       "      <td>0.815722</td>\n",
       "      <td>0.873928</td>\n",
       "      <td>0.878444</td>\n",
       "      <td>0.880243</td>\n",
       "      <td>0.885515</td>\n",
       "      <td>0.882385</td>\n",
       "      <td>0.883436</td>\n",
       "      <td>0.870208</td>\n",
       "      <td>0.864737</td>\n",
       "    </tr>\n",
       "  </tbody>\n",
       "</table>\n",
       "<p>5 rows × 173 columns</p>\n",
       "</div>"
      ],
      "text/plain": [
       "                    fur__wt_fe__1  fur__wt_fe__2  fur__delfur_fe2__1  \\\n",
       "fur__wt_fe__1            1.000000       0.996052            0.963706   \n",
       "fur__wt_fe__2            0.996052       1.000000            0.962703   \n",
       "fur__delfur_fe2__1       0.963706       0.962703            1.000000   \n",
       "fur__delfur_fe2__2       0.963485       0.962414            0.996905   \n",
       "omics__bw_ac__1          0.920567       0.922900            0.912404   \n",
       "\n",
       "                    fur__delfur_fe2__2  omics__bw_ac__1  omics__bw_ac__2  \\\n",
       "fur__wt_fe__1                 0.963485         0.920567         0.919894   \n",
       "fur__wt_fe__2                 0.962414         0.922900         0.922577   \n",
       "fur__delfur_fe2__1            0.996905         0.912404         0.912958   \n",
       "fur__delfur_fe2__2            1.000000         0.911173         0.911780   \n",
       "omics__bw_ac__1               0.911173         1.000000         0.995248   \n",
       "\n",
       "                    omics__bw_fum__1  omics__bw_fum__2  omics__bw_glc__1  \\\n",
       "fur__wt_fe__1               0.915651          0.913602          0.960286   \n",
       "fur__wt_fe__2               0.918324          0.916052          0.960037   \n",
       "fur__delfur_fe2__1          0.904385          0.902055          0.950829   \n",
       "fur__delfur_fe2__2          0.902446          0.899954          0.950618   \n",
       "omics__bw_ac__1             0.966034          0.964484          0.939546   \n",
       "\n",
       "                    omics__bw_glc__2  ...  efeU__menFentC_ale29__1  \\\n",
       "fur__wt_fe__1               0.961679  ...                 0.849489   \n",
       "fur__wt_fe__2               0.961047  ...                 0.846393   \n",
       "fur__delfur_fe2__1          0.951698  ...                 0.834489   \n",
       "fur__delfur_fe2__2          0.951611  ...                 0.831461   \n",
       "omics__bw_ac__1             0.940523  ...                 0.815925   \n",
       "\n",
       "                    efeU__menFentC_ale29__2  efeU__menFentC_ale30__1  \\\n",
       "fur__wt_fe__1                      0.850144                 0.922285   \n",
       "fur__wt_fe__2                      0.846562                 0.919817   \n",
       "fur__delfur_fe2__1                 0.833750                 0.888814   \n",
       "fur__delfur_fe2__2                 0.830588                 0.885028   \n",
       "omics__bw_ac__1                    0.815722                 0.873928   \n",
       "\n",
       "                    efeU__menFentC_ale30__2  efeU__menFentCubiC_ale36__1  \\\n",
       "fur__wt_fe__1                      0.930598                     0.932191   \n",
       "fur__wt_fe__2                      0.927784                     0.927515   \n",
       "fur__delfur_fe2__1                 0.901731                     0.940483   \n",
       "fur__delfur_fe2__2                 0.897943                     0.937434   \n",
       "omics__bw_ac__1                    0.878444                     0.880243   \n",
       "\n",
       "                    efeU__menFentCubiC_ale36__2  efeU__menFentCubiC_ale37__1  \\\n",
       "fur__wt_fe__1                          0.938081                     0.938491   \n",
       "fur__wt_fe__2                          0.933182                     0.933412   \n",
       "fur__delfur_fe2__1                     0.943393                     0.945141   \n",
       "fur__delfur_fe2__2                     0.941021                     0.943259   \n",
       "omics__bw_ac__1                        0.885515                     0.882385   \n",
       "\n",
       "                    efeU__menFentCubiC_ale37__2  efeU__menFentCubiC_ale38__1  \\\n",
       "fur__wt_fe__1                          0.941269                     0.929753   \n",
       "fur__wt_fe__2                          0.936131                     0.928705   \n",
       "fur__delfur_fe2__1                     0.946351                     0.904708   \n",
       "fur__delfur_fe2__2                     0.944290                     0.901277   \n",
       "omics__bw_ac__1                        0.883436                     0.870208   \n",
       "\n",
       "                    efeU__menFentCubiC_ale38__2  \n",
       "fur__wt_fe__1                          0.922834  \n",
       "fur__wt_fe__2                          0.920489  \n",
       "fur__delfur_fe2__1                     0.903937  \n",
       "fur__delfur_fe2__2                     0.900799  \n",
       "omics__bw_ac__1                        0.864737  \n",
       "\n",
       "[5 rows x 173 columns]"
      ]
     },
     "execution_count": 10,
     "metadata": {},
     "output_type": "execute_result"
    }
   ],
   "source": [
    "#Spearman correlation of conditions\n",
    "condition_corr = expression_df.corr(method='spearman')\n",
    "print(condition_corr.shape)\n",
    "condition_corr.head()"
   ]
  },
  {
   "cell_type": "code",
   "execution_count": 43,
   "metadata": {},
   "outputs": [
    {
     "name": "stderr",
     "output_type": "stream",
     "text": [
      "/Users/adamhockenberry/anaconda3/lib/python3.7/site-packages/seaborn/matrix.py:649: UserWarning: Clustering large matrix with scipy. Installing `fastcluster` may give better performance.\n",
      "  warnings.warn(msg)\n"
     ]
    },
    {
     "data": {
      "image/png": "[encoded data removed]",
      "text/plain": [
       "<Figure size 720x720 with 4 Axes>"
      ]
     },
     "metadata": {
      "needs_background": "light"
     },
     "output_type": "display_data"
    }
   ],
   "source": [
    "g = sns.clustermap(condition_corr, yticklabels=False, xticklabels=False)"
   ]
  },
  {
   "cell_type": "code",
   "execution_count": 57,
   "metadata": {},
   "outputs": [
    {
     "data": {
      "text/plain": [
       "<seaborn.matrix._DendrogramPlotter at 0x7ffdd718f990>"
      ]
     },
     "execution_count": 57,
     "metadata": {},
     "output_type": "execute_result"
    }
   ],
   "source": [
    "g.dendrogram_col"
   ]
  },
  {
   "cell_type": "code",
   "execution_count": 147,
   "metadata": {},
   "outputs": [
    {
     "name": "stdout",
     "output_type": "stream",
     "text": [
      "[3 3 3 3 2 2 2 2 3 3 2 2 2 2 2 2 2 2 3 3 3 3 5 5 5 5 3 1 1 1 1 1 1 1 1 1 1\n",
      " 1 3 0 1 1 1 1 0 1 1 1 2 3 0 0 0 0 0 2 0 0 0 0 0 1 1 1 1 1 1 1 1 4 4 4 4 4\n",
      " 4 5 5 3 3 4 4 4 4 0 0 4 4 4 4 4 4 4 4 4 4 4 4 4 4 0 0 0 0 3 3 0 0 0 0 3 3\n",
      " 3 3 0 0 3 3 0 0 3 3 3 3 3 3 0 0 3 3 3 3 3 3 3 3 2 2 2 2 2 2 2 2 2 2 2 2 2\n",
      " 2 2 2 2 2 2 2 2 2 2 2 2 2 0 0 0 0 3 3 3 3 3 3 3 3]\n"
     ]
    }
   ],
   "source": [
    "cluster = AgglomerativeClustering(n_clusters=6, affinity='euclidean', linkage='ward')\n",
    "tempy = cluster.fit_predict(expression_df.T.values)\n",
    "print(tempy)"
   ]
  },
  {
   "cell_type": "code",
   "execution_count": 148,
   "metadata": {},
   "outputs": [
    {
     "name": "stdout",
     "output_type": "stream",
     "text": [
      "0\n",
      "32 0.7244062499999999\n",
      "1\n",
      "26 0.885769230769231\n",
      "2\n",
      "40 0.34063000000000004\n",
      "3\n",
      "45 0.6030033372444443\n",
      "4\n",
      "24 0.5344166666666667\n",
      "5\n",
      "6 1.0233333333333332\n"
     ]
    },
    {
     "data": {
      "image/png": "[encoded data removed]",
      "text/plain": [
       "<Figure size 432x288 with 1 Axes>"
      ]
     },
     "metadata": {
      "needs_background": "light"
     },
     "output_type": "display_data"
    }
   ],
   "source": [
    "bp_d = []\n",
    "for cluster_num in range(max(tempy)+1):\n",
    "    print(cluster_num)\n",
    "    ids = []\n",
    "    for i, entry in enumerate(tempy):\n",
    "        if entry == cluster_num:\n",
    "            ids.append(i)\n",
    "    print(len(ids), metadata_df.iloc[ids]['Growth Rate (1/hr)'].mean())\n",
    "    bp_d.append(metadata_df.iloc[ids]['Growth Rate (1/hr)'])\n",
    "    \n",
    "fig, ax = plt.subplots()\n",
    "ax.boxplot(bp_d);"
   ]
  },
  {
   "cell_type": "code",
   "execution_count": 153,
   "metadata": {},
   "outputs": [
    {
     "data": {
      "text/plain": [
       "Index(['Sample ID', 'Study', 'Project ID', 'Condition ID', 'Replicate #',\n",
       "       'Strain Description', 'Strain', 'Base Media', 'Carbon Source (g/L)',\n",
       "       'Nitrogen Source (g/L)', 'Electron Acceptor', 'Trace Element Mixture',\n",
       "       'Supplement', 'Temperature (C)', 'pH', 'Antibiotic', 'Culture Type',\n",
       "       'Growth Rate (1/hr)', 'Evolved Sample', 'Isolate Type',\n",
       "       'Sequencing Machine', 'Additional Details', 'Biological Replicates',\n",
       "       'Alignment', 'DOI', 'GEO'],\n",
       "      dtype='object')"
      ]
     },
     "execution_count": 153,
     "metadata": {},
     "output_type": "execute_result"
    }
   ],
   "source": [
    "metadata_df.columns"
   ]
  },
  {
   "cell_type": "code",
   "execution_count": 155,
   "metadata": {},
   "outputs": [
    {
     "data": {
      "text/plain": [
       "glucose(2)                70\n",
       "glucose(4)                36\n",
       "m-tartrate(2)              8\n",
       "D-arabinose(2)             6\n",
       "xylose(4)                  5\n",
       "D-lyxose(2)                5\n",
       "acetate(2)                 4\n",
       "pyruvate(3.3)              4\n",
       "fructose(2)                4\n",
       "D-2-deoxyribose(2)         3\n",
       "glucose(5)                 2\n",
       "glycerol(2.5)              2\n",
       "gluconate(4)               2\n",
       "D-ribose(4)                2\n",
       "acetate(4)                 2\n",
       "glucarate(4)               2\n",
       "sorbitol(4)                2\n",
       "acetate(3.5)               2\n",
       "N-acetylglucosamine(4)     2\n",
       "galactose(4)               2\n",
       "fumarate(2.8)              2\n",
       "Name: Carbon Source (g/L), dtype: int64"
      ]
     },
     "execution_count": 155,
     "metadata": {},
     "output_type": "execute_result"
    }
   ],
   "source": [
    "metadata_df['Carbon Source (g/L)'].value_counts()"
   ]
  },
  {
   "cell_type": "markdown",
   "metadata": {},
   "source": [
    "# tempy"
   ]
  },
  {
   "cell_type": "code",
   "execution_count": null,
   "metadata": {},
   "outputs": [],
   "source": []
  },
  {
   "cell_type": "code",
   "execution_count": 93,
   "metadata": {},
   "outputs": [
    {
     "data": {
      "text/plain": [
       "array([ 0,  0,  0,  0,  0,  0,  0,  0,  0,  0,  0,  0,  1,  1,  1,  1,  2,\n",
       "        2,  0,  0,  0,  0,  3,  3,  3,  3,  0,  4,  4,  5,  5,  6,  7,  7,\n",
       "        7,  6,  6,  6,  8,  9,  7,  7, 10,  7, 11, 10,  7, 10, 12, 13, 14,\n",
       "       15, 16, 16, 17, 18, 19, 20, 21, 22, 23, 24, 25, 26, 25, 25, 25, 25,\n",
       "       25, 27, 27, 27, 27, 28, 28, 29, 29, 30, 30, 31, 31, 27, 27, 32, 32,\n",
       "       27, 27, 33, 33, 27, 27, 27, 27, 27, 27, 27, 27, 27, 27,  0,  0,  0,\n",
       "        0,  0,  0,  0,  0,  0,  0,  0,  0,  0,  0,  0,  0,  0,  0,  0,  0,\n",
       "        0,  0,  0,  0,  0,  0,  0,  0,  0,  0,  0,  0,  0,  0,  0,  0, 34,\n",
       "       34, 34, 34, 35, 36, 36, 36, 36, 37, 37, 38, 39, 39, 39, 39, 40, 40,\n",
       "       41, 41, 41, 41, 42, 42, 43, 43, 44, 44, 45, 45, 46, 46,  0,  0,  0,\n",
       "        0, 47, 47])"
      ]
     },
     "execution_count": 93,
     "metadata": {},
     "output_type": "execute_result"
    }
   ],
   "source": [
    "cluster = DBSCAN(eps=50, min_samples=1)\n",
    "cluster.fit_predict(expression_df.T.values)"
   ]
  },
  {
   "cell_type": "code",
   "execution_count": 95,
   "metadata": {},
   "outputs": [
    {
     "name": "stderr",
     "output_type": "stream",
     "text": [
      "/Users/adamhockenberry/anaconda3/lib/python3.7/site-packages/sklearn/cluster/_optics.py:804: RuntimeWarning: divide by zero encountered in true_divide\n",
      "  ratio = reachability_plot[:-1] / reachability_plot[1:]\n"
     ]
    },
    {
     "data": {
      "text/plain": [
       "array([ 0,  0, 22, 22, 21, 21, 20, 20, 18, 18, 19, 19, 45, 45, 46, 46, 53,\n",
       "       53,  7,  7,  6,  6, 65, 65, 64, 64,  0, 54, 54, 63, 63, 37, -1, -1,\n",
       "       -1, 37, 37, 37, -1, -1, -1, 35, 36, 35, -1, 36, 35, 36, -1, -1, -1,\n",
       "       -1, 58, 58, -1, -1, -1, -1, -1, -1, -1, -1, 40, -1, 40, 39, 39, 39,\n",
       "       39, 29, 29, 26, 26, 44, 44, 67, 67, 66, 66, 38, 38, 30, 30, 62, 62,\n",
       "       28, 28, 43, 43, 31, 31, 27, 27, 32, 32, 33, 33, 34, 34, 11, 11, 13,\n",
       "       13, 15, 15, 14, 14, 12, 12,  4,  4,  5,  5, -1, -1,  1,  1, 11, -1,\n",
       "        3,  3,  5,  5,  2,  2, -1, -1,  8,  8,  9,  9, 10, 10, 23, 23, 41,\n",
       "       41, 42, 42, -1, 60, 61, 60, 61, 59, 59, 59, 49, 49, 50, 50, 51, 51,\n",
       "       56, 56, 57, 57, 55, 55, 52, 52, 47, 47, 48, 48, 25, 25, 17, 17, 16,\n",
       "       16, 24, 24])"
      ]
     },
     "execution_count": 95,
     "metadata": {},
     "output_type": "execute_result"
    }
   ],
   "source": [
    "cluster = OPTICS(min_samples=2)\n",
    "cluster.fit_predict(expression_df.T.values)"
   ]
  },
  {
   "cell_type": "code",
   "execution_count": null,
   "metadata": {},
   "outputs": [],
   "source": []
  },
  {
   "cell_type": "code",
   "execution_count": null,
   "metadata": {},
   "outputs": [],
   "source": []
  }
 ],
 "metadata": {
  "kernelspec": {
   "display_name": "Python 3",
   "language": "python",
   "name": "python3"
  },
  "language_info": {
   "codemirror_mode": {
    "name": "ipython",
    "version": 3
   },
   "file_extension": ".py",
   "mimetype": "text/x-python",
   "name": "python",
   "nbconvert_exporter": "python",
   "pygments_lexer": "ipython3",
   "version": "3.7.7"
  },
  "toc": {
   "colors": {
    "hover_highlight": "#DAA520",
    "navigate_num": "#000000",
    "navigate_text": "#333333",
    "running_highlight": "#FF0000",
    "selected_highlight": "#FFD700",
    "sidebar_border": "#EEEEEE",
    "wrapper_background": "#FFFFFF"
   },
   "moveMenuLeft": true,
   "nav_menu": {
    "height": "12px",
    "width": "252px"
   },
   "navigate_menu": true,
   "number_sections": true,
   "sideBar": true,
   "threshold": 4,
   "toc_cell": false,
   "toc_section_display": "block",
   "toc_window_display": false,
   "widenNotebook": false
  }
 },
 "nbformat": 4,
 "nbformat_minor": 4
}
