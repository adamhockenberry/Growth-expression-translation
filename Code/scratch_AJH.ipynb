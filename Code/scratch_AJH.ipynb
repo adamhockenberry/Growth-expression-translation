{
 "cells": [
  {
   "cell_type": "code",
   "execution_count": 1,
   "metadata": {},
   "outputs": [],
   "source": [
    "%matplotlib inline"
   ]
  },
  {
   "cell_type": "code",
   "execution_count": 2,
   "metadata": {},
   "outputs": [],
   "source": [
    "import pandas as pd\n",
    "import numpy as np\n",
    "from scipy import stats\n",
    "\n",
    "import matplotlib.pyplot as plt"
   ]
  },
  {
   "cell_type": "code",
   "execution_count": 3,
   "metadata": {},
   "outputs": [],
   "source": [
    "rnaseq_file = '../Data/raw_data/41467_2019_13483_MOESM4_ESM.xlsx'"
   ]
  },
  {
   "cell_type": "markdown",
   "metadata": {},
   "source": [
    "# Basic data processing"
   ]
  },
  {
   "cell_type": "code",
   "execution_count": 4,
   "metadata": {},
   "outputs": [
    {
     "name": "stdout",
     "output_type": "stream",
     "text": [
      "(278, 26)\n",
      "(195, 26)\n",
      "(179, 26)\n",
      "(173, 26)\n"
     ]
    }
   ],
   "source": [
    "metadata_df = pd.read_excel(rnaseq_file, sheet_name='Metadata')\n",
    "print(metadata_df.shape)\n",
    "metadata_df = metadata_df[metadata_df['Growth Rate (1/hr)'].isnull() == False]\n",
    "print(metadata_df.shape)\n",
    "metadata_df = metadata_df[metadata_df['Growth Rate (1/hr)'] > 0.0]\n",
    "print(metadata_df.shape)\n",
    "metadata_df = metadata_df[metadata_df['Alignment'] > 80]\n",
    "print(metadata_df.shape)"
   ]
  },
  {
   "cell_type": "code",
   "execution_count": 5,
   "metadata": {},
   "outputs": [
    {
     "name": "stdout",
     "output_type": "stream",
     "text": [
      "(3923, 278)\n",
      "(3923, 173)\n"
     ]
    }
   ],
   "source": [
    "expression_df = pd.read_excel(rnaseq_file, sheet_name='Expression Data', index_col=0)\n",
    "print(expression_df.shape)\n",
    "expression_df = expression_df[metadata_df['Sample ID']]\n",
    "print(expression_df.shape)\n",
    "assert list(metadata_df['Sample ID']) == list(expression_df.columns)"
   ]
  },
  {
   "cell_type": "code",
   "execution_count": null,
   "metadata": {},
   "outputs": [],
   "source": []
  },
  {
   "cell_type": "markdown",
   "metadata": {},
   "source": [
    "# Dimensionality reduction techniques to assess associations with growth rate\n",
    "\n",
    "What we're \\*trying\\* to do here is say that 4,xyz genes is simply too many to deal with. Can we condense these numbers into a more limited number of dimensions and then ask whether variation in any of those transformed dimensions are associated with growth rate?\n",
    "\n",
    "\"Limited\" is arbitrary, so we can change the number of principal components to include/consider as well as the transformation kernel.\n",
    "\n",
    "*Something else to consider is how and whether to standardize the values which can help with PCA in general.*"
   ]
  },
  {
   "cell_type": "code",
   "execution_count": 46,
   "metadata": {},
   "outputs": [],
   "source": [
    "from sklearn.decomposition import PCA, KernelPCA\n",
    "from scipy.stats import zscore"
   ]
  },
  {
   "cell_type": "code",
   "execution_count": 86,
   "metadata": {},
   "outputs": [
    {
     "name": "stdout",
     "output_type": "stream",
     "text": [
      "PCA variance:\t\t [0.17868669 0.14011406 0.10637011 0.0797626  0.07526526 0.03916571\n",
      " 0.02618565 0.02432209 0.02130139 0.01878229]\n",
      "PCA variance by hand:\t [0.17868669 0.14011406 0.10637011 0.0797626  0.07526526 0.03916571\n",
      " 0.02618565 0.02432209 0.02130139 0.01878229]\n",
      "\n",
      "Total PCA variance: 0.7099558503558325\n",
      "\n",
      "PCA shape: (173, 10)\n",
      "\n",
      "Correlations with growth rate (PCA index, correlation results):\n",
      "0 SpearmanrResult(correlation=-0.5117343892094286, pvalue=6.225942957627076e-13)\n",
      "1 SpearmanrResult(correlation=0.42290201397067795, pvalue=6.7766152271492115e-09)\n",
      "2 SpearmanrResult(correlation=0.1440604895186832, pvalue=0.05862980753303296)\n",
      "3 SpearmanrResult(correlation=-0.2508107322809927, pvalue=0.0008736270685379527)\n",
      "4 SpearmanrResult(correlation=0.2660693782156894, pvalue=0.0004028320340034326)\n",
      "5 SpearmanrResult(correlation=-0.062950753436428, pvalue=0.4106207099696768)\n",
      "6 SpearmanrResult(correlation=0.07572869570932637, pvalue=0.32204837211234844)\n",
      "7 SpearmanrResult(correlation=-0.08615112871083497, pvalue=0.2597326999057589)\n",
      "8 SpearmanrResult(correlation=0.05893873690676264, pvalue=0.4411409491699332)\n",
      "9 SpearmanrResult(correlation=-0.20322643105989094, pvalue=0.00732508784684926)\n"
     ]
    }
   ],
   "source": [
    "pca = PCA(n_components=10)\n",
    "pca_transform = pca.fit_transform(expression_df.T.values)\n",
    "print('PCA variance:\\t\\t', pca.explained_variance_ratio_)\n",
    "\n",
    "explained_variance = np.var(expression_df.values.T, axis=0)\n",
    "explained_variance_ratio = np.var(pca_transform, axis=0) / np.sum(explained_variance)\n",
    "print('PCA variance by hand:\\t', explained_variance_ratio)\n",
    "print()\n",
    "print('Total PCA variance:', np.sum(explained_variance_ratio))\n",
    "print()\n",
    "print('PCA shape:', pca_transform.shape)\n",
    "print()\n",
    "print('Correlations with growth rate (PCA index, correlation results):')\n",
    "for i in range(pca_transform.shape[1]):\n",
    "    print(i, stats.spearmanr(pca_transform[:,i], metadata_df['Growth Rate (1/hr)']))"
   ]
  },
  {
   "cell_type": "code",
   "execution_count": 88,
   "metadata": {},
   "outputs": [
    {
     "name": "stdout",
     "output_type": "stream",
     "text": [
      "kPCA variance by hand:\t [0.22137642 0.15666793 0.12812853 0.08702408 0.08588262 0.04405961\n",
      " 0.03025579 0.02938363 0.0254857  0.02341422]\n",
      "\n",
      "Total kPCA variance: 0.8316785388405309\n",
      "\n",
      "kPCA shape: (173, 10)\n",
      "\n",
      "Correlations with growth rate (kPCA index, correlation results):\n",
      "0 SpearmanrResult(correlation=-0.5635074126578996, pvalue=6.95402396193613e-16)\n",
      "1 SpearmanrResult(correlation=0.40019499724697244, pvalue=4.888958179680638e-08)\n",
      "2 SpearmanrResult(correlation=0.14161787558415245, pvalue=0.06308854802402486)\n",
      "3 SpearmanrResult(correlation=-0.11693258434123675, pvalue=0.1254930844860409)\n",
      "4 SpearmanrResult(correlation=0.3182866622418923, pvalue=1.9760985790149936e-05)\n",
      "5 SpearmanrResult(correlation=-0.08651038272681646, pvalue=0.2577435327041751)\n",
      "6 SpearmanrResult(correlation=0.058127224422858205, pvalue=0.44746726215372623)\n",
      "7 SpearmanrResult(correlation=-0.1619967166290202, pvalue=0.03322343198648699)\n",
      "8 SpearmanrResult(correlation=0.036547445987633084, pvalue=0.6330906819709623)\n",
      "9 SpearmanrResult(correlation=-0.10086946714221902, pvalue=0.18667381750581272)\n"
     ]
    }
   ],
   "source": [
    "kpca = KernelPCA(n_components=10, kernel='poly')\n",
    "kpca_transform = kpca.fit_transform(expression_df.values.T)\n",
    "explained_variance = np.var(expression_df.values.T, axis=0)\n",
    "explained_variance_ratio = np.var(kpca_transform, axis=0) / np.sum(explained_variance)\n",
    "print('kPCA variance by hand:\\t', explained_variance_ratio)\n",
    "print()\n",
    "print('Total kPCA variance:', np.sum(explained_variance_ratio))\n",
    "print()\n",
    "print('kPCA shape:', kpca_transform.shape)\n",
    "print()\n",
    "print('Correlations with growth rate (kPCA index, correlation results):')\n",
    "for i in range(kpca_transform.shape[1]):\n",
    "    print(i, stats.spearmanr(kpca_transform[:,i], metadata_df['Growth Rate (1/hr)']))"
   ]
  },
  {
   "cell_type": "code",
   "execution_count": null,
   "metadata": {},
   "outputs": [],
   "source": []
  },
  {
   "cell_type": "markdown",
   "metadata": {},
   "source": [
    "**And just for fun, trying dimensionality reduction with a neural network based autoencoder**\n",
    "\n",
    "But I'm still not sure how to preserve variance and thus quantify the success of an autoencoder"
   ]
  },
  {
   "cell_type": "code",
   "execution_count": 89,
   "metadata": {},
   "outputs": [
    {
     "name": "stdout",
     "output_type": "stream",
     "text": [
      "2.2.0\n",
      "2.3.0-tf\n"
     ]
    }
   ],
   "source": [
    "import tensorflow as tf\n",
    "assert tf.__version__ >= \"2.0\"\n",
    "print(tf.__version__)\n",
    "tf.config.threading.set_intra_op_parallelism_threads(1)\n",
    "tf.config.threading.set_inter_op_parallelism_threads(1)\n",
    "tf.random.set_seed(42)\n",
    "\n",
    "from tensorflow import keras\n",
    "print(keras.__version__)\n",
    "\n",
    "from tensorflow.keras import layers\n",
    "\n",
    "from sklearn.preprocessing import minmax_scale\n",
    "from sklearn.model_selection import train_test_split"
   ]
  },
  {
   "cell_type": "code",
   "execution_count": 114,
   "metadata": {},
   "outputs": [
    {
     "name": "stdout",
     "output_type": "stream",
     "text": [
      "(173, 3923) (138, 3923) (35, 3923)\n",
      "(173, 3923) (138, 3923) (35, 3923)\n"
     ]
    }
   ],
   "source": [
    "X_all = expression_df.values.T\n",
    "X_train, X_val = train_test_split(X_all, train_size = 0.8, random_state = 42)\n",
    "\n",
    "print(X_all.shape, X_train.shape, X_val.shape)\n",
    "\n",
    "# X_train = minmax_scale(X_train, axis = 0)\n",
    "# X_val = minmax_scale(X_val, axis = 0)\n",
    "print(X_all.shape, X_train.shape, X_val.shape)"
   ]
  },
  {
   "cell_type": "code",
   "execution_count": 129,
   "metadata": {},
   "outputs": [],
   "source": [
    "# reduce to xyz features\n",
    "encoding_dim = 10\n",
    "\n",
    "input_df = layers.Input(shape=(X_all.shape[1],))\n",
    "encoded = layers.Dense(encoding_dim, activation='elu')(input_df)\n",
    "# encoded = layers.Dense(encoding_dim, activation='linear')(encoded)\n",
    "# encoded = layers.Dense(encoding_dim*2, activation='elu')(encoded)\n",
    "# encoded = layers.BatchNormalization()(encoded)\n",
    "encoded = layers.Dropout(0.5)(encoded)\n",
    "decoded = layers.Dense(X_all.shape[1], activation='sigmoid')(encoded)\n",
    "\n",
    "# encoder\n",
    "autoencoder = keras.Model(input_df, decoded)\n",
    "\n",
    "# intermediate result\n",
    "encoder = keras.Model(input_df, encoded)\n",
    "\n",
    "autoencoder.compile(optimizer='sgd', loss='mean_squared_error')\n",
    "\n",
    "autoencoder.fit(X_train, X_train,\n",
    "                epochs=10,\n",
    "                batch_size=32,\n",
    "                validation_data=(X_val, X_val),\n",
    "                verbose=0);"
   ]
  },
  {
   "cell_type": "code",
   "execution_count": 130,
   "metadata": {},
   "outputs": [
    {
     "name": "stdout",
     "output_type": "stream",
     "text": [
      "(173, 10)\n",
      "0 SpearmanrResult(correlation=-0.4512910012031265, pvalue=4.621554132604088e-10)\n",
      "1 SpearmanrResult(correlation=-0.4436773275345793, pvalue=9.731263713955468e-10)\n",
      "2 SpearmanrResult(correlation=0.015772174776835273, pvalue=0.8368225834740041)\n",
      "3 SpearmanrResult(correlation=0.1544121846745052, pvalue=0.04251601180115212)\n",
      "4 SpearmanrResult(correlation=-0.2587246406450567, pvalue=0.0005881258799288646)\n",
      "5 SpearmanrResult(correlation=-0.5152815636043364, pvalue=4.051435625928383e-13)\n",
      "6 SpearmanrResult(correlation=-0.4246106855582904, pvalue=5.805249083969e-09)\n",
      "7 SpearmanrResult(correlation=0.0021653992711398126, pvalue=0.9774428712790408)\n",
      "8 SpearmanrResult(correlation=-0.2475046730083531, pvalue=0.0010269118436698496)\n",
      "9 SpearmanrResult(correlation=-0.37757584860620375, pvalue=3.0380133222915266e-07)\n"
     ]
    }
   ],
   "source": [
    "encoded_X_all = encoder.predict(X_all)\n",
    "print(encoded_X_all.shape)\n",
    "for i in range(encoding_dim):\n",
    "    print(i, stats.spearmanr(encoded_X_all[:,i], metadata_df['Growth Rate (1/hr)']))"
   ]
  },
  {
   "cell_type": "code",
   "execution_count": null,
   "metadata": {},
   "outputs": [],
   "source": []
  },
  {
   "cell_type": "markdown",
   "metadata": {},
   "source": [
    "# Assess individual gene correlations with growth rate\n",
    " \n",
    "How about clustering genes together?\n",
    "\n",
    "Also there are some slight statistical issues here with treating replicates as independent experiments (they shouldn't be)"
   ]
  },
  {
   "cell_type": "code",
   "execution_count": 146,
   "metadata": {},
   "outputs": [
    {
     "data": {
      "text/plain": [
       "<matplotlib.axes._subplots.AxesSubplot at 0x7fbaef92d3d0>"
      ]
     },
     "execution_count": 146,
     "metadata": {},
     "output_type": "execute_result"
    },
    {
     "data": {
      "image/png": "[encoded data removed]",
      "text/plain": [
       "<Figure size 432x288 with 1 Axes>"
      ]
     },
     "metadata": {
      "needs_background": "light"
     },
     "output_type": "display_data"
    }
   ],
   "source": [
    "metadata_df['Growth Rate (1/hr)'].hist()"
   ]
  },
  {
   "cell_type": "code",
   "execution_count": 147,
   "metadata": {},
   "outputs": [],
   "source": [
    "tempy = []\n",
    "for index in expression_df.index:\n",
    "    rho, p = stats.spearmanr(expression_df.loc[index], metadata_df['Growth Rate (1/hr)'])\n",
    "    tempy.append((index, rho, p))\n",
    "tempy.sort(key=lambda x: x[1])"
   ]
  },
  {
   "cell_type": "code",
   "execution_count": 148,
   "metadata": {},
   "outputs": [
    {
     "data": {
      "text/plain": [
       "Text(0, 0.5, \"Spearman's rho correlation\\n(expression vs growth)\")"
      ]
     },
     "execution_count": 148,
     "metadata": {},
     "output_type": "execute_result"
    },
    {
     "data": {
      "image/png": "[encoded data removed]",
      "text/plain": [
       "<Figure size 432x288 with 1 Axes>"
      ]
     },
     "metadata": {
      "needs_background": "light"
     },
     "output_type": "display_data"
    }
   ],
   "source": [
    "fig, ax = plt.subplots()\n",
    "ax.plot([i[1] for i in tempy])\n",
    "ax.axhline(0, c='k')\n",
    "ax.set_xlabel('Rank index of genes')\n",
    "ax.set_ylabel('Spearman\\'s rho correlation\\n(expression vs growth)')"
   ]
  },
  {
   "cell_type": "markdown",
   "metadata": {},
   "source": [
    "**How about total reads?**"
   ]
  },
  {
   "cell_type": "code",
   "execution_count": 149,
   "metadata": {},
   "outputs": [
    {
     "data": {
      "text/plain": [
       "<matplotlib.collections.PathCollection at 0x7fbaec79fe50>"
      ]
     },
     "execution_count": 149,
     "metadata": {},
     "output_type": "execute_result"
    },
    {
     "data": {
      "image/png": "[encoded data removed]",
      "text/plain": [
       "<Figure size 432x288 with 1 Axes>"
      ]
     },
     "metadata": {
      "needs_background": "light"
     },
     "output_type": "display_data"
    }
   ],
   "source": [
    "a = metadata_df['Growth Rate (1/hr)']\n",
    "b = expression_df.sum()\n",
    "\n",
    "fig, ax = plt.subplots()\n",
    "ax.scatter(a,b)"
   ]
  },
  {
   "cell_type": "code",
   "execution_count": null,
   "metadata": {},
   "outputs": [],
   "source": []
  },
  {
   "cell_type": "markdown",
   "metadata": {},
   "source": [
    "# Incorporating external data sources"
   ]
  },
  {
   "cell_type": "code",
   "execution_count": 152,
   "metadata": {},
   "outputs": [
    {
     "name": "stdout",
     "output_type": "stream",
     "text": [
      "(4355, 13)\n",
      "(4310, 13)\n",
      "(4310, 13)\n",
      "(4310, 13)\n",
      "(4310, 13)\n",
      "(4310, 13)\n"
     ]
    }
   ],
   "source": [
    "other_df = pd.read_csv('../Data/ecoli_info/temp_ecoli_master_table.tsv', sep='\\t', index_col=0)\n",
    "print(other_df.shape)\n",
    "other_df = other_df[other_df['CAI'].isnull()==False]\n",
    "print(other_df.shape)\n",
    "other_df = other_df[other_df['roc_semppr_mean'].isnull()==False]\n",
    "print(other_df.shape)\n",
    "other_df = other_df[other_df['iCUB'].isnull()==False]\n",
    "print(other_df.shape)\n",
    "other_df = other_df[other_df['tAI'].isnull()==False]\n",
    "print(other_df.shape)\n",
    "other_df = other_df[other_df['stAIcalc'].isnull()==False]\n",
    "print(other_df.shape)"
   ]
  },
  {
   "cell_type": "code",
   "execution_count": 153,
   "metadata": {
    "scrolled": true
   },
   "outputs": [
    {
     "data": {
      "text/html": [
       "<div>\n",
       "<style scoped>\n",
       "    .dataframe tbody tr th:only-of-type {\n",
       "        vertical-align: middle;\n",
       "    }\n",
       "\n",
       "    .dataframe tbody tr th {\n",
       "        vertical-align: top;\n",
       "    }\n",
       "\n",
       "    .dataframe thead th {\n",
       "        text-align: right;\n",
       "    }\n",
       "</style>\n",
       "<table border=\"1\" class=\"dataframe\">\n",
       "  <thead>\n",
       "    <tr style=\"text-align: right;\">\n",
       "      <th></th>\n",
       "      <th>gene</th>\n",
       "      <th>start_loc</th>\n",
       "      <th>stop_loc</th>\n",
       "      <th>strand</th>\n",
       "      <th>cds_seq</th>\n",
       "      <th>us_seq</th>\n",
       "      <th>well_behaved</th>\n",
       "      <th>GC_percent_cds</th>\n",
       "      <th>roc_semppr_mean</th>\n",
       "      <th>iCUB</th>\n",
       "      <th>CAI</th>\n",
       "      <th>tAI</th>\n",
       "      <th>stAIcalc</th>\n",
       "    </tr>\n",
       "    <tr>\n",
       "      <th>locus_tag</th>\n",
       "      <th></th>\n",
       "      <th></th>\n",
       "      <th></th>\n",
       "      <th></th>\n",
       "      <th></th>\n",
       "      <th></th>\n",
       "      <th></th>\n",
       "      <th></th>\n",
       "      <th></th>\n",
       "      <th></th>\n",
       "      <th></th>\n",
       "      <th></th>\n",
       "      <th></th>\n",
       "    </tr>\n",
       "  </thead>\n",
       "  <tbody>\n",
       "    <tr>\n",
       "      <th>b0001</th>\n",
       "      <td>thrL</td>\n",
       "      <td>189</td>\n",
       "      <td>255</td>\n",
       "      <td>+</td>\n",
       "      <td>ATGAAACGCATTAGCACCACCATTACCACCACCATCACCATTACCA...</td>\n",
       "      <td>CAGATAAAAATTACAGAGTACACAACATCC</td>\n",
       "      <td>True</td>\n",
       "      <td>0.515152</td>\n",
       "      <td>1.244106</td>\n",
       "      <td>32.046035</td>\n",
       "      <td>0.617266</td>\n",
       "      <td>0.262286</td>\n",
       "      <td>0.258417</td>\n",
       "    </tr>\n",
       "    <tr>\n",
       "      <th>b0002</th>\n",
       "      <td>thrA</td>\n",
       "      <td>336</td>\n",
       "      <td>2799</td>\n",
       "      <td>+</td>\n",
       "      <td>ATGCGAGTGTTGAAGTTCGGCGGTACATCAGTGGCAAATGCAGAAC...</td>\n",
       "      <td>TTTTCGACCAAAGGTAACGAGGTAACAACC</td>\n",
       "      <td>True</td>\n",
       "      <td>0.530654</td>\n",
       "      <td>1.034078</td>\n",
       "      <td>55.949262</td>\n",
       "      <td>0.353246</td>\n",
       "      <td>0.230564</td>\n",
       "      <td>0.216862</td>\n",
       "    </tr>\n",
       "    <tr>\n",
       "      <th>b0003</th>\n",
       "      <td>thrB</td>\n",
       "      <td>2800</td>\n",
       "      <td>3733</td>\n",
       "      <td>+</td>\n",
       "      <td>ATGGTTAAAGTTTATGCCCCGGCTTCCAGTGCCAATATGAGCGTCG...</td>\n",
       "      <td>GTACCCTCTCATGGAAGTTAGGAGTCTGAC</td>\n",
       "      <td>True</td>\n",
       "      <td>0.562701</td>\n",
       "      <td>0.994168</td>\n",
       "      <td>56.062386</td>\n",
       "      <td>0.357812</td>\n",
       "      <td>0.216292</td>\n",
       "      <td>0.210420</td>\n",
       "    </tr>\n",
       "    <tr>\n",
       "      <th>b0004</th>\n",
       "      <td>thrC</td>\n",
       "      <td>3733</td>\n",
       "      <td>5020</td>\n",
       "      <td>+</td>\n",
       "      <td>ATGAAACTCTACAATCTGAAAGATCACAACGAGCAGGTCAGCTTTG...</td>\n",
       "      <td>ACGGCGGGCGCACGAGTACTGGAAAACTAA</td>\n",
       "      <td>True</td>\n",
       "      <td>0.528361</td>\n",
       "      <td>1.176750</td>\n",
       "      <td>53.052776</td>\n",
       "      <td>0.394675</td>\n",
       "      <td>0.231407</td>\n",
       "      <td>0.209784</td>\n",
       "    </tr>\n",
       "    <tr>\n",
       "      <th>b0005</th>\n",
       "      <td>yaaX</td>\n",
       "      <td>5233</td>\n",
       "      <td>5530</td>\n",
       "      <td>+</td>\n",
       "      <td>GTGAAAAAGATGCAATCTATCGTACTCGCACTTTCCCTGGTTCTGG...</td>\n",
       "      <td>CATAACGGGCAATGATAAAAGGAGTAACCT</td>\n",
       "      <td>True</td>\n",
       "      <td>0.538721</td>\n",
       "      <td>0.837528</td>\n",
       "      <td>50.705530</td>\n",
       "      <td>0.374371</td>\n",
       "      <td>0.197715</td>\n",
       "      <td>0.208944</td>\n",
       "    </tr>\n",
       "    <tr>\n",
       "      <th>...</th>\n",
       "      <td>...</td>\n",
       "      <td>...</td>\n",
       "      <td>...</td>\n",
       "      <td>...</td>\n",
       "      <td>...</td>\n",
       "      <td>...</td>\n",
       "      <td>...</td>\n",
       "      <td>...</td>\n",
       "      <td>...</td>\n",
       "      <td>...</td>\n",
       "      <td>...</td>\n",
       "      <td>...</td>\n",
       "      <td>...</td>\n",
       "    </tr>\n",
       "    <tr>\n",
       "      <th>b4399</th>\n",
       "      <td>creC</td>\n",
       "      <td>4636695</td>\n",
       "      <td>4638120</td>\n",
       "      <td>+</td>\n",
       "      <td>ATGCGTATCGGCATGCGGTTGTTGCTGGGCTATTTTTTACTGGTGG...</td>\n",
       "      <td>CGGCATGGGATATAGCCTGAGGGGCCTGTA</td>\n",
       "      <td>True</td>\n",
       "      <td>0.538947</td>\n",
       "      <td>0.829794</td>\n",
       "      <td>55.967103</td>\n",
       "      <td>0.293537</td>\n",
       "      <td>0.212672</td>\n",
       "      <td>0.206721</td>\n",
       "    </tr>\n",
       "    <tr>\n",
       "      <th>b4400</th>\n",
       "      <td>creD</td>\n",
       "      <td>4638177</td>\n",
       "      <td>4639530</td>\n",
       "      <td>+</td>\n",
       "      <td>ATGTTGAAATCCCCCCTGTTCTGGAAAATGACTAGCCTGTTTGGTG...</td>\n",
       "      <td>TATCCTGCTGCCATTGCAAAGGAGAAGACT</td>\n",
       "      <td>True</td>\n",
       "      <td>0.495935</td>\n",
       "      <td>0.739848</td>\n",
       "      <td>54.634345</td>\n",
       "      <td>0.288635</td>\n",
       "      <td>0.210078</td>\n",
       "      <td>0.199677</td>\n",
       "    </tr>\n",
       "    <tr>\n",
       "      <th>b4401</th>\n",
       "      <td>arcA</td>\n",
       "      <td>4639589</td>\n",
       "      <td>4640306</td>\n",
       "      <td>-</td>\n",
       "      <td>ATGCAGACCCCGCACATTCTTATCGTTGAAGACGAGTTGGTAACAC...</td>\n",
       "      <td>TCGATTTAGTTGGCAATTTAGGTAGCAAAC</td>\n",
       "      <td>True</td>\n",
       "      <td>0.510460</td>\n",
       "      <td>1.676448</td>\n",
       "      <td>48.981781</td>\n",
       "      <td>0.530773</td>\n",
       "      <td>0.275348</td>\n",
       "      <td>0.239921</td>\n",
       "    </tr>\n",
       "    <tr>\n",
       "      <th>b4402</th>\n",
       "      <td>yjjY</td>\n",
       "      <td>4640401</td>\n",
       "      <td>4640542</td>\n",
       "      <td>+</td>\n",
       "      <td>ATGACTAAAGTACGTAATTGCGTTCTTGATGCACTTTCCATCAACG...</td>\n",
       "      <td>CATGCTGCAAATTAACATGATCGGCGTAAC</td>\n",
       "      <td>True</td>\n",
       "      <td>0.425532</td>\n",
       "      <td>0.802032</td>\n",
       "      <td>47.451431</td>\n",
       "      <td>0.314394</td>\n",
       "      <td>0.219204</td>\n",
       "      <td>0.230201</td>\n",
       "    </tr>\n",
       "    <tr>\n",
       "      <th>b4403</th>\n",
       "      <td>yjtD</td>\n",
       "      <td>4640941</td>\n",
       "      <td>4641628</td>\n",
       "      <td>+</td>\n",
       "      <td>ATGCGTATAACGATTATTCTGGTCGCACCCGCCAGAGCAGAAAATA...</td>\n",
       "      <td>CGCGGTTATTTGATCAAGAAGAGTGGCAAT</td>\n",
       "      <td>True</td>\n",
       "      <td>0.497817</td>\n",
       "      <td>0.566772</td>\n",
       "      <td>53.610186</td>\n",
       "      <td>0.261990</td>\n",
       "      <td>0.204571</td>\n",
       "      <td>0.202168</td>\n",
       "    </tr>\n",
       "  </tbody>\n",
       "</table>\n",
       "<p>4310 rows × 13 columns</p>\n",
       "</div>"
      ],
      "text/plain": [
       "           gene  start_loc  stop_loc strand  \\\n",
       "locus_tag                                     \n",
       "b0001      thrL        189       255      +   \n",
       "b0002      thrA        336      2799      +   \n",
       "b0003      thrB       2800      3733      +   \n",
       "b0004      thrC       3733      5020      +   \n",
       "b0005      yaaX       5233      5530      +   \n",
       "...         ...        ...       ...    ...   \n",
       "b4399      creC    4636695   4638120      +   \n",
       "b4400      creD    4638177   4639530      +   \n",
       "b4401      arcA    4639589   4640306      -   \n",
       "b4402      yjjY    4640401   4640542      +   \n",
       "b4403      yjtD    4640941   4641628      +   \n",
       "\n",
       "                                                     cds_seq  \\\n",
       "locus_tag                                                      \n",
       "b0001      ATGAAACGCATTAGCACCACCATTACCACCACCATCACCATTACCA...   \n",
       "b0002      ATGCGAGTGTTGAAGTTCGGCGGTACATCAGTGGCAAATGCAGAAC...   \n",
       "b0003      ATGGTTAAAGTTTATGCCCCGGCTTCCAGTGCCAATATGAGCGTCG...   \n",
       "b0004      ATGAAACTCTACAATCTGAAAGATCACAACGAGCAGGTCAGCTTTG...   \n",
       "b0005      GTGAAAAAGATGCAATCTATCGTACTCGCACTTTCCCTGGTTCTGG...   \n",
       "...                                                      ...   \n",
       "b4399      ATGCGTATCGGCATGCGGTTGTTGCTGGGCTATTTTTTACTGGTGG...   \n",
       "b4400      ATGTTGAAATCCCCCCTGTTCTGGAAAATGACTAGCCTGTTTGGTG...   \n",
       "b4401      ATGCAGACCCCGCACATTCTTATCGTTGAAGACGAGTTGGTAACAC...   \n",
       "b4402      ATGACTAAAGTACGTAATTGCGTTCTTGATGCACTTTCCATCAACG...   \n",
       "b4403      ATGCGTATAACGATTATTCTGGTCGCACCCGCCAGAGCAGAAAATA...   \n",
       "\n",
       "                                   us_seq  well_behaved  GC_percent_cds  \\\n",
       "locus_tag                                                                 \n",
       "b0001      CAGATAAAAATTACAGAGTACACAACATCC          True        0.515152   \n",
       "b0002      TTTTCGACCAAAGGTAACGAGGTAACAACC          True        0.530654   \n",
       "b0003      GTACCCTCTCATGGAAGTTAGGAGTCTGAC          True        0.562701   \n",
       "b0004      ACGGCGGGCGCACGAGTACTGGAAAACTAA          True        0.528361   \n",
       "b0005      CATAACGGGCAATGATAAAAGGAGTAACCT          True        0.538721   \n",
       "...                                   ...           ...             ...   \n",
       "b4399      CGGCATGGGATATAGCCTGAGGGGCCTGTA          True        0.538947   \n",
       "b4400      TATCCTGCTGCCATTGCAAAGGAGAAGACT          True        0.495935   \n",
       "b4401      TCGATTTAGTTGGCAATTTAGGTAGCAAAC          True        0.510460   \n",
       "b4402      CATGCTGCAAATTAACATGATCGGCGTAAC          True        0.425532   \n",
       "b4403      CGCGGTTATTTGATCAAGAAGAGTGGCAAT          True        0.497817   \n",
       "\n",
       "           roc_semppr_mean       iCUB       CAI       tAI  stAIcalc  \n",
       "locus_tag                                                            \n",
       "b0001             1.244106  32.046035  0.617266  0.262286  0.258417  \n",
       "b0002             1.034078  55.949262  0.353246  0.230564  0.216862  \n",
       "b0003             0.994168  56.062386  0.357812  0.216292  0.210420  \n",
       "b0004             1.176750  53.052776  0.394675  0.231407  0.209784  \n",
       "b0005             0.837528  50.705530  0.374371  0.197715  0.208944  \n",
       "...                    ...        ...       ...       ...       ...  \n",
       "b4399             0.829794  55.967103  0.293537  0.212672  0.206721  \n",
       "b4400             0.739848  54.634345  0.288635  0.210078  0.199677  \n",
       "b4401             1.676448  48.981781  0.530773  0.275348  0.239921  \n",
       "b4402             0.802032  47.451431  0.314394  0.219204  0.230201  \n",
       "b4403             0.566772  53.610186  0.261990  0.204571  0.202168  \n",
       "\n",
       "[4310 rows x 13 columns]"
      ]
     },
     "execution_count": 153,
     "metadata": {},
     "output_type": "execute_result"
    }
   ],
   "source": [
    "other_df"
   ]
  },
  {
   "cell_type": "code",
   "execution_count": 154,
   "metadata": {},
   "outputs": [
    {
     "name": "stdout",
     "output_type": "stream",
     "text": [
      "(3923, 173)\n",
      "(3859, 173)\n",
      "(3859, 13)\n"
     ]
    }
   ],
   "source": [
    "print(expression_df.shape)\n",
    "expression_df = expression_df[expression_df.index.isin(other_df.index)]\n",
    "print(expression_df.shape)\n",
    "other_df = other_df[other_df.index.isin(expression_df.index)]\n",
    "print(other_df.shape)"
   ]
  },
  {
   "cell_type": "code",
   "execution_count": 155,
   "metadata": {},
   "outputs": [],
   "source": [
    "expression_df = expression_df.sort_index()\n",
    "other_df = other_df.sort_index()"
   ]
  },
  {
   "cell_type": "markdown",
   "metadata": {},
   "source": [
    "## What metric correlates best with expression data?"
   ]
  },
  {
   "cell_type": "code",
   "execution_count": 173,
   "metadata": {},
   "outputs": [
    {
     "name": "stdout",
     "output_type": "stream",
     "text": [
      "GC_percent_cds\n",
      "Mean: 0.05470493491676735\n",
      "Median: 0.04842152926979853\n",
      "Max: 0.1808102950864034\n",
      "\n",
      "roc_semppr_mean\n",
      "Mean: 0.3957754416125814\n",
      "Median: 0.3948306456620813\n",
      "Max: 0.484170412507893\n",
      "\n",
      "iCUB\n",
      "Mean: -0.29614608151881755\n",
      "Median: -0.2887424886286724\n",
      "Max: 0.38153718617504284\n",
      "\n",
      "CAI\n",
      "Mean: 0.41321347461508845\n",
      "Median: 0.41185137712741005\n",
      "Max: 0.4772136685595271\n",
      "\n",
      "tAI\n",
      "Mean: 0.37615000279184263\n",
      "Median: 0.37625149919776335\n",
      "Max: 0.4325669145885162\n",
      "\n",
      "stAIcalc\n",
      "Mean: 0.33404045122335485\n",
      "Median: 0.33485180228550554\n",
      "Max: 0.3716422880846404\n",
      "\n"
     ]
    }
   ],
   "source": [
    "metrics = ['GC_percent_cds', 'roc_semppr_mean', 'iCUB', 'CAI', 'tAI', 'stAIcalc']\n",
    "\n",
    "for metric in metrics[:]:\n",
    "    print(metric)\n",
    "    tempy = []\n",
    "    for column in expression_df.columns:\n",
    "        tempy.append(stats.spearmanr(other_df[metric], expression_df[column])[0])\n",
    "    print('Mean:', np.mean(tempy))\n",
    "    print('Median:', np.median(tempy))\n",
    "    print('Max:', np.max(np.abs(tempy)))\n",
    "    print()"
   ]
  },
  {
   "cell_type": "markdown",
   "metadata": {},
   "source": [
    "## How do metric *correlations* with expression in individual conditions correlate with growth rate?"
   ]
  },
  {
   "cell_type": "code",
   "execution_count": 187,
   "metadata": {},
   "outputs": [],
   "source": [
    "metric = 'GC_percent_cds'\n",
    "# metric = 'roc_semppr_mean'\n",
    "# metric = 'iCUB'\n",
    "# metric = 'CAI'\n",
    "# metric = 'tAI'\n",
    "# metric = 'stAIcalc'\n",
    "\n",
    "\n",
    "\n",
    "tempy = []\n",
    "listy_a = []\n",
    "listy_b = []\n",
    "for column in expression_df.columns:\n",
    "    rho, p = stats.spearmanr(other_df[metric], expression_df[column])\n",
    "    listy_a.append(rho)\n",
    "    listy_b.append(metadata_df[metadata_df['Sample ID']==column].iloc[0]['Growth Rate (1/hr)'])\n",
    "    tempy.append((column, rho, p))\n",
    "tempy.sort(key=lambda x: x[1])"
   ]
  },
  {
   "cell_type": "code",
   "execution_count": 188,
   "metadata": {},
   "outputs": [
    {
     "name": "stdout",
     "output_type": "stream",
     "text": [
      "SpearmanrResult(correlation=0.28979487440542095, pvalue=0.0001100273726425804)\n"
     ]
    },
    {
     "data": {
      "image/png": "[encoded data removed]",
      "text/plain": [
       "<Figure size 432x288 with 1 Axes>"
      ]
     },
     "metadata": {
      "needs_background": "light"
     },
     "output_type": "display_data"
    }
   ],
   "source": [
    "fig, ax = plt.subplots()\n",
    "ax.scatter(listy_b, listy_a)\n",
    "print(stats.spearmanr(listy_b, listy_a))"
   ]
  },
  {
   "cell_type": "markdown",
   "metadata": {},
   "source": [
    "## Example correlations between metric and average expression"
   ]
  },
  {
   "cell_type": "code",
   "execution_count": 200,
   "metadata": {},
   "outputs": [
    {
     "name": "stdout",
     "output_type": "stream",
     "text": [
      "SpearmanrResult(correlation=0.4614061108752819, pvalue=8.763095745222825e-203)\n"
     ]
    },
    {
     "data": {
      "image/png": "[encoded data removed]",
      "text/plain": [
       "<Figure size 432x288 with 1 Axes>"
      ]
     },
     "metadata": {
      "needs_background": "light"
     },
     "output_type": "display_data"
    }
   ],
   "source": [
    "# metric = 'GC_percent_cds'\n",
    "# metric = 'roc_semppr_mean'\n",
    "# metric = 'iCUB'\n",
    "metric = 'CAI'\n",
    "# metric = 'tAI'\n",
    "# metric = 'stAIcalc'\n",
    "\n",
    "fig, ax = plt.subplots()\n",
    "ax.scatter(other_df[metric], expression_df.max(axis=1))\n",
    "print(stats.spearmanr(other_df[metric], expression_df.max(axis=1)))"
   ]
  },
  {
   "cell_type": "markdown",
   "metadata": {},
   "source": [
    "# Quantify each individual gene's correlation with growth rate and assess its relationship/correlation with the codon metrics"
   ]
  },
  {
   "cell_type": "code",
   "execution_count": 203,
   "metadata": {},
   "outputs": [],
   "source": [
    "import statsmodels.formula.api as smf"
   ]
  },
  {
   "cell_type": "code",
   "execution_count": 211,
   "metadata": {},
   "outputs": [],
   "source": [
    "###Get correlation between expression and growth for each gene\n",
    "listy = []\n",
    "for index in expression_df.index:\n",
    "    rho, p = stats.spearmanr(expression_df.loc[index], metadata_df['Growth Rate (1/hr)'])\n",
    "    listy.append(rho)"
   ]
  },
  {
   "cell_type": "code",
   "execution_count": 214,
   "metadata": {},
   "outputs": [
    {
     "name": "stdout",
     "output_type": "stream",
     "text": [
      "Intercept                            1.201398e-287\n",
      "expression_summary                   2.085459e-248\n",
      "growth_summary                        5.563325e-17\n",
      "expression_summary:growth_summary     4.129076e-49\n",
      "dtype: float64\n",
      "                            OLS Regression Results                            \n",
      "==============================================================================\n",
      "Dep. Variable:           codon_metric   R-squared:                       0.370\n",
      "Model:                            OLS   Adj. R-squared:                  0.369\n",
      "Method:                 Least Squares   F-statistic:                     753.9\n",
      "Date:                Wed, 06 Jan 2021   Prob (F-statistic):               0.00\n",
      "Time:                        20:47:08   Log-Likelihood:                 4326.7\n",
      "No. Observations:                3859   AIC:                            -8645.\n",
      "Df Residuals:                    3855   BIC:                            -8620.\n",
      "Df Model:                           3                                         \n",
      "Covariance Type:            nonrobust                                         \n",
      "=====================================================================================================\n",
      "                                        coef    std err          t      P>|t|      [0.025      0.975]\n",
      "-----------------------------------------------------------------------------------------------------\n",
      "Intercept                             0.2072      0.005     39.566      0.000       0.197       0.217\n",
      "expression_summary                    0.0215      0.001     36.297      0.000       0.020       0.023\n",
      "growth_summary                       -0.1558      0.019     -8.413      0.000      -0.192      -0.119\n",
      "expression_summary:growth_summary     0.0304      0.002     14.941      0.000       0.026       0.034\n",
      "==============================================================================\n",
      "Omnibus:                      365.807   Durbin-Watson:                   1.583\n",
      "Prob(Omnibus):                  0.000   Jarque-Bera (JB):              637.959\n",
      "Skew:                           0.664   Prob(JB):                    2.94e-139\n",
      "Kurtosis:                       4.485   Cond. No.                         126.\n",
      "==============================================================================\n",
      "\n",
      "Warnings:\n",
      "[1] Standard Errors assume that the covariance matrix of the errors is correctly specified.\n"
     ]
    }
   ],
   "source": [
    "# metric = 'GC_percent_cds'\n",
    "# metric = 'roc_semppr_mean'\n",
    "# metric = 'iCUB'\n",
    "metric = 'CAI'\n",
    "# metric = 'tAI'\n",
    "# metric = 'stAIcalc'\n",
    "\n",
    "# plot_df = pd.DataFrame(zip(other_df[metric], expression_df.mean(axis=1), listy))\n",
    "# plot_df = pd.DataFrame(zip(other_df[metric], expression_df.median(axis=1), listy))\n",
    "plot_df = pd.DataFrame(zip(other_df[metric], expression_df.max(axis=1), listy))\n",
    "\n",
    "plot_df.columns = ['codon_metric', 'expression_summary', 'growth_summary']\n",
    "\n",
    "fitted_model = smf.ols('codon_metric ~ expression_summary * growth_summary', data=plot_df).fit()\n",
    "print(fitted_model.pvalues)\n",
    "print(fitted_model.summary())"
   ]
  },
  {
   "cell_type": "code",
   "execution_count": null,
   "metadata": {},
   "outputs": [],
   "source": []
  },
  {
   "cell_type": "code",
   "execution_count": null,
   "metadata": {},
   "outputs": [],
   "source": []
  }
 ],
 "metadata": {
  "kernelspec": {
   "display_name": "Python 3",
   "language": "python",
   "name": "python3"
  },
  "language_info": {
   "codemirror_mode": {
    "name": "ipython",
    "version": 3
   },
   "file_extension": ".py",
   "mimetype": "text/x-python",
   "name": "python",
   "nbconvert_exporter": "python",
   "pygments_lexer": "ipython3",
   "version": "3.7.7"
  },
  "toc": {
   "colors": {
    "hover_highlight": "#DAA520",
    "navigate_num": "#000000",
    "navigate_text": "#333333",
    "running_highlight": "#FF0000",
    "selected_highlight": "#FFD700",
    "sidebar_border": "#EEEEEE",
    "wrapper_background": "#FFFFFF"
   },
   "moveMenuLeft": true,
   "nav_menu": {
    "height": "12px",
    "width": "252px"
   },
   "navigate_menu": true,
   "number_sections": true,
   "sideBar": true,
   "threshold": 4,
   "toc_cell": false,
   "toc_section_display": "block",
   "toc_window_display": false,
   "widenNotebook": false
  }
 },
 "nbformat": 4,
 "nbformat_minor": 4
}
