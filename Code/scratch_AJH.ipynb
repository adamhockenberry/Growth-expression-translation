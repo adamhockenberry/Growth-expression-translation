{
 "cells": [
  {
   "cell_type": "code",
   "execution_count": 135,
   "metadata": {},
   "outputs": [],
   "source": [
    "%matplotlib inline"
   ]
  },
  {
   "cell_type": "code",
   "execution_count": 136,
   "metadata": {},
   "outputs": [],
   "source": [
    "import pandas as pd\n",
    "import numpy as np\n",
    "from scipy import stats\n",
    "\n",
    "import matplotlib.pyplot as plt"
   ]
  },
  {
   "cell_type": "code",
   "execution_count": 137,
   "metadata": {},
   "outputs": [],
   "source": [
    "rnaseq_file = '../Data/raw_data/41467_2019_13483_MOESM4_ESM.xlsx'"
   ]
  },
  {
   "cell_type": "code",
   "execution_count": 138,
   "metadata": {},
   "outputs": [
    {
     "name": "stdout",
     "output_type": "stream",
     "text": [
      "(278, 26)\n",
      "(195, 26)\n",
      "(179, 26)\n",
      "(173, 26)\n"
     ]
    }
   ],
   "source": [
    "metadata_df = pd.read_excel(rnaseq_file, sheet_name='Metadata')\n",
    "print(metadata_df.shape)\n",
    "metadata_df = metadata_df[metadata_df['Growth Rate (1/hr)'].isnull() == False]\n",
    "print(metadata_df.shape)\n",
    "metadata_df = metadata_df[metadata_df['Growth Rate (1/hr)'] > 0.0]\n",
    "print(metadata_df.shape)\n",
    "metadata_df = metadata_df[metadata_df['Alignment'] > 80]\n",
    "print(metadata_df.shape)"
   ]
  },
  {
   "cell_type": "code",
   "execution_count": 139,
   "metadata": {},
   "outputs": [
    {
     "name": "stdout",
     "output_type": "stream",
     "text": [
      "(3923, 278)\n",
      "(3923, 173)\n"
     ]
    }
   ],
   "source": [
    "expression_df = pd.read_excel(rnaseq_file, sheet_name='Expression Data', index_col=0)\n",
    "print(expression_df.shape)\n",
    "expression_df = expression_df[metadata_df['Sample ID']]\n",
    "print(expression_df.shape)"
   ]
  },
  {
   "cell_type": "code",
   "execution_count": null,
   "metadata": {},
   "outputs": [],
   "source": [
    "assert list(metadata_df['Sample ID']) == list(expression_df.columns)"
   ]
  },
  {
   "cell_type": "code",
   "execution_count": null,
   "metadata": {},
   "outputs": [],
   "source": [
    "expression_df = expression_df / expression_df.sum()"
   ]
  },
  {
   "cell_type": "code",
   "execution_count": null,
   "metadata": {},
   "outputs": [],
   "source": [
    "tempy = []\n",
    "for index in expression_df.index:\n",
    "    rho, p = stats.spearmanr(expression_df.loc[index], metadata_df['Growth Rate (1/hr)'])\n",
    "    tempy.append((index, rho, p))\n",
    "tempy.sort(key=lambda x: x[1])"
   ]
  },
  {
   "cell_type": "code",
   "execution_count": null,
   "metadata": {},
   "outputs": [],
   "source": [
    "tempy"
   ]
  },
  {
   "cell_type": "code",
   "execution_count": null,
   "metadata": {},
   "outputs": [],
   "source": []
  },
  {
   "cell_type": "code",
   "execution_count": null,
   "metadata": {},
   "outputs": [],
   "source": [
    "a = metadata_df['Growth Rate (1/hr)']\n",
    "b = expression_df.sum()\n",
    "\n",
    "fig, ax = plt.subplots()\n",
    "ax.scatter(a,b)"
   ]
  },
  {
   "cell_type": "code",
   "execution_count": null,
   "metadata": {},
   "outputs": [],
   "source": [
    "metadata_df['Growth Rate (1/hr)'].hist()"
   ]
  },
  {
   "cell_type": "code",
   "execution_count": null,
   "metadata": {},
   "outputs": [],
   "source": [
    "tempy = []\n",
    "for column in expression_df.columns:\n",
    "    rho, p = stats.spearmanr(expression_df[expression_df.columns[0]], expression_df[column])\n",
    "    tempy.append((column, rho, p))\n",
    "tempy.sort(key=lambda x: x[1])"
   ]
  },
  {
   "cell_type": "code",
   "execution_count": null,
   "metadata": {},
   "outputs": [],
   "source": [
    "tempy"
   ]
  },
  {
   "cell_type": "code",
   "execution_count": null,
   "metadata": {},
   "outputs": [],
   "source": []
  },
  {
   "cell_type": "code",
   "execution_count": null,
   "metadata": {},
   "outputs": [],
   "source": []
  },
  {
   "cell_type": "code",
   "execution_count": null,
   "metadata": {},
   "outputs": [],
   "source": []
  },
  {
   "cell_type": "code",
   "execution_count": null,
   "metadata": {},
   "outputs": [],
   "source": []
  },
  {
   "cell_type": "code",
   "execution_count": null,
   "metadata": {},
   "outputs": [],
   "source": []
  },
  {
   "cell_type": "code",
   "execution_count": 140,
   "metadata": {},
   "outputs": [
    {
     "name": "stdout",
     "output_type": "stream",
     "text": [
      "(4355, 12)\n",
      "(4310, 12)\n",
      "(4310, 12)\n",
      "(4310, 12)\n",
      "(4310, 12)\n",
      "(4310, 12)\n"
     ]
    }
   ],
   "source": [
    "other_df = pd.read_csv('../Data/ecoli_info/temp_ecoli_master_table.tsv', sep='\\t', index_col=0)\n",
    "print(other_df.shape)\n",
    "other_df = other_df[other_df['CAI'].isnull()==False]\n",
    "print(other_df.shape)\n",
    "other_df = other_df[other_df['roc_semppr_mean'].isnull()==False]\n",
    "print(other_df.shape)\n",
    "other_df = other_df[other_df['iCUB'].isnull()==False]\n",
    "print(other_df.shape)\n",
    "other_df = other_df[other_df['tAI'].isnull()==False]\n",
    "print(other_df.shape)\n",
    "other_df = other_df[other_df['stAIcalc'].isnull()==False]\n",
    "print(other_df.shape)"
   ]
  },
  {
   "cell_type": "code",
   "execution_count": 141,
   "metadata": {
    "scrolled": true
   },
   "outputs": [
    {
     "data": {
      "text/html": [
       "<div>\n",
       "<style scoped>\n",
       "    .dataframe tbody tr th:only-of-type {\n",
       "        vertical-align: middle;\n",
       "    }\n",
       "\n",
       "    .dataframe tbody tr th {\n",
       "        vertical-align: top;\n",
       "    }\n",
       "\n",
       "    .dataframe thead th {\n",
       "        text-align: right;\n",
       "    }\n",
       "</style>\n",
       "<table border=\"1\" class=\"dataframe\">\n",
       "  <thead>\n",
       "    <tr style=\"text-align: right;\">\n",
       "      <th></th>\n",
       "      <th>gene</th>\n",
       "      <th>start_loc</th>\n",
       "      <th>stop_loc</th>\n",
       "      <th>strand</th>\n",
       "      <th>cds_seq</th>\n",
       "      <th>us_seq</th>\n",
       "      <th>well_behaved</th>\n",
       "      <th>iCUB</th>\n",
       "      <th>roc_semppr_mean</th>\n",
       "      <th>CAI</th>\n",
       "      <th>tAI</th>\n",
       "      <th>stAIcalc</th>\n",
       "    </tr>\n",
       "    <tr>\n",
       "      <th>locus_tag</th>\n",
       "      <th></th>\n",
       "      <th></th>\n",
       "      <th></th>\n",
       "      <th></th>\n",
       "      <th></th>\n",
       "      <th></th>\n",
       "      <th></th>\n",
       "      <th></th>\n",
       "      <th></th>\n",
       "      <th></th>\n",
       "      <th></th>\n",
       "      <th></th>\n",
       "    </tr>\n",
       "  </thead>\n",
       "  <tbody>\n",
       "    <tr>\n",
       "      <th>b0001</th>\n",
       "      <td>thrL</td>\n",
       "      <td>189</td>\n",
       "      <td>255</td>\n",
       "      <td>+</td>\n",
       "      <td>ATGAAACGCATTAGCACCACCATTACCACCACCATCACCATTACCA...</td>\n",
       "      <td>CAGATAAAAATTACAGAGTACACAACATCC</td>\n",
       "      <td>True</td>\n",
       "      <td>32.046035</td>\n",
       "      <td>1.244106</td>\n",
       "      <td>0.617266</td>\n",
       "      <td>0.262286</td>\n",
       "      <td>0.258417</td>\n",
       "    </tr>\n",
       "    <tr>\n",
       "      <th>b0002</th>\n",
       "      <td>thrA</td>\n",
       "      <td>336</td>\n",
       "      <td>2799</td>\n",
       "      <td>+</td>\n",
       "      <td>ATGCGAGTGTTGAAGTTCGGCGGTACATCAGTGGCAAATGCAGAAC...</td>\n",
       "      <td>TTTTCGACCAAAGGTAACGAGGTAACAACC</td>\n",
       "      <td>True</td>\n",
       "      <td>55.949262</td>\n",
       "      <td>1.034078</td>\n",
       "      <td>0.353246</td>\n",
       "      <td>0.230564</td>\n",
       "      <td>0.216862</td>\n",
       "    </tr>\n",
       "    <tr>\n",
       "      <th>b0003</th>\n",
       "      <td>thrB</td>\n",
       "      <td>2800</td>\n",
       "      <td>3733</td>\n",
       "      <td>+</td>\n",
       "      <td>ATGGTTAAAGTTTATGCCCCGGCTTCCAGTGCCAATATGAGCGTCG...</td>\n",
       "      <td>GTACCCTCTCATGGAAGTTAGGAGTCTGAC</td>\n",
       "      <td>True</td>\n",
       "      <td>56.062386</td>\n",
       "      <td>0.994168</td>\n",
       "      <td>0.357812</td>\n",
       "      <td>0.216292</td>\n",
       "      <td>0.210420</td>\n",
       "    </tr>\n",
       "    <tr>\n",
       "      <th>b0004</th>\n",
       "      <td>thrC</td>\n",
       "      <td>3733</td>\n",
       "      <td>5020</td>\n",
       "      <td>+</td>\n",
       "      <td>ATGAAACTCTACAATCTGAAAGATCACAACGAGCAGGTCAGCTTTG...</td>\n",
       "      <td>ACGGCGGGCGCACGAGTACTGGAAAACTAA</td>\n",
       "      <td>True</td>\n",
       "      <td>53.052776</td>\n",
       "      <td>1.176750</td>\n",
       "      <td>0.394675</td>\n",
       "      <td>0.231407</td>\n",
       "      <td>0.209784</td>\n",
       "    </tr>\n",
       "    <tr>\n",
       "      <th>b0005</th>\n",
       "      <td>yaaX</td>\n",
       "      <td>5233</td>\n",
       "      <td>5530</td>\n",
       "      <td>+</td>\n",
       "      <td>GTGAAAAAGATGCAATCTATCGTACTCGCACTTTCCCTGGTTCTGG...</td>\n",
       "      <td>CATAACGGGCAATGATAAAAGGAGTAACCT</td>\n",
       "      <td>True</td>\n",
       "      <td>50.705530</td>\n",
       "      <td>0.837528</td>\n",
       "      <td>0.374371</td>\n",
       "      <td>0.197715</td>\n",
       "      <td>0.208944</td>\n",
       "    </tr>\n",
       "    <tr>\n",
       "      <th>...</th>\n",
       "      <td>...</td>\n",
       "      <td>...</td>\n",
       "      <td>...</td>\n",
       "      <td>...</td>\n",
       "      <td>...</td>\n",
       "      <td>...</td>\n",
       "      <td>...</td>\n",
       "      <td>...</td>\n",
       "      <td>...</td>\n",
       "      <td>...</td>\n",
       "      <td>...</td>\n",
       "      <td>...</td>\n",
       "    </tr>\n",
       "    <tr>\n",
       "      <th>b4399</th>\n",
       "      <td>creC</td>\n",
       "      <td>4636695</td>\n",
       "      <td>4638120</td>\n",
       "      <td>+</td>\n",
       "      <td>ATGCGTATCGGCATGCGGTTGTTGCTGGGCTATTTTTTACTGGTGG...</td>\n",
       "      <td>CGGCATGGGATATAGCCTGAGGGGCCTGTA</td>\n",
       "      <td>True</td>\n",
       "      <td>55.967103</td>\n",
       "      <td>0.829794</td>\n",
       "      <td>0.293537</td>\n",
       "      <td>0.212672</td>\n",
       "      <td>0.206721</td>\n",
       "    </tr>\n",
       "    <tr>\n",
       "      <th>b4400</th>\n",
       "      <td>creD</td>\n",
       "      <td>4638177</td>\n",
       "      <td>4639530</td>\n",
       "      <td>+</td>\n",
       "      <td>ATGTTGAAATCCCCCCTGTTCTGGAAAATGACTAGCCTGTTTGGTG...</td>\n",
       "      <td>TATCCTGCTGCCATTGCAAAGGAGAAGACT</td>\n",
       "      <td>True</td>\n",
       "      <td>54.634345</td>\n",
       "      <td>0.739848</td>\n",
       "      <td>0.288635</td>\n",
       "      <td>0.210078</td>\n",
       "      <td>0.199677</td>\n",
       "    </tr>\n",
       "    <tr>\n",
       "      <th>b4401</th>\n",
       "      <td>arcA</td>\n",
       "      <td>4639589</td>\n",
       "      <td>4640306</td>\n",
       "      <td>-</td>\n",
       "      <td>ATGCAGACCCCGCACATTCTTATCGTTGAAGACGAGTTGGTAACAC...</td>\n",
       "      <td>TCGATTTAGTTGGCAATTTAGGTAGCAAAC</td>\n",
       "      <td>True</td>\n",
       "      <td>48.981781</td>\n",
       "      <td>1.676448</td>\n",
       "      <td>0.530773</td>\n",
       "      <td>0.275348</td>\n",
       "      <td>0.239921</td>\n",
       "    </tr>\n",
       "    <tr>\n",
       "      <th>b4402</th>\n",
       "      <td>yjjY</td>\n",
       "      <td>4640401</td>\n",
       "      <td>4640542</td>\n",
       "      <td>+</td>\n",
       "      <td>ATGACTAAAGTACGTAATTGCGTTCTTGATGCACTTTCCATCAACG...</td>\n",
       "      <td>CATGCTGCAAATTAACATGATCGGCGTAAC</td>\n",
       "      <td>True</td>\n",
       "      <td>47.451431</td>\n",
       "      <td>0.802032</td>\n",
       "      <td>0.314394</td>\n",
       "      <td>0.219204</td>\n",
       "      <td>0.230201</td>\n",
       "    </tr>\n",
       "    <tr>\n",
       "      <th>b4403</th>\n",
       "      <td>yjtD</td>\n",
       "      <td>4640941</td>\n",
       "      <td>4641628</td>\n",
       "      <td>+</td>\n",
       "      <td>ATGCGTATAACGATTATTCTGGTCGCACCCGCCAGAGCAGAAAATA...</td>\n",
       "      <td>CGCGGTTATTTGATCAAGAAGAGTGGCAAT</td>\n",
       "      <td>True</td>\n",
       "      <td>53.610186</td>\n",
       "      <td>0.566772</td>\n",
       "      <td>0.261990</td>\n",
       "      <td>0.204571</td>\n",
       "      <td>0.202168</td>\n",
       "    </tr>\n",
       "  </tbody>\n",
       "</table>\n",
       "<p>4310 rows × 12 columns</p>\n",
       "</div>"
      ],
      "text/plain": [
       "           gene  start_loc  stop_loc strand  \\\n",
       "locus_tag                                     \n",
       "b0001      thrL        189       255      +   \n",
       "b0002      thrA        336      2799      +   \n",
       "b0003      thrB       2800      3733      +   \n",
       "b0004      thrC       3733      5020      +   \n",
       "b0005      yaaX       5233      5530      +   \n",
       "...         ...        ...       ...    ...   \n",
       "b4399      creC    4636695   4638120      +   \n",
       "b4400      creD    4638177   4639530      +   \n",
       "b4401      arcA    4639589   4640306      -   \n",
       "b4402      yjjY    4640401   4640542      +   \n",
       "b4403      yjtD    4640941   4641628      +   \n",
       "\n",
       "                                                     cds_seq  \\\n",
       "locus_tag                                                      \n",
       "b0001      ATGAAACGCATTAGCACCACCATTACCACCACCATCACCATTACCA...   \n",
       "b0002      ATGCGAGTGTTGAAGTTCGGCGGTACATCAGTGGCAAATGCAGAAC...   \n",
       "b0003      ATGGTTAAAGTTTATGCCCCGGCTTCCAGTGCCAATATGAGCGTCG...   \n",
       "b0004      ATGAAACTCTACAATCTGAAAGATCACAACGAGCAGGTCAGCTTTG...   \n",
       "b0005      GTGAAAAAGATGCAATCTATCGTACTCGCACTTTCCCTGGTTCTGG...   \n",
       "...                                                      ...   \n",
       "b4399      ATGCGTATCGGCATGCGGTTGTTGCTGGGCTATTTTTTACTGGTGG...   \n",
       "b4400      ATGTTGAAATCCCCCCTGTTCTGGAAAATGACTAGCCTGTTTGGTG...   \n",
       "b4401      ATGCAGACCCCGCACATTCTTATCGTTGAAGACGAGTTGGTAACAC...   \n",
       "b4402      ATGACTAAAGTACGTAATTGCGTTCTTGATGCACTTTCCATCAACG...   \n",
       "b4403      ATGCGTATAACGATTATTCTGGTCGCACCCGCCAGAGCAGAAAATA...   \n",
       "\n",
       "                                   us_seq  well_behaved       iCUB  \\\n",
       "locus_tag                                                            \n",
       "b0001      CAGATAAAAATTACAGAGTACACAACATCC          True  32.046035   \n",
       "b0002      TTTTCGACCAAAGGTAACGAGGTAACAACC          True  55.949262   \n",
       "b0003      GTACCCTCTCATGGAAGTTAGGAGTCTGAC          True  56.062386   \n",
       "b0004      ACGGCGGGCGCACGAGTACTGGAAAACTAA          True  53.052776   \n",
       "b0005      CATAACGGGCAATGATAAAAGGAGTAACCT          True  50.705530   \n",
       "...                                   ...           ...        ...   \n",
       "b4399      CGGCATGGGATATAGCCTGAGGGGCCTGTA          True  55.967103   \n",
       "b4400      TATCCTGCTGCCATTGCAAAGGAGAAGACT          True  54.634345   \n",
       "b4401      TCGATTTAGTTGGCAATTTAGGTAGCAAAC          True  48.981781   \n",
       "b4402      CATGCTGCAAATTAACATGATCGGCGTAAC          True  47.451431   \n",
       "b4403      CGCGGTTATTTGATCAAGAAGAGTGGCAAT          True  53.610186   \n",
       "\n",
       "           roc_semppr_mean       CAI       tAI  stAIcalc  \n",
       "locus_tag                                                 \n",
       "b0001             1.244106  0.617266  0.262286  0.258417  \n",
       "b0002             1.034078  0.353246  0.230564  0.216862  \n",
       "b0003             0.994168  0.357812  0.216292  0.210420  \n",
       "b0004             1.176750  0.394675  0.231407  0.209784  \n",
       "b0005             0.837528  0.374371  0.197715  0.208944  \n",
       "...                    ...       ...       ...       ...  \n",
       "b4399             0.829794  0.293537  0.212672  0.206721  \n",
       "b4400             0.739848  0.288635  0.210078  0.199677  \n",
       "b4401             1.676448  0.530773  0.275348  0.239921  \n",
       "b4402             0.802032  0.314394  0.219204  0.230201  \n",
       "b4403             0.566772  0.261990  0.204571  0.202168  \n",
       "\n",
       "[4310 rows x 12 columns]"
      ]
     },
     "execution_count": 141,
     "metadata": {},
     "output_type": "execute_result"
    }
   ],
   "source": [
    "other_df"
   ]
  },
  {
   "cell_type": "code",
   "execution_count": 142,
   "metadata": {},
   "outputs": [
    {
     "name": "stdout",
     "output_type": "stream",
     "text": [
      "(3923, 173)\n",
      "(3859, 173)\n",
      "(3859, 12)\n"
     ]
    }
   ],
   "source": [
    "print(expression_df.shape)\n",
    "expression_df = expression_df[expression_df.index.isin(other_df.index)]\n",
    "print(expression_df.shape)\n",
    "other_df = other_df[other_df.index.isin(expression_df.index)]\n",
    "print(other_df.shape)"
   ]
  },
  {
   "cell_type": "code",
   "execution_count": 143,
   "metadata": {},
   "outputs": [],
   "source": [
    "expression_df = expression_df.sort_index()\n",
    "other_df = other_df.sort_index()"
   ]
  },
  {
   "cell_type": "code",
   "execution_count": 150,
   "metadata": {},
   "outputs": [],
   "source": [
    "metric = 'roc_semppr_mean'\n",
    "tempy = []\n",
    "listy_a = []\n",
    "listy_b = []\n",
    "for column in expression_df.columns:\n",
    "    rho, p = stats.spearmanr(other_df[metric], expression_df[column])\n",
    "    listy_a.append(rho)\n",
    "    listy_b.append(metadata_df[metadata_df['Sample ID']==column].iloc[0]['Growth Rate (1/hr)'])\n",
    "    tempy.append((column, rho, p))\n",
    "tempy.sort(key=lambda x: x[1])"
   ]
  },
  {
   "cell_type": "code",
   "execution_count": 151,
   "metadata": {},
   "outputs": [
    {
     "name": "stdout",
     "output_type": "stream",
     "text": [
      "SpearmanrResult(correlation=0.39898524857337786, pvalue=5.409645376352678e-08)\n",
      "0.3957754416125814\n"
     ]
    },
    {
     "data": {
      "image/png": "[encoded data removed]",
      "text/plain": [
       "<Figure size 432x288 with 1 Axes>"
      ]
     },
     "metadata": {
      "needs_background": "light"
     },
     "output_type": "display_data"
    }
   ],
   "source": [
    "fig, ax = plt.subplots()\n",
    "ax.scatter(listy_b, listy_a)\n",
    "print(stats.spearmanr(listy_b, listy_a))\n",
    "print(np.mean(listy_a))"
   ]
  },
  {
   "cell_type": "code",
   "execution_count": 163,
   "metadata": {},
   "outputs": [
    {
     "name": "stdout",
     "output_type": "stream",
     "text": [
      "LinregressResult(slope=2.6921268546854957, intercept=5.212546147996024, rvalue=0.47674313264797125, pvalue=2.995654777823106e-218, stderr=0.07992749524484961)\n"
     ]
    },
    {
     "data": {
      "image/png": "[encoded data removed]",
      "text/plain": [
       "<Figure size 432x288 with 1 Axes>"
      ]
     },
     "metadata": {
      "needs_background": "light"
     },
     "output_type": "display_data"
    }
   ],
   "source": [
    "metric = 'roc_semppr_mean'\n",
    "fig, ax = plt.subplots()\n",
    "ax.scatter(other_df[metric], expression_df.max(axis=1))\n",
    "print(stats.linregress(other_df[metric], expression_df.max(axis=1)))"
   ]
  },
  {
   "cell_type": "code",
   "execution_count": null,
   "metadata": {},
   "outputs": [],
   "source": []
  },
  {
   "cell_type": "code",
   "execution_count": 37,
   "metadata": {},
   "outputs": [
    {
     "data": {
      "text/html": [
       "<div>\n",
       "<style scoped>\n",
       "    .dataframe tbody tr th:only-of-type {\n",
       "        vertical-align: middle;\n",
       "    }\n",
       "\n",
       "    .dataframe tbody tr th {\n",
       "        vertical-align: top;\n",
       "    }\n",
       "\n",
       "    .dataframe thead th {\n",
       "        text-align: right;\n",
       "    }\n",
       "</style>\n",
       "<table border=\"1\" class=\"dataframe\">\n",
       "  <thead>\n",
       "    <tr style=\"text-align: right;\">\n",
       "      <th></th>\n",
       "      <th>gene</th>\n",
       "      <th>start_loc</th>\n",
       "      <th>stop_loc</th>\n",
       "      <th>strand</th>\n",
       "      <th>cds_seq</th>\n",
       "      <th>us_seq</th>\n",
       "      <th>well_behaved</th>\n",
       "      <th>CAI</th>\n",
       "      <th>roc_semppr_mean</th>\n",
       "    </tr>\n",
       "    <tr>\n",
       "      <th>locus_tag</th>\n",
       "      <th></th>\n",
       "      <th></th>\n",
       "      <th></th>\n",
       "      <th></th>\n",
       "      <th></th>\n",
       "      <th></th>\n",
       "      <th></th>\n",
       "      <th></th>\n",
       "      <th></th>\n",
       "    </tr>\n",
       "  </thead>\n",
       "  <tbody>\n",
       "    <tr>\n",
       "      <th>b0002</th>\n",
       "      <td>thrA</td>\n",
       "      <td>336</td>\n",
       "      <td>2799</td>\n",
       "      <td>+</td>\n",
       "      <td>ATGCGAGTGTTGAAGTTCGGCGGTACATCAGTGGCAAATGCAGAAC...</td>\n",
       "      <td>TTTTCGACCAAAGGTAACGAGGTAACAACC</td>\n",
       "      <td>True</td>\n",
       "      <td>0.353246</td>\n",
       "      <td>1.034078</td>\n",
       "    </tr>\n",
       "    <tr>\n",
       "      <th>b0003</th>\n",
       "      <td>thrB</td>\n",
       "      <td>2800</td>\n",
       "      <td>3733</td>\n",
       "      <td>+</td>\n",
       "      <td>ATGGTTAAAGTTTATGCCCCGGCTTCCAGTGCCAATATGAGCGTCG...</td>\n",
       "      <td>GTACCCTCTCATGGAAGTTAGGAGTCTGAC</td>\n",
       "      <td>True</td>\n",
       "      <td>0.357812</td>\n",
       "      <td>0.994168</td>\n",
       "    </tr>\n",
       "    <tr>\n",
       "      <th>b0004</th>\n",
       "      <td>thrC</td>\n",
       "      <td>3733</td>\n",
       "      <td>5020</td>\n",
       "      <td>+</td>\n",
       "      <td>ATGAAACTCTACAATCTGAAAGATCACAACGAGCAGGTCAGCTTTG...</td>\n",
       "      <td>ACGGCGGGCGCACGAGTACTGGAAAACTAA</td>\n",
       "      <td>True</td>\n",
       "      <td>0.394675</td>\n",
       "      <td>1.176750</td>\n",
       "    </tr>\n",
       "    <tr>\n",
       "      <th>b0005</th>\n",
       "      <td>yaaX</td>\n",
       "      <td>5233</td>\n",
       "      <td>5530</td>\n",
       "      <td>+</td>\n",
       "      <td>GTGAAAAAGATGCAATCTATCGTACTCGCACTTTCCCTGGTTCTGG...</td>\n",
       "      <td>CATAACGGGCAATGATAAAAGGAGTAACCT</td>\n",
       "      <td>True</td>\n",
       "      <td>0.374371</td>\n",
       "      <td>0.837528</td>\n",
       "    </tr>\n",
       "    <tr>\n",
       "      <th>b0006</th>\n",
       "      <td>yaaA</td>\n",
       "      <td>5682</td>\n",
       "      <td>6459</td>\n",
       "      <td>-</td>\n",
       "      <td>ATGCTGATTCTTATTTCACCTGCGAAAACGCTTGATTACCAAAGCC...</td>\n",
       "      <td>GTCGGCATAAATTTCCTGCAAGGACTGGAT</td>\n",
       "      <td>True</td>\n",
       "      <td>0.353849</td>\n",
       "      <td>1.032499</td>\n",
       "    </tr>\n",
       "    <tr>\n",
       "      <th>...</th>\n",
       "      <td>...</td>\n",
       "      <td>...</td>\n",
       "      <td>...</td>\n",
       "      <td>...</td>\n",
       "      <td>...</td>\n",
       "      <td>...</td>\n",
       "      <td>...</td>\n",
       "      <td>...</td>\n",
       "      <td>...</td>\n",
       "    </tr>\n",
       "    <tr>\n",
       "      <th>b4676</th>\n",
       "      <td>yoaK</td>\n",
       "      <td>1878772</td>\n",
       "      <td>1878871</td>\n",
       "      <td>+</td>\n",
       "      <td>ATGCGAATCGGTATTATTTTTCCGGTTGTAATCTTCATTACAGCGG...</td>\n",
       "      <td>CGTATTCACATCCTTTTGATTGGTGATAAC</td>\n",
       "      <td>True</td>\n",
       "      <td>0.315836</td>\n",
       "      <td>0.783099</td>\n",
       "    </tr>\n",
       "    <tr>\n",
       "      <th>b4686</th>\n",
       "      <td>yshB</td>\n",
       "      <td>4053646</td>\n",
       "      <td>4053757</td>\n",
       "      <td>-</td>\n",
       "      <td>ATGCTGGAATCAATAATTAATCTGGTATCGAGTGGCGCAGTTGACA...</td>\n",
       "      <td>GATCTTGCCCGGAAAACGGGGAGAGTCATT</td>\n",
       "      <td>True</td>\n",
       "      <td>0.320157</td>\n",
       "      <td>0.841343</td>\n",
       "    </tr>\n",
       "    <tr>\n",
       "      <th>b4688</th>\n",
       "      <td>ykgS</td>\n",
       "      <td>290509</td>\n",
       "      <td>290638</td>\n",
       "      <td>+</td>\n",
       "      <td>ATGAGAATGATTGGCCTTCTTTATGATTTTAAGGATTATGCTTCTA...</td>\n",
       "      <td>ATCGAATTCTACAACCAGGTCGAGTCAGAA</td>\n",
       "      <td>True</td>\n",
       "      <td>0.245198</td>\n",
       "      <td>0.632458</td>\n",
       "    </tr>\n",
       "    <tr>\n",
       "      <th>b4693</th>\n",
       "      <td>aaaE</td>\n",
       "      <td>1204400</td>\n",
       "      <td>1205537</td>\n",
       "      <td>+</td>\n",
       "      <td>GGTGATGGTTCATCACCCCACTGTGCCGTGGTGGATGAATATCACG...</td>\n",
       "      <td>GGCTGGTTAACGCGTAAGGCGCGTCGCCAG</td>\n",
       "      <td>True</td>\n",
       "      <td>0.381247</td>\n",
       "      <td>1.081346</td>\n",
       "    </tr>\n",
       "    <tr>\n",
       "      <th>b4705</th>\n",
       "      <td>mntS</td>\n",
       "      <td>852868</td>\n",
       "      <td>852997</td>\n",
       "      <td>-</td>\n",
       "      <td>ATGAATGAGTTCAAGAGGTGTATGCGCGTGTTTAGTCATTCTCCCT...</td>\n",
       "      <td>ATCGACGGGATTAGCAAGTCAGGAGGTCTT</td>\n",
       "      <td>True</td>\n",
       "      <td>0.311236</td>\n",
       "      <td>0.674749</td>\n",
       "    </tr>\n",
       "  </tbody>\n",
       "</table>\n",
       "<p>3859 rows × 9 columns</p>\n",
       "</div>"
      ],
      "text/plain": [
       "           gene  start_loc  stop_loc strand  \\\n",
       "locus_tag                                     \n",
       "b0002      thrA        336      2799      +   \n",
       "b0003      thrB       2800      3733      +   \n",
       "b0004      thrC       3733      5020      +   \n",
       "b0005      yaaX       5233      5530      +   \n",
       "b0006      yaaA       5682      6459      -   \n",
       "...         ...        ...       ...    ...   \n",
       "b4676      yoaK    1878772   1878871      +   \n",
       "b4686      yshB    4053646   4053757      -   \n",
       "b4688      ykgS     290509    290638      +   \n",
       "b4693      aaaE    1204400   1205537      +   \n",
       "b4705      mntS     852868    852997      -   \n",
       "\n",
       "                                                     cds_seq  \\\n",
       "locus_tag                                                      \n",
       "b0002      ATGCGAGTGTTGAAGTTCGGCGGTACATCAGTGGCAAATGCAGAAC...   \n",
       "b0003      ATGGTTAAAGTTTATGCCCCGGCTTCCAGTGCCAATATGAGCGTCG...   \n",
       "b0004      ATGAAACTCTACAATCTGAAAGATCACAACGAGCAGGTCAGCTTTG...   \n",
       "b0005      GTGAAAAAGATGCAATCTATCGTACTCGCACTTTCCCTGGTTCTGG...   \n",
       "b0006      ATGCTGATTCTTATTTCACCTGCGAAAACGCTTGATTACCAAAGCC...   \n",
       "...                                                      ...   \n",
       "b4676      ATGCGAATCGGTATTATTTTTCCGGTTGTAATCTTCATTACAGCGG...   \n",
       "b4686      ATGCTGGAATCAATAATTAATCTGGTATCGAGTGGCGCAGTTGACA...   \n",
       "b4688      ATGAGAATGATTGGCCTTCTTTATGATTTTAAGGATTATGCTTCTA...   \n",
       "b4693      GGTGATGGTTCATCACCCCACTGTGCCGTGGTGGATGAATATCACG...   \n",
       "b4705      ATGAATGAGTTCAAGAGGTGTATGCGCGTGTTTAGTCATTCTCCCT...   \n",
       "\n",
       "                                   us_seq  well_behaved       CAI  \\\n",
       "locus_tag                                                           \n",
       "b0002      TTTTCGACCAAAGGTAACGAGGTAACAACC          True  0.353246   \n",
       "b0003      GTACCCTCTCATGGAAGTTAGGAGTCTGAC          True  0.357812   \n",
       "b0004      ACGGCGGGCGCACGAGTACTGGAAAACTAA          True  0.394675   \n",
       "b0005      CATAACGGGCAATGATAAAAGGAGTAACCT          True  0.374371   \n",
       "b0006      GTCGGCATAAATTTCCTGCAAGGACTGGAT          True  0.353849   \n",
       "...                                   ...           ...       ...   \n",
       "b4676      CGTATTCACATCCTTTTGATTGGTGATAAC          True  0.315836   \n",
       "b4686      GATCTTGCCCGGAAAACGGGGAGAGTCATT          True  0.320157   \n",
       "b4688      ATCGAATTCTACAACCAGGTCGAGTCAGAA          True  0.245198   \n",
       "b4693      GGCTGGTTAACGCGTAAGGCGCGTCGCCAG          True  0.381247   \n",
       "b4705      ATCGACGGGATTAGCAAGTCAGGAGGTCTT          True  0.311236   \n",
       "\n",
       "           roc_semppr_mean  \n",
       "locus_tag                   \n",
       "b0002             1.034078  \n",
       "b0003             0.994168  \n",
       "b0004             1.176750  \n",
       "b0005             0.837528  \n",
       "b0006             1.032499  \n",
       "...                    ...  \n",
       "b4676             0.783099  \n",
       "b4686             0.841343  \n",
       "b4688             0.632458  \n",
       "b4693             1.081346  \n",
       "b4705             0.674749  \n",
       "\n",
       "[3859 rows x 9 columns]"
      ]
     },
     "execution_count": 37,
     "metadata": {},
     "output_type": "execute_result"
    }
   ],
   "source": [
    "other_df"
   ]
  },
  {
   "cell_type": "code",
   "execution_count": null,
   "metadata": {},
   "outputs": [],
   "source": [
    "expression_df"
   ]
  },
  {
   "cell_type": "code",
   "execution_count": 164,
   "metadata": {},
   "outputs": [],
   "source": [
    "listy = []\n",
    "for index in expression_df.index:\n",
    "    rho, p = stats.spearmanr(expression_df.loc[index], metadata_df['Growth Rate (1/hr)'])\n",
    "    listy.append(rho)\n",
    "other_df['hunch'] = listy"
   ]
  },
  {
   "cell_type": "code",
   "execution_count": 168,
   "metadata": {},
   "outputs": [
    {
     "name": "stdout",
     "output_type": "stream",
     "text": [
      "SpearmanrResult(correlation=-0.23734821565667888, pvalue=1.4739639524345305e-50)\n"
     ]
    },
    {
     "data": {
      "image/png": "[encoded data removed]",
      "text/plain": [
       "<Figure size 432x288 with 1 Axes>"
      ]
     },
     "metadata": {
      "needs_background": "light"
     },
     "output_type": "display_data"
    }
   ],
   "source": [
    "metric = 'iCUB'\n",
    "fig, ax = plt.subplots()\n",
    "ax.scatter(other_df[metric], other_df['hunch'])\n",
    "print(stats.spearmanr(other_df[metric], other_df['hunch']))"
   ]
  },
  {
   "cell_type": "code",
   "execution_count": 101,
   "metadata": {},
   "outputs": [
    {
     "name": "stdout",
     "output_type": "stream",
     "text": [
      "SpearmanrResult(correlation=0.04569411046135154, pvalue=0.0052507801370892514)\n"
     ]
    },
    {
     "data": {
      "image/png": "[encoded data removed]",
      "text/plain": [
       "<Figure size 432x288 with 1 Axes>"
      ]
     },
     "metadata": {
      "needs_background": "light"
     },
     "output_type": "display_data"
    }
   ],
   "source": [
    "fig, ax = plt.subplots()\n",
    "ax.scatter(other_df['Start_accessibility'], other_df['hunch'])\n",
    "print(stats.spearmanr(other_df['Start_accessibility'], other_df['hunch']))"
   ]
  },
  {
   "cell_type": "code",
   "execution_count": 102,
   "metadata": {},
   "outputs": [
    {
     "name": "stdout",
     "output_type": "stream",
     "text": [
      "SpearmanrResult(correlation=-0.05775832810906073, pvalue=0.0004166914462606806)\n"
     ]
    },
    {
     "data": {
      "image/png": "[encoded data removed]",
      "text/plain": [
       "<Figure size 432x288 with 1 Axes>"
      ]
     },
     "metadata": {
      "needs_background": "light"
     },
     "output_type": "display_data"
    }
   ],
   "source": [
    "fig, ax = plt.subplots()\n",
    "ax.scatter(other_df['sec_struct'], other_df['hunch'])\n",
    "print(stats.spearmanr(other_df['sec_struct'], other_df['hunch']))"
   ]
  },
  {
   "cell_type": "code",
   "execution_count": 103,
   "metadata": {},
   "outputs": [
    {
     "name": "stdout",
     "output_type": "stream",
     "text": [
      "SpearmanrResult(correlation=0.0764867793082473, pvalue=2.916439887056762e-06)\n"
     ]
    },
    {
     "data": {
      "image/png": "[encoded data removed]",
      "text/plain": [
       "<Figure size 432x288 with 1 Axes>"
      ]
     },
     "metadata": {
      "needs_background": "light"
     },
     "output_type": "display_data"
    }
   ],
   "source": [
    "fig, ax = plt.subplots()\n",
    "ax.scatter(other_df['aSD_binding'], other_df['hunch'])\n",
    "print(stats.spearmanr(other_df['aSD_binding'], other_df['hunch']))"
   ]
  },
  {
   "cell_type": "code",
   "execution_count": null,
   "metadata": {},
   "outputs": [],
   "source": []
  },
  {
   "cell_type": "code",
   "execution_count": null,
   "metadata": {},
   "outputs": [],
   "source": []
  },
  {
   "cell_type": "code",
   "execution_count": 67,
   "metadata": {},
   "outputs": [],
   "source": [
    "import statsmodels.formula.api as smf"
   ]
  },
  {
   "cell_type": "code",
   "execution_count": 185,
   "metadata": {},
   "outputs": [],
   "source": [
    "plot_df = pd.DataFrame(zip(other_df['CAI'], expression_df.max(axis=1), listy))\n",
    "plot_df.columns = ['codon_metric', 'expression_summary', 'growth_summary']"
   ]
  },
  {
   "cell_type": "code",
   "execution_count": 186,
   "metadata": {},
   "outputs": [
    {
     "name": "stdout",
     "output_type": "stream",
     "text": [
      "Intercept                            1.201398e-287\n",
      "expression_summary                   2.085459e-248\n",
      "growth_summary                        5.563325e-17\n",
      "expression_summary:growth_summary     4.129076e-49\n",
      "dtype: float64\n"
     ]
    },
    {
     "data": {
      "text/html": [
       "<table class=\"simpletable\">\n",
       "<caption>OLS Regression Results</caption>\n",
       "<tr>\n",
       "  <th>Dep. Variable:</th>      <td>codon_metric</td>   <th>  R-squared:         </th> <td>   0.370</td>\n",
       "</tr>\n",
       "<tr>\n",
       "  <th>Model:</th>                   <td>OLS</td>       <th>  Adj. R-squared:    </th> <td>   0.369</td>\n",
       "</tr>\n",
       "<tr>\n",
       "  <th>Method:</th>             <td>Least Squares</td>  <th>  F-statistic:       </th> <td>   753.9</td>\n",
       "</tr>\n",
       "<tr>\n",
       "  <th>Date:</th>             <td>Wed, 23 Dec 2020</td> <th>  Prob (F-statistic):</th>  <td>  0.00</td> \n",
       "</tr>\n",
       "<tr>\n",
       "  <th>Time:</th>                 <td>16:08:43</td>     <th>  Log-Likelihood:    </th> <td>  4326.7</td>\n",
       "</tr>\n",
       "<tr>\n",
       "  <th>No. Observations:</th>      <td>  3859</td>      <th>  AIC:               </th> <td>  -8645.</td>\n",
       "</tr>\n",
       "<tr>\n",
       "  <th>Df Residuals:</th>          <td>  3855</td>      <th>  BIC:               </th> <td>  -8620.</td>\n",
       "</tr>\n",
       "<tr>\n",
       "  <th>Df Model:</th>              <td>     3</td>      <th>                     </th>     <td> </td>   \n",
       "</tr>\n",
       "<tr>\n",
       "  <th>Covariance Type:</th>      <td>nonrobust</td>    <th>                     </th>     <td> </td>   \n",
       "</tr>\n",
       "</table>\n",
       "<table class=\"simpletable\">\n",
       "<tr>\n",
       "                  <td></td>                     <th>coef</th>     <th>std err</th>      <th>t</th>      <th>P>|t|</th>  <th>[0.025</th>    <th>0.975]</th>  \n",
       "</tr>\n",
       "<tr>\n",
       "  <th>Intercept</th>                         <td>    0.2072</td> <td>    0.005</td> <td>   39.566</td> <td> 0.000</td> <td>    0.197</td> <td>    0.217</td>\n",
       "</tr>\n",
       "<tr>\n",
       "  <th>expression_summary</th>                <td>    0.0215</td> <td>    0.001</td> <td>   36.297</td> <td> 0.000</td> <td>    0.020</td> <td>    0.023</td>\n",
       "</tr>\n",
       "<tr>\n",
       "  <th>growth_summary</th>                    <td>   -0.1558</td> <td>    0.019</td> <td>   -8.413</td> <td> 0.000</td> <td>   -0.192</td> <td>   -0.119</td>\n",
       "</tr>\n",
       "<tr>\n",
       "  <th>expression_summary:growth_summary</th> <td>    0.0304</td> <td>    0.002</td> <td>   14.941</td> <td> 0.000</td> <td>    0.026</td> <td>    0.034</td>\n",
       "</tr>\n",
       "</table>\n",
       "<table class=\"simpletable\">\n",
       "<tr>\n",
       "  <th>Omnibus:</th>       <td>365.807</td> <th>  Durbin-Watson:     </th> <td>   1.583</td> \n",
       "</tr>\n",
       "<tr>\n",
       "  <th>Prob(Omnibus):</th> <td> 0.000</td>  <th>  Jarque-Bera (JB):  </th> <td> 637.959</td> \n",
       "</tr>\n",
       "<tr>\n",
       "  <th>Skew:</th>          <td> 0.664</td>  <th>  Prob(JB):          </th> <td>2.94e-139</td>\n",
       "</tr>\n",
       "<tr>\n",
       "  <th>Kurtosis:</th>      <td> 4.485</td>  <th>  Cond. No.          </th> <td>    126.</td> \n",
       "</tr>\n",
       "</table><br/><br/>Warnings:<br/>[1] Standard Errors assume that the covariance matrix of the errors is correctly specified."
      ],
      "text/plain": [
       "<class 'statsmodels.iolib.summary.Summary'>\n",
       "\"\"\"\n",
       "                            OLS Regression Results                            \n",
       "==============================================================================\n",
       "Dep. Variable:           codon_metric   R-squared:                       0.370\n",
       "Model:                            OLS   Adj. R-squared:                  0.369\n",
       "Method:                 Least Squares   F-statistic:                     753.9\n",
       "Date:                Wed, 23 Dec 2020   Prob (F-statistic):               0.00\n",
       "Time:                        16:08:43   Log-Likelihood:                 4326.7\n",
       "No. Observations:                3859   AIC:                            -8645.\n",
       "Df Residuals:                    3855   BIC:                            -8620.\n",
       "Df Model:                           3                                         \n",
       "Covariance Type:            nonrobust                                         \n",
       "=====================================================================================================\n",
       "                                        coef    std err          t      P>|t|      [0.025      0.975]\n",
       "-----------------------------------------------------------------------------------------------------\n",
       "Intercept                             0.2072      0.005     39.566      0.000       0.197       0.217\n",
       "expression_summary                    0.0215      0.001     36.297      0.000       0.020       0.023\n",
       "growth_summary                       -0.1558      0.019     -8.413      0.000      -0.192      -0.119\n",
       "expression_summary:growth_summary     0.0304      0.002     14.941      0.000       0.026       0.034\n",
       "==============================================================================\n",
       "Omnibus:                      365.807   Durbin-Watson:                   1.583\n",
       "Prob(Omnibus):                  0.000   Jarque-Bera (JB):              637.959\n",
       "Skew:                           0.664   Prob(JB):                    2.94e-139\n",
       "Kurtosis:                       4.485   Cond. No.                         126.\n",
       "==============================================================================\n",
       "\n",
       "Warnings:\n",
       "[1] Standard Errors assume that the covariance matrix of the errors is correctly specified.\n",
       "\"\"\""
      ]
     },
     "execution_count": 186,
     "metadata": {},
     "output_type": "execute_result"
    }
   ],
   "source": [
    "fitted_model = smf.ols('codon_metric ~ expression_summary * growth_summary', data=plot_df).fit()\n",
    "print(fitted_model.pvalues)\n",
    "fitted_model.summary()"
   ]
  },
  {
   "cell_type": "code",
   "execution_count": null,
   "metadata": {},
   "outputs": [],
   "source": []
  }
 ],
 "metadata": {
  "kernelspec": {
   "display_name": "Python 3",
   "language": "python",
   "name": "python3"
  },
  "language_info": {
   "codemirror_mode": {
    "name": "ipython",
    "version": 3
   },
   "file_extension": ".py",
   "mimetype": "text/x-python",
   "name": "python",
   "nbconvert_exporter": "python",
   "pygments_lexer": "ipython3",
   "version": "3.7.3"
  },
  "toc": {
   "colors": {
    "hover_highlight": "#DAA520",
    "navigate_num": "#000000",
    "navigate_text": "#333333",
    "running_highlight": "#FF0000",
    "selected_highlight": "#FFD700",
    "sidebar_border": "#EEEEEE",
    "wrapper_background": "#FFFFFF"
   },
   "moveMenuLeft": true,
   "nav_menu": {
    "height": "12px",
    "width": "252px"
   },
   "navigate_menu": true,
   "number_sections": true,
   "sideBar": true,
   "threshold": 4,
   "toc_cell": false,
   "toc_section_display": "block",
   "toc_window_display": false,
   "widenNotebook": false
  }
 },
 "nbformat": 4,
 "nbformat_minor": 4
}
